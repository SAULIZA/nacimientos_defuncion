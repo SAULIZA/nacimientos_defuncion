{
  "nbformat": 4,
  "nbformat_minor": 0,
  "metadata": {
    "colab": {
      "provenance": [],
      "authorship_tag": "ABX9TyOpjSVbYL6kFDi6gHZHqwHg",
      "include_colab_link": true
    },
    "kernelspec": {
      "name": "python3",
      "display_name": "Python 3"
    },
    "language_info": {
      "name": "python"
    }
  },
  "cells": [
    {
      "cell_type": "markdown",
      "metadata": {
        "id": "view-in-github",
        "colab_type": "text"
      },
      "source": [
        "<a href=\"https://colab.research.google.com/github/SAULIZA/nacimientos_defuncion/blob/main/pre_proyecto_nac_def.ipynb\" target=\"_parent\"><img src=\"https://colab.research.google.com/assets/colab-badge.svg\" alt=\"Open In Colab\"/></a>"
      ]
    },
    {
      "cell_type": "markdown",
      "source": [
        "# Proyecto 2: Defunción fetal y nacimientos\n",
        "* Realizado por: Saúl Iza\n",
        "* Fecha de elaborración: 08/04/2023\n",
        "* Fecha de modificación: 08/04/2023 "
      ],
      "metadata": {
        "id": "CzyLdx6HyU7-"
      }
    },
    {
      "cell_type": "code",
      "source": [
        "from google.colab import drive\n",
        "drive.mount(\"/content/drive\")"
      ],
      "metadata": {
        "colab": {
          "base_uri": "https://localhost:8080/"
        },
        "id": "sgTzU55H03rG",
        "outputId": "9fe7f32a-809e-4afa-a5bb-10527e052c31"
      },
      "execution_count": null,
      "outputs": [
        {
          "output_type": "stream",
          "name": "stdout",
          "text": [
            "Drive already mounted at /content/drive; to attempt to forcibly remount, call drive.mount(\"/content/drive\", force_remount=True).\n"
          ]
        }
      ]
    },
    {
      "cell_type": "code",
      "execution_count": null,
      "metadata": {
        "id": "uXNM4_XdsTng"
      },
      "outputs": [],
      "source": [
        "import pandas as pd\n",
        "import numpy as np"
      ]
    },
    {
      "cell_type": "markdown",
      "source": [
        "## Fuente de datos: \n"
      ],
      "metadata": {
        "id": "fDn4ySbACP-Y"
      }
    },
    {
      "cell_type": "markdown",
      "source": [
        "Los datos fueron adquiridos del banco de datos abiertos del INEC."
      ],
      "metadata": {
        "id": "D9s7GdzQCUfg"
      }
    },
    {
      "cell_type": "markdown",
      "source": [
        "## Características de los datos\n"
      ],
      "metadata": {
        "id": "sGIwL2h2Cb3A"
      }
    },
    {
      "cell_type": "markdown",
      "source": [
        "Los datos que se presentan indican información acerca de defunciones y nacimientos en el Ecuador. Los datos tanto de defunciones como de nacimientos son distintos, pero, ellos comparten algunas características de condiciones exteriores como lugar de nacimiento, establecimiento de atención, y condiciones más internas como por ejemplo la edad de la madre, número de chequeos prepartos, etc. Con estas características podemos hacer un marco de datos en el que se indiquen las características descritas y el fallecimiento o el nacimiento de un niño. "
      ],
      "metadata": {
        "id": "hwiJnmoSCgbg"
      }
    },
    {
      "cell_type": "markdown",
      "source": [
        "## Objetivo "
      ],
      "metadata": {
        "id": "xCr8bRGVDsrX"
      }
    },
    {
      "cell_type": "markdown",
      "source": [
        "El objetivo de este análisis de datos es que gracias a los datos obtenidos de nacimientos y defunciones fetales de los años 2012 a 2015, podemos investigar variables muy importantes claves que pueden intervenir en el nacimiento o fallecimiento de un ser humanno en el Ecuador. También queremos averiguar si el fallecimiento o no de un nuevo ser humano esta condicionado por su entorno. Considero que este estudio es muy importante a nivel Social. Esperamos tener resultados sorprendentes, o resultados que tal vez sean obvios sin embargo tener resultados cuantificados siempre es bueno a la hora de medir algo tan delicado como el nacimiento o fallecimiento de un nuevo ser humano."
      ],
      "metadata": {
        "id": "Dwtt4W5DDvrH"
      }
    },
    {
      "cell_type": "markdown",
      "source": [
        "## Adquisición de datos"
      ],
      "metadata": {
        "id": "_cTJZdvJFmib"
      }
    },
    {
      "cell_type": "markdown",
      "source": [
        "* Lectura de archivos defunciones"
      ],
      "metadata": {
        "id": "zNBKSNJ3E8RS"
      }
    },
    {
      "cell_type": "code",
      "source": [
        "#Datos de nacimientos\n",
        "df_nac = pd.read_csv(\"/content/drive/MyDrive/Codificación de Dojo/Proyecto2/nacimiento.csv\")"
      ],
      "metadata": {
        "id": "fIdzt3MKE9p1",
        "colab": {
          "base_uri": "https://localhost:8080/"
        },
        "outputId": "6d869dda-e786-4f14-affb-d54f8bd6dbf5"
      },
      "execution_count": null,
      "outputs": [
        {
          "output_type": "stream",
          "name": "stderr",
          "text": [
            "<ipython-input-111-a0640ffe975f>:2: DtypeWarning: Columns (1,2,3,6,7,11) have mixed types. Specify dtype option on import or set low_memory=False.\n",
            "  df_nac = pd.read_csv(\"/content/drive/MyDrive/Codificación de Dojo/Proyecto2/nacimiento.csv\")\n"
          ]
        }
      ]
    },
    {
      "cell_type": "code",
      "source": [
        "#Datos defunciones fetales\n",
        "df_def= pd.read_csv('/content/drive/MyDrive/Codificación de Dojo/Proyecto2/defunciones.csv')"
      ],
      "metadata": {
        "id": "srzD-PK8gKYu"
      },
      "execution_count": null,
      "outputs": []
    },
    {
      "cell_type": "markdown",
      "source": [
        "* Corrección de mezcla de tipos de variables en los datos de nacimientos"
      ],
      "metadata": {
        "id": "EgycvW4Snzmn"
      }
    },
    {
      "cell_type": "code",
      "source": [
        "df_nac.info()"
      ],
      "metadata": {
        "colab": {
          "base_uri": "https://localhost:8080/"
        },
        "id": "32HMkBI9nyFg",
        "outputId": "eebcb9ff-a93f-40d0-ce51-d7af35de5a87"
      },
      "execution_count": null,
      "outputs": [
        {
          "output_type": "stream",
          "name": "stdout",
          "text": [
            "<class 'pandas.core.frame.DataFrame'>\n",
            "RangeIndex: 2334076 entries, 0 to 2334075\n",
            "Data columns (total 32 columns):\n",
            " #   Column      Dtype  \n",
            "---  ------      -----  \n",
            " 0   prov_insc   object \n",
            " 1   cant_insc   object \n",
            " 2   parr_insc   object \n",
            " 3   anio_insc   object \n",
            " 4   mes_insc    object \n",
            " 5   sexo        object \n",
            " 6   talla       object \n",
            " 7   peso        object \n",
            " 8   sem_gest    float64\n",
            " 9   tipo_part   object \n",
            " 10  anio_nac    float64\n",
            " 11  mes_nac     object \n",
            " 12  p_emb       object \n",
            " 13  lugar_ocur  object \n",
            " 14  prov_nac    object \n",
            " 15  cant_nac    object \n",
            " 16  parr_nac    object \n",
            " 17  asis_por    object \n",
            " 18  area_nac    object \n",
            " 19  edad_mad    float64\n",
            " 20  con_pren    float64\n",
            " 21  hij_viv     float64\n",
            " 22  hij_vivm    float64\n",
            " 23  hij_nacm    float64\n",
            " 24  etnia       object \n",
            " 25  est_civil   object \n",
            " 26  sabe_leer   object \n",
            " 27  niv_inst    object \n",
            " 28  prov_res    object \n",
            " 29  cant_res    object \n",
            " 30  parr_res    object \n",
            " 31  area_res    object \n",
            "dtypes: float64(7), object(25)\n",
            "memory usage: 569.8+ MB\n"
          ]
        }
      ]
    },
    {
      "cell_type": "code",
      "source": [
        "df_nac.isna().sum()"
      ],
      "metadata": {
        "colab": {
          "base_uri": "https://localhost:8080/"
        },
        "id": "DpK0O2OpoSvw",
        "outputId": "cd8d576f-9b56-4984-c4d0-d2c885d43244"
      },
      "execution_count": null,
      "outputs": [
        {
          "output_type": "execute_result",
          "data": {
            "text/plain": [
              "prov_insc          0\n",
              "cant_insc       1868\n",
              "parr_insc     405415\n",
              "anio_insc          0\n",
              "mes_insc           0\n",
              "sexo               0\n",
              "talla              0\n",
              "peso               0\n",
              "sem_gest           0\n",
              "tipo_part          0\n",
              "anio_nac           0\n",
              "mes_nac            0\n",
              "p_emb              0\n",
              "lugar_ocur         0\n",
              "prov_nac           0\n",
              "cant_nac        1601\n",
              "parr_nac      115694\n",
              "asis_por           0\n",
              "area_nac           0\n",
              "edad_mad           0\n",
              "con_pren           0\n",
              "hij_viv            0\n",
              "hij_vivm           0\n",
              "hij_nacm           0\n",
              "etnia              0\n",
              "est_civil          0\n",
              "sabe_leer          0\n",
              "niv_inst           0\n",
              "prov_res         145\n",
              "cant_res        2059\n",
              "parr_res      275732\n",
              "area_res           0\n",
              "dtype: int64"
            ]
          },
          "metadata": {},
          "execution_count": 114
        }
      ]
    },
    {
      "cell_type": "code",
      "source": [
        "#eliminamos los datos vacios \n",
        "df_nac = df_nac.dropna()"
      ],
      "metadata": {
        "id": "kNKWQsBxoLfo"
      },
      "execution_count": null,
      "outputs": []
    },
    {
      "cell_type": "code",
      "source": [
        "#eliminamos los datoos vacios, llenos espacios de la columna prov_insc\n",
        "df_nac = df_nac.loc[df_nac[\"prov_insc\"] != \" \",:]"
      ],
      "metadata": {
        "id": "bEU1iCvupqZP"
      },
      "execution_count": null,
      "outputs": []
    },
    {
      "cell_type": "code",
      "source": [
        "df_nac[\"prov_insc\"].value_counts()"
      ],
      "metadata": {
        "colab": {
          "base_uri": "https://localhost:8080/"
        },
        "id": "WL26eeJGqL0A",
        "outputId": "cc66aa82-389c-4f37-d657-b0f10443752c"
      },
      "execution_count": null,
      "outputs": [
        {
          "output_type": "execute_result",
          "data": {
            "text/plain": [
              "Guayas                            440940\n",
              "Pichincha                         271250\n",
              "Manabi                            164492\n",
              "Los Rios                          110353\n",
              "El Oro                             85122\n",
              "Azuay                              77266\n",
              "Esmeraldas                         62889\n",
              "Santo Domingo de los Tsachilas     61095\n",
              "Tungurahua                         53551\n",
              "Loja                               51838\n",
              "Cotopaxi                           47543\n",
              "Santa Elena                        46602\n",
              "Imbabura                           43104\n",
              "Chimborazo                         42907\n",
              "Canar                              28329\n",
              "Sucumbios                          26766\n",
              "Morona Santiago                    23030\n",
              "Orellana                           21272\n",
              "Napo                               18381\n",
              "Bolivar                            18124\n",
              "Carchi                             15662\n",
              "Pastaza                            14514\n",
              "Zamora Chinchipe                   13117\n",
              "Galapagos                           3079\n",
              "Name: prov_insc, dtype: int64"
            ]
          },
          "metadata": {},
          "execution_count": 117
        }
      ]
    },
    {
      "cell_type": "code",
      "source": [
        "df_nac.info()"
      ],
      "metadata": {
        "colab": {
          "base_uri": "https://localhost:8080/"
        },
        "id": "qAJ5LlAEVCOM",
        "outputId": "823d1c79-c0cb-40be-8edb-840fb755e74d"
      },
      "execution_count": null,
      "outputs": [
        {
          "output_type": "stream",
          "name": "stdout",
          "text": [
            "<class 'pandas.core.frame.DataFrame'>\n",
            "Int64Index: 1741226 entries, 0 to 2334075\n",
            "Data columns (total 32 columns):\n",
            " #   Column      Dtype  \n",
            "---  ------      -----  \n",
            " 0   prov_insc   object \n",
            " 1   cant_insc   object \n",
            " 2   parr_insc   object \n",
            " 3   anio_insc   object \n",
            " 4   mes_insc    object \n",
            " 5   sexo        object \n",
            " 6   talla       object \n",
            " 7   peso        object \n",
            " 8   sem_gest    float64\n",
            " 9   tipo_part   object \n",
            " 10  anio_nac    float64\n",
            " 11  mes_nac     object \n",
            " 12  p_emb       object \n",
            " 13  lugar_ocur  object \n",
            " 14  prov_nac    object \n",
            " 15  cant_nac    object \n",
            " 16  parr_nac    object \n",
            " 17  asis_por    object \n",
            " 18  area_nac    object \n",
            " 19  edad_mad    float64\n",
            " 20  con_pren    float64\n",
            " 21  hij_viv     float64\n",
            " 22  hij_vivm    float64\n",
            " 23  hij_nacm    float64\n",
            " 24  etnia       object \n",
            " 25  est_civil   object \n",
            " 26  sabe_leer   object \n",
            " 27  niv_inst    object \n",
            " 28  prov_res    object \n",
            " 29  cant_res    object \n",
            " 30  parr_res    object \n",
            " 31  area_res    object \n",
            "dtypes: float64(7), object(25)\n",
            "memory usage: 438.4+ MB\n"
          ]
        }
      ]
    },
    {
      "cell_type": "code",
      "source": [
        "#eliminamos los datoos vacios, llenos espacios de la columna anio_insc\n",
        "df_nac = df_nac.loc[df_nac[\"anio_insc\"] != \" \",:]"
      ],
      "metadata": {
        "id": "XnmZSGCHVhTE"
      },
      "execution_count": null,
      "outputs": []
    },
    {
      "cell_type": "code",
      "source": [
        "df_nac[\"anio_insc\"] = df_nac[\"anio_insc\"].astype(int)"
      ],
      "metadata": {
        "id": "AVrpQYTGVK2U"
      },
      "execution_count": null,
      "outputs": []
    },
    {
      "cell_type": "code",
      "source": [
        "df_nac[\"anio_insc\"].value_counts()"
      ],
      "metadata": {
        "colab": {
          "base_uri": "https://localhost:8080/"
        },
        "id": "s5WuEH5rVaRk",
        "outputId": "00bc7f12-a3ff-4db6-8883-8011ffdaba3b"
      },
      "execution_count": null,
      "outputs": [
        {
          "output_type": "execute_result",
          "data": {
            "text/plain": [
              "2017    267048\n",
              "2019    265345\n",
              "2018    260300\n",
              "2016    228836\n",
              "2021    221325\n",
              "2020    216263\n",
              "2014    101934\n",
              "2013     97873\n",
              "2015     59050\n",
              "2022     21370\n",
              "2012      1880\n",
              "1900         1\n",
              "Name: anio_insc, dtype: int64"
            ]
          },
          "metadata": {},
          "execution_count": 121
        }
      ]
    },
    {
      "cell_type": "code",
      "source": [
        "#eliminamos los registros de anio insc menor a 2012\n",
        "df_nac = df_nac.loc[df_nac[\"anio_insc\"] > 2011,:]"
      ],
      "metadata": {
        "id": "tRlQIh5KV5kb"
      },
      "execution_count": null,
      "outputs": []
    },
    {
      "cell_type": "code",
      "source": [
        "df_nac[\"anio_insc\"].value_counts()"
      ],
      "metadata": {
        "colab": {
          "base_uri": "https://localhost:8080/"
        },
        "id": "xXanPqv6WF2l",
        "outputId": "15060cb1-8c07-4a5e-adf0-715c1137503d"
      },
      "execution_count": null,
      "outputs": [
        {
          "output_type": "execute_result",
          "data": {
            "text/plain": [
              "2017    267048\n",
              "2019    265345\n",
              "2018    260300\n",
              "2016    228836\n",
              "2021    221325\n",
              "2020    216263\n",
              "2014    101934\n",
              "2013     97873\n",
              "2015     59050\n",
              "2022     21370\n",
              "2012      1880\n",
              "Name: anio_insc, dtype: int64"
            ]
          },
          "metadata": {},
          "execution_count": 123
        }
      ]
    },
    {
      "cell_type": "code",
      "source": [
        "#eliminamos la clas \"sin informacion de la columna talla\"\n",
        "df_nac = df_nac.loc[df_nac[\"talla\"] != \"Sin informacion\",:]"
      ],
      "metadata": {
        "id": "oIK47nuvWRWD"
      },
      "execution_count": null,
      "outputs": []
    },
    {
      "cell_type": "code",
      "source": [
        "df_nac[\"talla\"] = df_nac[\"talla\"].astype(float)"
      ],
      "metadata": {
        "id": "Vf-smpQcWH10"
      },
      "execution_count": null,
      "outputs": []
    },
    {
      "cell_type": "code",
      "source": [
        "#eliminamos la clas \"sin informacion de la columna peso\"\n",
        "df_nac = df_nac.loc[df_nac[\"peso\"] != \"Sin informacion\",:]"
      ],
      "metadata": {
        "id": "bB2PGlpRXlOL"
      },
      "execution_count": null,
      "outputs": []
    },
    {
      "cell_type": "code",
      "source": [
        "df_nac[\"peso\"] = df_nac[\"peso\"].astype(float)"
      ],
      "metadata": {
        "id": "Qj4AY9FFW8Mr"
      },
      "execution_count": null,
      "outputs": []
    },
    {
      "cell_type": "code",
      "source": [
        "pd.set_option('display.max_columns', None)"
      ],
      "metadata": {
        "id": "Hu2ZwHYWZqug"
      },
      "execution_count": null,
      "outputs": []
    },
    {
      "cell_type": "markdown",
      "source": [
        "Relación entre regiones de inscripción, nacimiento y residencia"
      ],
      "metadata": {
        "id": "l2ze9q7ObOwX"
      }
    },
    {
      "cell_type": "code",
      "source": [
        "(df_nac[\"prov_insc\"] == df_nac[\"prov_nac\"]).value_counts()"
      ],
      "metadata": {
        "colab": {
          "base_uri": "https://localhost:8080/"
        },
        "id": "x0C5NgJ4an3B",
        "outputId": "67b42776-bd13-4d44-d966-308e52381700"
      },
      "execution_count": null,
      "outputs": [
        {
          "output_type": "execute_result",
          "data": {
            "text/plain": [
              "True     1647126\n",
              "False      91442\n",
              "dtype: int64"
            ]
          },
          "metadata": {},
          "execution_count": 129
        }
      ]
    },
    {
      "cell_type": "code",
      "source": [
        "(df_nac[\"prov_insc\"] == df_nac[\"prov_res\"]).value_counts()"
      ],
      "metadata": {
        "colab": {
          "base_uri": "https://localhost:8080/"
        },
        "id": "kCRelQU5a7hR",
        "outputId": "857c0d8d-3928-4d23-927b-51a35bec1934"
      },
      "execution_count": null,
      "outputs": [
        {
          "output_type": "execute_result",
          "data": {
            "text/plain": [
              "True     1658703\n",
              "False      79865\n",
              "dtype: int64"
            ]
          },
          "metadata": {},
          "execution_count": 130
        }
      ]
    },
    {
      "cell_type": "code",
      "source": [
        "(df_nac[\"prov_nac\"] == df_nac[\"prov_res\"]).value_counts()"
      ],
      "metadata": {
        "colab": {
          "base_uri": "https://localhost:8080/"
        },
        "id": "_ILCQIA4bCAY",
        "outputId": "b7643e5a-b638-48a0-e216-fb2d5aa1be36"
      },
      "execution_count": null,
      "outputs": [
        {
          "output_type": "execute_result",
          "data": {
            "text/plain": [
              "True     1649468\n",
              "False      89100\n",
              "dtype: int64"
            ]
          },
          "metadata": {},
          "execution_count": 131
        }
      ]
    },
    {
      "cell_type": "markdown",
      "source": [
        "* Igualación de nombres de columnas de datos de defunciones y nacimientos"
      ],
      "metadata": {
        "id": "9IvR_JsPFsvW"
      }
    },
    {
      "cell_type": "code",
      "source": [
        "df_def.info()"
      ],
      "metadata": {
        "colab": {
          "base_uri": "https://localhost:8080/"
        },
        "id": "jOLVXKwvaXhw",
        "outputId": "24e92fc3-006d-4f8b-b9b5-ca0b8576b46a"
      },
      "execution_count": null,
      "outputs": [
        {
          "output_type": "stream",
          "name": "stdout",
          "text": [
            "<class 'pandas.core.frame.DataFrame'>\n",
            "RangeIndex: 11560 entries, 0 to 11559\n",
            "Data columns (total 30 columns):\n",
            " #   Column       Non-Null Count  Dtype  \n",
            "---  ------       --------------  -----  \n",
            " 0   prov_insc    11560 non-null  object \n",
            " 1   cant_insc    11560 non-null  object \n",
            " 2   parr_insc    9408 non-null   object \n",
            " 3   anio_insc    11560 non-null  float64\n",
            " 4   mes_insc     11560 non-null  object \n",
            " 5   sexo         11560 non-null  object \n",
            " 6   sem_gest     11560 non-null  float64\n",
            " 7   anio_fall    11560 non-null  float64\n",
            " 8   mes_fall     11560 non-null  object \n",
            " 9   asis_por     11560 non-null  object \n",
            " 10  p_emb        11560 non-null  object \n",
            " 11  lugar_ocur   11560 non-null  object \n",
            " 12  prov_fall    11560 non-null  object \n",
            " 13  cant_fall    11560 non-null  object \n",
            " 14  parr_fall    11368 non-null  object \n",
            " 15  area_fall    11560 non-null  object \n",
            " 16  causa_fetal  11560 non-null  object \n",
            " 17  edad_mad     11560 non-null  float64\n",
            " 18  hij_viv      11560 non-null  float64\n",
            " 19  hij_vivm     11560 non-null  float64\n",
            " 20  hij_nacm     11560 non-null  float64\n",
            " 21  con_pren     11560 non-null  float64\n",
            " 22  etnia        11560 non-null  object \n",
            " 23  est_civil    11560 non-null  object \n",
            " 24  sabe_leer    11560 non-null  object \n",
            " 25  niv_inst     11560 non-null  object \n",
            " 26  prov_res     11559 non-null  object \n",
            " 27  cant_res     11559 non-null  object \n",
            " 28  parr_res     10367 non-null  object \n",
            " 29  area_res     11560 non-null  object \n",
            "dtypes: float64(8), object(22)\n",
            "memory usage: 2.6+ MB\n"
          ]
        }
      ]
    },
    {
      "cell_type": "code",
      "source": [
        "df_nac.info()"
      ],
      "metadata": {
        "colab": {
          "base_uri": "https://localhost:8080/"
        },
        "id": "qnRfTTdLabdZ",
        "outputId": "e545eb17-e6b0-4c0e-94d6-adda6c176333"
      },
      "execution_count": null,
      "outputs": [
        {
          "output_type": "stream",
          "name": "stdout",
          "text": [
            "<class 'pandas.core.frame.DataFrame'>\n",
            "Int64Index: 1738568 entries, 0 to 2334075\n",
            "Data columns (total 32 columns):\n",
            " #   Column      Dtype  \n",
            "---  ------      -----  \n",
            " 0   prov_insc   object \n",
            " 1   cant_insc   object \n",
            " 2   parr_insc   object \n",
            " 3   anio_insc   int64  \n",
            " 4   mes_insc    object \n",
            " 5   sexo        object \n",
            " 6   talla       float64\n",
            " 7   peso        float64\n",
            " 8   sem_gest    float64\n",
            " 9   tipo_part   object \n",
            " 10  anio_nac    float64\n",
            " 11  mes_nac     object \n",
            " 12  p_emb       object \n",
            " 13  lugar_ocur  object \n",
            " 14  prov_nac    object \n",
            " 15  cant_nac    object \n",
            " 16  parr_nac    object \n",
            " 17  asis_por    object \n",
            " 18  area_nac    object \n",
            " 19  edad_mad    float64\n",
            " 20  con_pren    float64\n",
            " 21  hij_viv     float64\n",
            " 22  hij_vivm    float64\n",
            " 23  hij_nacm    float64\n",
            " 24  etnia       object \n",
            " 25  est_civil   object \n",
            " 26  sabe_leer   object \n",
            " 27  niv_inst    object \n",
            " 28  prov_res    object \n",
            " 29  cant_res    object \n",
            " 30  parr_res    object \n",
            " 31  area_res    object \n",
            "dtypes: float64(9), int64(1), object(22)\n",
            "memory usage: 437.7+ MB\n"
          ]
        }
      ]
    },
    {
      "cell_type": "code",
      "source": [
        "#primero vamos a renombrar las columnas de los datos de nacimiento\n",
        "renam_nac = {\"anio_nac\":\"anio\",\"mes_nac\":\"mes\",\"prov_nac\":\"provincia\",\"cant_nac\":\"canton\",\"parr_nac\":\"parroquia\",\"area_nac\":\"area\"}\n",
        "df_nac = df_nac.rename(columns=renam_nac)"
      ],
      "metadata": {
        "id": "A6GIVb8WF0LN"
      },
      "execution_count": null,
      "outputs": []
    },
    {
      "cell_type": "code",
      "source": [
        "#renombramos las columnas de los datos de defunciones\n",
        "renam_def = {\"anio_fall\":\"anio\",\"mes_fall\":\"mes\",\"prov_fall\":\"provincia\",\"cant_fall\":\"canton\",\"parr_fall\":\"parroquia\",\"area_fall\":\"area\"}\n",
        "df_def = df_def.rename(columns=renam_def)"
      ],
      "metadata": {
        "id": "cfHSHSKoHSBb"
      },
      "execution_count": null,
      "outputs": []
    },
    {
      "cell_type": "markdown",
      "source": [
        "## Selección de columnas importantes"
      ],
      "metadata": {
        "id": "7HGAA0gUjlJK"
      }
    },
    {
      "cell_type": "code",
      "source": [
        "df_nac.columns"
      ],
      "metadata": {
        "colab": {
          "base_uri": "https://localhost:8080/"
        },
        "id": "yH3XZtp9kevS",
        "outputId": "f5b71b26-c74e-4faa-c82c-a2bf7d406f65"
      },
      "execution_count": null,
      "outputs": [
        {
          "output_type": "execute_result",
          "data": {
            "text/plain": [
              "Index(['prov_insc', 'cant_insc', 'parr_insc', 'anio_insc', 'mes_insc', 'sexo',\n",
              "       'talla', 'peso', 'sem_gest', 'tipo_part', 'anio', 'mes', 'p_emb',\n",
              "       'lugar_ocur', 'provincia', 'canton', 'parroquia', 'asis_por', 'area',\n",
              "       'edad_mad', 'con_pren', 'hij_viv', 'hij_vivm', 'hij_nacm', 'etnia',\n",
              "       'est_civil', 'sabe_leer', 'niv_inst', 'prov_res', 'cant_res',\n",
              "       'parr_res', 'area_res'],\n",
              "      dtype='object')"
            ]
          },
          "metadata": {},
          "execution_count": 136
        }
      ]
    },
    {
      "cell_type": "code",
      "source": [
        "col_selec = ['sexo','sem_gest', 'anio', 'mes', 'p_emb',\n",
        "       'lugar_ocur', 'provincia', 'canton', 'parroquia', 'asis_por', 'area',\n",
        "       'edad_mad', 'con_pren', 'hij_viv', 'hij_vivm', 'hij_nacm', 'etnia',\n",
        "       'est_civil', 'sabe_leer', 'niv_inst', 'prov_res', 'cant_res',\n",
        "       'parr_res', 'area_res']"
      ],
      "metadata": {
        "id": "Np2nHvNFkXtK"
      },
      "execution_count": null,
      "outputs": []
    },
    {
      "cell_type": "code",
      "source": [
        "# nevo marco de datos con las columnas seleccionadas\n",
        "new_nac = df_nac.loc[:,col_selec]\n",
        "new_def = df_def.loc[:,col_selec]"
      ],
      "metadata": {
        "id": "4cXOWtJYi-C7"
      },
      "execution_count": null,
      "outputs": []
    },
    {
      "cell_type": "code",
      "source": [
        "#df_def.loc[df_def[\"causa_fetal\"].str.contains(\"neonatal\"),:][\"causa_fetal\"].value_counts()"
      ],
      "metadata": {
        "id": "Nu2HHVd8chlX"
      },
      "execution_count": null,
      "outputs": []
    },
    {
      "cell_type": "code",
      "source": [
        "df_def[\"mes\"].value_counts()"
      ],
      "metadata": {
        "colab": {
          "base_uri": "https://localhost:8080/"
        },
        "id": "Se66258XsOPW",
        "outputId": "c5db0353-3883-4b06-ee97-bb6752af6376"
      },
      "execution_count": null,
      "outputs": [
        {
          "output_type": "execute_result",
          "data": {
            "text/plain": [
              "Mayo          1059\n",
              "Enero         1047\n",
              "Junio         1023\n",
              "Agosto        1006\n",
              "Diciembre      970\n",
              "Octubre        956\n",
              "Noviembre      949\n",
              "Septiembre     938\n",
              "Julio          935\n",
              "Marzo          915\n",
              "Abril          898\n",
              "Febrero        864\n",
              "Name: mes, dtype: int64"
            ]
          },
          "metadata": {},
          "execution_count": 140
        }
      ]
    },
    {
      "cell_type": "markdown",
      "source": [
        "## Unión de ambos datos"
      ],
      "metadata": {
        "id": "M3hxdbUzAIGl"
      }
    },
    {
      "cell_type": "code",
      "source": [
        "#antes de unirlos debemos aumentar una columna en el que debe constar el estado del ser vivo: vivo=1, defunción=0  \n",
        "new_nac = new_nac.assign(Estado=[1]*len(df_nac))\n",
        "new_def = new_def.assign(Estado=[0]*len(df_def))"
      ],
      "metadata": {
        "id": "SshLCgRulNVx"
      },
      "execution_count": null,
      "outputs": []
    },
    {
      "cell_type": "code",
      "source": [
        "#Unimos ambos conjuntos de datos\n",
        "df = pd.concat([new_nac, new_def])"
      ],
      "metadata": {
        "id": "MUSGKU18CHSN"
      },
      "execution_count": null,
      "outputs": []
    },
    {
      "cell_type": "code",
      "source": [
        "df.head()"
      ],
      "metadata": {
        "colab": {
          "base_uri": "https://localhost:8080/",
          "height": 270
        },
        "id": "Gn-q5jQiZzv7",
        "outputId": "8f3c1602-21b1-4f86-a216-6bcc201caa5e"
      },
      "execution_count": null,
      "outputs": [
        {
          "output_type": "execute_result",
          "data": {
            "text/plain": [
              "     sexo  sem_gest    anio      mes   p_emb  \\\n",
              "0  Hombre      35.0  2012.0     Mayo  Simple   \n",
              "1   Mujer      38.0  2012.0     Mayo  Simple   \n",
              "2   Mujer      38.0  2012.0     Mayo  Simple   \n",
              "3   Mujer      38.0  2012.0     Mayo  Simple   \n",
              "4  Hombre      39.0  2012.0  Febrero  Simple   \n",
              "\n",
              "                             lugar_ocur provincia  canton parroquia asis_por  \\\n",
              "0   Establecimiento_ministerio_de_salud     Azuay  Cuenca    Cuenca   Medico   \n",
              "1  Hospital_clinica_consultorio_privado     Azuay  Cuenca    Cuenca   Medico   \n",
              "2                  Establecimiento_IESS     Azuay  Cuenca    Cuenca   Medico   \n",
              "3   Establecimiento_ministerio_de_salud     Azuay  Cuenca    Cuenca   Medico   \n",
              "4   Establecimiento_ministerio_de_salud     Azuay  Cuenca    Cuenca   Medico   \n",
              "\n",
              "     area  edad_mad  con_pren  hij_viv  hij_vivm  hij_nacm    etnia est_civil  \\\n",
              "0  Urbana      27.0       9.0      3.0       1.0       1.0  Mestiza    Casada   \n",
              "1  Urbana      19.0      12.0      2.0       0.0       0.0  Mestiza   Soltera   \n",
              "2  Urbana      17.0      12.0      1.0       0.0       0.0  Mestiza     Unida   \n",
              "3  Urbana      28.0       6.0      3.0       0.0       1.0  Mestiza    Casada   \n",
              "4  Urbana      23.0       3.0      3.0       0.0       1.0     Otra     Viuda   \n",
              "\n",
              "  sabe_leer    niv_inst prov_res cant_res parr_res area_res  Estado  \n",
              "0        Si    Primaria    Azuay   Cuenca   Cuenca   Urbana       1  \n",
              "1        Si    Superior    Azuay   Cuenca   Cuenca   Urbana       1  \n",
              "2        Si  Secundaria    Azuay   Cuenca   Cuenca   Urbana       1  \n",
              "3        Si  Secundaria    Azuay   Cuenca   Cuenca   Urbana       1  \n",
              "4        Si    Primaria    Azuay   Cuenca  Sinicay    Rural       1  "
            ],
            "text/html": [
              "\n",
              "  <div id=\"df-842ad401-89ce-4d2e-bc90-c551aa5030d4\">\n",
              "    <div class=\"colab-df-container\">\n",
              "      <div>\n",
              "<style scoped>\n",
              "    .dataframe tbody tr th:only-of-type {\n",
              "        vertical-align: middle;\n",
              "    }\n",
              "\n",
              "    .dataframe tbody tr th {\n",
              "        vertical-align: top;\n",
              "    }\n",
              "\n",
              "    .dataframe thead th {\n",
              "        text-align: right;\n",
              "    }\n",
              "</style>\n",
              "<table border=\"1\" class=\"dataframe\">\n",
              "  <thead>\n",
              "    <tr style=\"text-align: right;\">\n",
              "      <th></th>\n",
              "      <th>sexo</th>\n",
              "      <th>sem_gest</th>\n",
              "      <th>anio</th>\n",
              "      <th>mes</th>\n",
              "      <th>p_emb</th>\n",
              "      <th>lugar_ocur</th>\n",
              "      <th>provincia</th>\n",
              "      <th>canton</th>\n",
              "      <th>parroquia</th>\n",
              "      <th>asis_por</th>\n",
              "      <th>area</th>\n",
              "      <th>edad_mad</th>\n",
              "      <th>con_pren</th>\n",
              "      <th>hij_viv</th>\n",
              "      <th>hij_vivm</th>\n",
              "      <th>hij_nacm</th>\n",
              "      <th>etnia</th>\n",
              "      <th>est_civil</th>\n",
              "      <th>sabe_leer</th>\n",
              "      <th>niv_inst</th>\n",
              "      <th>prov_res</th>\n",
              "      <th>cant_res</th>\n",
              "      <th>parr_res</th>\n",
              "      <th>area_res</th>\n",
              "      <th>Estado</th>\n",
              "    </tr>\n",
              "  </thead>\n",
              "  <tbody>\n",
              "    <tr>\n",
              "      <th>0</th>\n",
              "      <td>Hombre</td>\n",
              "      <td>35.0</td>\n",
              "      <td>2012.0</td>\n",
              "      <td>Mayo</td>\n",
              "      <td>Simple</td>\n",
              "      <td>Establecimiento_ministerio_de_salud</td>\n",
              "      <td>Azuay</td>\n",
              "      <td>Cuenca</td>\n",
              "      <td>Cuenca</td>\n",
              "      <td>Medico</td>\n",
              "      <td>Urbana</td>\n",
              "      <td>27.0</td>\n",
              "      <td>9.0</td>\n",
              "      <td>3.0</td>\n",
              "      <td>1.0</td>\n",
              "      <td>1.0</td>\n",
              "      <td>Mestiza</td>\n",
              "      <td>Casada</td>\n",
              "      <td>Si</td>\n",
              "      <td>Primaria</td>\n",
              "      <td>Azuay</td>\n",
              "      <td>Cuenca</td>\n",
              "      <td>Cuenca</td>\n",
              "      <td>Urbana</td>\n",
              "      <td>1</td>\n",
              "    </tr>\n",
              "    <tr>\n",
              "      <th>1</th>\n",
              "      <td>Mujer</td>\n",
              "      <td>38.0</td>\n",
              "      <td>2012.0</td>\n",
              "      <td>Mayo</td>\n",
              "      <td>Simple</td>\n",
              "      <td>Hospital_clinica_consultorio_privado</td>\n",
              "      <td>Azuay</td>\n",
              "      <td>Cuenca</td>\n",
              "      <td>Cuenca</td>\n",
              "      <td>Medico</td>\n",
              "      <td>Urbana</td>\n",
              "      <td>19.0</td>\n",
              "      <td>12.0</td>\n",
              "      <td>2.0</td>\n",
              "      <td>0.0</td>\n",
              "      <td>0.0</td>\n",
              "      <td>Mestiza</td>\n",
              "      <td>Soltera</td>\n",
              "      <td>Si</td>\n",
              "      <td>Superior</td>\n",
              "      <td>Azuay</td>\n",
              "      <td>Cuenca</td>\n",
              "      <td>Cuenca</td>\n",
              "      <td>Urbana</td>\n",
              "      <td>1</td>\n",
              "    </tr>\n",
              "    <tr>\n",
              "      <th>2</th>\n",
              "      <td>Mujer</td>\n",
              "      <td>38.0</td>\n",
              "      <td>2012.0</td>\n",
              "      <td>Mayo</td>\n",
              "      <td>Simple</td>\n",
              "      <td>Establecimiento_IESS</td>\n",
              "      <td>Azuay</td>\n",
              "      <td>Cuenca</td>\n",
              "      <td>Cuenca</td>\n",
              "      <td>Medico</td>\n",
              "      <td>Urbana</td>\n",
              "      <td>17.0</td>\n",
              "      <td>12.0</td>\n",
              "      <td>1.0</td>\n",
              "      <td>0.0</td>\n",
              "      <td>0.0</td>\n",
              "      <td>Mestiza</td>\n",
              "      <td>Unida</td>\n",
              "      <td>Si</td>\n",
              "      <td>Secundaria</td>\n",
              "      <td>Azuay</td>\n",
              "      <td>Cuenca</td>\n",
              "      <td>Cuenca</td>\n",
              "      <td>Urbana</td>\n",
              "      <td>1</td>\n",
              "    </tr>\n",
              "    <tr>\n",
              "      <th>3</th>\n",
              "      <td>Mujer</td>\n",
              "      <td>38.0</td>\n",
              "      <td>2012.0</td>\n",
              "      <td>Mayo</td>\n",
              "      <td>Simple</td>\n",
              "      <td>Establecimiento_ministerio_de_salud</td>\n",
              "      <td>Azuay</td>\n",
              "      <td>Cuenca</td>\n",
              "      <td>Cuenca</td>\n",
              "      <td>Medico</td>\n",
              "      <td>Urbana</td>\n",
              "      <td>28.0</td>\n",
              "      <td>6.0</td>\n",
              "      <td>3.0</td>\n",
              "      <td>0.0</td>\n",
              "      <td>1.0</td>\n",
              "      <td>Mestiza</td>\n",
              "      <td>Casada</td>\n",
              "      <td>Si</td>\n",
              "      <td>Secundaria</td>\n",
              "      <td>Azuay</td>\n",
              "      <td>Cuenca</td>\n",
              "      <td>Cuenca</td>\n",
              "      <td>Urbana</td>\n",
              "      <td>1</td>\n",
              "    </tr>\n",
              "    <tr>\n",
              "      <th>4</th>\n",
              "      <td>Hombre</td>\n",
              "      <td>39.0</td>\n",
              "      <td>2012.0</td>\n",
              "      <td>Febrero</td>\n",
              "      <td>Simple</td>\n",
              "      <td>Establecimiento_ministerio_de_salud</td>\n",
              "      <td>Azuay</td>\n",
              "      <td>Cuenca</td>\n",
              "      <td>Cuenca</td>\n",
              "      <td>Medico</td>\n",
              "      <td>Urbana</td>\n",
              "      <td>23.0</td>\n",
              "      <td>3.0</td>\n",
              "      <td>3.0</td>\n",
              "      <td>0.0</td>\n",
              "      <td>1.0</td>\n",
              "      <td>Otra</td>\n",
              "      <td>Viuda</td>\n",
              "      <td>Si</td>\n",
              "      <td>Primaria</td>\n",
              "      <td>Azuay</td>\n",
              "      <td>Cuenca</td>\n",
              "      <td>Sinicay</td>\n",
              "      <td>Rural</td>\n",
              "      <td>1</td>\n",
              "    </tr>\n",
              "  </tbody>\n",
              "</table>\n",
              "</div>\n",
              "      <button class=\"colab-df-convert\" onclick=\"convertToInteractive('df-842ad401-89ce-4d2e-bc90-c551aa5030d4')\"\n",
              "              title=\"Convert this dataframe to an interactive table.\"\n",
              "              style=\"display:none;\">\n",
              "        \n",
              "  <svg xmlns=\"http://www.w3.org/2000/svg\" height=\"24px\"viewBox=\"0 0 24 24\"\n",
              "       width=\"24px\">\n",
              "    <path d=\"M0 0h24v24H0V0z\" fill=\"none\"/>\n",
              "    <path d=\"M18.56 5.44l.94 2.06.94-2.06 2.06-.94-2.06-.94-.94-2.06-.94 2.06-2.06.94zm-11 1L8.5 8.5l.94-2.06 2.06-.94-2.06-.94L8.5 2.5l-.94 2.06-2.06.94zm10 10l.94 2.06.94-2.06 2.06-.94-2.06-.94-.94-2.06-.94 2.06-2.06.94z\"/><path d=\"M17.41 7.96l-1.37-1.37c-.4-.4-.92-.59-1.43-.59-.52 0-1.04.2-1.43.59L10.3 9.45l-7.72 7.72c-.78.78-.78 2.05 0 2.83L4 21.41c.39.39.9.59 1.41.59.51 0 1.02-.2 1.41-.59l7.78-7.78 2.81-2.81c.8-.78.8-2.07 0-2.86zM5.41 20L4 18.59l7.72-7.72 1.47 1.35L5.41 20z\"/>\n",
              "  </svg>\n",
              "      </button>\n",
              "      \n",
              "  <style>\n",
              "    .colab-df-container {\n",
              "      display:flex;\n",
              "      flex-wrap:wrap;\n",
              "      gap: 12px;\n",
              "    }\n",
              "\n",
              "    .colab-df-convert {\n",
              "      background-color: #E8F0FE;\n",
              "      border: none;\n",
              "      border-radius: 50%;\n",
              "      cursor: pointer;\n",
              "      display: none;\n",
              "      fill: #1967D2;\n",
              "      height: 32px;\n",
              "      padding: 0 0 0 0;\n",
              "      width: 32px;\n",
              "    }\n",
              "\n",
              "    .colab-df-convert:hover {\n",
              "      background-color: #E2EBFA;\n",
              "      box-shadow: 0px 1px 2px rgba(60, 64, 67, 0.3), 0px 1px 3px 1px rgba(60, 64, 67, 0.15);\n",
              "      fill: #174EA6;\n",
              "    }\n",
              "\n",
              "    [theme=dark] .colab-df-convert {\n",
              "      background-color: #3B4455;\n",
              "      fill: #D2E3FC;\n",
              "    }\n",
              "\n",
              "    [theme=dark] .colab-df-convert:hover {\n",
              "      background-color: #434B5C;\n",
              "      box-shadow: 0px 1px 3px 1px rgba(0, 0, 0, 0.15);\n",
              "      filter: drop-shadow(0px 1px 2px rgba(0, 0, 0, 0.3));\n",
              "      fill: #FFFFFF;\n",
              "    }\n",
              "  </style>\n",
              "\n",
              "      <script>\n",
              "        const buttonEl =\n",
              "          document.querySelector('#df-842ad401-89ce-4d2e-bc90-c551aa5030d4 button.colab-df-convert');\n",
              "        buttonEl.style.display =\n",
              "          google.colab.kernel.accessAllowed ? 'block' : 'none';\n",
              "\n",
              "        async function convertToInteractive(key) {\n",
              "          const element = document.querySelector('#df-842ad401-89ce-4d2e-bc90-c551aa5030d4');\n",
              "          const dataTable =\n",
              "            await google.colab.kernel.invokeFunction('convertToInteractive',\n",
              "                                                     [key], {});\n",
              "          if (!dataTable) return;\n",
              "\n",
              "          const docLinkHtml = 'Like what you see? Visit the ' +\n",
              "            '<a target=\"_blank\" href=https://colab.research.google.com/notebooks/data_table.ipynb>data table notebook</a>'\n",
              "            + ' to learn more about interactive tables.';\n",
              "          element.innerHTML = '';\n",
              "          dataTable['output_type'] = 'display_data';\n",
              "          await google.colab.output.renderOutput(dataTable, element);\n",
              "          const docLink = document.createElement('div');\n",
              "          docLink.innerHTML = docLinkHtml;\n",
              "          element.appendChild(docLink);\n",
              "        }\n",
              "      </script>\n",
              "    </div>\n",
              "  </div>\n",
              "  "
            ]
          },
          "metadata": {},
          "execution_count": 143
        }
      ]
    },
    {
      "cell_type": "code",
      "source": [
        "#Guardamos el data frame con el que vamos a trabajar\n",
        "df.to_csv('defuncion_nacimientos.csv', index=False)"
      ],
      "metadata": {
        "id": "BOjs5nAYWfJl"
      },
      "execution_count": null,
      "outputs": []
    }
  ]
}