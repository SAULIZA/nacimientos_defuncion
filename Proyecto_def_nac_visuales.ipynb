{
  "nbformat": 4,
  "nbformat_minor": 0,
  "metadata": {
    "colab": {
      "provenance": [],
      "authorship_tag": "ABX9TyMjOJ1ezikXU80Z2gsGQEIk",
      "include_colab_link": true
    },
    "kernelspec": {
      "name": "python3",
      "display_name": "Python 3"
    },
    "language_info": {
      "name": "python"
    }
  },
  "cells": [
    {
      "cell_type": "markdown",
      "metadata": {
        "id": "view-in-github",
        "colab_type": "text"
      },
      "source": [
        "<a href=\"https://colab.research.google.com/github/SAULIZA/nacimientos_defuncion/blob/main/Proyecto_def_nac_visuales.ipynb\" target=\"_parent\"><img src=\"https://colab.research.google.com/assets/colab-badge.svg\" alt=\"Open In Colab\"/></a>"
      ]
    },
    {
      "cell_type": "markdown",
      "source": [
        "# Desarrollo del modelo del proyecto\n",
        "**Proyecto 2 - Parte 4 (base)**\n",
        "* Crado por: Saúl Iza\n",
        "* Fecha de realización: 23/04/2023\n",
        "* Fecha de modificación: 23/04/2023"
      ],
      "metadata": {
        "id": "TcI7dOlzwwVb"
      }
    },
    {
      "cell_type": "markdown",
      "source": [
        "## Garantiza que completes los pasos de preprocesamiento adecuados"
      ],
      "metadata": {
        "id": "snTPGpp7AMAv"
      }
    },
    {
      "cell_type": "code",
      "execution_count": 1,
      "metadata": {
        "id": "0pqGUgd1wsAx",
        "colab": {
          "base_uri": "https://localhost:8080/"
        },
        "outputId": "5dd619e9-04a7-4689-e431-cabbe4bfc322"
      },
      "outputs": [
        {
          "output_type": "stream",
          "name": "stdout",
          "text": [
            "Mounted at /content/drive\n"
          ]
        }
      ],
      "source": [
        "from google.colab import drive\n",
        "drive.mount(\"/content/drive\")"
      ]
    },
    {
      "cell_type": "code",
      "source": [
        "import pandas as pd\n",
        "import numpy as np\n",
        "from sklearn.pipeline import make_pipeline\n",
        "from sklearn.impute import SimpleImputer\n",
        "from sklearn.preprocessing import StandardScaler\n",
        "from sklearn.model_selection import train_test_split\n",
        "from sklearn.preprocessing import OneHotEncoder\n",
        "from sklearn.compose import make_column_selector, make_column_transformer\n",
        "from sklearn import set_config\n",
        "set_config(display='diagram')"
      ],
      "metadata": {
        "id": "kf3dipFvA1Fu"
      },
      "execution_count": 2,
      "outputs": []
    },
    {
      "cell_type": "code",
      "source": [
        "#Checamos el marco de datos final\n",
        "#Datos de nacimientos y defunciones\n",
        "df = pd.read_csv(\"/content/drive/MyDrive/Codificación de Dojo/Proyecto2/defuncion_nacimientos.csv\")"
      ],
      "metadata": {
        "colab": {
          "base_uri": "https://localhost:8080/"
        },
        "id": "J17UtS9VBNVu",
        "outputId": "82ee2b50-c9b7-4010-83e1-aafd6ce44ad6"
      },
      "execution_count": 3,
      "outputs": [
        {
          "output_type": "stream",
          "name": "stderr",
          "text": [
            "<ipython-input-3-87ffbd5a6431>:3: DtypeWarning: Columns (3) have mixed types. Specify dtype option on import or set low_memory=False.\n",
            "  df = pd.read_csv(\"/content/drive/MyDrive/Codificación de Dojo/Proyecto2/defuncion_nacimientos.csv\")\n"
          ]
        }
      ]
    },
    {
      "cell_type": "code",
      "source": [
        "# corregimos los tipos de datos que se encuentran mezclados\n",
        "meses = {\"1\":\"Enero\",\"2\":\"Febrero\",\"3\":\"Marzo\",\"4\":\"Abril\",\"5\":\"Mayo\",\"6\":\"Junio\",\"7\":\"Julio\",\"8\":\"Agosto\",\"9\":\"Septiembre\",\"10\":\"Octubre\",\"11\":\"Noviembre\",\"12\":\"Diciembre\"}\n",
        "df[\"mes\"] = df[\"mes\"].replace(meses)"
      ],
      "metadata": {
        "id": "Jpj-6raeBewV"
      },
      "execution_count": 4,
      "outputs": []
    },
    {
      "cell_type": "code",
      "source": [
        "meses = {1:\"Enero\",2:\"Febrero\",3:\"Marzo\",4:\"Abril\",5:\"Mayo\",6:\"Junio\",7:\"Julio\",8:\"Agosto\",9:\"Septiembre\",10:\"Octubre\",11:\"Noviembre\",12:\"Diciembre\"}\n",
        "df[\"mes\"] = df[\"mes\"].replace(meses)"
      ],
      "metadata": {
        "id": "mAIdHsldCO8e"
      },
      "execution_count": 5,
      "outputs": []
    },
    {
      "cell_type": "code",
      "source": [
        "df.info()"
      ],
      "metadata": {
        "colab": {
          "base_uri": "https://localhost:8080/"
        },
        "id": "6_L96IuuCg4u",
        "outputId": "f1d522f4-1f70-4e54-8c1c-5310c1f82073"
      },
      "execution_count": 6,
      "outputs": [
        {
          "output_type": "stream",
          "name": "stdout",
          "text": [
            "<class 'pandas.core.frame.DataFrame'>\n",
            "RangeIndex: 1750128 entries, 0 to 1750127\n",
            "Data columns (total 25 columns):\n",
            " #   Column      Dtype  \n",
            "---  ------      -----  \n",
            " 0   sexo        object \n",
            " 1   sem_gest    float64\n",
            " 2   anio        float64\n",
            " 3   mes         object \n",
            " 4   p_emb       object \n",
            " 5   lugar_ocur  object \n",
            " 6   provincia   object \n",
            " 7   canton      object \n",
            " 8   parroquia   object \n",
            " 9   asis_por    object \n",
            " 10  area        object \n",
            " 11  edad_mad    float64\n",
            " 12  con_pren    float64\n",
            " 13  hij_viv     float64\n",
            " 14  hij_vivm    float64\n",
            " 15  hij_nacm    float64\n",
            " 16  etnia       object \n",
            " 17  est_civil   object \n",
            " 18  sabe_leer   object \n",
            " 19  niv_inst    object \n",
            " 20  prov_res    object \n",
            " 21  cant_res    object \n",
            " 22  parr_res    object \n",
            " 23  area_res    object \n",
            " 24  Estado      int64  \n",
            "dtypes: float64(7), int64(1), object(17)\n",
            "memory usage: 333.8+ MB\n"
          ]
        }
      ]
    },
    {
      "cell_type": "code",
      "source": [
        "df.isna().sum()"
      ],
      "metadata": {
        "colab": {
          "base_uri": "https://localhost:8080/"
        },
        "id": "xL7o6ck0Oc6u",
        "outputId": "75ca76c3-359c-45d5-c191-56d1647a277d"
      },
      "execution_count": 7,
      "outputs": [
        {
          "output_type": "execute_result",
          "data": {
            "text/plain": [
              "sexo             0\n",
              "sem_gest         0\n",
              "anio             0\n",
              "mes              0\n",
              "p_emb            0\n",
              "lugar_ocur       0\n",
              "provincia        0\n",
              "canton           0\n",
              "parroquia      192\n",
              "asis_por         0\n",
              "area             0\n",
              "edad_mad         0\n",
              "con_pren         0\n",
              "hij_viv          0\n",
              "hij_vivm         0\n",
              "hij_nacm         0\n",
              "etnia            0\n",
              "est_civil        0\n",
              "sabe_leer        0\n",
              "niv_inst         0\n",
              "prov_res         1\n",
              "cant_res         1\n",
              "parr_res      1193\n",
              "area_res         0\n",
              "Estado           0\n",
              "dtype: int64"
            ]
          },
          "metadata": {},
          "execution_count": 7
        }
      ]
    },
    {
      "cell_type": "code",
      "source": [
        "df[\"Estado\"].value_counts()"
      ],
      "metadata": {
        "colab": {
          "base_uri": "https://localhost:8080/"
        },
        "id": "FdG7mA2CMpiY",
        "outputId": "05adc93d-d60c-4520-f302-f70b5afcec47"
      },
      "execution_count": 8,
      "outputs": [
        {
          "output_type": "execute_result",
          "data": {
            "text/plain": [
              "1    1738568\n",
              "0      11560\n",
              "Name: Estado, dtype: int64"
            ]
          },
          "metadata": {},
          "execution_count": 8
        }
      ]
    },
    {
      "cell_type": "markdown",
      "source": [
        "* Revisión de datos categóricos"
      ],
      "metadata": {
        "id": "5wZN57UpDXOE"
      }
    },
    {
      "cell_type": "code",
      "source": [
        "# checamos la distribución de datos por estados vivo o muerto\n",
        "df[\"sexo\"].value_counts()"
      ],
      "metadata": {
        "colab": {
          "base_uri": "https://localhost:8080/"
        },
        "id": "S3ur3i_eCSH1",
        "outputId": "0fa3a80c-fbb6-4796-82c2-95873d3039ee"
      },
      "execution_count": 9,
      "outputs": [
        {
          "output_type": "execute_result",
          "data": {
            "text/plain": [
              "Hombre             895190\n",
              "Mujer              854795\n",
              "Indeterminado         133\n",
              "Sin informacion        10\n",
              "Name: sexo, dtype: int64"
            ]
          },
          "metadata": {},
          "execution_count": 9
        }
      ]
    },
    {
      "cell_type": "code",
      "source": [
        "#reemplazo de calses\n",
        "df[\"sexo\"] = df[\"sexo\"].replace(\"Sin informacion\",\"Indeterminado\")"
      ],
      "metadata": {
        "id": "6XIl1HfjN27n"
      },
      "execution_count": 10,
      "outputs": []
    },
    {
      "cell_type": "code",
      "source": [
        "df[\"mes\"].value_counts()"
      ],
      "metadata": {
        "colab": {
          "base_uri": "https://localhost:8080/"
        },
        "id": "nWHLD-ufEqez",
        "outputId": "6e1c8834-6b4a-4a17-a10f-a433e717cfb4"
      },
      "execution_count": 11,
      "outputs": [
        {
          "output_type": "execute_result",
          "data": {
            "text/plain": [
              "Mayo          156736\n",
              "Marzo         153085\n",
              "Julio         152773\n",
              "Agosto        151606\n",
              "Abril         150228\n",
              "Septiembre    149107\n",
              "Junio         148606\n",
              "Octubre       144780\n",
              "Enero         142145\n",
              "Noviembre     135048\n",
              "Febrero       133897\n",
              "Diciembre     132117\n",
              "Name: mes, dtype: int64"
            ]
          },
          "metadata": {},
          "execution_count": 11
        }
      ]
    },
    {
      "cell_type": "code",
      "source": [
        "df[\"p_emb\"].value_counts()"
      ],
      "metadata": {
        "colab": {
          "base_uri": "https://localhost:8080/"
        },
        "id": "NPGLPrRoObO-",
        "outputId": "474ce1e7-99bd-4928-fe29-d18daa1d4fc1"
      },
      "execution_count": 12,
      "outputs": [
        {
          "output_type": "execute_result",
          "data": {
            "text/plain": [
              "Simple             1724614\n",
              "Doble                25018\n",
              "Triple                 444\n",
              "Cuadruple_o_mas         33\n",
              "Quintuple               10\n",
              "Cuadruple                9\n",
              "Name: p_emb, dtype: int64"
            ]
          },
          "metadata": {},
          "execution_count": 12
        }
      ]
    },
    {
      "cell_type": "code",
      "source": [
        "#reemplazo de calses\n",
        "df[\"p_emb\"] = df[\"p_emb\"].replace(\"Cuadruple\",\"Cuadruple_o_mas\")\n",
        "df[\"p_emb\"] = df[\"p_emb\"].replace(\"Quintuple\",\"Cuadruple_o_mas\")"
      ],
      "metadata": {
        "id": "mRGiMrBWOxn2"
      },
      "execution_count": 13,
      "outputs": []
    },
    {
      "cell_type": "code",
      "source": [
        "df[\"p_emb\"].value_counts()"
      ],
      "metadata": {
        "colab": {
          "base_uri": "https://localhost:8080/"
        },
        "id": "orKCRxVAPGl9",
        "outputId": "fce14ecb-3269-4405-e1de-b6a1eb28b193"
      },
      "execution_count": 14,
      "outputs": [
        {
          "output_type": "execute_result",
          "data": {
            "text/plain": [
              "Simple             1724614\n",
              "Doble                25018\n",
              "Triple                 444\n",
              "Cuadruple_o_mas         52\n",
              "Name: p_emb, dtype: int64"
            ]
          },
          "metadata": {},
          "execution_count": 14
        }
      ]
    },
    {
      "cell_type": "code",
      "source": [
        "df[\"lugar_ocur\"].value_counts()"
      ],
      "metadata": {
        "colab": {
          "base_uri": "https://localhost:8080/"
        },
        "id": "vblNOKyePSxl",
        "outputId": "fd8cc5b4-8189-4681-dbdb-54e1881e1d70"
      },
      "execution_count": 15,
      "outputs": [
        {
          "output_type": "execute_result",
          "data": {
            "text/plain": [
              "Establecimiento_ministerio_de_salud     1089277\n",
              "Hospital_clinica_consultorio_privado     411629\n",
              "Establecimiento_IESS                     153857\n",
              "Establecimiento_junta_beneficiaria        60658\n",
              "Otro_establecimiento_publico              17430\n",
              "Casa                                      12640\n",
              "Otro                                       4637\n",
              "Name: lugar_ocur, dtype: int64"
            ]
          },
          "metadata": {},
          "execution_count": 15
        }
      ]
    },
    {
      "cell_type": "code",
      "source": [
        "df[\"asis_por\"].value_counts()"
      ],
      "metadata": {
        "colab": {
          "base_uri": "https://localhost:8080/"
        },
        "id": "VCi3kD1TPi9u",
        "outputId": "b758773c-6704-4ac2-9503-d5d6d3433400"
      },
      "execution_count": 16,
      "outputs": [
        {
          "output_type": "execute_result",
          "data": {
            "text/plain": [
              "Medico                        1538444\n",
              "Obstetra                       201680\n",
              "Otro                             5271\n",
              "Partero/a no calilficado/a       3354\n",
              "Partero/a calificado/a           1008\n",
              "Auxiliar_enfermeria               153\n",
              "Enfermero/a                       119\n",
              "Medico Legista                     98\n",
              "Enfermero_a                         1\n",
              "Name: asis_por, dtype: int64"
            ]
          },
          "metadata": {},
          "execution_count": 16
        }
      ]
    },
    {
      "cell_type": "code",
      "source": [
        "#reemplazo de clases\n",
        "df[\"asis_por\"] = df[\"asis_por\"].replace(\"Enfermero_a\",\"Enfermero/a\")"
      ],
      "metadata": {
        "id": "jm8aYcKXPtmN"
      },
      "execution_count": 17,
      "outputs": []
    },
    {
      "cell_type": "code",
      "source": [
        "df[\"etnia\"].value_counts()"
      ],
      "metadata": {
        "colab": {
          "base_uri": "https://localhost:8080/"
        },
        "id": "VTA9ISTRP6cl",
        "outputId": "0efbc042-7752-4513-a8db-474c22840281"
      },
      "execution_count": 18,
      "outputs": [
        {
          "output_type": "execute_result",
          "data": {
            "text/plain": [
              "Mestiza                              1577998\n",
              "Indigena                               94243\n",
              "Negra                                  17033\n",
              "Blanca                                 13521\n",
              "Afroecuatoriana/Afrodescendiente       11666\n",
              "Montubia                               10428\n",
              "Mulata                                  6660\n",
              "Otra                                    6504\n",
              "Ignorado                                5260\n",
              "Afro_ecuatoriana                        2470\n",
              "Sin informacion                         2419\n",
              "Afroecuatoriana/ Afrodescendiente       1926\n",
              "Name: etnia, dtype: int64"
            ]
          },
          "metadata": {},
          "execution_count": 18
        }
      ]
    },
    {
      "cell_type": "code",
      "source": [
        "#reemplazo de clases\n",
        "df[\"etnia\"] = df[\"etnia\"].replace(\"Afro_ecuatoriana\",\"Afroecuatoriana/Afrodescendiente\")\n",
        "df[\"etnia\"] = df[\"etnia\"].replace(\"Afroecuatoriana/ Afrodescendiente\",\"Afroecuatoriana/Afrodescendiente\")"
      ],
      "metadata": {
        "id": "gTyJPMWeQBvF"
      },
      "execution_count": 19,
      "outputs": []
    },
    {
      "cell_type": "code",
      "source": [
        "df[\"est_civil\"].value_counts()"
      ],
      "metadata": {
        "colab": {
          "base_uri": "https://localhost:8080/"
        },
        "id": "6S3llFFUQRH8",
        "outputId": "fb18857b-ea3d-48a1-ef60-4da988dbd74a"
      },
      "execution_count": 20,
      "outputs": [
        {
          "output_type": "execute_result",
          "data": {
            "text/plain": [
              "Soltera           704966\n",
              "Casada            503711\n",
              "Unida             429076\n",
              "Union libre        36343\n",
              "Union de hecho     34711\n",
              "Divorciada         27810\n",
              "Se ignora           7397\n",
              "Viuda               3154\n",
              "Separada            2960\n",
              "Name: est_civil, dtype: int64"
            ]
          },
          "metadata": {},
          "execution_count": 20
        }
      ]
    },
    {
      "cell_type": "code",
      "source": [
        "df[\"sabe_leer\"].value_counts()"
      ],
      "metadata": {
        "colab": {
          "base_uri": "https://localhost:8080/"
        },
        "id": "v_4lq8enQXxs",
        "outputId": "7b4871a2-ec77-4e5e-94c1-a277fa16ec88"
      },
      "execution_count": 21,
      "outputs": [
        {
          "output_type": "execute_result",
          "data": {
            "text/plain": [
              "Si          1736523\n",
              "No             9166\n",
              "Ignorado       4439\n",
              "Name: sabe_leer, dtype: int64"
            ]
          },
          "metadata": {},
          "execution_count": 21
        }
      ]
    },
    {
      "cell_type": "code",
      "source": [
        "df[\"niv_inst\"].value_counts()"
      ],
      "metadata": {
        "colab": {
          "base_uri": "https://localhost:8080/"
        },
        "id": "RbFdH6q5QcgE",
        "outputId": "548babbb-4c34-4f80-da2d-d9752af3e55b"
      },
      "execution_count": 22,
      "outputs": [
        {
          "output_type": "execute_result",
          "data": {
            "text/plain": [
              "Secundaria                        387271\n",
              "Educacion Media / Bachillerato    349362\n",
              "Educacion_basica                  332412\n",
              "Primaria                          250462\n",
              "Superior universitario            221147\n",
              "Superior                           75139\n",
              "Superior no universitario          53019\n",
              "Educacion basica                   37656\n",
              "Se_ignora                          18789\n",
              "Ninguno                             9511\n",
              "Ciclo_post_bachillerato             7783\n",
              "Postgrado                           4254\n",
              "Centro_de_alfabetizacion            1245\n",
              "Centro de alfabetizacion            1150\n",
              "Posgrado                             928\n",
              "Name: niv_inst, dtype: int64"
            ]
          },
          "metadata": {},
          "execution_count": 22
        }
      ]
    },
    {
      "cell_type": "code",
      "source": [
        "df[\"niv_inst\"] = df[\"niv_inst\"].replace(\"Educacion basica\",\"Educacion_basica\")\n",
        "df[\"niv_inst\"] = df[\"niv_inst\"].replace(\"Postgrado\",\"Posgrado\")\n",
        "df[\"niv_inst\"] = df[\"niv_inst\"].replace(\"Centro de alfabetizacion\",\"Centro_de_alfabetizacion\")"
      ],
      "metadata": {
        "id": "a1xCBIq0Qj2U"
      },
      "execution_count": 23,
      "outputs": []
    },
    {
      "cell_type": "code",
      "source": [
        "df[\"area_res\"].value_counts()"
      ],
      "metadata": {
        "colab": {
          "base_uri": "https://localhost:8080/"
        },
        "id": "Vo3YU6MYRNO8",
        "outputId": "3df1473a-4ab3-4121-821c-13ddc565974f"
      },
      "execution_count": 24,
      "outputs": [
        {
          "output_type": "execute_result",
          "data": {
            "text/plain": [
              "Urbana    1352606\n",
              "Rural      397522\n",
              "Name: area_res, dtype: int64"
            ]
          },
          "metadata": {},
          "execution_count": 24
        }
      ]
    },
    {
      "cell_type": "markdown",
      "source": [
        "* Revisión de datos numéricos"
      ],
      "metadata": {
        "id": "-iPc0FbeRXRz"
      }
    },
    {
      "cell_type": "code",
      "source": [
        "df.describe()"
      ],
      "metadata": {
        "colab": {
          "base_uri": "https://localhost:8080/",
          "height": 300
        },
        "id": "eKa_KC2zRWKE",
        "outputId": "3a025656-ad3a-4d1d-f781-9ec4c4ca2235"
      },
      "execution_count": 25,
      "outputs": [
        {
          "output_type": "execute_result",
          "data": {
            "text/plain": [
              "           sem_gest          anio      edad_mad      con_pren       hij_viv  \\\n",
              "count  1.750128e+06  1.750128e+06  1.750128e+06  1.750128e+06  1.750128e+06   \n",
              "mean   3.847461e+01  2.017665e+03  2.598883e+01  6.511601e+00  2.074787e+00   \n",
              "std    1.941852e+00  2.332091e+00  6.639087e+00  2.636681e+00  1.252714e+00   \n",
              "min    1.200000e+01  2.000000e+03  1.000000e+01  0.000000e+00  0.000000e+00   \n",
              "25%    3.800000e+01  2.016000e+03  2.100000e+01  5.000000e+00  1.000000e+00   \n",
              "50%    3.900000e+01  2.018000e+03  2.500000e+01  6.000000e+00  2.000000e+00   \n",
              "75%    4.000000e+01  2.020000e+03  3.100000e+01  8.000000e+00  3.000000e+00   \n",
              "max    9.900000e+01  2.021000e+03  5.600000e+01  2.500000e+01  1.900000e+01   \n",
              "\n",
              "           hij_vivm      hij_nacm        Estado  \n",
              "count  1.750128e+06  1.750128e+06  1.750128e+06  \n",
              "mean   2.675233e-02  3.251705e-02  9.933948e-01  \n",
              "std    1.993022e-01  2.152535e-01  8.100374e-02  \n",
              "min    0.000000e+00  0.000000e+00  0.000000e+00  \n",
              "25%    0.000000e+00  0.000000e+00  1.000000e+00  \n",
              "50%    0.000000e+00  0.000000e+00  1.000000e+00  \n",
              "75%    0.000000e+00  0.000000e+00  1.000000e+00  \n",
              "max    1.000000e+01  1.300000e+01  1.000000e+00  "
            ],
            "text/html": [
              "\n",
              "  <div id=\"df-959ca255-5996-40e2-b8da-09a81ec6208e\">\n",
              "    <div class=\"colab-df-container\">\n",
              "      <div>\n",
              "<style scoped>\n",
              "    .dataframe tbody tr th:only-of-type {\n",
              "        vertical-align: middle;\n",
              "    }\n",
              "\n",
              "    .dataframe tbody tr th {\n",
              "        vertical-align: top;\n",
              "    }\n",
              "\n",
              "    .dataframe thead th {\n",
              "        text-align: right;\n",
              "    }\n",
              "</style>\n",
              "<table border=\"1\" class=\"dataframe\">\n",
              "  <thead>\n",
              "    <tr style=\"text-align: right;\">\n",
              "      <th></th>\n",
              "      <th>sem_gest</th>\n",
              "      <th>anio</th>\n",
              "      <th>edad_mad</th>\n",
              "      <th>con_pren</th>\n",
              "      <th>hij_viv</th>\n",
              "      <th>hij_vivm</th>\n",
              "      <th>hij_nacm</th>\n",
              "      <th>Estado</th>\n",
              "    </tr>\n",
              "  </thead>\n",
              "  <tbody>\n",
              "    <tr>\n",
              "      <th>count</th>\n",
              "      <td>1.750128e+06</td>\n",
              "      <td>1.750128e+06</td>\n",
              "      <td>1.750128e+06</td>\n",
              "      <td>1.750128e+06</td>\n",
              "      <td>1.750128e+06</td>\n",
              "      <td>1.750128e+06</td>\n",
              "      <td>1.750128e+06</td>\n",
              "      <td>1.750128e+06</td>\n",
              "    </tr>\n",
              "    <tr>\n",
              "      <th>mean</th>\n",
              "      <td>3.847461e+01</td>\n",
              "      <td>2.017665e+03</td>\n",
              "      <td>2.598883e+01</td>\n",
              "      <td>6.511601e+00</td>\n",
              "      <td>2.074787e+00</td>\n",
              "      <td>2.675233e-02</td>\n",
              "      <td>3.251705e-02</td>\n",
              "      <td>9.933948e-01</td>\n",
              "    </tr>\n",
              "    <tr>\n",
              "      <th>std</th>\n",
              "      <td>1.941852e+00</td>\n",
              "      <td>2.332091e+00</td>\n",
              "      <td>6.639087e+00</td>\n",
              "      <td>2.636681e+00</td>\n",
              "      <td>1.252714e+00</td>\n",
              "      <td>1.993022e-01</td>\n",
              "      <td>2.152535e-01</td>\n",
              "      <td>8.100374e-02</td>\n",
              "    </tr>\n",
              "    <tr>\n",
              "      <th>min</th>\n",
              "      <td>1.200000e+01</td>\n",
              "      <td>2.000000e+03</td>\n",
              "      <td>1.000000e+01</td>\n",
              "      <td>0.000000e+00</td>\n",
              "      <td>0.000000e+00</td>\n",
              "      <td>0.000000e+00</td>\n",
              "      <td>0.000000e+00</td>\n",
              "      <td>0.000000e+00</td>\n",
              "    </tr>\n",
              "    <tr>\n",
              "      <th>25%</th>\n",
              "      <td>3.800000e+01</td>\n",
              "      <td>2.016000e+03</td>\n",
              "      <td>2.100000e+01</td>\n",
              "      <td>5.000000e+00</td>\n",
              "      <td>1.000000e+00</td>\n",
              "      <td>0.000000e+00</td>\n",
              "      <td>0.000000e+00</td>\n",
              "      <td>1.000000e+00</td>\n",
              "    </tr>\n",
              "    <tr>\n",
              "      <th>50%</th>\n",
              "      <td>3.900000e+01</td>\n",
              "      <td>2.018000e+03</td>\n",
              "      <td>2.500000e+01</td>\n",
              "      <td>6.000000e+00</td>\n",
              "      <td>2.000000e+00</td>\n",
              "      <td>0.000000e+00</td>\n",
              "      <td>0.000000e+00</td>\n",
              "      <td>1.000000e+00</td>\n",
              "    </tr>\n",
              "    <tr>\n",
              "      <th>75%</th>\n",
              "      <td>4.000000e+01</td>\n",
              "      <td>2.020000e+03</td>\n",
              "      <td>3.100000e+01</td>\n",
              "      <td>8.000000e+00</td>\n",
              "      <td>3.000000e+00</td>\n",
              "      <td>0.000000e+00</td>\n",
              "      <td>0.000000e+00</td>\n",
              "      <td>1.000000e+00</td>\n",
              "    </tr>\n",
              "    <tr>\n",
              "      <th>max</th>\n",
              "      <td>9.900000e+01</td>\n",
              "      <td>2.021000e+03</td>\n",
              "      <td>5.600000e+01</td>\n",
              "      <td>2.500000e+01</td>\n",
              "      <td>1.900000e+01</td>\n",
              "      <td>1.000000e+01</td>\n",
              "      <td>1.300000e+01</td>\n",
              "      <td>1.000000e+00</td>\n",
              "    </tr>\n",
              "  </tbody>\n",
              "</table>\n",
              "</div>\n",
              "      <button class=\"colab-df-convert\" onclick=\"convertToInteractive('df-959ca255-5996-40e2-b8da-09a81ec6208e')\"\n",
              "              title=\"Convert this dataframe to an interactive table.\"\n",
              "              style=\"display:none;\">\n",
              "        \n",
              "  <svg xmlns=\"http://www.w3.org/2000/svg\" height=\"24px\"viewBox=\"0 0 24 24\"\n",
              "       width=\"24px\">\n",
              "    <path d=\"M0 0h24v24H0V0z\" fill=\"none\"/>\n",
              "    <path d=\"M18.56 5.44l.94 2.06.94-2.06 2.06-.94-2.06-.94-.94-2.06-.94 2.06-2.06.94zm-11 1L8.5 8.5l.94-2.06 2.06-.94-2.06-.94L8.5 2.5l-.94 2.06-2.06.94zm10 10l.94 2.06.94-2.06 2.06-.94-2.06-.94-.94-2.06-.94 2.06-2.06.94z\"/><path d=\"M17.41 7.96l-1.37-1.37c-.4-.4-.92-.59-1.43-.59-.52 0-1.04.2-1.43.59L10.3 9.45l-7.72 7.72c-.78.78-.78 2.05 0 2.83L4 21.41c.39.39.9.59 1.41.59.51 0 1.02-.2 1.41-.59l7.78-7.78 2.81-2.81c.8-.78.8-2.07 0-2.86zM5.41 20L4 18.59l7.72-7.72 1.47 1.35L5.41 20z\"/>\n",
              "  </svg>\n",
              "      </button>\n",
              "      \n",
              "  <style>\n",
              "    .colab-df-container {\n",
              "      display:flex;\n",
              "      flex-wrap:wrap;\n",
              "      gap: 12px;\n",
              "    }\n",
              "\n",
              "    .colab-df-convert {\n",
              "      background-color: #E8F0FE;\n",
              "      border: none;\n",
              "      border-radius: 50%;\n",
              "      cursor: pointer;\n",
              "      display: none;\n",
              "      fill: #1967D2;\n",
              "      height: 32px;\n",
              "      padding: 0 0 0 0;\n",
              "      width: 32px;\n",
              "    }\n",
              "\n",
              "    .colab-df-convert:hover {\n",
              "      background-color: #E2EBFA;\n",
              "      box-shadow: 0px 1px 2px rgba(60, 64, 67, 0.3), 0px 1px 3px 1px rgba(60, 64, 67, 0.15);\n",
              "      fill: #174EA6;\n",
              "    }\n",
              "\n",
              "    [theme=dark] .colab-df-convert {\n",
              "      background-color: #3B4455;\n",
              "      fill: #D2E3FC;\n",
              "    }\n",
              "\n",
              "    [theme=dark] .colab-df-convert:hover {\n",
              "      background-color: #434B5C;\n",
              "      box-shadow: 0px 1px 3px 1px rgba(0, 0, 0, 0.15);\n",
              "      filter: drop-shadow(0px 1px 2px rgba(0, 0, 0, 0.3));\n",
              "      fill: #FFFFFF;\n",
              "    }\n",
              "  </style>\n",
              "\n",
              "      <script>\n",
              "        const buttonEl =\n",
              "          document.querySelector('#df-959ca255-5996-40e2-b8da-09a81ec6208e button.colab-df-convert');\n",
              "        buttonEl.style.display =\n",
              "          google.colab.kernel.accessAllowed ? 'block' : 'none';\n",
              "\n",
              "        async function convertToInteractive(key) {\n",
              "          const element = document.querySelector('#df-959ca255-5996-40e2-b8da-09a81ec6208e');\n",
              "          const dataTable =\n",
              "            await google.colab.kernel.invokeFunction('convertToInteractive',\n",
              "                                                     [key], {});\n",
              "          if (!dataTable) return;\n",
              "\n",
              "          const docLinkHtml = 'Like what you see? Visit the ' +\n",
              "            '<a target=\"_blank\" href=https://colab.research.google.com/notebooks/data_table.ipynb>data table notebook</a>'\n",
              "            + ' to learn more about interactive tables.';\n",
              "          element.innerHTML = '';\n",
              "          dataTable['output_type'] = 'display_data';\n",
              "          await google.colab.output.renderOutput(dataTable, element);\n",
              "          const docLink = document.createElement('div');\n",
              "          docLink.innerHTML = docLinkHtml;\n",
              "          element.appendChild(docLink);\n",
              "        }\n",
              "      </script>\n",
              "    </div>\n",
              "  </div>\n",
              "  "
            ]
          },
          "metadata": {},
          "execution_count": 25
        }
      ]
    },
    {
      "cell_type": "code",
      "source": [
        "#semana de gestación\n",
        "df.loc[df[\"sem_gest\"] == 99,:].head()"
      ],
      "metadata": {
        "colab": {
          "base_uri": "https://localhost:8080/",
          "height": 525
        },
        "id": "7T7kuzQBRjVs",
        "outputId": "2fa83084-efa4-4245-e143-fdcf2376c443"
      },
      "execution_count": 26,
      "outputs": [
        {
          "output_type": "execute_result",
          "data": {
            "text/plain": [
              "           sexo  sem_gest    anio        mes   p_emb  \\\n",
              "1738658  Hombre      99.0  2016.0      Enero  Simple   \n",
              "1738734  Hombre      99.0  2016.0       Mayo  Simple   \n",
              "1738890   Mujer      99.0  2016.0       Mayo  Simple   \n",
              "1739068  Hombre      99.0  2016.0      Marzo  Simple   \n",
              "1739131   Mujer      99.0  2016.0  Noviembre  Simple   \n",
              "\n",
              "                                   lugar_ocur  provincia     canton  \\\n",
              "1738658  Hospital_clinica_consultorio_privado     Guayas  Guayaquil   \n",
              "1738734  Hospital_clinica_consultorio_privado  Pichincha      Quito   \n",
              "1738890    Establecimiento_junta_beneficiaria     Guayas  Guayaquil   \n",
              "1739068                  Establecimiento_IESS      Azuay     Cuenca   \n",
              "1739131                  Establecimiento_IESS     Manabi      Manta   \n",
              "\n",
              "                                                 parroquia asis_por  ...  \\\n",
              "1738658  Guayaquil, cabecera cantonal y capital provincial   Medico  ...   \n",
              "1738734  Quito Distrito Metropolitano, cabecera cantona...   Medico  ...   \n",
              "1738890                                             Tarqui   Medico  ...   \n",
              "1739068     Cuenca, cabecera cantonal y capital provincial   Medico  ...   \n",
              "1739131                           Manta, cabecera cantonal   Medico  ...   \n",
              "\n",
              "        hij_nacm    etnia  est_civil  sabe_leer    niv_inst   prov_res  \\\n",
              "1738658      1.0  Mestiza     Casada         Si    Superior     Guayas   \n",
              "1738734      1.0  Mestiza     Casada         Si    Superior  Pichincha   \n",
              "1738890      1.0  Mestiza    Soltera         No     Ninguno   Los Rios   \n",
              "1739068      1.0  Mestiza      Unida         Si    Superior      Azuay   \n",
              "1739131      1.0  Mestiza      Unida         Si  Secundaria     Manabi   \n",
              "\n",
              "            cant_res       parr_res area_res Estado  \n",
              "1738658    Guayaquil         Tarqui   Urbana      0  \n",
              "1738734        Quito  La Magadalena   Urbana      0  \n",
              "1738890      Quevedo     San Carlos    Rural      0  \n",
              "1739068       Cuenca    Totoracocha   Urbana      0  \n",
              "1739131  Montecristi    El Colorado   Urbana      0  \n",
              "\n",
              "[5 rows x 25 columns]"
            ],
            "text/html": [
              "\n",
              "  <div id=\"df-7017fd33-fe5f-427b-b789-09f36060807f\">\n",
              "    <div class=\"colab-df-container\">\n",
              "      <div>\n",
              "<style scoped>\n",
              "    .dataframe tbody tr th:only-of-type {\n",
              "        vertical-align: middle;\n",
              "    }\n",
              "\n",
              "    .dataframe tbody tr th {\n",
              "        vertical-align: top;\n",
              "    }\n",
              "\n",
              "    .dataframe thead th {\n",
              "        text-align: right;\n",
              "    }\n",
              "</style>\n",
              "<table border=\"1\" class=\"dataframe\">\n",
              "  <thead>\n",
              "    <tr style=\"text-align: right;\">\n",
              "      <th></th>\n",
              "      <th>sexo</th>\n",
              "      <th>sem_gest</th>\n",
              "      <th>anio</th>\n",
              "      <th>mes</th>\n",
              "      <th>p_emb</th>\n",
              "      <th>lugar_ocur</th>\n",
              "      <th>provincia</th>\n",
              "      <th>canton</th>\n",
              "      <th>parroquia</th>\n",
              "      <th>asis_por</th>\n",
              "      <th>...</th>\n",
              "      <th>hij_nacm</th>\n",
              "      <th>etnia</th>\n",
              "      <th>est_civil</th>\n",
              "      <th>sabe_leer</th>\n",
              "      <th>niv_inst</th>\n",
              "      <th>prov_res</th>\n",
              "      <th>cant_res</th>\n",
              "      <th>parr_res</th>\n",
              "      <th>area_res</th>\n",
              "      <th>Estado</th>\n",
              "    </tr>\n",
              "  </thead>\n",
              "  <tbody>\n",
              "    <tr>\n",
              "      <th>1738658</th>\n",
              "      <td>Hombre</td>\n",
              "      <td>99.0</td>\n",
              "      <td>2016.0</td>\n",
              "      <td>Enero</td>\n",
              "      <td>Simple</td>\n",
              "      <td>Hospital_clinica_consultorio_privado</td>\n",
              "      <td>Guayas</td>\n",
              "      <td>Guayaquil</td>\n",
              "      <td>Guayaquil, cabecera cantonal y capital provincial</td>\n",
              "      <td>Medico</td>\n",
              "      <td>...</td>\n",
              "      <td>1.0</td>\n",
              "      <td>Mestiza</td>\n",
              "      <td>Casada</td>\n",
              "      <td>Si</td>\n",
              "      <td>Superior</td>\n",
              "      <td>Guayas</td>\n",
              "      <td>Guayaquil</td>\n",
              "      <td>Tarqui</td>\n",
              "      <td>Urbana</td>\n",
              "      <td>0</td>\n",
              "    </tr>\n",
              "    <tr>\n",
              "      <th>1738734</th>\n",
              "      <td>Hombre</td>\n",
              "      <td>99.0</td>\n",
              "      <td>2016.0</td>\n",
              "      <td>Mayo</td>\n",
              "      <td>Simple</td>\n",
              "      <td>Hospital_clinica_consultorio_privado</td>\n",
              "      <td>Pichincha</td>\n",
              "      <td>Quito</td>\n",
              "      <td>Quito Distrito Metropolitano, cabecera cantona...</td>\n",
              "      <td>Medico</td>\n",
              "      <td>...</td>\n",
              "      <td>1.0</td>\n",
              "      <td>Mestiza</td>\n",
              "      <td>Casada</td>\n",
              "      <td>Si</td>\n",
              "      <td>Superior</td>\n",
              "      <td>Pichincha</td>\n",
              "      <td>Quito</td>\n",
              "      <td>La Magadalena</td>\n",
              "      <td>Urbana</td>\n",
              "      <td>0</td>\n",
              "    </tr>\n",
              "    <tr>\n",
              "      <th>1738890</th>\n",
              "      <td>Mujer</td>\n",
              "      <td>99.0</td>\n",
              "      <td>2016.0</td>\n",
              "      <td>Mayo</td>\n",
              "      <td>Simple</td>\n",
              "      <td>Establecimiento_junta_beneficiaria</td>\n",
              "      <td>Guayas</td>\n",
              "      <td>Guayaquil</td>\n",
              "      <td>Tarqui</td>\n",
              "      <td>Medico</td>\n",
              "      <td>...</td>\n",
              "      <td>1.0</td>\n",
              "      <td>Mestiza</td>\n",
              "      <td>Soltera</td>\n",
              "      <td>No</td>\n",
              "      <td>Ninguno</td>\n",
              "      <td>Los Rios</td>\n",
              "      <td>Quevedo</td>\n",
              "      <td>San Carlos</td>\n",
              "      <td>Rural</td>\n",
              "      <td>0</td>\n",
              "    </tr>\n",
              "    <tr>\n",
              "      <th>1739068</th>\n",
              "      <td>Hombre</td>\n",
              "      <td>99.0</td>\n",
              "      <td>2016.0</td>\n",
              "      <td>Marzo</td>\n",
              "      <td>Simple</td>\n",
              "      <td>Establecimiento_IESS</td>\n",
              "      <td>Azuay</td>\n",
              "      <td>Cuenca</td>\n",
              "      <td>Cuenca, cabecera cantonal y capital provincial</td>\n",
              "      <td>Medico</td>\n",
              "      <td>...</td>\n",
              "      <td>1.0</td>\n",
              "      <td>Mestiza</td>\n",
              "      <td>Unida</td>\n",
              "      <td>Si</td>\n",
              "      <td>Superior</td>\n",
              "      <td>Azuay</td>\n",
              "      <td>Cuenca</td>\n",
              "      <td>Totoracocha</td>\n",
              "      <td>Urbana</td>\n",
              "      <td>0</td>\n",
              "    </tr>\n",
              "    <tr>\n",
              "      <th>1739131</th>\n",
              "      <td>Mujer</td>\n",
              "      <td>99.0</td>\n",
              "      <td>2016.0</td>\n",
              "      <td>Noviembre</td>\n",
              "      <td>Simple</td>\n",
              "      <td>Establecimiento_IESS</td>\n",
              "      <td>Manabi</td>\n",
              "      <td>Manta</td>\n",
              "      <td>Manta, cabecera cantonal</td>\n",
              "      <td>Medico</td>\n",
              "      <td>...</td>\n",
              "      <td>1.0</td>\n",
              "      <td>Mestiza</td>\n",
              "      <td>Unida</td>\n",
              "      <td>Si</td>\n",
              "      <td>Secundaria</td>\n",
              "      <td>Manabi</td>\n",
              "      <td>Montecristi</td>\n",
              "      <td>El Colorado</td>\n",
              "      <td>Urbana</td>\n",
              "      <td>0</td>\n",
              "    </tr>\n",
              "  </tbody>\n",
              "</table>\n",
              "<p>5 rows × 25 columns</p>\n",
              "</div>\n",
              "      <button class=\"colab-df-convert\" onclick=\"convertToInteractive('df-7017fd33-fe5f-427b-b789-09f36060807f')\"\n",
              "              title=\"Convert this dataframe to an interactive table.\"\n",
              "              style=\"display:none;\">\n",
              "        \n",
              "  <svg xmlns=\"http://www.w3.org/2000/svg\" height=\"24px\"viewBox=\"0 0 24 24\"\n",
              "       width=\"24px\">\n",
              "    <path d=\"M0 0h24v24H0V0z\" fill=\"none\"/>\n",
              "    <path d=\"M18.56 5.44l.94 2.06.94-2.06 2.06-.94-2.06-.94-.94-2.06-.94 2.06-2.06.94zm-11 1L8.5 8.5l.94-2.06 2.06-.94-2.06-.94L8.5 2.5l-.94 2.06-2.06.94zm10 10l.94 2.06.94-2.06 2.06-.94-2.06-.94-.94-2.06-.94 2.06-2.06.94z\"/><path d=\"M17.41 7.96l-1.37-1.37c-.4-.4-.92-.59-1.43-.59-.52 0-1.04.2-1.43.59L10.3 9.45l-7.72 7.72c-.78.78-.78 2.05 0 2.83L4 21.41c.39.39.9.59 1.41.59.51 0 1.02-.2 1.41-.59l7.78-7.78 2.81-2.81c.8-.78.8-2.07 0-2.86zM5.41 20L4 18.59l7.72-7.72 1.47 1.35L5.41 20z\"/>\n",
              "  </svg>\n",
              "      </button>\n",
              "      \n",
              "  <style>\n",
              "    .colab-df-container {\n",
              "      display:flex;\n",
              "      flex-wrap:wrap;\n",
              "      gap: 12px;\n",
              "    }\n",
              "\n",
              "    .colab-df-convert {\n",
              "      background-color: #E8F0FE;\n",
              "      border: none;\n",
              "      border-radius: 50%;\n",
              "      cursor: pointer;\n",
              "      display: none;\n",
              "      fill: #1967D2;\n",
              "      height: 32px;\n",
              "      padding: 0 0 0 0;\n",
              "      width: 32px;\n",
              "    }\n",
              "\n",
              "    .colab-df-convert:hover {\n",
              "      background-color: #E2EBFA;\n",
              "      box-shadow: 0px 1px 2px rgba(60, 64, 67, 0.3), 0px 1px 3px 1px rgba(60, 64, 67, 0.15);\n",
              "      fill: #174EA6;\n",
              "    }\n",
              "\n",
              "    [theme=dark] .colab-df-convert {\n",
              "      background-color: #3B4455;\n",
              "      fill: #D2E3FC;\n",
              "    }\n",
              "\n",
              "    [theme=dark] .colab-df-convert:hover {\n",
              "      background-color: #434B5C;\n",
              "      box-shadow: 0px 1px 3px 1px rgba(0, 0, 0, 0.15);\n",
              "      filter: drop-shadow(0px 1px 2px rgba(0, 0, 0, 0.3));\n",
              "      fill: #FFFFFF;\n",
              "    }\n",
              "  </style>\n",
              "\n",
              "      <script>\n",
              "        const buttonEl =\n",
              "          document.querySelector('#df-7017fd33-fe5f-427b-b789-09f36060807f button.colab-df-convert');\n",
              "        buttonEl.style.display =\n",
              "          google.colab.kernel.accessAllowed ? 'block' : 'none';\n",
              "\n",
              "        async function convertToInteractive(key) {\n",
              "          const element = document.querySelector('#df-7017fd33-fe5f-427b-b789-09f36060807f');\n",
              "          const dataTable =\n",
              "            await google.colab.kernel.invokeFunction('convertToInteractive',\n",
              "                                                     [key], {});\n",
              "          if (!dataTable) return;\n",
              "\n",
              "          const docLinkHtml = 'Like what you see? Visit the ' +\n",
              "            '<a target=\"_blank\" href=https://colab.research.google.com/notebooks/data_table.ipynb>data table notebook</a>'\n",
              "            + ' to learn more about interactive tables.';\n",
              "          element.innerHTML = '';\n",
              "          dataTable['output_type'] = 'display_data';\n",
              "          await google.colab.output.renderOutput(dataTable, element);\n",
              "          const docLink = document.createElement('div');\n",
              "          docLink.innerHTML = docLinkHtml;\n",
              "          element.appendChild(docLink);\n",
              "        }\n",
              "      </script>\n",
              "    </div>\n",
              "  </div>\n",
              "  "
            ]
          },
          "metadata": {},
          "execution_count": 26
        }
      ]
    },
    {
      "cell_type": "code",
      "source": [
        "#eliminamos las semanas de gestación igual a 99\n",
        "df = df.loc[df[\"sem_gest\"] != 99,:]"
      ],
      "metadata": {
        "id": "tMZTi5ZpR8nb"
      },
      "execution_count": 27,
      "outputs": []
    },
    {
      "cell_type": "code",
      "source": [
        "#eliminamos registros de datos menores a 2012\n",
        "df = df.loc[df[\"anio\"] > 2011,:]"
      ],
      "metadata": {
        "id": "TBIg5QMdSPGk"
      },
      "execution_count": 28,
      "outputs": []
    },
    {
      "cell_type": "code",
      "source": [
        "#verificamos\n",
        "df.describe()"
      ],
      "metadata": {
        "colab": {
          "base_uri": "https://localhost:8080/",
          "height": 300
        },
        "id": "FEeGfnrYSYos",
        "outputId": "d4d37a3b-6b76-4d63-9ffc-1f4cbf6dd41e"
      },
      "execution_count": 29,
      "outputs": [
        {
          "output_type": "execute_result",
          "data": {
            "text/plain": [
              "           sem_gest          anio      edad_mad      con_pren       hij_viv  \\\n",
              "count  1.750112e+06  1.750112e+06  1.750112e+06  1.750112e+06  1.750112e+06   \n",
              "mean   3.847421e+01  2.017665e+03  2.598880e+01  6.511612e+00  2.074794e+00   \n",
              "std    1.935346e+00  2.332011e+00  6.639058e+00  2.636669e+00  1.252710e+00   \n",
              "min    1.200000e+01  2.012000e+03  1.000000e+01  0.000000e+00  0.000000e+00   \n",
              "25%    3.800000e+01  2.016000e+03  2.100000e+01  5.000000e+00  1.000000e+00   \n",
              "50%    3.900000e+01  2.018000e+03  2.500000e+01  6.000000e+00  2.000000e+00   \n",
              "75%    4.000000e+01  2.020000e+03  3.100000e+01  8.000000e+00  3.000000e+00   \n",
              "max    4.200000e+01  2.021000e+03  5.600000e+01  2.500000e+01  1.900000e+01   \n",
              "\n",
              "           hij_vivm      hij_nacm        Estado  \n",
              "count  1.750112e+06  1.750112e+06  1.750112e+06  \n",
              "mean   2.675143e-02  3.250821e-02  9.934039e-01  \n",
              "std    1.993004e-01  2.152346e-01  8.094840e-02  \n",
              "min    0.000000e+00  0.000000e+00  0.000000e+00  \n",
              "25%    0.000000e+00  0.000000e+00  1.000000e+00  \n",
              "50%    0.000000e+00  0.000000e+00  1.000000e+00  \n",
              "75%    0.000000e+00  0.000000e+00  1.000000e+00  \n",
              "max    1.000000e+01  1.300000e+01  1.000000e+00  "
            ],
            "text/html": [
              "\n",
              "  <div id=\"df-9cdcb2d0-5737-4f1e-914f-7ce5123e10ac\">\n",
              "    <div class=\"colab-df-container\">\n",
              "      <div>\n",
              "<style scoped>\n",
              "    .dataframe tbody tr th:only-of-type {\n",
              "        vertical-align: middle;\n",
              "    }\n",
              "\n",
              "    .dataframe tbody tr th {\n",
              "        vertical-align: top;\n",
              "    }\n",
              "\n",
              "    .dataframe thead th {\n",
              "        text-align: right;\n",
              "    }\n",
              "</style>\n",
              "<table border=\"1\" class=\"dataframe\">\n",
              "  <thead>\n",
              "    <tr style=\"text-align: right;\">\n",
              "      <th></th>\n",
              "      <th>sem_gest</th>\n",
              "      <th>anio</th>\n",
              "      <th>edad_mad</th>\n",
              "      <th>con_pren</th>\n",
              "      <th>hij_viv</th>\n",
              "      <th>hij_vivm</th>\n",
              "      <th>hij_nacm</th>\n",
              "      <th>Estado</th>\n",
              "    </tr>\n",
              "  </thead>\n",
              "  <tbody>\n",
              "    <tr>\n",
              "      <th>count</th>\n",
              "      <td>1.750112e+06</td>\n",
              "      <td>1.750112e+06</td>\n",
              "      <td>1.750112e+06</td>\n",
              "      <td>1.750112e+06</td>\n",
              "      <td>1.750112e+06</td>\n",
              "      <td>1.750112e+06</td>\n",
              "      <td>1.750112e+06</td>\n",
              "      <td>1.750112e+06</td>\n",
              "    </tr>\n",
              "    <tr>\n",
              "      <th>mean</th>\n",
              "      <td>3.847421e+01</td>\n",
              "      <td>2.017665e+03</td>\n",
              "      <td>2.598880e+01</td>\n",
              "      <td>6.511612e+00</td>\n",
              "      <td>2.074794e+00</td>\n",
              "      <td>2.675143e-02</td>\n",
              "      <td>3.250821e-02</td>\n",
              "      <td>9.934039e-01</td>\n",
              "    </tr>\n",
              "    <tr>\n",
              "      <th>std</th>\n",
              "      <td>1.935346e+00</td>\n",
              "      <td>2.332011e+00</td>\n",
              "      <td>6.639058e+00</td>\n",
              "      <td>2.636669e+00</td>\n",
              "      <td>1.252710e+00</td>\n",
              "      <td>1.993004e-01</td>\n",
              "      <td>2.152346e-01</td>\n",
              "      <td>8.094840e-02</td>\n",
              "    </tr>\n",
              "    <tr>\n",
              "      <th>min</th>\n",
              "      <td>1.200000e+01</td>\n",
              "      <td>2.012000e+03</td>\n",
              "      <td>1.000000e+01</td>\n",
              "      <td>0.000000e+00</td>\n",
              "      <td>0.000000e+00</td>\n",
              "      <td>0.000000e+00</td>\n",
              "      <td>0.000000e+00</td>\n",
              "      <td>0.000000e+00</td>\n",
              "    </tr>\n",
              "    <tr>\n",
              "      <th>25%</th>\n",
              "      <td>3.800000e+01</td>\n",
              "      <td>2.016000e+03</td>\n",
              "      <td>2.100000e+01</td>\n",
              "      <td>5.000000e+00</td>\n",
              "      <td>1.000000e+00</td>\n",
              "      <td>0.000000e+00</td>\n",
              "      <td>0.000000e+00</td>\n",
              "      <td>1.000000e+00</td>\n",
              "    </tr>\n",
              "    <tr>\n",
              "      <th>50%</th>\n",
              "      <td>3.900000e+01</td>\n",
              "      <td>2.018000e+03</td>\n",
              "      <td>2.500000e+01</td>\n",
              "      <td>6.000000e+00</td>\n",
              "      <td>2.000000e+00</td>\n",
              "      <td>0.000000e+00</td>\n",
              "      <td>0.000000e+00</td>\n",
              "      <td>1.000000e+00</td>\n",
              "    </tr>\n",
              "    <tr>\n",
              "      <th>75%</th>\n",
              "      <td>4.000000e+01</td>\n",
              "      <td>2.020000e+03</td>\n",
              "      <td>3.100000e+01</td>\n",
              "      <td>8.000000e+00</td>\n",
              "      <td>3.000000e+00</td>\n",
              "      <td>0.000000e+00</td>\n",
              "      <td>0.000000e+00</td>\n",
              "      <td>1.000000e+00</td>\n",
              "    </tr>\n",
              "    <tr>\n",
              "      <th>max</th>\n",
              "      <td>4.200000e+01</td>\n",
              "      <td>2.021000e+03</td>\n",
              "      <td>5.600000e+01</td>\n",
              "      <td>2.500000e+01</td>\n",
              "      <td>1.900000e+01</td>\n",
              "      <td>1.000000e+01</td>\n",
              "      <td>1.300000e+01</td>\n",
              "      <td>1.000000e+00</td>\n",
              "    </tr>\n",
              "  </tbody>\n",
              "</table>\n",
              "</div>\n",
              "      <button class=\"colab-df-convert\" onclick=\"convertToInteractive('df-9cdcb2d0-5737-4f1e-914f-7ce5123e10ac')\"\n",
              "              title=\"Convert this dataframe to an interactive table.\"\n",
              "              style=\"display:none;\">\n",
              "        \n",
              "  <svg xmlns=\"http://www.w3.org/2000/svg\" height=\"24px\"viewBox=\"0 0 24 24\"\n",
              "       width=\"24px\">\n",
              "    <path d=\"M0 0h24v24H0V0z\" fill=\"none\"/>\n",
              "    <path d=\"M18.56 5.44l.94 2.06.94-2.06 2.06-.94-2.06-.94-.94-2.06-.94 2.06-2.06.94zm-11 1L8.5 8.5l.94-2.06 2.06-.94-2.06-.94L8.5 2.5l-.94 2.06-2.06.94zm10 10l.94 2.06.94-2.06 2.06-.94-2.06-.94-.94-2.06-.94 2.06-2.06.94z\"/><path d=\"M17.41 7.96l-1.37-1.37c-.4-.4-.92-.59-1.43-.59-.52 0-1.04.2-1.43.59L10.3 9.45l-7.72 7.72c-.78.78-.78 2.05 0 2.83L4 21.41c.39.39.9.59 1.41.59.51 0 1.02-.2 1.41-.59l7.78-7.78 2.81-2.81c.8-.78.8-2.07 0-2.86zM5.41 20L4 18.59l7.72-7.72 1.47 1.35L5.41 20z\"/>\n",
              "  </svg>\n",
              "      </button>\n",
              "      \n",
              "  <style>\n",
              "    .colab-df-container {\n",
              "      display:flex;\n",
              "      flex-wrap:wrap;\n",
              "      gap: 12px;\n",
              "    }\n",
              "\n",
              "    .colab-df-convert {\n",
              "      background-color: #E8F0FE;\n",
              "      border: none;\n",
              "      border-radius: 50%;\n",
              "      cursor: pointer;\n",
              "      display: none;\n",
              "      fill: #1967D2;\n",
              "      height: 32px;\n",
              "      padding: 0 0 0 0;\n",
              "      width: 32px;\n",
              "    }\n",
              "\n",
              "    .colab-df-convert:hover {\n",
              "      background-color: #E2EBFA;\n",
              "      box-shadow: 0px 1px 2px rgba(60, 64, 67, 0.3), 0px 1px 3px 1px rgba(60, 64, 67, 0.15);\n",
              "      fill: #174EA6;\n",
              "    }\n",
              "\n",
              "    [theme=dark] .colab-df-convert {\n",
              "      background-color: #3B4455;\n",
              "      fill: #D2E3FC;\n",
              "    }\n",
              "\n",
              "    [theme=dark] .colab-df-convert:hover {\n",
              "      background-color: #434B5C;\n",
              "      box-shadow: 0px 1px 3px 1px rgba(0, 0, 0, 0.15);\n",
              "      filter: drop-shadow(0px 1px 2px rgba(0, 0, 0, 0.3));\n",
              "      fill: #FFFFFF;\n",
              "    }\n",
              "  </style>\n",
              "\n",
              "      <script>\n",
              "        const buttonEl =\n",
              "          document.querySelector('#df-9cdcb2d0-5737-4f1e-914f-7ce5123e10ac button.colab-df-convert');\n",
              "        buttonEl.style.display =\n",
              "          google.colab.kernel.accessAllowed ? 'block' : 'none';\n",
              "\n",
              "        async function convertToInteractive(key) {\n",
              "          const element = document.querySelector('#df-9cdcb2d0-5737-4f1e-914f-7ce5123e10ac');\n",
              "          const dataTable =\n",
              "            await google.colab.kernel.invokeFunction('convertToInteractive',\n",
              "                                                     [key], {});\n",
              "          if (!dataTable) return;\n",
              "\n",
              "          const docLinkHtml = 'Like what you see? Visit the ' +\n",
              "            '<a target=\"_blank\" href=https://colab.research.google.com/notebooks/data_table.ipynb>data table notebook</a>'\n",
              "            + ' to learn more about interactive tables.';\n",
              "          element.innerHTML = '';\n",
              "          dataTable['output_type'] = 'display_data';\n",
              "          await google.colab.output.renderOutput(dataTable, element);\n",
              "          const docLink = document.createElement('div');\n",
              "          docLink.innerHTML = docLinkHtml;\n",
              "          element.appendChild(docLink);\n",
              "        }\n",
              "      </script>\n",
              "    </div>\n",
              "  </div>\n",
              "  "
            ]
          },
          "metadata": {},
          "execution_count": 29
        }
      ]
    },
    {
      "cell_type": "code",
      "source": [
        "##Guardamos el data frame en un archivo\n",
        "#df.to_csv('datos_nac_def_limpio.csv', index=False)"
      ],
      "metadata": {
        "id": "hAC9Tdp7SpSL"
      },
      "execution_count": 30,
      "outputs": []
    },
    {
      "cell_type": "markdown",
      "source": [
        "## Visualiación"
      ],
      "metadata": {
        "id": "o8iuUxNr_mfa"
      }
    },
    {
      "cell_type": "code",
      "source": [
        "import matplotlib.pyplot as plt\n",
        "import seaborn as sns\n",
        "import numpy as np"
      ],
      "metadata": {
        "id": "Tg41rorsBfw4"
      },
      "execution_count": 31,
      "outputs": []
    },
    {
      "cell_type": "code",
      "source": [
        "df.info()"
      ],
      "metadata": {
        "colab": {
          "base_uri": "https://localhost:8080/"
        },
        "id": "0pc-fzcyBGZA",
        "outputId": "4229b82d-a09a-4fd6-994d-84181b7a7cb0"
      },
      "execution_count": 32,
      "outputs": [
        {
          "output_type": "stream",
          "name": "stdout",
          "text": [
            "<class 'pandas.core.frame.DataFrame'>\n",
            "Int64Index: 1750112 entries, 0 to 1750127\n",
            "Data columns (total 25 columns):\n",
            " #   Column      Dtype  \n",
            "---  ------      -----  \n",
            " 0   sexo        object \n",
            " 1   sem_gest    float64\n",
            " 2   anio        float64\n",
            " 3   mes         object \n",
            " 4   p_emb       object \n",
            " 5   lugar_ocur  object \n",
            " 6   provincia   object \n",
            " 7   canton      object \n",
            " 8   parroquia   object \n",
            " 9   asis_por    object \n",
            " 10  area        object \n",
            " 11  edad_mad    float64\n",
            " 12  con_pren    float64\n",
            " 13  hij_viv     float64\n",
            " 14  hij_vivm    float64\n",
            " 15  hij_nacm    float64\n",
            " 16  etnia       object \n",
            " 17  est_civil   object \n",
            " 18  sabe_leer   object \n",
            " 19  niv_inst    object \n",
            " 20  prov_res    object \n",
            " 21  cant_res    object \n",
            " 22  parr_res    object \n",
            " 23  area_res    object \n",
            " 24  Estado      int64  \n",
            "dtypes: float64(7), int64(1), object(17)\n",
            "memory usage: 347.2+ MB\n"
          ]
        }
      ]
    },
    {
      "cell_type": "code",
      "source": [
        "dfDefunc = df.loc[df[\"Estado\"] == 0,:]\n",
        "dfNac = df.loc[df[\"Estado\"] == 1,:]"
      ],
      "metadata": {
        "id": "RpL1qVD2BZzw"
      },
      "execution_count": 33,
      "outputs": []
    },
    {
      "cell_type": "code",
      "source": [
        "plt.hist(dfDefunc[\"edad_mad\"], label = \"Defuncón\", bins=20, edgecolor = \"black\" , alpha = 0.5, density = True)\n",
        "plt.hist(dfNac[\"edad_mad\"], label= \"Nacimientos\", bins=20, edgecolor = \"black\" , alpha=0.5, density = True)\n",
        "plt.title(\"Distribución de la edad de las madres\")\n",
        "plt.xlabel(\"Edad de las madres\")\n",
        "plt.ylabel(\"Frecuencia\")\n",
        "#plt.xlim(left=2011, right=2016)\n",
        "plt.legend(loc=(1.02, 0));"
      ],
      "metadata": {
        "colab": {
          "base_uri": "https://localhost:8080/",
          "height": 472
        },
        "id": "LUBntfvMBcmY",
        "outputId": "3ed9df24-3352-4ff0-ca17-f0c67511e0bb"
      },
      "execution_count": 34,
      "outputs": [
        {
          "output_type": "display_data",
          "data": {
            "text/plain": [
              "<Figure size 640x480 with 1 Axes>"
            ],
            "image/png": "[encoded data removed]"
          },
          "metadata": {}
        }
      ]
    },
    {
      "cell_type": "markdown",
      "source": [
        "* En el gráfico de histograma de las edades de las madres que han dado a luz o han dado como resultado en una defunsión fetal, se puede observar que la mayoría de defunciones se da en madres entre los 17 y 35 años de edad. Mientras que un nacimiento se da en madres entre 20 y 30 años en la mayoría de los casos."
      ],
      "metadata": {
        "id": "uO7W98yrdHCF"
      }
    },
    {
      "cell_type": "code",
      "source": [
        "dfDefunc[\"asis_por\"].value_counts().plot(kind=\"barh\")\n",
        "plt.xlabel(\"Cantidad\")\n",
        "plt.title(\"Cantidad de defunciones atendidas por\")\n",
        "plt.xticks(rotation=90)\n",
        "plt.ylabel(\"Personal de asistencia\")\n",
        "plt.show()"
      ],
      "metadata": {
        "colab": {
          "base_uri": "https://localhost:8080/",
          "height": 502
        },
        "id": "pOdzjtuTB7w7",
        "outputId": "8adced5b-be66-40da-a6e9-2ff70f4ab875"
      },
      "execution_count": 46,
      "outputs": [
        {
          "output_type": "display_data",
          "data": {
            "text/plain": [
              "<Figure size 640x480 with 1 Axes>"
            ],
            "image/png": "[encoded data removed]"
          },
          "metadata": {}
        }
      ]
    },
    {
      "cell_type": "markdown",
      "source": [
        "* En el gráfico de barras de cantidad de defunciones se ve que en el caso de las defunciones Los médicos u obsteras son los que atienden estos casos, al haber una complicación de nacimiento se esperaría observar una mayor intervención de un obstetra, esto no se ve, tal vez es una pequeña muestra de que las defunciones tal vez se den debido a la falta de intervención de médicos especialistas."
      ],
      "metadata": {
        "id": "0jjj9ojFdl19"
      }
    },
    {
      "cell_type": "code",
      "source": [
        "dfNac[\"asis_por\"].value_counts().plot(kind=\"barh\")\n",
        "plt.xlabel(\"Cantidad\")\n",
        "plt.title(\"Cantidad de nacimientos atendidas por\")\n",
        "plt.xticks(rotation=90)\n",
        "plt.ylabel(\"Personal de asistencia\")\n",
        "plt.show()"
      ],
      "metadata": {
        "colab": {
          "base_uri": "https://localhost:8080/",
          "height": 480
        },
        "id": "2X5rxdtvYsvv",
        "outputId": "b1d3bf46-ae10-4572-b7e8-aa5d984732a8"
      },
      "execution_count": 47,
      "outputs": [
        {
          "output_type": "display_data",
          "data": {
            "text/plain": [
              "<Figure size 640x480 with 1 Axes>"
            ],
            "image/png": "[encoded data removed]"
          },
          "metadata": {}
        }
      ]
    },
    {
      "cell_type": "markdown",
      "source": [
        "* En el gráfico de cantida de nacimientos registrados se puede ver que en el caso de los nacimientos también se repite el mismo patrón que en el caso de las defunciones, pero esta vez las atenciones por parte de obstetras son mayores en número, de hecho mucho mayores."
      ],
      "metadata": {
        "id": "FWvZJPNceOn0"
      }
    },
    {
      "cell_type": "code",
      "source": [
        "fig, axes = plt.subplots(1,1, figsize=(6,6))\n",
        "axes.scatter(df['edad_mad'], df['hij_nacm'], c = df['Estado'], alpha=0.15)\n",
        "axes.set_xlabel('Edad de la madre')\n",
        "axes.set_ylabel('Número de hijos nacidos muertos')"
      ],
      "metadata": {
        "colab": {
          "base_uri": "https://localhost:8080/",
          "height": 560
        },
        "id": "g2APyP_kEXuf",
        "outputId": "703b15c3-1fa8-48ef-9df2-29a483fa5bea"
      },
      "execution_count": 40,
      "outputs": [
        {
          "output_type": "execute_result",
          "data": {
            "text/plain": [
              "Text(0, 0.5, 'Número de hijos nacidos muertos')"
            ]
          },
          "metadata": {},
          "execution_count": 40
        },
        {
          "output_type": "display_data",
          "data": {
            "text/plain": [
              "<Figure size 600x600 with 1 Axes>"
            ],
            "image/png": "[encoded data removed]"
          },
          "metadata": {}
        }
      ]
    },
    {
      "cell_type": "markdown",
      "source": [
        "* En el gráfico de disperción de la parte superior se puede ver las edades de las madres vs el número de hijos muertos, se puede observar como hay una segmentación para el caso de las defunciones, ya que estos se encuentran concentrados entre los número 1 y 3 de hijos nacidos muertos. Esto tal vez evidencia que las madres que no pueden dar a luz ya tienen un historial de estos casos."
      ],
      "metadata": {
        "id": "AEacxfMseook"
      }
    },
    {
      "cell_type": "code",
      "source": [
        "fig, axes = plt.subplots(nrows = 1, ncols = 1, figsize = (8,5))\n",
        "boxplots = axes.boxplot([dfDefunc[\"con_pren\"],dfNac[\"con_pren\"]],\n",
        "           notch = True,\n",
        "           labels=['Defunción', 'Nacimientos'],\n",
        "           widths = .7,\n",
        "           patch_artist=True,\n",
        "           medianprops = dict(linestyle='-', linewidth=2, color='Yellow'),\n",
        "           boxprops = dict(linestyle='--', linewidth=2, color='Black', facecolor = 'blue', alpha = .4)\n",
        "          );\n",
        "# The more you understand any library, the more you can do\n",
        "boxplot1 = boxplots['boxes'][0]\n",
        "boxplot1.set_facecolor('red')\n",
        "#plt.xlabel('diagnosis', fontsize = 20);\n",
        "plt.ylabel('Controle prenatales', fontsize = 15);\n",
        "plt.xticks(fontsize = 16);\n",
        "plt.yticks(fontsize = 16);\n",
        "     "
      ],
      "metadata": {
        "colab": {
          "base_uri": "https://localhost:8080/",
          "height": 451
        },
        "id": "gN3flNGLdaYD",
        "outputId": "e556c984-bc58-4437-d408-17112f4ece21"
      },
      "execution_count": 44,
      "outputs": [
        {
          "output_type": "display_data",
          "data": {
            "text/plain": [
              "<Figure size 800x500 with 1 Axes>"
            ],
            "image/png": "[encoded data removed]"
          },
          "metadata": {}
        }
      ]
    },
    {
      "cell_type": "markdown",
      "source": [
        "* Por último, el diagrama de caja y bigotes que se indica nos muestra el número de controles prenatales en los casos de defunciones y nacimientos. Se puede observar que la media de las defunciones se encuentra mas abajo, esto quiere decir que en el caso de defunciones fetales no hay un control prenatal seguido o de mayor número, esto es importante para que no exista complicaciones luego. Se puede observar una presentación en este link https://udlaec-my.sharepoint.com/personal/telmo_iza_udla_edu_ec/Documents/Recordings/Meeting%20with%20(Estudiante)%20Telmo%20Saul%20Iza%20Farinango-20230506_220345-Meeting%20Recording.mp4?web=1"
      ],
      "metadata": {
        "id": "RwsEFC2YfE40"
      }
    }
  ]
}
