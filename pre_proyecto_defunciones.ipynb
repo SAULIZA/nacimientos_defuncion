{
  "nbformat": 4,
  "nbformat_minor": 0,
  "metadata": {
    "colab": {
      "provenance": [],
      "authorship_tag": "ABX9TyP6vrbFVyoNfeHXNqy9Sj9G",
      "include_colab_link": true
    },
    "kernelspec": {
      "name": "python3",
      "display_name": "Python 3"
    },
    "language_info": {
      "name": "python"
    }
  },
  "cells": [
    {
      "cell_type": "markdown",
      "metadata": {
        "id": "view-in-github",
        "colab_type": "text"
      },
      "source": [
        "<a href=\"https://colab.research.google.com/github/SAULIZA/nacimientos_defuncion/blob/main/pre_proyecto_defunciones.ipynb\" target=\"_parent\"><img src=\"https://colab.research.google.com/assets/colab-badge.svg\" alt=\"Open In Colab\"/></a>"
      ]
    },
    {
      "cell_type": "markdown",
      "source": [
        "#Defunciones"
      ],
      "metadata": {
        "id": "JFhKFGlSVnSs"
      }
    },
    {
      "cell_type": "code",
      "execution_count": null,
      "metadata": {
        "colab": {
          "base_uri": "https://localhost:8080/"
        },
        "id": "NSM8uYqkUIe6",
        "outputId": "fa3c8ea1-b17e-4e12-f319-b2593ac2ecd0"
      },
      "outputs": [
        {
          "output_type": "stream",
          "name": "stdout",
          "text": [
            "Drive already mounted at /content/drive; to attempt to forcibly remount, call drive.mount(\"/content/drive\", force_remount=True).\n"
          ]
        }
      ],
      "source": [
        "from google.colab import drive\n",
        "drive.mount(\"/content/drive\")"
      ]
    },
    {
      "cell_type": "code",
      "source": [
        "!pip install pyreadstat"
      ],
      "metadata": {
        "colab": {
          "base_uri": "https://localhost:8080/"
        },
        "id": "hQjFqCGhURML",
        "outputId": "05b8dcef-3cd4-4ab8-ab1b-e2d34be4d737"
      },
      "execution_count": null,
      "outputs": [
        {
          "output_type": "stream",
          "name": "stdout",
          "text": [
            "Looking in indexes: https://pypi.org/simple, https://us-python.pkg.dev/colab-wheels/public/simple/\n",
            "Collecting pyreadstat\n",
            "  Downloading pyreadstat-1.2.1-cp310-cp310-manylinux_2_17_x86_64.manylinux2014_x86_64.whl (2.7 MB)\n",
            "\u001b[2K     \u001b[90m━━━━━━━━━━━━━━━━━━━━━━━━━━━━━━━━━━━━━━━━\u001b[0m \u001b[32m2.7/2.7 MB\u001b[0m \u001b[31m36.0 MB/s\u001b[0m eta \u001b[36m0:00:00\u001b[0m\n",
            "\u001b[?25hRequirement already satisfied: pandas>=1.2.0 in /usr/local/lib/python3.10/dist-packages (from pyreadstat) (1.5.3)\n",
            "Requirement already satisfied: numpy>=1.21.0 in /usr/local/lib/python3.10/dist-packages (from pandas>=1.2.0->pyreadstat) (1.22.4)\n",
            "Requirement already satisfied: python-dateutil>=2.8.1 in /usr/local/lib/python3.10/dist-packages (from pandas>=1.2.0->pyreadstat) (2.8.2)\n",
            "Requirement already satisfied: pytz>=2020.1 in /usr/local/lib/python3.10/dist-packages (from pandas>=1.2.0->pyreadstat) (2022.7.1)\n",
            "Requirement already satisfied: six>=1.5 in /usr/local/lib/python3.10/dist-packages (from python-dateutil>=2.8.1->pandas>=1.2.0->pyreadstat) (1.16.0)\n",
            "Installing collected packages: pyreadstat\n",
            "Successfully installed pyreadstat-1.2.1\n"
          ]
        }
      ]
    },
    {
      "cell_type": "code",
      "source": [
        "import pandas as pd\n",
        "import numpy as np\n",
        "import pyreadstat "
      ],
      "metadata": {
        "id": "t0CdqVIuUWFz"
      },
      "execution_count": null,
      "outputs": []
    },
    {
      "cell_type": "markdown",
      "source": [
        "## Lectura de datos"
      ],
      "metadata": {
        "id": "3pgQLKZA_Lzi"
      }
    },
    {
      "cell_type": "code",
      "source": [
        "df1 = pd.read_csv(\"/content/drive/MyDrive/Codificación de Dojo/Proyecto2/defuncion_fetal/EDFetal_2012.dat\",sep='\\t')"
      ],
      "metadata": {
        "id": "X2MTgeRWUbzL"
      },
      "execution_count": null,
      "outputs": []
    },
    {
      "cell_type": "code",
      "source": [
        "df1.duplicated().sum()"
      ],
      "metadata": {
        "colab": {
          "base_uri": "https://localhost:8080/"
        },
        "id": "QWRXj5VIGoWj",
        "outputId": "b2a595e1-d8ce-4918-a77b-8d643bb607cd"
      },
      "execution_count": null,
      "outputs": [
        {
          "output_type": "execute_result",
          "data": {
            "text/plain": [
              "0"
            ]
          },
          "metadata": {},
          "execution_count": 6
        }
      ]
    },
    {
      "cell_type": "code",
      "source": [
        "df2, meta = pyreadstat.read_sav('/content/drive/MyDrive/Codificación de Dojo/Proyecto2/defuncion_fetal/Base_Defunciones_Fetales_2013.sav')\n",
        "df2 = pd.DataFrame(df2)"
      ],
      "metadata": {
        "id": "Wpoq32EaVvth"
      },
      "execution_count": null,
      "outputs": []
    },
    {
      "cell_type": "code",
      "source": [
        "df2.duplicated().sum()"
      ],
      "metadata": {
        "colab": {
          "base_uri": "https://localhost:8080/"
        },
        "id": "ETI2D5pkHqoT",
        "outputId": "fb2b2226-20ce-4b99-96ce-3e73a15dc99f"
      },
      "execution_count": null,
      "outputs": [
        {
          "output_type": "execute_result",
          "data": {
            "text/plain": [
              "0"
            ]
          },
          "metadata": {},
          "execution_count": 8
        }
      ]
    },
    {
      "cell_type": "code",
      "source": [
        "df3, meta = pyreadstat.read_sav('/content/drive/MyDrive/Codificación de Dojo/Proyecto2/defuncion_fetal/EDF_2014.sav')\n",
        "df3 = pd.DataFrame(df3)"
      ],
      "metadata": {
        "id": "raavoTLlV3Bq"
      },
      "execution_count": null,
      "outputs": []
    },
    {
      "cell_type": "code",
      "source": [
        "df3.duplicated().sum()"
      ],
      "metadata": {
        "colab": {
          "base_uri": "https://localhost:8080/"
        },
        "id": "GhQWvmaoH3tz",
        "outputId": "807f5a6a-fae9-4d30-ea4f-b9d5134bb479"
      },
      "execution_count": null,
      "outputs": [
        {
          "output_type": "execute_result",
          "data": {
            "text/plain": [
              "19"
            ]
          },
          "metadata": {},
          "execution_count": 10
        }
      ]
    },
    {
      "cell_type": "code",
      "source": [
        "df3 = df3.drop_duplicates()"
      ],
      "metadata": {
        "id": "UUlKCAF2H60T"
      },
      "execution_count": null,
      "outputs": []
    },
    {
      "cell_type": "code",
      "source": [
        "df4, meta = pyreadstat.read_sav('/content/drive/MyDrive/Codificación de Dojo/Proyecto2/defuncion_fetal/EDF_2015.sav')\n",
        "df4 = pd.DataFrame(df4)"
      ],
      "metadata": {
        "id": "6SvwplxeV9wC"
      },
      "execution_count": null,
      "outputs": []
    },
    {
      "cell_type": "code",
      "source": [
        "df4.duplicated().sum()"
      ],
      "metadata": {
        "colab": {
          "base_uri": "https://localhost:8080/"
        },
        "id": "LqmJQyT-ICjT",
        "outputId": "cc9c6d4d-5089-416f-f925-d7180a6476a9"
      },
      "execution_count": null,
      "outputs": [
        {
          "output_type": "execute_result",
          "data": {
            "text/plain": [
              "30"
            ]
          },
          "metadata": {},
          "execution_count": 13
        }
      ]
    },
    {
      "cell_type": "code",
      "source": [
        "df4 = df4.drop_duplicates()"
      ],
      "metadata": {
        "id": "eLmNPTEHIE9i"
      },
      "execution_count": null,
      "outputs": []
    },
    {
      "cell_type": "code",
      "source": [
        "df5 = pd.read_csv(\"/content/drive/MyDrive/Codificación de Dojo/Proyecto2/defuncion_fetal/EDF_2016.csv\", encoding='ISO-8859-1')"
      ],
      "metadata": {
        "id": "ehc7DZoDWEKr"
      },
      "execution_count": null,
      "outputs": []
    },
    {
      "cell_type": "code",
      "source": [
        "df5.duplicated().sum()"
      ],
      "metadata": {
        "colab": {
          "base_uri": "https://localhost:8080/"
        },
        "id": "vtFjUi0jIIY6",
        "outputId": "ad41dad7-cde0-474c-edbf-f8c12ed339eb"
      },
      "execution_count": null,
      "outputs": [
        {
          "output_type": "execute_result",
          "data": {
            "text/plain": [
              "27"
            ]
          },
          "metadata": {},
          "execution_count": 16
        }
      ]
    },
    {
      "cell_type": "code",
      "source": [
        "df5 = df5.drop_duplicates()"
      ],
      "metadata": {
        "id": "5o_Qk2ioINzy"
      },
      "execution_count": null,
      "outputs": []
    },
    {
      "cell_type": "code",
      "source": [
        "df6 = pd.read_csv(\"/content/drive/MyDrive/Codificación de Dojo/Proyecto2/defuncion_fetal/EDF_2017.csv\", encoding='ISO-8859-1')"
      ],
      "metadata": {
        "id": "Mtoe3OnJXIHz"
      },
      "execution_count": null,
      "outputs": []
    },
    {
      "cell_type": "code",
      "source": [
        "df6.duplicated().sum()"
      ],
      "metadata": {
        "colab": {
          "base_uri": "https://localhost:8080/"
        },
        "id": "QesJgR5hISgD",
        "outputId": "78fae166-3f78-4470-a3e4-c429629e44fd"
      },
      "execution_count": null,
      "outputs": [
        {
          "output_type": "execute_result",
          "data": {
            "text/plain": [
              "25"
            ]
          },
          "metadata": {},
          "execution_count": 19
        }
      ]
    },
    {
      "cell_type": "code",
      "source": [
        "df6 = df6.drop_duplicates()"
      ],
      "metadata": {
        "id": "ITxBEoEPIUxz"
      },
      "execution_count": null,
      "outputs": []
    },
    {
      "cell_type": "code",
      "source": [
        "df7 = pd.read_excel(\"/content/drive/MyDrive/Codificación de Dojo/Proyecto2/defuncion_fetal/2018.xlsx\")"
      ],
      "metadata": {
        "id": "Xxo72zSeXuOz"
      },
      "execution_count": null,
      "outputs": []
    },
    {
      "cell_type": "code",
      "source": [
        "df7.duplicated().sum()"
      ],
      "metadata": {
        "colab": {
          "base_uri": "https://localhost:8080/"
        },
        "id": "qn7dtVZzIY86",
        "outputId": "b835148e-9685-4028-eae4-b1feea4b7b0f"
      },
      "execution_count": null,
      "outputs": [
        {
          "output_type": "execute_result",
          "data": {
            "text/plain": [
              "25"
            ]
          },
          "metadata": {},
          "execution_count": 22
        }
      ]
    },
    {
      "cell_type": "code",
      "source": [
        "df7 = df7.drop_duplicates()"
      ],
      "metadata": {
        "id": "bs7TzLUCIbez"
      },
      "execution_count": null,
      "outputs": []
    },
    {
      "cell_type": "code",
      "source": [
        "df8 = pd.read_excel(\"/content/drive/MyDrive/Codificación de Dojo/Proyecto2/defuncion_fetal/2019.xlsx\")"
      ],
      "metadata": {
        "id": "g5qVC4kMYzhK"
      },
      "execution_count": null,
      "outputs": []
    },
    {
      "cell_type": "code",
      "source": [
        "df8.duplicated().sum()"
      ],
      "metadata": {
        "colab": {
          "base_uri": "https://localhost:8080/"
        },
        "id": "BCUK0DS5IfP7",
        "outputId": "144d644b-213c-4da0-d897-5a7befaf940b"
      },
      "execution_count": null,
      "outputs": [
        {
          "output_type": "execute_result",
          "data": {
            "text/plain": [
              "18"
            ]
          },
          "metadata": {},
          "execution_count": 25
        }
      ]
    },
    {
      "cell_type": "code",
      "source": [
        "df8 = df8.drop_duplicates()"
      ],
      "metadata": {
        "id": "M7y1zuZjIiFj"
      },
      "execution_count": null,
      "outputs": []
    },
    {
      "cell_type": "code",
      "source": [
        "df9 = pd.read_excel(\"/content/drive/MyDrive/Codificación de Dojo/Proyecto2/defuncion_fetal/2020.xlsx\")"
      ],
      "metadata": {
        "id": "_DQTV7Ipcp4p"
      },
      "execution_count": null,
      "outputs": []
    },
    {
      "cell_type": "code",
      "source": [
        "df9.duplicated().sum()"
      ],
      "metadata": {
        "colab": {
          "base_uri": "https://localhost:8080/"
        },
        "id": "HdptuLgBIk1L",
        "outputId": "27af5de7-5efa-4a41-c06a-f6910e34fa40"
      },
      "execution_count": null,
      "outputs": [
        {
          "output_type": "execute_result",
          "data": {
            "text/plain": [
              "7"
            ]
          },
          "metadata": {},
          "execution_count": 28
        }
      ]
    },
    {
      "cell_type": "code",
      "source": [
        "df9 = df9.drop_duplicates()"
      ],
      "metadata": {
        "id": "L9dfuXKrInn7"
      },
      "execution_count": null,
      "outputs": []
    },
    {
      "cell_type": "code",
      "source": [
        "df10 = pd.read_excel(\"/content/drive/MyDrive/Codificación de Dojo/Proyecto2/defuncion_fetal/2021.xlsx\")"
      ],
      "metadata": {
        "id": "vuKfSSA0wgER"
      },
      "execution_count": null,
      "outputs": []
    },
    {
      "cell_type": "code",
      "source": [
        "df10.duplicated().sum()"
      ],
      "metadata": {
        "colab": {
          "base_uri": "https://localhost:8080/"
        },
        "id": "SsvPoII8Iqvj",
        "outputId": "26c26e1e-9dd2-4cfa-86d0-e88b861be689"
      },
      "execution_count": null,
      "outputs": [
        {
          "output_type": "execute_result",
          "data": {
            "text/plain": [
              "9"
            ]
          },
          "metadata": {},
          "execution_count": 31
        }
      ]
    },
    {
      "cell_type": "code",
      "source": [
        "df10 = df10.drop_duplicates()"
      ],
      "metadata": {
        "id": "gmjRYfl_ItnT"
      },
      "execution_count": null,
      "outputs": []
    },
    {
      "cell_type": "code",
      "source": [
        "df2 = df2.drop(columns=[\"folio\",\"dia_insc\"])"
      ],
      "metadata": {
        "id": "4qQSAbXVycno"
      },
      "execution_count": null,
      "outputs": []
    },
    {
      "cell_type": "code",
      "source": [
        "pd.set_option('display.max_columns', None)"
      ],
      "metadata": {
        "id": "Yxq5anv89gm7"
      },
      "execution_count": null,
      "outputs": []
    },
    {
      "cell_type": "markdown",
      "source": [
        "## Selección de columnas"
      ],
      "metadata": {
        "id": "bTxbtmgg_Qmq"
      }
    },
    {
      "cell_type": "code",
      "source": [
        "names1 = ['prov_insc', 'cant_insc', 'parr_insc', 'anio_insc','mes_insc', 'sexo', 'sem_gest', 'anio_def', 'mes_def','asis_por', 'p_emb', 'lugar_ocur', 'prov_fall', 'cant_fall','parr_fall', 'area_fall', 'cau_10ar', 'edad_mad','con_pren', 'hij_vivos', 'hij_vivm', 'hij_nacm', 'p_etnica', 'est_civil','sabe_leer', 'niv_inst', 'prov_res', 'cant_res', 'parr_res','area_res']\n",
        "df1 = df1.loc[:, names1]"
      ],
      "metadata": {
        "id": "QUhFfPAa7gXd"
      },
      "execution_count": null,
      "outputs": []
    },
    {
      "cell_type": "code",
      "source": [
        "names2 = ['prov_insc', 'cant_insc', 'parr_insc', 'anio_insc',\n",
        "       'mes_insc', 'sexo', 'sem_gest', 'anio_fall',\n",
        "       'mes_fall', 'asis_por', 'p_emb', 'lugar_ocur',\n",
        "       'prov_fall', 'cant_fall', 'parr_fall', 'area_fall', 'causa_fetal',\n",
        "       'edad_mad','hij_viv', 'hij_vivm', 'hij_nacm', 'con_pren', 'etnia', 'est_civil',\n",
        "       'sabe_leer', 'niv_inst', 'prov_res', 'cant_res', 'parr_res',\n",
        "       'area_res']\n",
        "df2 = df2.loc[:, names2]"
      ],
      "metadata": {
        "id": "Et9HBWMb_k8B"
      },
      "execution_count": null,
      "outputs": []
    },
    {
      "cell_type": "code",
      "source": [
        "df3 = df3.loc[:, names2]"
      ],
      "metadata": {
        "id": "FDq3py9jAlLp"
      },
      "execution_count": null,
      "outputs": []
    },
    {
      "cell_type": "code",
      "source": [
        "df4 = df4.loc[:, names2]"
      ],
      "metadata": {
        "id": "8NjMwjadAudA"
      },
      "execution_count": null,
      "outputs": []
    },
    {
      "cell_type": "code",
      "source": [
        "df5 = df5.loc[:, names2]"
      ],
      "metadata": {
        "id": "9cYCuuhhA2dw"
      },
      "execution_count": null,
      "outputs": []
    },
    {
      "cell_type": "code",
      "source": [
        "df6 = df6.loc[:, names2]"
      ],
      "metadata": {
        "id": "nKQrnJBjA6zI"
      },
      "execution_count": null,
      "outputs": []
    },
    {
      "cell_type": "code",
      "source": [
        "df7 = df7.loc[:, names2]"
      ],
      "metadata": {
        "id": "O2og0GN6A-7g"
      },
      "execution_count": null,
      "outputs": []
    },
    {
      "cell_type": "code",
      "source": [
        "df8 = df8.loc[:, names2]"
      ],
      "metadata": {
        "id": "7fE85K8-BCrQ"
      },
      "execution_count": null,
      "outputs": []
    },
    {
      "cell_type": "code",
      "source": [
        "df9 = df9.loc[:, names2]"
      ],
      "metadata": {
        "id": "NrNjTY6aBHT4"
      },
      "execution_count": null,
      "outputs": []
    },
    {
      "cell_type": "code",
      "source": [
        "df10 = df10.loc[:, names2]"
      ],
      "metadata": {
        "id": "JDhyhlsbBOI4"
      },
      "execution_count": null,
      "outputs": []
    },
    {
      "cell_type": "markdown",
      "source": [
        "## Corrección de nombre de columnas"
      ],
      "metadata": {
        "id": "IUbJ01NRBy6f"
      }
    },
    {
      "cell_type": "code",
      "source": [
        "df1 = df1.rename(columns={\"anio_def\":\"anio_fall\",\"mes_def\":\"mes_fall\",\"hij_vivos\":\"hij_viv\",\"p_etnica\":\"etnia\",\"cau_10ar\":\"causa_fetal\"})"
      ],
      "metadata": {
        "id": "wSJh4dQZB29g"
      },
      "execution_count": null,
      "outputs": []
    },
    {
      "cell_type": "markdown",
      "source": [
        "## Decodificación de datos de los años 2011 hasta 2014"
      ],
      "metadata": {
        "id": "fpTptFncTMAj"
      }
    },
    {
      "cell_type": "code",
      "source": [
        "#concatenación de datos del año 2012 hasta 2015\n",
        "df_def1 = pd.concat([df1, df2, df3, df4])"
      ],
      "metadata": {
        "id": "hisptjPRD6CH"
      },
      "execution_count": null,
      "outputs": []
    },
    {
      "cell_type": "code",
      "source": [
        "df_def1.loc[df_def1[\"causa_fetal\"].str.contains(r'\\bneonatal\\b', regex=True),:][\"causa_fetal\"].value_counts()"
      ],
      "metadata": {
        "colab": {
          "base_uri": "https://localhost:8080/"
        },
        "id": "OiSRzhBvgwld",
        "outputId": "6d342a7a-3f38-44a9-df41-54c135ffc9bf"
      },
      "execution_count": null,
      "outputs": [
        {
          "output_type": "execute_result",
          "data": {
            "text/plain": [
              "Series([], Name: causa_fetal, dtype: int64)"
            ]
          },
          "metadata": {},
          "execution_count": 47
        }
      ]
    },
    {
      "cell_type": "code",
      "source": [
        "#cambiar todos el data frame a float\n",
        "df_def1[\"prov_insc\"] = df_def1[\"prov_insc\"].astype(int)\n",
        "df_def1[\"prov_fall\"] = df_def1[\"prov_fall\"].astype(int)\n",
        "df_def1[\"prov_res\"] = df_def1[\"prov_res\"].astype(int)\n",
        "df_def1[\"cant_insc\"] = df_def1[\"cant_insc\"].astype(int)\n",
        "df_def1[\"cant_fall\"] = df_def1[\"cant_fall\"].astype(int)\n",
        "df_def1[\"cant_res\"] = df_def1[\"cant_res\"].astype(int)\n",
        "df_def1[\"parr_insc\"] = df_def1[\"parr_insc\"].astype(int)\n",
        "df_def1[\"parr_fall\"] = df_def1[\"parr_fall\"].astype(int)\n",
        "df_def1[\"parr_res\"] = df_def1[\"parr_res\"].astype(int)"
      ],
      "metadata": {
        "id": "Btu6LyDigft7"
      },
      "execution_count": null,
      "outputs": []
    },
    {
      "cell_type": "code",
      "source": [
        "provi = pd.read_excel(\"/content/drive/MyDrive/Codificación de Dojo/Proyecto2/provincia.xlsx\", index_col=False)\n",
        "provi = provi.set_index(\"codigo\")\n",
        "dicc_prov = provi.to_dict()['provincia']"
      ],
      "metadata": {
        "id": "ZyWt4_P4Ejgn"
      },
      "execution_count": null,
      "outputs": []
    },
    {
      "cell_type": "code",
      "source": [
        "canto = pd.read_excel(\"/content/drive/MyDrive/Codificación de Dojo/Proyecto2/canton.xlsx\")\n",
        "canto = canto.set_index(\"codigo\")\n",
        "dicc_canto = canto.to_dict()['canton']"
      ],
      "metadata": {
        "id": "7eitSFt_UG2a"
      },
      "execution_count": null,
      "outputs": []
    },
    {
      "cell_type": "code",
      "source": [
        "parro = pd.read_excel(\"/content/drive/MyDrive/Codificación de Dojo/Proyecto2/parroquia.xlsx\")\n",
        "parro = parro.set_index(\"codigo\")\n",
        "dicc_parro = parro.to_dict()['parroquia']"
      ],
      "metadata": {
        "id": "6ovkQmNFUJq6"
      },
      "execution_count": null,
      "outputs": []
    },
    {
      "cell_type": "markdown",
      "source": [
        "Provincia, canton  y parroquia"
      ],
      "metadata": {
        "id": "LnISnsvrVbkK"
      }
    },
    {
      "cell_type": "code",
      "source": [
        "df_def1[\"prov_insc\"] = df_def1[\"prov_insc\"].replace(dicc_prov)\n",
        "df_def1[\"prov_fall\"] = df_def1[\"prov_fall\"].replace(dicc_prov)\n",
        "df_def1[\"prov_res\"] = df_def1[\"prov_res\"].replace(dicc_prov)"
      ],
      "metadata": {
        "id": "t_nMJI4lUe2C"
      },
      "execution_count": null,
      "outputs": []
    },
    {
      "cell_type": "code",
      "source": [
        "df_def1[\"cant_insc\"] = df_def1[\"cant_insc\"].replace(dicc_canto)\n",
        "df_def1[\"cant_fall\"] = df_def1[\"cant_fall\"].replace(dicc_canto)\n",
        "df_def1[\"cant_res\"] = df_def1[\"cant_res\"].replace(dicc_canto)"
      ],
      "metadata": {
        "id": "dGclcRvUU126"
      },
      "execution_count": null,
      "outputs": []
    },
    {
      "cell_type": "code",
      "source": [
        "df_def1[\"parr_insc\"] = df_def1[\"parr_insc\"].replace(dicc_parro)\n",
        "df_def1[\"parr_fall\"] = df_def1[\"parr_fall\"].replace(dicc_parro)\n",
        "df_def1[\"parr_res\"] = df_def1[\"parr_res\"].replace(dicc_parro)"
      ],
      "metadata": {
        "id": "d0UI4E2iVF4h"
      },
      "execution_count": null,
      "outputs": []
    },
    {
      "cell_type": "markdown",
      "source": [
        "Sexo y mes"
      ],
      "metadata": {
        "id": "n37CEiMRVgJR"
      }
    },
    {
      "cell_type": "code",
      "source": [
        "df_def1[\"sexo\"] = df_def1[\"sexo\"].replace({1:\"Hombre\",2:\"Mujer\"})\n",
        "meses = {1:\"Enero\",2:\"Febrero\",3:\"Marzo\",4:\"Abril\",5:\"Mayo\",6:\"Junio\",7:\"Julio\",8:\"Agosto\",9:\"Septiembre\",10:\"Octubre\",11:\"Noviembre\",12:\"Diciembre\"}\n",
        "df_def1[\"mes_insc\"] = df_def1[\"mes_insc\"].replace(meses)\n",
        "df_def1[\"mes_fall\"] = df_def1[\"mes_fall\"].replace(meses)"
      ],
      "metadata": {
        "id": "Ey0JO1CNVfRB"
      },
      "execution_count": null,
      "outputs": []
    },
    {
      "cell_type": "markdown",
      "source": [
        "Reemplazo de asistido por, producto de embarazo y lugar de ocurrencia"
      ],
      "metadata": {
        "id": "4pDsv_FsWYZ_"
      }
    },
    {
      "cell_type": "code",
      "source": [
        "asistencia = {1:\"Medico\",2:\"Obstetra\",3:\"Enfermero_a\",4:\"Auxiliar_enfermeria\",5:\"Partero_a_calificad\",6:\"Partero_a_no_calificado\",7:\"Otro\",9:\"Ignorado\"}\n",
        "df_def1[\"asis_por\"] = df_def1[\"asis_por\"].replace(asistencia)"
      ],
      "metadata": {
        "id": "ottUy2o0WcLo"
      },
      "execution_count": null,
      "outputs": []
    },
    {
      "cell_type": "code",
      "source": [
        "prod_embar = {1:\"Simple\", 2:\"Doble\",3:\"Triple\",4:\"Cuadruple_o_mas\"}\n",
        "df_def1[\"p_emb\"] = df_def1[\"p_emb\"].replace(prod_embar)"
      ],
      "metadata": {
        "id": "BylDq0R0WnRJ"
      },
      "execution_count": null,
      "outputs": []
    },
    {
      "cell_type": "code",
      "source": [
        "lug_oc = {1:\"Establecimiento_ministerio_de_salud\",2:\"Establecimiento_IESS\",3:\"Establecimiento_junta_beneficiaria\",4:\"Otro_establecimiento_publico\",5:\"Hospital_clinica_consultorio_privado\",6:\"Casa\",7:\"Otro\"}\n",
        "df_def1[\"lugar_ocur\"] = df_def1[\"lugar_ocur\"].replace(lug_oc)"
      ],
      "metadata": {
        "id": "XlPxdsZ4Wshh"
      },
      "execution_count": null,
      "outputs": []
    },
    {
      "cell_type": "markdown",
      "source": [
        "Reemplazo de area de residencia y fallecimiento, etnia, estado civil, sabe leer y nivel de instrucción"
      ],
      "metadata": {
        "id": "y2Fk54AIWzBR"
      }
    },
    {
      "cell_type": "code",
      "source": [
        "df_def1[\"area_res\"] = df_def1[\"area_res\"].replace({1:\"Urbana\",2:\"Rural\"})"
      ],
      "metadata": {
        "id": "G4FCMMCeWz9g"
      },
      "execution_count": null,
      "outputs": []
    },
    {
      "cell_type": "code",
      "source": [
        "df_def1[\"area_fall\"] = df_def1[\"area_fall\"].replace({1:\"Urbana\",2:\"Rural\"})"
      ],
      "metadata": {
        "id": "RTJpjw4UXps4"
      },
      "execution_count": null,
      "outputs": []
    },
    {
      "cell_type": "code",
      "source": [
        "df_def1[\"etnia\"] = df_def1[\"etnia\"].replace({1:\"Indigena\",2:\"Afro_ecuatoriana\",3:\"Negra\",4:\"Mulata\",5:\"Montubia\",6:\"Mestiza\",7:\"Blanca\",8:\"Otra\",9:\"Ignorado\"})"
      ],
      "metadata": {
        "id": "__-kn68UW4fg"
      },
      "execution_count": null,
      "outputs": []
    },
    {
      "cell_type": "code",
      "source": [
        "df_def1[\"est_civil\"] = df_def1[\"est_civil\"].replace({1:\"Unida\",2:\"Soltera\",3:\"Casada\",4:\"Divorciada\",5:\"Separada\",6:\"Viuda\",9:\"Se ignora\"})"
      ],
      "metadata": {
        "id": "Yv5JtDyuXIUp"
      },
      "execution_count": null,
      "outputs": []
    },
    {
      "cell_type": "code",
      "source": [
        "df_def1[\"sabe_leer\"] = df_def1[\"sabe_leer\"].replace({1:\"Si\",2:\"No\",9:\"Ignorado\"})"
      ],
      "metadata": {
        "id": "dPGcLUf-XQ1R"
      },
      "execution_count": null,
      "outputs": []
    },
    {
      "cell_type": "code",
      "source": [
        "df_def1[\"niv_inst\"] = df_def1[\"niv_inst\"].replace({0:\"Ninguno\",1:\"Centro_de_alfabetizacion\",2:\"Primaria\",3:\"Secundaria\",4:\"Educacion_basica\",5:\"Educacion_media\",6:\"Ciclo_post_bachillerato\",7:\"Superior\",8:\"Postgrado\",9:\"Se_ignora\"})"
      ],
      "metadata": {
        "id": "ysQj1GW-XVjw"
      },
      "execution_count": null,
      "outputs": []
    },
    {
      "cell_type": "markdown",
      "source": [
        "Reemplazo de causas"
      ],
      "metadata": {
        "id": "ztuq7z3RYjq4"
      }
    },
    {
      "cell_type": "code",
      "source": [
        "causa = pd.read_excel(\"/content/drive/MyDrive/Codificación de Dojo/Proyecto2/causas.xlsx\")\n",
        "causa['causa_n'] = causa['causa'].apply(lambda x: x.replace(x.split()[0], '').strip())\n",
        "causa = causa.set_index(\"codigo\")\n",
        "dicc_causa = causa.to_dict()['causa_n']"
      ],
      "metadata": {
        "id": "0vCuzz4YYliY"
      },
      "execution_count": null,
      "outputs": []
    },
    {
      "cell_type": "code",
      "source": [
        "df_def1[\"causa_fetal\"] = df_def1[\"causa_fetal\"].replace(dicc_causa)"
      ],
      "metadata": {
        "id": "8s87K1_JZMLv"
      },
      "execution_count": null,
      "outputs": []
    },
    {
      "cell_type": "code",
      "source": [
        "#creamos una copia del data frame\n",
        "df_def = df_def1.copy()"
      ],
      "metadata": {
        "id": "q2H7BvAtfCeb"
      },
      "execution_count": null,
      "outputs": []
    },
    {
      "cell_type": "markdown",
      "source": [
        "## Análisis del data frame de los años 2012-2015"
      ],
      "metadata": {
        "id": "nUyDRHWve9CK"
      }
    },
    {
      "cell_type": "code",
      "source": [
        "pd.set_option('display.max_rows', None)"
      ],
      "metadata": {
        "id": "un8msxKAh_-p"
      },
      "execution_count": null,
      "outputs": []
    },
    {
      "cell_type": "code",
      "source": [
        "df_def.info()"
      ],
      "metadata": {
        "colab": {
          "base_uri": "https://localhost:8080/"
        },
        "id": "w7q5He6F2QXY",
        "outputId": "6671c7f6-bc1d-4e41-c545-054a43e42175"
      },
      "execution_count": null,
      "outputs": [
        {
          "output_type": "stream",
          "name": "stdout",
          "text": [
            "<class 'pandas.core.frame.DataFrame'>\n",
            "Int64Index: 6797 entries, 0 to 1856\n",
            "Data columns (total 30 columns):\n",
            " #   Column       Non-Null Count  Dtype  \n",
            "---  ------       --------------  -----  \n",
            " 0   prov_insc    6797 non-null   object \n",
            " 1   cant_insc    6797 non-null   object \n",
            " 2   parr_insc    6797 non-null   object \n",
            " 3   anio_insc    6797 non-null   float64\n",
            " 4   mes_insc     6797 non-null   object \n",
            " 5   sexo         6797 non-null   object \n",
            " 6   sem_gest     6797 non-null   float64\n",
            " 7   anio_fall    6797 non-null   float64\n",
            " 8   mes_fall     6797 non-null   object \n",
            " 9   asis_por     6797 non-null   object \n",
            " 10  p_emb        6797 non-null   object \n",
            " 11  lugar_ocur   6797 non-null   object \n",
            " 12  prov_fall    6797 non-null   object \n",
            " 13  cant_fall    6797 non-null   object \n",
            " 14  parr_fall    6797 non-null   object \n",
            " 15  area_fall    6797 non-null   object \n",
            " 16  causa_fetal  6797 non-null   object \n",
            " 17  edad_mad     6797 non-null   float64\n",
            " 18  con_pren     6797 non-null   float64\n",
            " 19  hij_viv      6797 non-null   float64\n",
            " 20  hij_vivm     6797 non-null   float64\n",
            " 21  hij_nacm     6797 non-null   float64\n",
            " 22  etnia        6797 non-null   object \n",
            " 23  est_civil    6797 non-null   object \n",
            " 24  sabe_leer    6797 non-null   object \n",
            " 25  niv_inst     6780 non-null   object \n",
            " 26  prov_res     6797 non-null   object \n",
            " 27  cant_res     6797 non-null   object \n",
            " 28  parr_res     6797 non-null   object \n",
            " 29  area_res     6797 non-null   object \n",
            "dtypes: float64(8), object(22)\n",
            "memory usage: 1.6+ MB\n"
          ]
        }
      ]
    },
    {
      "cell_type": "code",
      "source": [
        "df_def[\"sexo\"].value_counts()"
      ],
      "metadata": {
        "colab": {
          "base_uri": "https://localhost:8080/"
        },
        "id": "W4yV3Z-Jnrqu",
        "outputId": "49136a81-99a7-46b5-d6f1-6d27097cc681"
      },
      "execution_count": null,
      "outputs": [
        {
          "output_type": "execute_result",
          "data": {
            "text/plain": [
              "Hombre    3794\n",
              "Mujer     2989\n",
              "3.0         14\n",
              "Name: sexo, dtype: int64"
            ]
          },
          "metadata": {},
          "execution_count": 70
        }
      ]
    },
    {
      "cell_type": "code",
      "source": [
        "#eliminamos las flas donde sexo =3\n",
        "df_def = df_def.loc[df_def[\"sexo\"] != 3,:]"
      ],
      "metadata": {
        "id": "gM2VXib3oBjO"
      },
      "execution_count": null,
      "outputs": []
    },
    {
      "cell_type": "code",
      "source": [
        "#eliminamos las filas donde semana de gestacion =99\n",
        "df_def = df_def.loc[df_def[\"sem_gest\"] != 99,:]"
      ],
      "metadata": {
        "id": "GACrnlVIomdG"
      },
      "execution_count": null,
      "outputs": []
    },
    {
      "cell_type": "code",
      "source": [
        "#eliminamos registros de años menores a 2012\n",
        "df_def = df_def.loc[df_def[\"anio_fall\"] > 2011 ,:]"
      ],
      "metadata": {
        "id": "skZhDZ4qpY2G"
      },
      "execution_count": null,
      "outputs": []
    },
    {
      "cell_type": "code",
      "source": [
        "df_def[\"asis_por\"].value_counts()"
      ],
      "metadata": {
        "colab": {
          "base_uri": "https://localhost:8080/"
        },
        "id": "uC7ib4AMrTW8",
        "outputId": "db2a0e6f-1005-4a24-9c2c-c0c0b9d8c492"
      },
      "execution_count": null,
      "outputs": [
        {
          "output_type": "execute_result",
          "data": {
            "text/plain": [
              "Medico                     6143\n",
              "Obstetra                    360\n",
              "Otro                         84\n",
              "Partero_a_no_calificado      17\n",
              "Partero_a_calificad          10\n",
              "Auxiliar_enfermeria           9\n",
              "Enfermero_a                   5\n",
              "Name: asis_por, dtype: int64"
            ]
          },
          "metadata": {},
          "execution_count": 74
        }
      ]
    },
    {
      "cell_type": "code",
      "source": [
        "df_def[\"p_emb\"].value_counts()"
      ],
      "metadata": {
        "colab": {
          "base_uri": "https://localhost:8080/"
        },
        "id": "pG77ZAOjrLTE",
        "outputId": "7822c952-5227-44df-db8a-f7308ddc8f52"
      },
      "execution_count": null,
      "outputs": [
        {
          "output_type": "execute_result",
          "data": {
            "text/plain": [
              "Simple             6255\n",
              "Doble               343\n",
              "Triple               27\n",
              "Cuadruple_o_mas       3\n",
              "Name: p_emb, dtype: int64"
            ]
          },
          "metadata": {},
          "execution_count": 75
        }
      ]
    },
    {
      "cell_type": "code",
      "source": [
        "df_def[\"lugar_ocur\"].value_counts()"
      ],
      "metadata": {
        "colab": {
          "base_uri": "https://localhost:8080/"
        },
        "id": "74FyiYGFrZH8",
        "outputId": "8ce9b505-21e0-451f-8863-c076ed01f733"
      },
      "execution_count": null,
      "outputs": [
        {
          "output_type": "execute_result",
          "data": {
            "text/plain": [
              "Establecimiento_ministerio_de_salud     3106\n",
              "Establecimiento_junta_beneficiaria      1413\n",
              "Hospital_clinica_consultorio_privado    1152\n",
              "Establecimiento_IESS                     497\n",
              "Casa                                     237\n",
              "Otro_establecimiento_publico             163\n",
              "Otro                                      60\n",
              "Name: lugar_ocur, dtype: int64"
            ]
          },
          "metadata": {},
          "execution_count": 76
        }
      ]
    },
    {
      "cell_type": "code",
      "source": [
        "df_def[\"area_fall\"].value_counts()"
      ],
      "metadata": {
        "colab": {
          "base_uri": "https://localhost:8080/"
        },
        "id": "725g07ITriNc",
        "outputId": "a80b61b6-efc9-40ca-cbb1-f6aef80544f8"
      },
      "execution_count": null,
      "outputs": [
        {
          "output_type": "execute_result",
          "data": {
            "text/plain": [
              "Urbana    6498\n",
              "Rural      130\n",
              "Name: area_fall, dtype: int64"
            ]
          },
          "metadata": {},
          "execution_count": 77
        }
      ]
    },
    {
      "cell_type": "code",
      "source": [
        "df_def[\"causa_fetal\"].value_counts().head()"
      ],
      "metadata": {
        "colab": {
          "base_uri": "https://localhost:8080/"
        },
        "id": "_AVOwcoNrmsD",
        "outputId": "eb5404e0-2ba0-4bdb-c230-44cd770e3728"
      },
      "execution_count": null,
      "outputs": [
        {
          "output_type": "execute_result",
          "data": {
            "text/plain": [
              "Hipoxia intrauterina, no especificada                                                              3156\n",
              "Muerte fetal de causa no especificada                                                              1010\n",
              "Feto y recien nacido afectados por otras formas de desprendimiento y de hemorragia placentarios     401\n",
              "Inmaturidad extrema                                                                                 225\n",
              "Malformacion congenita, no especificada                                                             165\n",
              "Name: causa_fetal, dtype: int64"
            ]
          },
          "metadata": {},
          "execution_count": 78
        }
      ]
    },
    {
      "cell_type": "code",
      "source": [
        "#eliminamos edades de madres de 99 años\n",
        "df_def = df_def.loc[df_def[\"edad_mad\"] != 99 ,:]"
      ],
      "metadata": {
        "id": "uo7KqMPLtJx7"
      },
      "execution_count": null,
      "outputs": []
    },
    {
      "cell_type": "code",
      "source": [
        "#eliminamos controles fetales iguales a 99\n",
        "df_def = df_def.loc[df_def[\"con_pren\"] != 99,:]"
      ],
      "metadata": {
        "id": "aJTiNnXO6uNV"
      },
      "execution_count": null,
      "outputs": []
    },
    {
      "cell_type": "code",
      "source": [
        "df_def[\"con_pren\"].value_counts()"
      ],
      "metadata": {
        "colab": {
          "base_uri": "https://localhost:8080/"
        },
        "id": "MPZD-4zltupy",
        "outputId": "3e73a381-c1fb-45fa-d9cf-6046a81c0dae"
      },
      "execution_count": null,
      "outputs": [
        {
          "output_type": "execute_result",
          "data": {
            "text/plain": [
              "0.0     728\n",
              "5.0     712\n",
              "4.0     597\n",
              "6.0     587\n",
              "3.0     563\n",
              "7.0     424\n",
              "2.0     422\n",
              "8.0     343\n",
              "1.0     311\n",
              "9.0     178\n",
              "10.0    168\n",
              "12.0     35\n",
              "15.0     27\n",
              "11.0     14\n",
              "14.0      8\n",
              "20.0      5\n",
              "13.0      5\n",
              "16.0      4\n",
              "17.0      2\n",
              "25.0      2\n",
              "18.0      1\n",
              "Name: con_pren, dtype: int64"
            ]
          },
          "metadata": {},
          "execution_count": 81
        }
      ]
    },
    {
      "cell_type": "code",
      "source": [
        "df_def[\"hij_viv\"].value_counts()"
      ],
      "metadata": {
        "colab": {
          "base_uri": "https://localhost:8080/"
        },
        "id": "SODfoCiduWqa",
        "outputId": "029e73ab-ea3d-4f6c-d435-9f47e20d0e87"
      },
      "execution_count": null,
      "outputs": [
        {
          "output_type": "execute_result",
          "data": {
            "text/plain": [
              "0.0     1418\n",
              "1.0     1365\n",
              "2.0      906\n",
              "99.0     659\n",
              "3.0      421\n",
              "4.0      194\n",
              "5.0       90\n",
              "6.0       33\n",
              "8.0       19\n",
              "7.0       18\n",
              "9.0       11\n",
              "10.0       2\n",
              "Name: hij_viv, dtype: int64"
            ]
          },
          "metadata": {},
          "execution_count": 82
        }
      ]
    },
    {
      "cell_type": "code",
      "source": [
        "#eliminamos las madres que registran numero de hijos 99\n",
        "df_def = df_def.loc[df_def[\"hij_viv\"] != 99 ,:]"
      ],
      "metadata": {
        "id": "8DJwtdLBuc7a"
      },
      "execution_count": null,
      "outputs": []
    },
    {
      "cell_type": "code",
      "source": [
        "df_def[\"hij_vivm\"].value_counts()"
      ],
      "metadata": {
        "colab": {
          "base_uri": "https://localhost:8080/"
        },
        "id": "LT1WApCTvj0R",
        "outputId": "80ec5d16-9a96-40a8-b4a3-441a7710a6b2"
      },
      "execution_count": null,
      "outputs": [
        {
          "output_type": "execute_result",
          "data": {
            "text/plain": [
              "0.0     3266\n",
              "99.0     756\n",
              "1.0      390\n",
              "2.0       42\n",
              "3.0       16\n",
              "6.0        3\n",
              "4.0        3\n",
              "5.0        1\n",
              "Name: hij_vivm, dtype: int64"
            ]
          },
          "metadata": {},
          "execution_count": 84
        }
      ]
    },
    {
      "cell_type": "code",
      "source": [
        "#eliminamos las madres que registraron un numero de hijos vivos que han muerto =99\n",
        "df_def = df_def.loc[df_def[\"hij_vivm\"] != 99 ,:]"
      ],
      "metadata": {
        "id": "PAkMEJjGv6D5"
      },
      "execution_count": null,
      "outputs": []
    },
    {
      "cell_type": "code",
      "source": [
        "df_def[\"hij_nacm\"].value_counts()"
      ],
      "metadata": {
        "colab": {
          "base_uri": "https://localhost:8080/"
        },
        "id": "JDBlWGEfweeI",
        "outputId": "4fe6c663-c9df-477e-ec0b-165a57c06d60"
      },
      "execution_count": null,
      "outputs": [
        {
          "output_type": "execute_result",
          "data": {
            "text/plain": [
              "1.0     3400\n",
              "2.0      282\n",
              "3.0       29\n",
              "4.0        5\n",
              "5.0        2\n",
              "6.0        1\n",
              "99.0       1\n",
              "7.0        1\n",
              "Name: hij_nacm, dtype: int64"
            ]
          },
          "metadata": {},
          "execution_count": 86
        }
      ]
    },
    {
      "cell_type": "code",
      "source": [
        "#eliminamos las madres que registraron un numero de hijos nacidos muertos =99\n",
        "df_def = df_def.loc[df_def[\"hij_nacm\"] != 99 ,:]"
      ],
      "metadata": {
        "id": "A4afx4vzwzNq"
      },
      "execution_count": null,
      "outputs": []
    },
    {
      "cell_type": "code",
      "source": [
        "df_def[\"etnia\"].value_counts()"
      ],
      "metadata": {
        "colab": {
          "base_uri": "https://localhost:8080/"
        },
        "id": "gChoHYSqw9Zw",
        "outputId": "419b2d84-928c-43f9-cd1a-44f65d856dbb"
      },
      "execution_count": null,
      "outputs": [
        {
          "output_type": "execute_result",
          "data": {
            "text/plain": [
              "Mestiza             2719\n",
              "Ignorado             625\n",
              "Indigena             202\n",
              "Negra                 48\n",
              "Blanca                46\n",
              "Afro_ecuatoriana      41\n",
              "Montubia              19\n",
              "Mulata                18\n",
              "Otra                   2\n",
              "Name: etnia, dtype: int64"
            ]
          },
          "metadata": {},
          "execution_count": 88
        }
      ]
    },
    {
      "cell_type": "code",
      "source": [
        "df_def[\"est_civil\"].value_counts()"
      ],
      "metadata": {
        "colab": {
          "base_uri": "https://localhost:8080/"
        },
        "id": "ye6BXNx3xDVI",
        "outputId": "bacfb973-efb6-4ed8-e783-9ee8895e4f02"
      },
      "execution_count": null,
      "outputs": [
        {
          "output_type": "execute_result",
          "data": {
            "text/plain": [
              "Unida         1350\n",
              "Casada        1159\n",
              "Soltera        770\n",
              "Se ignora      390\n",
              "Divorciada      35\n",
              "Separada         9\n",
              "Viuda            7\n",
              "Name: est_civil, dtype: int64"
            ]
          },
          "metadata": {},
          "execution_count": 89
        }
      ]
    },
    {
      "cell_type": "code",
      "source": [
        "df_def[\"sabe_leer\"].value_counts()"
      ],
      "metadata": {
        "colab": {
          "base_uri": "https://localhost:8080/"
        },
        "id": "0oUnVdW9xKZA",
        "outputId": "75b9178b-4208-4d67-c339-ca842357eb5c"
      },
      "execution_count": null,
      "outputs": [
        {
          "output_type": "execute_result",
          "data": {
            "text/plain": [
              "Si          3605\n",
              "No            75\n",
              "Ignorado      40\n",
              "Name: sabe_leer, dtype: int64"
            ]
          },
          "metadata": {},
          "execution_count": 90
        }
      ]
    },
    {
      "cell_type": "code",
      "source": [
        "df_def[\"niv_inst\"].isna().sum()"
      ],
      "metadata": {
        "colab": {
          "base_uri": "https://localhost:8080/"
        },
        "id": "wz_iS6RrxS1Y",
        "outputId": "ac64620e-ad19-4d60-fdd6-9bc15072d613"
      },
      "execution_count": null,
      "outputs": [
        {
          "output_type": "execute_result",
          "data": {
            "text/plain": [
              "3"
            ]
          },
          "metadata": {},
          "execution_count": 91
        }
      ]
    },
    {
      "cell_type": "code",
      "source": [
        "df_def[\"niv_inst\"].value_counts()"
      ],
      "metadata": {
        "colab": {
          "base_uri": "https://localhost:8080/"
        },
        "id": "FU-XrnbVxNqI",
        "outputId": "41e16905-6f75-4b89-f055-6ad6e4222139"
      },
      "execution_count": null,
      "outputs": [
        {
          "output_type": "execute_result",
          "data": {
            "text/plain": [
              "Secundaria                  1265\n",
              "Primaria                     905\n",
              "Superior                     623\n",
              "Educacion_media              337\n",
              "Se_ignora                    273\n",
              "Educacion_basica             187\n",
              "Ciclo_post_bachillerato       69\n",
              "Ninguno                       28\n",
              "Postgrado                     17\n",
              "Centro_de_alfabetizacion      13\n",
              "Name: niv_inst, dtype: int64"
            ]
          },
          "metadata": {},
          "execution_count": 92
        }
      ]
    },
    {
      "cell_type": "code",
      "source": [
        "#añadimos el grupo de celdas vacias del nivel institucional a la clase se ignora\n",
        "df_def[\"niv_inst\"] = df_def[\"niv_inst\"].fillna(\"Se_ignora\")"
      ],
      "metadata": {
        "id": "DGKM3c7TxdlY"
      },
      "execution_count": null,
      "outputs": []
    },
    {
      "cell_type": "code",
      "source": [
        "df_def[\"niv_inst\"].isna().sum()"
      ],
      "metadata": {
        "colab": {
          "base_uri": "https://localhost:8080/"
        },
        "id": "BK9ekOKlx8LQ",
        "outputId": "0677963c-4e73-4f0e-91c3-c8a6d6aefa72"
      },
      "execution_count": null,
      "outputs": [
        {
          "output_type": "execute_result",
          "data": {
            "text/plain": [
              "0"
            ]
          },
          "metadata": {},
          "execution_count": 94
        }
      ]
    },
    {
      "cell_type": "code",
      "source": [
        "#Eliminamos los espacios de las columnas\n",
        "df_def[\"prov_insc\"] = df_def[\"prov_insc\"].str.strip().str.replace(r'\"\\s+', '\"').str.replace(r'\\s+\"', '\"')\n",
        "df_def[\"cant_insc\"] = df_def[\"cant_insc\"].str.strip().str.replace(r'\"\\s+', '\"').str.replace(r'\\s+\"', '\"')\n",
        "df_def[\"parr_insc\"] = df_def[\"parr_insc\"].str.strip().str.replace(r'\"\\s+', '\"').str.replace(r'\\s+\"', '\"')\n",
        "df_def[\"mes_insc\"] = df_def[\"mes_insc\"].str.strip().str.replace(r'\"\\s+', '\"').str.replace(r'\\s+\"', '\"')\n",
        "df_def[\"sexo\"] = df_def[\"sexo\"].str.strip().str.replace(r'\"\\s+', '\"').str.replace(r'\\s+\"', '\"')\n",
        "df_def[\"mes_fall\"] = df_def[\"mes_fall\"].str.strip().str.replace(r'\"\\s+', '\"').str.replace(r'\\s+\"', '\"')\n",
        "df_def[\"prov_fall\"] = df_def[\"prov_fall\"].str.strip().str.replace(r'\"\\s+', '\"').str.replace(r'\\s+\"', '\"')\n",
        "df_def[\"cant_fall\"] = df_def[\"cant_fall\"].str.strip().str.replace(r'\"\\s+', '\"').str.replace(r'\\s+\"', '\"')\n",
        "df_def[\"parr_fall\"] = df_def[\"parr_fall\"].str.strip().str.replace(r'\"\\s+', '\"').str.replace(r'\\s+\"', '\"')\n",
        "df_def[\"prov_res\"] = df_def[\"prov_res\"].str.strip().str.replace(r'\"\\s+', '\"').str.replace(r'\\s+\"', '\"')\n",
        "df_def[\"cant_res\"] = df_def[\"cant_res\"].str.strip().str.replace(r'\"\\s+', '\"').str.replace(r'\\s+\"', '\"')\n",
        "df_def[\"parr_res\"] = df_def[\"parr_res\"].str.strip().str.replace(r'\"\\s+', '\"').str.replace(r'\\s+\"', '\"')\n",
        "df_def[\"causa_fetal\"] = df_def[\"causa_fetal\"].str.strip().str.replace(r'\"\\s+', '\"').str.replace(r'\\s+\"', '\"')"
      ],
      "metadata": {
        "colab": {
          "base_uri": "https://localhost:8080/"
        },
        "id": "kobFgs7F3sw9",
        "outputId": "668d47a6-675a-48d5-dcd4-2219cd6cab24"
      },
      "execution_count": null,
      "outputs": [
        {
          "output_type": "stream",
          "name": "stderr",
          "text": [
            "<ipython-input-95-ef5272d946cc>:2: FutureWarning: The default value of regex will change from True to False in a future version.\n",
            "  df_def[\"prov_insc\"] = df_def[\"prov_insc\"].str.strip().str.replace(r'\"\\s+', '\"').str.replace(r'\\s+\"', '\"')\n",
            "<ipython-input-95-ef5272d946cc>:3: FutureWarning: The default value of regex will change from True to False in a future version.\n",
            "  df_def[\"cant_insc\"] = df_def[\"cant_insc\"].str.strip().str.replace(r'\"\\s+', '\"').str.replace(r'\\s+\"', '\"')\n",
            "<ipython-input-95-ef5272d946cc>:4: FutureWarning: The default value of regex will change from True to False in a future version.\n",
            "  df_def[\"parr_insc\"] = df_def[\"parr_insc\"].str.strip().str.replace(r'\"\\s+', '\"').str.replace(r'\\s+\"', '\"')\n",
            "<ipython-input-95-ef5272d946cc>:5: FutureWarning: The default value of regex will change from True to False in a future version.\n",
            "  df_def[\"mes_insc\"] = df_def[\"mes_insc\"].str.strip().str.replace(r'\"\\s+', '\"').str.replace(r'\\s+\"', '\"')\n",
            "<ipython-input-95-ef5272d946cc>:6: FutureWarning: The default value of regex will change from True to False in a future version.\n",
            "  df_def[\"sexo\"] = df_def[\"sexo\"].str.strip().str.replace(r'\"\\s+', '\"').str.replace(r'\\s+\"', '\"')\n",
            "<ipython-input-95-ef5272d946cc>:7: FutureWarning: The default value of regex will change from True to False in a future version.\n",
            "  df_def[\"mes_fall\"] = df_def[\"mes_fall\"].str.strip().str.replace(r'\"\\s+', '\"').str.replace(r'\\s+\"', '\"')\n",
            "<ipython-input-95-ef5272d946cc>:8: FutureWarning: The default value of regex will change from True to False in a future version.\n",
            "  df_def[\"prov_fall\"] = df_def[\"prov_fall\"].str.strip().str.replace(r'\"\\s+', '\"').str.replace(r'\\s+\"', '\"')\n",
            "<ipython-input-95-ef5272d946cc>:9: FutureWarning: The default value of regex will change from True to False in a future version.\n",
            "  df_def[\"cant_fall\"] = df_def[\"cant_fall\"].str.strip().str.replace(r'\"\\s+', '\"').str.replace(r'\\s+\"', '\"')\n",
            "<ipython-input-95-ef5272d946cc>:10: FutureWarning: The default value of regex will change from True to False in a future version.\n",
            "  df_def[\"parr_fall\"] = df_def[\"parr_fall\"].str.strip().str.replace(r'\"\\s+', '\"').str.replace(r'\\s+\"', '\"')\n",
            "<ipython-input-95-ef5272d946cc>:11: FutureWarning: The default value of regex will change from True to False in a future version.\n",
            "  df_def[\"prov_res\"] = df_def[\"prov_res\"].str.strip().str.replace(r'\"\\s+', '\"').str.replace(r'\\s+\"', '\"')\n",
            "<ipython-input-95-ef5272d946cc>:12: FutureWarning: The default value of regex will change from True to False in a future version.\n",
            "  df_def[\"cant_res\"] = df_def[\"cant_res\"].str.strip().str.replace(r'\"\\s+', '\"').str.replace(r'\\s+\"', '\"')\n",
            "<ipython-input-95-ef5272d946cc>:13: FutureWarning: The default value of regex will change from True to False in a future version.\n",
            "  df_def[\"parr_res\"] = df_def[\"parr_res\"].str.strip().str.replace(r'\"\\s+', '\"').str.replace(r'\\s+\"', '\"')\n",
            "<ipython-input-95-ef5272d946cc>:14: FutureWarning: The default value of regex will change from True to False in a future version.\n",
            "  df_def[\"causa_fetal\"] = df_def[\"causa_fetal\"].str.strip().str.replace(r'\"\\s+', '\"').str.replace(r'\\s+\"', '\"')\n"
          ]
        }
      ]
    },
    {
      "cell_type": "code",
      "source": [
        "df_def.head()"
      ],
      "metadata": {
        "colab": {
          "base_uri": "https://localhost:8080/",
          "height": 461
        },
        "id": "wvhrKLW63eBg",
        "outputId": "715e58e6-9448-47a8-e3a8-03ecf412cfe9"
      },
      "execution_count": null,
      "outputs": [
        {
          "output_type": "execute_result",
          "data": {
            "text/plain": [
              "  prov_insc cant_insc parr_insc  anio_insc    mes_insc   sexo  sem_gest  \\\n",
              "0     Azuay  Gualaceo  Gualaceo     2012.0  Septiembre  Mujer      36.0   \n",
              "1     Azuay    Cuenca    Cuenca     2012.0   Diciembre  Mujer      38.0   \n",
              "2     Azuay  Gualaceo  Gualaceo     2012.0     Octubre  Mujer      33.0   \n",
              "3     Azuay    Cuenca    Cuenca     2012.0        Mayo  Mujer      30.0   \n",
              "4     Azuay    Cuenca    Cuenca     2012.0       Junio  Mujer      34.0   \n",
              "\n",
              "   anio_fall    mes_fall asis_por   p_emb  \\\n",
              "0     2012.0  Septiembre   Medico  Simple   \n",
              "1     2012.0   Diciembre   Medico  Simple   \n",
              "2     2012.0     Octubre   Medico  Simple   \n",
              "3     2012.0        Mayo   Medico  Simple   \n",
              "4     2012.0       Junio   Medico  Simple   \n",
              "\n",
              "                             lugar_ocur prov_fall cant_fall parr_fall  \\\n",
              "0                                  Casa     Azuay  Gualaceo  Gualaceo   \n",
              "1   Establecimiento_ministerio_de_salud     Azuay    Cuenca    Cuenca   \n",
              "2  Hospital_clinica_consultorio_privado     Azuay    Cuenca    Cuenca   \n",
              "3   Establecimiento_ministerio_de_salud     Azuay    Cuenca    Cuenca   \n",
              "4   Establecimiento_ministerio_de_salud     Azuay    Cuenca    Cuenca   \n",
              "\n",
              "  area_fall                            causa_fetal  edad_mad  con_pren  \\\n",
              "0    Urbana  Hipoxia intrauterina, no especificada      14.0       3.0   \n",
              "1    Urbana  Muerte fetal de causa no especificada      24.0       2.0   \n",
              "2    Urbana  Muerte fetal de causa no especificada      31.0       8.0   \n",
              "3    Urbana  Muerte fetal de causa no especificada      33.0       0.0   \n",
              "4    Urbana  Muerte fetal de causa no especificada      23.0       8.0   \n",
              "\n",
              "   hij_viv  hij_vivm  hij_nacm     etnia est_civil sabe_leer    niv_inst  \\\n",
              "0      0.0       0.0       1.0  Indigena     Unida        Si    Primaria   \n",
              "1      3.0       1.0       6.0  Indigena     Unida        No   Se_ignora   \n",
              "2      3.0       0.0       1.0   Mestiza    Casada        Si  Secundaria   \n",
              "3      0.0       0.0       1.0   Mestiza     Unida        Si    Primaria   \n",
              "4      2.0       0.0       1.0   Mestiza     Unida        Si    Primaria   \n",
              "\n",
              "  prov_res   cant_res  parr_res area_res  \n",
              "0    Azuay  Chordeleg  La Union    Rural  \n",
              "1    Azuay     Cuenca    Cuenca   Urbana  \n",
              "2    Azuay   Gualaceo  Gualaceo   Urbana  \n",
              "3    Azuay     Cuenca    Cuenca   Urbana  \n",
              "4    Azuay     Cuenca    Cuenca   Urbana  "
            ],
            "text/html": [
              "\n",
              "  <div id=\"df-a0549dc3-1ef8-448e-8be2-f5ca42ecb94d\">\n",
              "    <div class=\"colab-df-container\">\n",
              "      <div>\n",
              "<style scoped>\n",
              "    .dataframe tbody tr th:only-of-type {\n",
              "        vertical-align: middle;\n",
              "    }\n",
              "\n",
              "    .dataframe tbody tr th {\n",
              "        vertical-align: top;\n",
              "    }\n",
              "\n",
              "    .dataframe thead th {\n",
              "        text-align: right;\n",
              "    }\n",
              "</style>\n",
              "<table border=\"1\" class=\"dataframe\">\n",
              "  <thead>\n",
              "    <tr style=\"text-align: right;\">\n",
              "      <th></th>\n",
              "      <th>prov_insc</th>\n",
              "      <th>cant_insc</th>\n",
              "      <th>parr_insc</th>\n",
              "      <th>anio_insc</th>\n",
              "      <th>mes_insc</th>\n",
              "      <th>sexo</th>\n",
              "      <th>sem_gest</th>\n",
              "      <th>anio_fall</th>\n",
              "      <th>mes_fall</th>\n",
              "      <th>asis_por</th>\n",
              "      <th>p_emb</th>\n",
              "      <th>lugar_ocur</th>\n",
              "      <th>prov_fall</th>\n",
              "      <th>cant_fall</th>\n",
              "      <th>parr_fall</th>\n",
              "      <th>area_fall</th>\n",
              "      <th>causa_fetal</th>\n",
              "      <th>edad_mad</th>\n",
              "      <th>con_pren</th>\n",
              "      <th>hij_viv</th>\n",
              "      <th>hij_vivm</th>\n",
              "      <th>hij_nacm</th>\n",
              "      <th>etnia</th>\n",
              "      <th>est_civil</th>\n",
              "      <th>sabe_leer</th>\n",
              "      <th>niv_inst</th>\n",
              "      <th>prov_res</th>\n",
              "      <th>cant_res</th>\n",
              "      <th>parr_res</th>\n",
              "      <th>area_res</th>\n",
              "    </tr>\n",
              "  </thead>\n",
              "  <tbody>\n",
              "    <tr>\n",
              "      <th>0</th>\n",
              "      <td>Azuay</td>\n",
              "      <td>Gualaceo</td>\n",
              "      <td>Gualaceo</td>\n",
              "      <td>2012.0</td>\n",
              "      <td>Septiembre</td>\n",
              "      <td>Mujer</td>\n",
              "      <td>36.0</td>\n",
              "      <td>2012.0</td>\n",
              "      <td>Septiembre</td>\n",
              "      <td>Medico</td>\n",
              "      <td>Simple</td>\n",
              "      <td>Casa</td>\n",
              "      <td>Azuay</td>\n",
              "      <td>Gualaceo</td>\n",
              "      <td>Gualaceo</td>\n",
              "      <td>Urbana</td>\n",
              "      <td>Hipoxia intrauterina, no especificada</td>\n",
              "      <td>14.0</td>\n",
              "      <td>3.0</td>\n",
              "      <td>0.0</td>\n",
              "      <td>0.0</td>\n",
              "      <td>1.0</td>\n",
              "      <td>Indigena</td>\n",
              "      <td>Unida</td>\n",
              "      <td>Si</td>\n",
              "      <td>Primaria</td>\n",
              "      <td>Azuay</td>\n",
              "      <td>Chordeleg</td>\n",
              "      <td>La Union</td>\n",
              "      <td>Rural</td>\n",
              "    </tr>\n",
              "    <tr>\n",
              "      <th>1</th>\n",
              "      <td>Azuay</td>\n",
              "      <td>Cuenca</td>\n",
              "      <td>Cuenca</td>\n",
              "      <td>2012.0</td>\n",
              "      <td>Diciembre</td>\n",
              "      <td>Mujer</td>\n",
              "      <td>38.0</td>\n",
              "      <td>2012.0</td>\n",
              "      <td>Diciembre</td>\n",
              "      <td>Medico</td>\n",
              "      <td>Simple</td>\n",
              "      <td>Establecimiento_ministerio_de_salud</td>\n",
              "      <td>Azuay</td>\n",
              "      <td>Cuenca</td>\n",
              "      <td>Cuenca</td>\n",
              "      <td>Urbana</td>\n",
              "      <td>Muerte fetal de causa no especificada</td>\n",
              "      <td>24.0</td>\n",
              "      <td>2.0</td>\n",
              "      <td>3.0</td>\n",
              "      <td>1.0</td>\n",
              "      <td>6.0</td>\n",
              "      <td>Indigena</td>\n",
              "      <td>Unida</td>\n",
              "      <td>No</td>\n",
              "      <td>Se_ignora</td>\n",
              "      <td>Azuay</td>\n",
              "      <td>Cuenca</td>\n",
              "      <td>Cuenca</td>\n",
              "      <td>Urbana</td>\n",
              "    </tr>\n",
              "    <tr>\n",
              "      <th>2</th>\n",
              "      <td>Azuay</td>\n",
              "      <td>Gualaceo</td>\n",
              "      <td>Gualaceo</td>\n",
              "      <td>2012.0</td>\n",
              "      <td>Octubre</td>\n",
              "      <td>Mujer</td>\n",
              "      <td>33.0</td>\n",
              "      <td>2012.0</td>\n",
              "      <td>Octubre</td>\n",
              "      <td>Medico</td>\n",
              "      <td>Simple</td>\n",
              "      <td>Hospital_clinica_consultorio_privado</td>\n",
              "      <td>Azuay</td>\n",
              "      <td>Cuenca</td>\n",
              "      <td>Cuenca</td>\n",
              "      <td>Urbana</td>\n",
              "      <td>Muerte fetal de causa no especificada</td>\n",
              "      <td>31.0</td>\n",
              "      <td>8.0</td>\n",
              "      <td>3.0</td>\n",
              "      <td>0.0</td>\n",
              "      <td>1.0</td>\n",
              "      <td>Mestiza</td>\n",
              "      <td>Casada</td>\n",
              "      <td>Si</td>\n",
              "      <td>Secundaria</td>\n",
              "      <td>Azuay</td>\n",
              "      <td>Gualaceo</td>\n",
              "      <td>Gualaceo</td>\n",
              "      <td>Urbana</td>\n",
              "    </tr>\n",
              "    <tr>\n",
              "      <th>3</th>\n",
              "      <td>Azuay</td>\n",
              "      <td>Cuenca</td>\n",
              "      <td>Cuenca</td>\n",
              "      <td>2012.0</td>\n",
              "      <td>Mayo</td>\n",
              "      <td>Mujer</td>\n",
              "      <td>30.0</td>\n",
              "      <td>2012.0</td>\n",
              "      <td>Mayo</td>\n",
              "      <td>Medico</td>\n",
              "      <td>Simple</td>\n",
              "      <td>Establecimiento_ministerio_de_salud</td>\n",
              "      <td>Azuay</td>\n",
              "      <td>Cuenca</td>\n",
              "      <td>Cuenca</td>\n",
              "      <td>Urbana</td>\n",
              "      <td>Muerte fetal de causa no especificada</td>\n",
              "      <td>33.0</td>\n",
              "      <td>0.0</td>\n",
              "      <td>0.0</td>\n",
              "      <td>0.0</td>\n",
              "      <td>1.0</td>\n",
              "      <td>Mestiza</td>\n",
              "      <td>Unida</td>\n",
              "      <td>Si</td>\n",
              "      <td>Primaria</td>\n",
              "      <td>Azuay</td>\n",
              "      <td>Cuenca</td>\n",
              "      <td>Cuenca</td>\n",
              "      <td>Urbana</td>\n",
              "    </tr>\n",
              "    <tr>\n",
              "      <th>4</th>\n",
              "      <td>Azuay</td>\n",
              "      <td>Cuenca</td>\n",
              "      <td>Cuenca</td>\n",
              "      <td>2012.0</td>\n",
              "      <td>Junio</td>\n",
              "      <td>Mujer</td>\n",
              "      <td>34.0</td>\n",
              "      <td>2012.0</td>\n",
              "      <td>Junio</td>\n",
              "      <td>Medico</td>\n",
              "      <td>Simple</td>\n",
              "      <td>Establecimiento_ministerio_de_salud</td>\n",
              "      <td>Azuay</td>\n",
              "      <td>Cuenca</td>\n",
              "      <td>Cuenca</td>\n",
              "      <td>Urbana</td>\n",
              "      <td>Muerte fetal de causa no especificada</td>\n",
              "      <td>23.0</td>\n",
              "      <td>8.0</td>\n",
              "      <td>2.0</td>\n",
              "      <td>0.0</td>\n",
              "      <td>1.0</td>\n",
              "      <td>Mestiza</td>\n",
              "      <td>Unida</td>\n",
              "      <td>Si</td>\n",
              "      <td>Primaria</td>\n",
              "      <td>Azuay</td>\n",
              "      <td>Cuenca</td>\n",
              "      <td>Cuenca</td>\n",
              "      <td>Urbana</td>\n",
              "    </tr>\n",
              "  </tbody>\n",
              "</table>\n",
              "</div>\n",
              "      <button class=\"colab-df-convert\" onclick=\"convertToInteractive('df-a0549dc3-1ef8-448e-8be2-f5ca42ecb94d')\"\n",
              "              title=\"Convert this dataframe to an interactive table.\"\n",
              "              style=\"display:none;\">\n",
              "        \n",
              "  <svg xmlns=\"http://www.w3.org/2000/svg\" height=\"24px\"viewBox=\"0 0 24 24\"\n",
              "       width=\"24px\">\n",
              "    <path d=\"M0 0h24v24H0V0z\" fill=\"none\"/>\n",
              "    <path d=\"M18.56 5.44l.94 2.06.94-2.06 2.06-.94-2.06-.94-.94-2.06-.94 2.06-2.06.94zm-11 1L8.5 8.5l.94-2.06 2.06-.94-2.06-.94L8.5 2.5l-.94 2.06-2.06.94zm10 10l.94 2.06.94-2.06 2.06-.94-2.06-.94-.94-2.06-.94 2.06-2.06.94z\"/><path d=\"M17.41 7.96l-1.37-1.37c-.4-.4-.92-.59-1.43-.59-.52 0-1.04.2-1.43.59L10.3 9.45l-7.72 7.72c-.78.78-.78 2.05 0 2.83L4 21.41c.39.39.9.59 1.41.59.51 0 1.02-.2 1.41-.59l7.78-7.78 2.81-2.81c.8-.78.8-2.07 0-2.86zM5.41 20L4 18.59l7.72-7.72 1.47 1.35L5.41 20z\"/>\n",
              "  </svg>\n",
              "      </button>\n",
              "      \n",
              "  <style>\n",
              "    .colab-df-container {\n",
              "      display:flex;\n",
              "      flex-wrap:wrap;\n",
              "      gap: 12px;\n",
              "    }\n",
              "\n",
              "    .colab-df-convert {\n",
              "      background-color: #E8F0FE;\n",
              "      border: none;\n",
              "      border-radius: 50%;\n",
              "      cursor: pointer;\n",
              "      display: none;\n",
              "      fill: #1967D2;\n",
              "      height: 32px;\n",
              "      padding: 0 0 0 0;\n",
              "      width: 32px;\n",
              "    }\n",
              "\n",
              "    .colab-df-convert:hover {\n",
              "      background-color: #E2EBFA;\n",
              "      box-shadow: 0px 1px 2px rgba(60, 64, 67, 0.3), 0px 1px 3px 1px rgba(60, 64, 67, 0.15);\n",
              "      fill: #174EA6;\n",
              "    }\n",
              "\n",
              "    [theme=dark] .colab-df-convert {\n",
              "      background-color: #3B4455;\n",
              "      fill: #D2E3FC;\n",
              "    }\n",
              "\n",
              "    [theme=dark] .colab-df-convert:hover {\n",
              "      background-color: #434B5C;\n",
              "      box-shadow: 0px 1px 3px 1px rgba(0, 0, 0, 0.15);\n",
              "      filter: drop-shadow(0px 1px 2px rgba(0, 0, 0, 0.3));\n",
              "      fill: #FFFFFF;\n",
              "    }\n",
              "  </style>\n",
              "\n",
              "      <script>\n",
              "        const buttonEl =\n",
              "          document.querySelector('#df-a0549dc3-1ef8-448e-8be2-f5ca42ecb94d button.colab-df-convert');\n",
              "        buttonEl.style.display =\n",
              "          google.colab.kernel.accessAllowed ? 'block' : 'none';\n",
              "\n",
              "        async function convertToInteractive(key) {\n",
              "          const element = document.querySelector('#df-a0549dc3-1ef8-448e-8be2-f5ca42ecb94d');\n",
              "          const dataTable =\n",
              "            await google.colab.kernel.invokeFunction('convertToInteractive',\n",
              "                                                     [key], {});\n",
              "          if (!dataTable) return;\n",
              "\n",
              "          const docLinkHtml = 'Like what you see? Visit the ' +\n",
              "            '<a target=\"_blank\" href=https://colab.research.google.com/notebooks/data_table.ipynb>data table notebook</a>'\n",
              "            + ' to learn more about interactive tables.';\n",
              "          element.innerHTML = '';\n",
              "          dataTable['output_type'] = 'display_data';\n",
              "          await google.colab.output.renderOutput(dataTable, element);\n",
              "          const docLink = document.createElement('div');\n",
              "          docLink.innerHTML = docLinkHtml;\n",
              "          element.appendChild(docLink);\n",
              "        }\n",
              "      </script>\n",
              "    </div>\n",
              "  </div>\n",
              "  "
            ]
          },
          "metadata": {},
          "execution_count": 96
        }
      ]
    },
    {
      "cell_type": "markdown",
      "source": [
        "## Análisis del data frame de los años 2016-2021"
      ],
      "metadata": {
        "id": "PZrUCPoOypun"
      }
    },
    {
      "cell_type": "code",
      "source": [
        "#concatenación de datos del año 2016 hasta 2021\n",
        "df_def2 = pd.concat([df5, df6, df7, df8, df9, df10])"
      ],
      "metadata": {
        "id": "k9jQSMYGywZY"
      },
      "execution_count": null,
      "outputs": []
    },
    {
      "cell_type": "code",
      "source": [
        "df_def2.loc[df_def2[\"causa_fetal\"].str.contains('neonatal'),:][\"causa_fetal\"].value_counts()"
      ],
      "metadata": {
        "colab": {
          "base_uri": "https://localhost:8080/"
        },
        "id": "iG80hwAbhPu8",
        "outputId": "adbab5ff-1b3d-4739-e995-1e181bf68593"
      },
      "execution_count": null,
      "outputs": [
        {
          "output_type": "execute_result",
          "data": {
            "text/plain": [
              "Disritmia cardiaca neonatal                                 5\n",
              "Hipertension neonatal                                       2\n",
              "Aspiracion neonatal de leche y alimento regurgitado         2\n",
              "Aspiracion neonatal de meconio                              2\n",
              "Insuficiencia cardiaca neonatal                             1\n",
              "Diabetes mellitus neonatal                                  1\n",
              "Sindrome de aspiracion neonatal, sin otra especificacion    1\n",
              "Name: causa_fetal, dtype: int64"
            ]
          },
          "metadata": {},
          "execution_count": 98
        }
      ]
    },
    {
      "cell_type": "code",
      "source": [
        "df_def2.info()"
      ],
      "metadata": {
        "colab": {
          "base_uri": "https://localhost:8080/"
        },
        "id": "9XTLqJT9-k3g",
        "outputId": "071a2818-6124-4203-c75b-5e6a35252e8b"
      },
      "execution_count": null,
      "outputs": [
        {
          "output_type": "stream",
          "name": "stdout",
          "text": [
            "<class 'pandas.core.frame.DataFrame'>\n",
            "Int64Index: 10317 entries, 0 to 1429\n",
            "Data columns (total 30 columns):\n",
            " #   Column       Non-Null Count  Dtype \n",
            "---  ------       --------------  ----- \n",
            " 0   prov_insc    10317 non-null  object\n",
            " 1   cant_insc    10317 non-null  object\n",
            " 2   parr_insc    10317 non-null  object\n",
            " 3   anio_insc    10317 non-null  int64 \n",
            " 4   mes_insc     10317 non-null  object\n",
            " 5   sexo         10317 non-null  object\n",
            " 6   sem_gest     10315 non-null  object\n",
            " 7   anio_fall    10317 non-null  int64 \n",
            " 8   mes_fall     10317 non-null  object\n",
            " 9   asis_por     10317 non-null  object\n",
            " 10  p_emb        10317 non-null  object\n",
            " 11  lugar_ocur   10317 non-null  object\n",
            " 12  prov_fall    10317 non-null  object\n",
            " 13  cant_fall    10317 non-null  object\n",
            " 14  parr_fall    10317 non-null  object\n",
            " 15  area_fall    10317 non-null  object\n",
            " 16  causa_fetal  10317 non-null  object\n",
            " 17  edad_mad     10287 non-null  object\n",
            " 18  hij_viv      10251 non-null  object\n",
            " 19  hij_vivm     10238 non-null  object\n",
            " 20  hij_nacm     10317 non-null  int64 \n",
            " 21  con_pren     10257 non-null  object\n",
            " 22  etnia        10317 non-null  object\n",
            " 23  est_civil    10317 non-null  object\n",
            " 24  sabe_leer    10317 non-null  object\n",
            " 25  niv_inst     10317 non-null  object\n",
            " 26  prov_res     10317 non-null  object\n",
            " 27  cant_res     10317 non-null  object\n",
            " 28  parr_res     10317 non-null  object\n",
            " 29  area_res     10317 non-null  object\n",
            "dtypes: int64(3), object(27)\n",
            "memory usage: 2.4+ MB\n"
          ]
        }
      ]
    },
    {
      "cell_type": "code",
      "source": [
        "df_def2.isna().sum()"
      ],
      "metadata": {
        "colab": {
          "base_uri": "https://localhost:8080/"
        },
        "id": "a9pamhpZ-rdB",
        "outputId": "815501d4-131b-497c-f220-ad16aa6784f6"
      },
      "execution_count": null,
      "outputs": [
        {
          "output_type": "execute_result",
          "data": {
            "text/plain": [
              "prov_insc       0\n",
              "cant_insc       0\n",
              "parr_insc       0\n",
              "anio_insc       0\n",
              "mes_insc        0\n",
              "sexo            0\n",
              "sem_gest        2\n",
              "anio_fall       0\n",
              "mes_fall        0\n",
              "asis_por        0\n",
              "p_emb           0\n",
              "lugar_ocur      0\n",
              "prov_fall       0\n",
              "cant_fall       0\n",
              "parr_fall       0\n",
              "area_fall       0\n",
              "causa_fetal     0\n",
              "edad_mad       30\n",
              "hij_viv        66\n",
              "hij_vivm       79\n",
              "hij_nacm        0\n",
              "con_pren       60\n",
              "etnia           0\n",
              "est_civil       0\n",
              "sabe_leer       0\n",
              "niv_inst        0\n",
              "prov_res        0\n",
              "cant_res        0\n",
              "parr_res        0\n",
              "area_res        0\n",
              "dtype: int64"
            ]
          },
          "metadata": {},
          "execution_count": 100
        }
      ]
    },
    {
      "cell_type": "markdown",
      "source": [
        "Debido a que el marco de datos df_def2 está completo y no es necesario codificarlo, nada más trabajaremos sobre los datos faltantes y medidas desproporcionadas en las columnas numéricas y tipo de datos erroneos"
      ],
      "metadata": {
        "id": "BGzWzw4a_AQA"
      }
    },
    {
      "cell_type": "code",
      "source": [
        "#debido a que son pocos datos los que se encuentran vacios los vamos a eliminar\n",
        "df_def2 = df_def2.dropna()"
      ],
      "metadata": {
        "id": "UKXu90eyAVCX"
      },
      "execution_count": null,
      "outputs": []
    },
    {
      "cell_type": "code",
      "source": [
        "df_def2 = df_def2.loc[df_def2[\"edad_mad\"] != \"Sin informacion\",:]"
      ],
      "metadata": {
        "id": "LeZ8EWDGBKcu"
      },
      "execution_count": null,
      "outputs": []
    },
    {
      "cell_type": "code",
      "source": [
        "#cambiamos la edad de la madre de objeto a float\n",
        "df_def2[\"edad_mad\"] = df_def2[\"edad_mad\"].astype(float)"
      ],
      "metadata": {
        "id": "ubKzLbCdBrvu"
      },
      "execution_count": null,
      "outputs": []
    },
    {
      "cell_type": "code",
      "source": [
        "df_def2 = df_def2.loc[df_def2[\"hij_viv\"] != \"Sin informacion\",:]"
      ],
      "metadata": {
        "id": "y71zUx5tCAr3"
      },
      "execution_count": null,
      "outputs": []
    },
    {
      "cell_type": "code",
      "source": [
        "#cambiamos numero de hijos vivos de objeto a float\n",
        "df_def2[\"hij_viv\"] = df_def2[\"hij_viv\"].astype(float)"
      ],
      "metadata": {
        "id": "Ml3M-ixk_hjA"
      },
      "execution_count": null,
      "outputs": []
    },
    {
      "cell_type": "code",
      "source": [
        "df_def2 = df_def2.loc[df_def2[\"hij_vivm\"] != \"Sin informacion\",:]"
      ],
      "metadata": {
        "id": "cdcCGy9cCNUu"
      },
      "execution_count": null,
      "outputs": []
    },
    {
      "cell_type": "code",
      "source": [
        "#cambiamos numero de hijos vivos de objeto a float\n",
        "df_def2[\"hij_vivm\"] = df_def2[\"hij_vivm\"].astype(float)"
      ],
      "metadata": {
        "id": "Oh4V-auZCHgW"
      },
      "execution_count": null,
      "outputs": []
    },
    {
      "cell_type": "code",
      "source": [
        "df_def2 = df_def2.loc[df_def2[\"con_pren\"] != \"Sin informacion\",:]"
      ],
      "metadata": {
        "id": "3WdFH2VhCWn9"
      },
      "execution_count": null,
      "outputs": []
    },
    {
      "cell_type": "code",
      "source": [
        "#cambiamos numero de hijos vivos de objeto a float\n",
        "df_def2[\"con_pren\"] = df_def2[\"con_pren\"].astype(float)"
      ],
      "metadata": {
        "id": "HiGYdIYtCSq2",
        "colab": {
          "base_uri": "https://localhost:8080/"
        },
        "outputId": "acd409ec-0a15-4104-d2c6-25bdd35abd0d"
      },
      "execution_count": null,
      "outputs": [
        {
          "output_type": "stream",
          "name": "stderr",
          "text": [
            "<ipython-input-109-950749a483f6>:2: SettingWithCopyWarning: \n",
            "A value is trying to be set on a copy of a slice from a DataFrame.\n",
            "Try using .loc[row_indexer,col_indexer] = value instead\n",
            "\n",
            "See the caveats in the documentation: https://pandas.pydata.org/pandas-docs/stable/user_guide/indexing.html#returning-a-view-versus-a-copy\n",
            "  df_def2[\"con_pren\"] = df_def2[\"con_pren\"].astype(float)\n"
          ]
        }
      ]
    },
    {
      "cell_type": "code",
      "source": [
        "df_def2.describe()"
      ],
      "metadata": {
        "colab": {
          "base_uri": "https://localhost:8080/",
          "height": 300
        },
        "id": "gdqTcmBq_Ohg",
        "outputId": "6b94e07b-d1a6-43cd-d487-f5cb9d719fd6"
      },
      "execution_count": null,
      "outputs": [
        {
          "output_type": "execute_result",
          "data": {
            "text/plain": [
              "         anio_insc    anio_fall     edad_mad      hij_viv     hij_vivm  \\\n",
              "count  7990.000000  7990.000000  7990.000000  7990.000000  7990.000000   \n",
              "mean   2018.385732  2018.363830    27.116395     1.196496     0.089487   \n",
              "std       1.828112     1.875635     7.295214     1.410913     0.364087   \n",
              "min    2016.000000  1999.000000    12.000000     0.000000     0.000000   \n",
              "25%    2017.000000  2017.000000    21.000000     0.000000     0.000000   \n",
              "50%    2019.000000  2019.000000    26.000000     1.000000     0.000000   \n",
              "75%    2020.000000  2020.000000    32.000000     2.000000     0.000000   \n",
              "max    2021.000000  2021.000000    99.000000    14.000000     7.000000   \n",
              "\n",
              "          hij_nacm     con_pren  \n",
              "count  7990.000000  7990.000000  \n",
              "mean      1.094118     6.052816  \n",
              "std       0.363090    11.629334  \n",
              "min       1.000000     0.000000  \n",
              "25%       1.000000     3.000000  \n",
              "50%       1.000000     5.000000  \n",
              "75%       1.000000     6.000000  \n",
              "max       8.000000    99.000000  "
            ],
            "text/html": [
              "\n",
              "  <div id=\"df-89eed484-1940-4c45-98a3-bac7c6a34b98\">\n",
              "    <div class=\"colab-df-container\">\n",
              "      <div>\n",
              "<style scoped>\n",
              "    .dataframe tbody tr th:only-of-type {\n",
              "        vertical-align: middle;\n",
              "    }\n",
              "\n",
              "    .dataframe tbody tr th {\n",
              "        vertical-align: top;\n",
              "    }\n",
              "\n",
              "    .dataframe thead th {\n",
              "        text-align: right;\n",
              "    }\n",
              "</style>\n",
              "<table border=\"1\" class=\"dataframe\">\n",
              "  <thead>\n",
              "    <tr style=\"text-align: right;\">\n",
              "      <th></th>\n",
              "      <th>anio_insc</th>\n",
              "      <th>anio_fall</th>\n",
              "      <th>edad_mad</th>\n",
              "      <th>hij_viv</th>\n",
              "      <th>hij_vivm</th>\n",
              "      <th>hij_nacm</th>\n",
              "      <th>con_pren</th>\n",
              "    </tr>\n",
              "  </thead>\n",
              "  <tbody>\n",
              "    <tr>\n",
              "      <th>count</th>\n",
              "      <td>7990.000000</td>\n",
              "      <td>7990.000000</td>\n",
              "      <td>7990.000000</td>\n",
              "      <td>7990.000000</td>\n",
              "      <td>7990.000000</td>\n",
              "      <td>7990.000000</td>\n",
              "      <td>7990.000000</td>\n",
              "    </tr>\n",
              "    <tr>\n",
              "      <th>mean</th>\n",
              "      <td>2018.385732</td>\n",
              "      <td>2018.363830</td>\n",
              "      <td>27.116395</td>\n",
              "      <td>1.196496</td>\n",
              "      <td>0.089487</td>\n",
              "      <td>1.094118</td>\n",
              "      <td>6.052816</td>\n",
              "    </tr>\n",
              "    <tr>\n",
              "      <th>std</th>\n",
              "      <td>1.828112</td>\n",
              "      <td>1.875635</td>\n",
              "      <td>7.295214</td>\n",
              "      <td>1.410913</td>\n",
              "      <td>0.364087</td>\n",
              "      <td>0.363090</td>\n",
              "      <td>11.629334</td>\n",
              "    </tr>\n",
              "    <tr>\n",
              "      <th>min</th>\n",
              "      <td>2016.000000</td>\n",
              "      <td>1999.000000</td>\n",
              "      <td>12.000000</td>\n",
              "      <td>0.000000</td>\n",
              "      <td>0.000000</td>\n",
              "      <td>1.000000</td>\n",
              "      <td>0.000000</td>\n",
              "    </tr>\n",
              "    <tr>\n",
              "      <th>25%</th>\n",
              "      <td>2017.000000</td>\n",
              "      <td>2017.000000</td>\n",
              "      <td>21.000000</td>\n",
              "      <td>0.000000</td>\n",
              "      <td>0.000000</td>\n",
              "      <td>1.000000</td>\n",
              "      <td>3.000000</td>\n",
              "    </tr>\n",
              "    <tr>\n",
              "      <th>50%</th>\n",
              "      <td>2019.000000</td>\n",
              "      <td>2019.000000</td>\n",
              "      <td>26.000000</td>\n",
              "      <td>1.000000</td>\n",
              "      <td>0.000000</td>\n",
              "      <td>1.000000</td>\n",
              "      <td>5.000000</td>\n",
              "    </tr>\n",
              "    <tr>\n",
              "      <th>75%</th>\n",
              "      <td>2020.000000</td>\n",
              "      <td>2020.000000</td>\n",
              "      <td>32.000000</td>\n",
              "      <td>2.000000</td>\n",
              "      <td>0.000000</td>\n",
              "      <td>1.000000</td>\n",
              "      <td>6.000000</td>\n",
              "    </tr>\n",
              "    <tr>\n",
              "      <th>max</th>\n",
              "      <td>2021.000000</td>\n",
              "      <td>2021.000000</td>\n",
              "      <td>99.000000</td>\n",
              "      <td>14.000000</td>\n",
              "      <td>7.000000</td>\n",
              "      <td>8.000000</td>\n",
              "      <td>99.000000</td>\n",
              "    </tr>\n",
              "  </tbody>\n",
              "</table>\n",
              "</div>\n",
              "      <button class=\"colab-df-convert\" onclick=\"convertToInteractive('df-89eed484-1940-4c45-98a3-bac7c6a34b98')\"\n",
              "              title=\"Convert this dataframe to an interactive table.\"\n",
              "              style=\"display:none;\">\n",
              "        \n",
              "  <svg xmlns=\"http://www.w3.org/2000/svg\" height=\"24px\"viewBox=\"0 0 24 24\"\n",
              "       width=\"24px\">\n",
              "    <path d=\"M0 0h24v24H0V0z\" fill=\"none\"/>\n",
              "    <path d=\"M18.56 5.44l.94 2.06.94-2.06 2.06-.94-2.06-.94-.94-2.06-.94 2.06-2.06.94zm-11 1L8.5 8.5l.94-2.06 2.06-.94-2.06-.94L8.5 2.5l-.94 2.06-2.06.94zm10 10l.94 2.06.94-2.06 2.06-.94-2.06-.94-.94-2.06-.94 2.06-2.06.94z\"/><path d=\"M17.41 7.96l-1.37-1.37c-.4-.4-.92-.59-1.43-.59-.52 0-1.04.2-1.43.59L10.3 9.45l-7.72 7.72c-.78.78-.78 2.05 0 2.83L4 21.41c.39.39.9.59 1.41.59.51 0 1.02-.2 1.41-.59l7.78-7.78 2.81-2.81c.8-.78.8-2.07 0-2.86zM5.41 20L4 18.59l7.72-7.72 1.47 1.35L5.41 20z\"/>\n",
              "  </svg>\n",
              "      </button>\n",
              "      \n",
              "  <style>\n",
              "    .colab-df-container {\n",
              "      display:flex;\n",
              "      flex-wrap:wrap;\n",
              "      gap: 12px;\n",
              "    }\n",
              "\n",
              "    .colab-df-convert {\n",
              "      background-color: #E8F0FE;\n",
              "      border: none;\n",
              "      border-radius: 50%;\n",
              "      cursor: pointer;\n",
              "      display: none;\n",
              "      fill: #1967D2;\n",
              "      height: 32px;\n",
              "      padding: 0 0 0 0;\n",
              "      width: 32px;\n",
              "    }\n",
              "\n",
              "    .colab-df-convert:hover {\n",
              "      background-color: #E2EBFA;\n",
              "      box-shadow: 0px 1px 2px rgba(60, 64, 67, 0.3), 0px 1px 3px 1px rgba(60, 64, 67, 0.15);\n",
              "      fill: #174EA6;\n",
              "    }\n",
              "\n",
              "    [theme=dark] .colab-df-convert {\n",
              "      background-color: #3B4455;\n",
              "      fill: #D2E3FC;\n",
              "    }\n",
              "\n",
              "    [theme=dark] .colab-df-convert:hover {\n",
              "      background-color: #434B5C;\n",
              "      box-shadow: 0px 1px 3px 1px rgba(0, 0, 0, 0.15);\n",
              "      filter: drop-shadow(0px 1px 2px rgba(0, 0, 0, 0.3));\n",
              "      fill: #FFFFFF;\n",
              "    }\n",
              "  </style>\n",
              "\n",
              "      <script>\n",
              "        const buttonEl =\n",
              "          document.querySelector('#df-89eed484-1940-4c45-98a3-bac7c6a34b98 button.colab-df-convert');\n",
              "        buttonEl.style.display =\n",
              "          google.colab.kernel.accessAllowed ? 'block' : 'none';\n",
              "\n",
              "        async function convertToInteractive(key) {\n",
              "          const element = document.querySelector('#df-89eed484-1940-4c45-98a3-bac7c6a34b98');\n",
              "          const dataTable =\n",
              "            await google.colab.kernel.invokeFunction('convertToInteractive',\n",
              "                                                     [key], {});\n",
              "          if (!dataTable) return;\n",
              "\n",
              "          const docLinkHtml = 'Like what you see? Visit the ' +\n",
              "            '<a target=\"_blank\" href=https://colab.research.google.com/notebooks/data_table.ipynb>data table notebook</a>'\n",
              "            + ' to learn more about interactive tables.';\n",
              "          element.innerHTML = '';\n",
              "          dataTable['output_type'] = 'display_data';\n",
              "          await google.colab.output.renderOutput(dataTable, element);\n",
              "          const docLink = document.createElement('div');\n",
              "          docLink.innerHTML = docLinkHtml;\n",
              "          element.appendChild(docLink);\n",
              "        }\n",
              "      </script>\n",
              "    </div>\n",
              "  </div>\n",
              "  "
            ]
          },
          "metadata": {},
          "execution_count": 110
        }
      ]
    },
    {
      "cell_type": "code",
      "source": [
        "df_def2[\"con_pren\"].value_counts()"
      ],
      "metadata": {
        "colab": {
          "base_uri": "https://localhost:8080/"
        },
        "id": "c7n4v2RtKhb5",
        "outputId": "b051cb69-6d1b-42c2-c24e-86f3897ac96b"
      },
      "execution_count": null,
      "outputs": [
        {
          "output_type": "execute_result",
          "data": {
            "text/plain": [
              "5.0     1286\n",
              "4.0     1122\n",
              "6.0     1029\n",
              "3.0      979\n",
              "0.0      673\n",
              "7.0      652\n",
              "2.0      649\n",
              "8.0      563\n",
              "1.0      343\n",
              "9.0      231\n",
              "10.0     208\n",
              "99.0     116\n",
              "12.0      51\n",
              "15.0      36\n",
              "11.0      17\n",
              "20.0      10\n",
              "25.0       6\n",
              "14.0       6\n",
              "13.0       5\n",
              "16.0       3\n",
              "18.0       2\n",
              "17.0       1\n",
              "23.0       1\n",
              "19.0       1\n",
              "Name: con_pren, dtype: int64"
            ]
          },
          "metadata": {},
          "execution_count": 111
        }
      ]
    },
    {
      "cell_type": "code",
      "source": [
        "#eliminamos los controles prenatales de 99\n",
        "df_def2 = df_def2.loc[df_def2[\"con_pren\"] != 99,:]"
      ],
      "metadata": {
        "id": "H5U9eEfPEUH8"
      },
      "execution_count": null,
      "outputs": []
    },
    {
      "cell_type": "markdown",
      "source": [
        "## Concatenación de datos de todos los años"
      ],
      "metadata": {
        "id": "QQhckwIRDDOv"
      }
    },
    {
      "cell_type": "code",
      "source": [
        "defunciones = pd.concat([df_def2, df_def])"
      ],
      "metadata": {
        "id": "_gPy7d1_1b2p"
      },
      "execution_count": null,
      "outputs": []
    },
    {
      "cell_type": "code",
      "source": [
        "defunciones.info()"
      ],
      "metadata": {
        "colab": {
          "base_uri": "https://localhost:8080/"
        },
        "id": "9yWTCI0U1s3I",
        "outputId": "8532e7cb-11f0-4e64-939e-7affca57b6f1"
      },
      "execution_count": null,
      "outputs": [
        {
          "output_type": "stream",
          "name": "stdout",
          "text": [
            "<class 'pandas.core.frame.DataFrame'>\n",
            "Int64Index: 11594 entries, 0 to 1856\n",
            "Data columns (total 30 columns):\n",
            " #   Column       Non-Null Count  Dtype  \n",
            "---  ------       --------------  -----  \n",
            " 0   prov_insc    11594 non-null  object \n",
            " 1   cant_insc    11594 non-null  object \n",
            " 2   parr_insc    9442 non-null   object \n",
            " 3   anio_insc    11594 non-null  float64\n",
            " 4   mes_insc     11594 non-null  object \n",
            " 5   sexo         11594 non-null  object \n",
            " 6   sem_gest     11594 non-null  object \n",
            " 7   anio_fall    11594 non-null  float64\n",
            " 8   mes_fall     11594 non-null  object \n",
            " 9   asis_por     11594 non-null  object \n",
            " 10  p_emb        11594 non-null  object \n",
            " 11  lugar_ocur   11594 non-null  object \n",
            " 12  prov_fall    11594 non-null  object \n",
            " 13  cant_fall    11594 non-null  object \n",
            " 14  parr_fall    11402 non-null  object \n",
            " 15  area_fall    11594 non-null  object \n",
            " 16  causa_fetal  11594 non-null  object \n",
            " 17  edad_mad     11594 non-null  float64\n",
            " 18  hij_viv      11594 non-null  float64\n",
            " 19  hij_vivm     11594 non-null  float64\n",
            " 20  hij_nacm     11594 non-null  float64\n",
            " 21  con_pren     11594 non-null  float64\n",
            " 22  etnia        11594 non-null  object \n",
            " 23  est_civil    11594 non-null  object \n",
            " 24  sabe_leer    11594 non-null  object \n",
            " 25  niv_inst     11594 non-null  object \n",
            " 26  prov_res     11593 non-null  object \n",
            " 27  cant_res     11593 non-null  object \n",
            " 28  parr_res     10401 non-null  object \n",
            " 29  area_res     11594 non-null  object \n",
            "dtypes: float64(7), object(23)\n",
            "memory usage: 2.7+ MB\n"
          ]
        }
      ]
    },
    {
      "cell_type": "code",
      "source": [
        "defunciones[\"sexo\"].value_counts()"
      ],
      "metadata": {
        "colab": {
          "base_uri": "https://localhost:8080/"
        },
        "id": "_K9ZsXfM8Tr0",
        "outputId": "3a882649-3668-415a-8478-63ba2f8f445d"
      },
      "execution_count": null,
      "outputs": [
        {
          "output_type": "execute_result",
          "data": {
            "text/plain": [
              "Hombre             6395\n",
              "Mujer              5056\n",
              "Indeterminado       133\n",
              "Sin informacion      10\n",
              "Name: sexo, dtype: int64"
            ]
          },
          "metadata": {},
          "execution_count": 115
        }
      ]
    },
    {
      "cell_type": "code",
      "source": [
        "defunciones[\"sem_gest\"].value_counts()"
      ],
      "metadata": {
        "colab": {
          "base_uri": "https://localhost:8080/"
        },
        "id": "4hygkOpy8Z20",
        "outputId": "eadbdbda-3983-46aa-ec7d-49ca5f34f601"
      },
      "execution_count": null,
      "outputs": [
        {
          "output_type": "execute_result",
          "data": {
            "text/plain": [
              "22                 479\n",
              "38                 461\n",
              "37                 446\n",
              "22                 410\n",
              "36                 349\n",
              "39                 339\n",
              "35                 325\n",
              "24                 324\n",
              "38                 309\n",
              "23                 305\n",
              "37                 300\n",
              "34                 297\n",
              "32                 290\n",
              "30                 282\n",
              "40                 273\n",
              "25                 273\n",
              "28                 267\n",
              "36                 261\n",
              "26                 251\n",
              "24                 246\n",
              "33                 243\n",
              "39                 240\n",
              "20                 234\n",
              "34                 232\n",
              "35                 228\n",
              "33                 213\n",
              "31                 212\n",
              "32                 212\n",
              "27                 201\n",
              "30                 199\n",
              "23                 191\n",
              "21                 188\n",
              "20                 182\n",
              "40                 181\n",
              "25                 178\n",
              "29                 173\n",
              "28                 168\n",
              "26                 152\n",
              "29                 142\n",
              "27                 134\n",
              "31                 132\n",
              "21                 107\n",
              "18                 104\n",
              "41                  89\n",
              "19                  78\n",
              "16                  77\n",
              "19                  71\n",
              "18                  60\n",
              "41                  56\n",
              "42                  50\n",
              "17                  49\n",
              "16                  49\n",
              "17                  48\n",
              "Sin informacion     34\n",
              "15                  31\n",
              "42                  29\n",
              "14                  27\n",
              "12                  25\n",
              "14                  25\n",
              "15                  22\n",
              "12                  13\n",
              "99                  12\n",
              "13                   8\n",
              "13                   8\n",
              "Name: sem_gest, dtype: int64"
            ]
          },
          "metadata": {},
          "execution_count": 116
        }
      ]
    },
    {
      "cell_type": "code",
      "source": [
        "#eliminamos datos de sem gest sin informacion\n",
        "defunciones = defunciones.loc[defunciones[\"sem_gest\"] != \"Sin informacion\",:]"
      ],
      "metadata": {
        "id": "ogCxtgBS8mxM"
      },
      "execution_count": null,
      "outputs": []
    },
    {
      "cell_type": "code",
      "source": [
        "#cambiamos los datos a float\n",
        "defunciones[\"sem_gest\"] = defunciones[\"sem_gest\"].astype(float)"
      ],
      "metadata": {
        "id": "SjWGSF5J87UY",
        "colab": {
          "base_uri": "https://localhost:8080/"
        },
        "outputId": "660b949d-3c9c-4ead-c069-efd344f63c9c"
      },
      "execution_count": null,
      "outputs": [
        {
          "output_type": "stream",
          "name": "stderr",
          "text": [
            "<ipython-input-118-fdcf7598a71d>:2: SettingWithCopyWarning: \n",
            "A value is trying to be set on a copy of a slice from a DataFrame.\n",
            "Try using .loc[row_indexer,col_indexer] = value instead\n",
            "\n",
            "See the caveats in the documentation: https://pandas.pydata.org/pandas-docs/stable/user_guide/indexing.html#returning-a-view-versus-a-copy\n",
            "  defunciones[\"sem_gest\"] = defunciones[\"sem_gest\"].astype(float)\n"
          ]
        }
      ]
    },
    {
      "cell_type": "code",
      "source": [
        "defunciones[\"asis_por\"].value_counts()"
      ],
      "metadata": {
        "colab": {
          "base_uri": "https://localhost:8080/"
        },
        "id": "-FL3-q669q28",
        "outputId": "d8646c91-d26c-4052-c81d-f279b5818265"
      },
      "execution_count": null,
      "outputs": [
        {
          "output_type": "execute_result",
          "data": {
            "text/plain": [
              "Medico/a                      7185\n",
              "Medico                        3438\n",
              "Obstetriz/Obstetra             499\n",
              "Obstetra                       193\n",
              "Otro                           119\n",
              "Medico Legista                  98\n",
              "Partero_a_no_calificado         11\n",
              "Partero_a_calificad              8\n",
              "Auxiliar_enfermeria              4\n",
              "Partero/a no calilficado/a       3\n",
              "Partero/a calificado/a           1\n",
              "Enfermero_a                      1\n",
              "Name: asis_por, dtype: int64"
            ]
          },
          "metadata": {},
          "execution_count": 119
        }
      ]
    },
    {
      "cell_type": "code",
      "source": [
        "#corrección de clases en la columna asis_por\n",
        "defunciones['asis_por'] = defunciones['asis_por'].replace({'Medico/a': 'Medico',\"Obstetriz/Obstetra\":\"Obstetra\",\"Partero_a_no_calificado\":\"Partero/a no calilficado/a\",\"Partero_a_calificad\":\"Partero/a calificado/a\"})"
      ],
      "metadata": {
        "id": "0pZm7rTO9vpE",
        "colab": {
          "base_uri": "https://localhost:8080/"
        },
        "outputId": "98c57e0c-b571-4034-f09f-a9c6909fb8a9"
      },
      "execution_count": null,
      "outputs": [
        {
          "output_type": "stream",
          "name": "stderr",
          "text": [
            "<ipython-input-120-a257989f35b3>:2: SettingWithCopyWarning: \n",
            "A value is trying to be set on a copy of a slice from a DataFrame.\n",
            "Try using .loc[row_indexer,col_indexer] = value instead\n",
            "\n",
            "See the caveats in the documentation: https://pandas.pydata.org/pandas-docs/stable/user_guide/indexing.html#returning-a-view-versus-a-copy\n",
            "  defunciones['asis_por'] = defunciones['asis_por'].replace({'Medico/a': 'Medico',\"Obstetriz/Obstetra\":\"Obstetra\",\"Partero_a_no_calificado\":\"Partero/a no calilficado/a\",\"Partero_a_calificad\":\"Partero/a calificado/a\"})\n"
          ]
        }
      ]
    },
    {
      "cell_type": "code",
      "source": [
        "defunciones[\"asis_por\"].value_counts()"
      ],
      "metadata": {
        "colab": {
          "base_uri": "https://localhost:8080/"
        },
        "id": "9y72_Xcy_Kx7",
        "outputId": "2beeace8-b2de-42e3-f040-d105e0b7cce2"
      },
      "execution_count": null,
      "outputs": [
        {
          "output_type": "execute_result",
          "data": {
            "text/plain": [
              "Medico                        10623\n",
              "Obstetra                        692\n",
              "Otro                            119\n",
              "Medico Legista                   98\n",
              "Partero/a no calilficado/a       14\n",
              "Partero/a calificado/a            9\n",
              "Auxiliar_enfermeria               4\n",
              "Enfermero_a                       1\n",
              "Name: asis_por, dtype: int64"
            ]
          },
          "metadata": {},
          "execution_count": 121
        }
      ]
    },
    {
      "cell_type": "code",
      "source": [
        "defunciones[\"p_emb\"].value_counts()"
      ],
      "metadata": {
        "colab": {
          "base_uri": "https://localhost:8080/"
        },
        "id": "X58Y2rkq_lYS",
        "outputId": "391b59f3-a509-4073-ca4d-cfe9a2d785b3"
      },
      "execution_count": null,
      "outputs": [
        {
          "output_type": "execute_result",
          "data": {
            "text/plain": [
              "Simple             10950\n",
              "Doble                548\n",
              "Triple                49\n",
              "Cuadruple              8\n",
              "Cuadruple o mas        4\n",
              "Cuadruple_o_mas        1\n",
              "Name: p_emb, dtype: int64"
            ]
          },
          "metadata": {},
          "execution_count": 122
        }
      ]
    },
    {
      "cell_type": "code",
      "source": [
        "#correccion de clases\n",
        "defunciones['p_emb'] = defunciones['p_emb'].replace({'Cuadruple o mas': 'Cuadruple_o_mas'})"
      ],
      "metadata": {
        "id": "frW0O93o_rmK",
        "colab": {
          "base_uri": "https://localhost:8080/"
        },
        "outputId": "de60af03-67e8-4a8f-f0b7-2c66c39a0a9a"
      },
      "execution_count": null,
      "outputs": [
        {
          "output_type": "stream",
          "name": "stderr",
          "text": [
            "<ipython-input-123-b06ba0659a00>:2: SettingWithCopyWarning: \n",
            "A value is trying to be set on a copy of a slice from a DataFrame.\n",
            "Try using .loc[row_indexer,col_indexer] = value instead\n",
            "\n",
            "See the caveats in the documentation: https://pandas.pydata.org/pandas-docs/stable/user_guide/indexing.html#returning-a-view-versus-a-copy\n",
            "  defunciones['p_emb'] = defunciones['p_emb'].replace({'Cuadruple o mas': 'Cuadruple_o_mas'})\n"
          ]
        }
      ]
    },
    {
      "cell_type": "code",
      "source": [
        "defunciones[\"lugar_ocur\"].value_counts()"
      ],
      "metadata": {
        "colab": {
          "base_uri": "https://localhost:8080/"
        },
        "id": "bZT3rgq3_-CL",
        "outputId": "c02032cc-7697-47ce-8a1b-e7248bb665f8"
      },
      "execution_count": null,
      "outputs": [
        {
          "output_type": "execute_result",
          "data": {
            "text/plain": [
              "Establecimiento del Ministerio de Salud        5297\n",
              "Establecimiento_ministerio_de_salud            1946\n",
              "Hospital, Clinica o Consultorio Privado         877\n",
              "Establecimiento de la Junta de Beneficencia     682\n",
              "Establecimiento del IESS                        680\n",
              "Establecimiento_junta_beneficiaria              594\n",
              "Hospital_clinica_consultorio_privado            564\n",
              "Casa                                            348\n",
              "Establecimiento_IESS                            312\n",
              "Otro_establecimiento_publico                    121\n",
              "Otro                                             73\n",
              "Otro Establecimiento Publico                     66\n",
              "Name: lugar_ocur, dtype: int64"
            ]
          },
          "metadata": {},
          "execution_count": 124
        }
      ]
    },
    {
      "cell_type": "code",
      "source": [
        "#correccion de clases\n",
        "defunciones['lugar_ocur'] = defunciones['lugar_ocur'].replace({'Establecimiento del Ministerio de Salud': 'Establecimiento_ministerio_de_salud',\"Hospital, Clinica o Consultorio Privado\":\"Hospital_clinica_consultorio_privado\",\"Establecimiento del IESS\":\"Establecimiento_IESS\",\"Establecimiento de la Junta de Beneficencia\":\"Establecimiento_junta_beneficiaria\",\"Otro Establecimiento Publico\":\"Otro_establecimiento_publico\"})"
      ],
      "metadata": {
        "id": "kuufBaOLAJdi"
      },
      "execution_count": null,
      "outputs": []
    },
    {
      "cell_type": "code",
      "source": [
        "defunciones[\"lugar_ocur\"].value_counts()"
      ],
      "metadata": {
        "colab": {
          "base_uri": "https://localhost:8080/"
        },
        "id": "eIvuUpx5AwzK",
        "outputId": "21bd371a-9435-4fb5-dd6a-b01a716da4cc"
      },
      "execution_count": null,
      "outputs": [
        {
          "output_type": "execute_result",
          "data": {
            "text/plain": [
              "Establecimiento_ministerio_de_salud     7243\n",
              "Hospital_clinica_consultorio_privado    1441\n",
              "Establecimiento_junta_beneficiaria      1276\n",
              "Establecimiento_IESS                     992\n",
              "Casa                                     348\n",
              "Otro_establecimiento_publico             187\n",
              "Otro                                      73\n",
              "Name: lugar_ocur, dtype: int64"
            ]
          },
          "metadata": {},
          "execution_count": 126
        }
      ]
    },
    {
      "cell_type": "code",
      "source": [
        "defunciones[\"area_fall\"].value_counts()"
      ],
      "metadata": {
        "colab": {
          "base_uri": "https://localhost:8080/"
        },
        "id": "H-zR2B3WAzCi",
        "outputId": "83e621ca-dc97-4c4d-ebc5-0a0b39bcfe76"
      },
      "execution_count": null,
      "outputs": [
        {
          "output_type": "execute_result",
          "data": {
            "text/plain": [
              "Urbana    11167\n",
              "Rural       393\n",
              "Name: area_fall, dtype: int64"
            ]
          },
          "metadata": {},
          "execution_count": 127
        }
      ]
    },
    {
      "cell_type": "code",
      "source": [
        "defunciones[\"causa_fetal\"].value_counts()"
      ],
      "metadata": {
        "colab": {
          "base_uri": "https://localhost:8080/"
        },
        "id": "2rDof6EwA5oS",
        "outputId": "82d9a30c-5d08-49da-f406-9bc87f2b1c01"
      },
      "execution_count": null,
      "outputs": [
        {
          "output_type": "execute_result",
          "data": {
            "text/plain": [
              "Hipoxia intrauterina, no especificada                                                                                       4751\n",
              "Muerte fetal de causa no especificada                                                                                       3314\n",
              "Feto y recien nacido afectados por otras formas de desprendimiento y de hemorragia placentarios                              576\n",
              "Inmaturidad extrema                                                                                                          281\n",
              "Feto y recien nacido afectados por trastornos hipertensivos de la madre                                                      251\n",
              "Malformacion congenita, no especificada                                                                                      209\n",
              "Feto y recien nacido afectados por oligohidramnios                                                                           163\n",
              "Feto y recien nacido afectados por otra compresion del cordon umbilical                                                      135\n",
              "Feto y recien nacido afectados por ruptura prematura de las membranas                                                        134\n",
              "Malformaciones congenitas multiples, no clasificadas en otra parte                                                           118\n",
              "Feto y recien nacido afectados por otras anormalidades morfologicas y funcionales de la placenta y las no especific          100\n",
              "Afeccion no especificada originada en el periodo perinatal                                                                    89\n",
              "Feto y recien nacido afectados por corioamnionitis                                                                            81\n",
              "Feto y recien nacido afectados por otras anormalidades morfologicas y funcionales de la placenta y las no especificadas       79\n",
              "Otros recien nacidos pretermino                                                                                               63\n",
              "Hidropesia fetal no debida a enfermedad hemolitica                                                                            53\n",
              "Anencefalia                                                                                                                   50\n",
              "Feto y recien nacido afectados por polihidramnios                                                                             49\n",
              "Asfixia del nacimiento, no especificada                                                                                       38\n",
              "Feto y recien nacido afectados por otras anormalidades morfologicas y funcionales de la placenta y las no especificada        38\n",
              "Feto y recien nacido afectados por otras complicaciones del cordon umbilical y las no especificadas                           36\n",
              "Sindrome del recien nacido de madre con diabetes gestacional                                                                  34\n",
              "Feto y recien nacido afectados por traumatismo de la madre                                                                    33\n",
              "Malformacion congenita del corazon, no especificada                                                                           32\n",
              "Hipoxia intrauterina notada por primera vez antes del inicio del trabajo de parto                                             32\n",
              "Feto y recien nacido afectados por otras complicaciones maternas del embarazo                                                 32\n",
              "Feto y recien nacido afectados por muerte materna                                                                             29\n",
              "Feto y recien nacido afectados por Otras afecciones maternas                                                                  27\n",
              "Feto y recien nacido afectados por enfermedades renales y de las vias urinarias de la madre                                   25\n",
              "Retardo del crecimiento fetal, no especificado                                                                                24\n",
              "Feto y recien nacido afectados por sindromes de transfusion placentaria                                                       24\n",
              "Otras afecciones especificadas originadas en el periodo perinatal                                                             22\n",
              "Hidropesia fetal debida a otras enfermedades hemoliticas especificadas y a las no especificadas                               21\n",
              "Feto y recien nacido afectados por placenta previa                                                                            21\n",
              "Feto y recien nacido afectados por anormalidad no especificada de las membranas                                               21\n",
              "Feto y recien nacido afectados por enfermedades infecciosas y parasitarias de la madre                                        20\n",
              "Feto y recien nacido afectados por incompetencia del cuello uterino                                                           20\n",
              "Aspiracion neonatal de meconio                                                                                                19\n",
              "Feto y recien nacido afectados por embarazo multiple                                                                          18\n",
              "Hidrocefalo congenito, no especificado                                                                                        15\n",
              "Sindrome del recien nacido de madre diabetica                                                                                 15\n",
              "Feto y recien nacido afectados por prolapso del cordon umbilical                                                              15\n",
              "Feto y recien nacido afectados por prolapso el cordon umbilical                                                               14\n",
              "Hipoxia intrauterina notada por primera vez durante el trabajo de parto y el parto                                            14\n",
              "Malformacion congenita del encefalo, no especificada                                                                          13\n",
              "Feto y recien nacido afectados por afeccion materna no especificada                                                           12\n",
              "Anomalia cromosomica, no especificada                                                                                         12\n",
              " Feto y recien nacido afectados por otras complicaciones especificadas del trabajo de parto y del parto                       12\n",
              "Sindrome de dificultad respiratoria del recien nacido                                                                         10\n",
              "Feto y recien nacido afectados por presentacion anomala antes del trabajo de parto                                            10\n",
              "Sepsis bacteriana del recien nacido, no especificada                                                                          10\n",
              "Sindrome de edwards, no especificado                                                                                           9\n",
              "Infeccion intraamniotica del feto, no clasificada en otra parte                                                                8\n",
              "Feto y recien nacido afectados por contracciones uterinas anormales                                                            8\n",
              "Infeccion propia del periodo perinatal, no especificada                                                                        7\n",
              "Sindrome de Down, no especificado                                                                                              7\n",
              "Feto y recien nacido afectados por otras enfermedades circulatorias y respiratorias de la madre                                7\n",
              "Agenesia renal, sin otra especificacion                                                                                        7\n",
              "Malformacion congenita de las c maras cardiacas y sus conexiones, no especificada                                              7\n",
              "Otras anomalias hipopl sicas del encefalo                                                                                      6\n",
              "Feto y recien nacido afectados por complicaciones maternas no especificadas del embarazo                                       6\n",
              "Feto y recien nacido afectados por complicaciones no especificadas del trabajo de parto y del parto                            6\n",
              "Malformacion congenita del sistema nervioso, no especificada                                                                   6\n",
              "Feto y recien nacido afectados por otras complicaciones especificadas del trabajo de parto y del parto                         6\n",
              "Disritmia cardiaca neonatal                                                                                                    6\n",
              "Toxoplasmosis congenita                                                                                                        5\n",
              "Feto y recien nacido afectados por otra presentacion anomala, posicion anomala y desproporcion durante el trabajo d            5\n",
              "Feto y recien nacido afectados por drogradiccion materna                                                                       5\n",
              "Trastorno cardiovascular no especificado, originado en el periodo perinatal                                                    5\n",
              "Holoprosencefalia                                                                                                              5\n",
              "Exonfalos                                                                                                                      4\n",
              "Gastrosquisis                                                                                                                  4\n",
              "Tetralogia de fallot                                                                                                           4\n",
              "Espina bifida, no especificada                                                                                                 4\n",
              "Trisomia 18, por translocacion                                                                                                 4\n",
              "Feto y recien nacido afectados por otras anormalidades de las membranas                                                        4\n",
              "Feto y recien nacido afectados por otras afecciones maternas                                                                   4\n",
              "Dificultad respiratoria del recien nacido, no especificada                                                                     4\n",
              "Terminacion del embarazo, feto y recien nacido                                                                                 4\n",
              "Feto y recien nacido afectados por otra presentacion anomala, posicion anomala y desproporcion durante el trabajo de par       4\n",
              "Diabetes mellitus neonatal                                                                                                     3\n",
              "Atelectasia primaria del recien nacido                                                                                         3\n",
              "Coagulacion intravascular diseminada en el feto y el recien nacido                                                             3\n",
              "Quistes cerebrales congenitos                                                                                                  3\n",
              "Malformacion congenita del intestino, no especificada                                                                          3\n",
              "Agenesia del pulmon                                                                                                            3\n",
              "Ri¤on poliquistico, tipo no especificado                                                                                       3\n",
              "Incompatibilidad rh del feto y del recien nacido                                                                               3\n",
              "Feto y recien nacido afectados por trastornos nutricionales de la madre                                                        3\n",
              "Recien nacido postermino sin sobrepeso para su edad gestacional                                                                3\n",
              "Otras malformaciones congenitas especificadas del sistema respiratorio                                                         3\n",
              "Feto y recien nacido afectados por otras medicaciones maternas                                                                 3\n",
              "Sindrome del tapon de meconio                                                                                                  3\n",
              "Malformacion congenita no especificada de los huesos del craneo y de la cara                                                   3\n",
              "Sindrome de potter                                                                                                             3\n",
              "Otras malformaciones congenitas de las camaras cardiacas y sus conexiones                                                      2\n",
              "Otros trastornos neonatales transitorios de la coagulacion                                                                     2\n",
              "Otros trastornos cardiovasculares originados en el periodo perinatal                                                           2\n",
              "Gemelos siameses                                                                                                               2\n",
              "Hernia diafragmatica congenita                                                                                                 2\n",
              "Desnutricion fetal, sin mencion de peso o talla bajos para la edad gestacional                                                 2\n",
              "Otras malformaciones congenitas del intestino, especificadas                                                                   2\n",
              "Aspiracion neonatal de liquido amniotico y de moco                                                                             2\n",
              " Hipoplasia y displasia pulmonar                                                                                               2\n",
              "Defecto del tabique ventricular                                                                                                2\n",
              "Hipoxia intrauterina                                                                                                           2\n",
              "Feto y recien nacido afectados por embarazo ectopico                                                                           2\n",
              "Hipertension neonatal                                                                                                          2\n",
              "Otros sindromes de malformaciones congenitas especificados, no clasificados en otra parte                                      2\n",
              "Trastorno metabolico transitorio del recien nacido, no especificado                                                            2\n",
              "Malformacion arteriovenosa de los vasos cerebrales                                                                             2\n",
              "Retardo del crecimiento fetal y desnutricion fetal                                                                             2\n",
              "Traumatismo no especificado, durante el nacimiento                                                                             2\n",
              "Incompatibilidad RH del feto y del recien nacido                                                                               2\n",
              "Encefalocele, no especificado                                                                                                  2\n",
              "Feto y recien nacido afectados por parto precipitado                                                                           2\n",
              "Aspiracion neonatal de leche y alimento regurgitado                                                                            2\n",
              " Feto y recien nacido afectados por complicaciones maternas no especificadas del embarazo                                      2\n",
              "Malformacion congenita de la cara y del cuello, no especificada                                                                2\n",
              "Feto y recien nacido afectados por otra presentacion anomala, posicion anomala y desproporcion durante el trabajo              2\n",
              "Insuficiencia respiratoria del recien nacido                                                                                   2\n",
              "Asfixia del nacimiento, severa                                                                                                 2\n",
              "Insuficiencia cardiaca neonatal                                                                                                2\n",
              "Neumonia congenita, organismo no especificado                                                                                  1\n",
              "Reacciones e intoxicaciones debidas a drogas administradas al feto y al recien nacido                                          1\n",
              "Espina bifida lumbar sin hidrocefalo                                                                                           1\n",
              "Sindromes de malformaciones congenitas que afectan principalmente los miembros                                                 1\n",
              "Otros hidrocefalos congenitos                                                                                                  1\n",
              "Hidropesia fetal debida a incompatibilidad                                                                                     1\n",
              "Feto y recien nacido afectados por procedimiento quirurgico en la madre                                                        1\n",
              "Otras hipoglicemias neonatales                                                                                                 1\n",
              "Persistencia de la circulacion fetal                                                                                           1\n",
              "Trastornos cardiovasculares originados en el periodo perinatal                                                                 1\n",
              "Perdida de sangre fetal por ruptura del cordon umbilical                                                                       1\n",
              "Otro peso bajo al nacer                                                                                                        1\n",
              "Sindrome de patau, no especificado                                                                                             1\n",
              "Feto y recien nacido afectados por otro procedimiento medico en la madre, no clasificado en otra parte                         1\n",
              "Hemorragia subaracnoidea (no traum tica) del feto y del recien nacido                                                          1\n",
              "Hemorragia traqueobronquial originada en el periodo perinatal                                                                  1\n",
              "Encefalocele de otros sitios                                                                                                   1\n",
              "Hipoplasia y displasia pulmonar                                                                                                1\n",
              "Ausencia, atresia y estenosis congenita del intestino delgado, parte no especificada                                           1\n",
              "Otras afecciones originadas en el periodo perinatal                                                                            1\n",
              "Hemorragia intracraneal (no traum tica) del feto y del recien nacido, sin otra especificacion                                  1\n",
              "Malformacion congenita de la medula espinal, no especificada                                                                   1\n",
              "Atresia de los agujeros de magendie y de luschka                                                                               1\n",
              "Espina bifida con hidrocefalo, sin otra especificacion                                                                         1\n",
              "Ausencia e hipoplasia congenita de la arteria umbilical                                                                        1\n",
              "Malformacion congenita del sistema respiratorio, no especificada                                                               1\n",
              "Atresia del esofago sin mencion de fistula                                                                                     1\n",
              "Enfermedad viral congenita, sin otra especificacion                                                                            1\n",
              "Obstruccion intestinal del recien nacido, no especificada                                                                      1\n",
              "Asfixia del nacimiento, leve y moderada                                                                                        1\n",
              "Otras malformaciones congenitas de los bronquios                                                                               1\n",
              "Trastorno hematologico perinatal, no especificado                                                                              1\n",
              "Anomalia de ebstein                                                                                                            1\n",
              "Hemorragia intracerebral (no traum tica) del feto y del recien nacido                                                          1\n",
              "Enfermedad de Hirschsprung                                                                                                     1\n",
              "Hemorragia intraventricular (no traum tica) del feto y del recien nacido, sin otra especificacion                              1\n",
              "Sindrome de Wilson-Mikity                                                                                                      1\n",
              "Anemia de la prematuridad                                                                                                      1\n",
              "Estenosis congenita de la v lvula aortica                                                                                      1\n",
              "Fisura del paladar unilateral, sin otra especificacion                                                                         1\n",
              "Equimosis del cuero cabelludo debida a traumatismo del nacimiento                                                              1\n",
              "Ausencia, atresia y estenosis congenita del duodeno                                                                            1\n",
              "Otras anomalias cromosomicas, no clasificadas en otra parte                                                                    1\n",
              "Ictiosis congenita, no especificada                                                                                            1\n",
              "Otros recien nacidos con sobrepeso para la edad gestacional                                                                    1\n",
              "Acondroplasia                                                                                                                  1\n",
              "Rinon poliquistico, tipo no especificado                                                                                       1\n",
              "Perdida de sangre fetal, no especificada                                                                                       1\n",
              "Malformacion congenita de los organos genitales masculinos, no especificada                                                    1\n",
              "Estenosis congenita de la valvula tricuspide                                                                                   1\n",
              "Feto y recien nacido afectados por parto y extraccion de nalgas                                                                1\n",
              "Feto arlequin                                                                                                                  1\n",
              "Enanismo tanatoforico                                                                                                          1\n",
              "Otras malformaciones congenitas especificadas de los huesos del craneo y de la cara                                            1\n",
              "Sindrome de arnold-chiari                                                                                                      1\n",
              " Otras malformaciones congenitas de la traquea                                                                                 1\n",
              "Otros edemas y los no especificados, propios del feto y del recien nacido                                                      1\n",
              "Malformacion congenita del rinon, no especificada                                                                              1\n",
              "Otras malformaciones congenitas especificadas de cara y cuello                                                                 1\n",
              "Encefalocele occipital                                                                                                         1\n",
              "Hemorragia cerebral debida a traumatismo del nacimiento                                                                        1\n",
              "Otras malformaciones congenitas, especificadas                                                                                 1\n",
              "Malformacion congenita del esofago, no especificada                                                                            1\n",
              "Feto y recien nacido afectados por tabaquismo de la madre                                                                      1\n",
              "Otras malformaciones congenitas de la vejiga y de la uretra                                                                    1\n",
              "Otras afecciones relacionadas con el enfisema intersticial, originadas en el periodo perinatal                                 1\n",
              "Candidiasis neonatal                                                                                                           1\n",
              "Enfermedad hemolitica del feto y del recien nacido, no especificada                                                            1\n",
              "Otras deformidades congenitas del craneo, de la cara y de la mandibula                                                         1\n",
              "Feto y recien nacido afectados por alcoholismo de la madre                                                                     1\n",
              "Otros traumatismos especificados, durante el nacimiento                                                                        1\n",
              "Malformacion congenita del sistema digestivo, no especificada                                                                  1\n",
              "Otras malformaciones congenitas de la boca                                                                                     1\n",
              "Malformacion congenita de la valvula tricuspide, no especificada                                                               1\n",
              "Hemorragia subaracnoidea (no traumatica) del feto y del recien nacido                                                          1\n",
              "Osteocondrodisplasia con defectos del crecimiento de los huesos largos y de la columna vertebral, sin otra especificaci        1\n",
              "Trisomia 21, por falta de disyuncion meiotica                                                                                  1\n",
              "Otras malformaciones congenitas del higado                                                                                     1\n",
              "Otros trastornos perinatales especificos del sistema digestivo                                                                 1\n",
              "Otras malformaciones congenitas del encefalo, especificadas                                                                    1\n",
              "Focomelia, miembro(s) no especificado(s)                                                                                       1\n",
              "Enfermedad quistica del rinon, no especificada                                                                                 1\n",
              "Osteocondrodisplasia, no especificada                                                                                          1\n",
              "Perdida de sangre fetal por la placenta                                                                                        1\n",
              "Name: causa_fetal, dtype: int64"
            ]
          },
          "metadata": {},
          "execution_count": 128
        }
      ]
    },
    {
      "cell_type": "code",
      "source": [
        "defunciones[\"edad_mad\"].value_counts()"
      ],
      "metadata": {
        "colab": {
          "base_uri": "https://localhost:8080/"
        },
        "id": "emSXDYjkBDDK",
        "outputId": "5d093342-72be-4980-e741-80beea0285b7"
      },
      "execution_count": null,
      "outputs": [
        {
          "output_type": "execute_result",
          "data": {
            "text/plain": [
              "20.0    580\n",
              "21.0    565\n",
              "19.0    562\n",
              "22.0    553\n",
              "26.0    535\n",
              "24.0    532\n",
              "23.0    521\n",
              "30.0    516\n",
              "27.0    513\n",
              "28.0    512\n",
              "25.0    492\n",
              "29.0    472\n",
              "18.0    471\n",
              "31.0    436\n",
              "32.0    419\n",
              "17.0    411\n",
              "33.0    385\n",
              "34.0    383\n",
              "35.0    352\n",
              "36.0    318\n",
              "37.0    315\n",
              "38.0    280\n",
              "16.0    275\n",
              "39.0    225\n",
              "40.0    189\n",
              "15.0    164\n",
              "41.0    141\n",
              "42.0    134\n",
              "43.0    105\n",
              "14.0     79\n",
              "44.0     51\n",
              "45.0     27\n",
              "13.0     15\n",
              "46.0     15\n",
              "47.0      7\n",
              "12.0      4\n",
              "48.0      3\n",
              "49.0      2\n",
              "51.0      1\n",
              "Name: edad_mad, dtype: int64"
            ]
          },
          "metadata": {},
          "execution_count": 129
        }
      ]
    },
    {
      "cell_type": "code",
      "source": [
        "defunciones[\"hij_viv\"].value_counts()"
      ],
      "metadata": {
        "colab": {
          "base_uri": "https://localhost:8080/"
        },
        "id": "lpm1UbnRBMci",
        "outputId": "2e6e5d48-85f4-4551-f568-46499a7adb0e"
      },
      "execution_count": null,
      "outputs": [
        {
          "output_type": "execute_result",
          "data": {
            "text/plain": [
              "0.0     4492\n",
              "1.0     3219\n",
              "2.0     2130\n",
              "3.0      933\n",
              "4.0      429\n",
              "5.0      176\n",
              "6.0       81\n",
              "7.0       40\n",
              "8.0       35\n",
              "9.0       18\n",
              "10.0       3\n",
              "12.0       2\n",
              "11.0       1\n",
              "14.0       1\n",
              "Name: hij_viv, dtype: int64"
            ]
          },
          "metadata": {},
          "execution_count": 130
        }
      ]
    },
    {
      "cell_type": "code",
      "source": [
        "defunciones[\"hij_vivm\"].value_counts()"
      ],
      "metadata": {
        "colab": {
          "base_uri": "https://localhost:8080/"
        },
        "id": "A19PvEPGBPYR",
        "outputId": "2b08273b-ee0b-45fa-fcd5-96eadd440d38"
      },
      "execution_count": null,
      "outputs": [
        {
          "output_type": "execute_result",
          "data": {
            "text/plain": [
              "0.0    10526\n",
              "1.0      889\n",
              "2.0      106\n",
              "3.0       21\n",
              "4.0        7\n",
              "6.0        6\n",
              "5.0        4\n",
              "7.0        1\n",
              "Name: hij_vivm, dtype: int64"
            ]
          },
          "metadata": {},
          "execution_count": 131
        }
      ]
    },
    {
      "cell_type": "code",
      "source": [
        "defunciones[\"hij_nacm\"].value_counts()"
      ],
      "metadata": {
        "colab": {
          "base_uri": "https://localhost:8080/"
        },
        "id": "-YZ767ZyBQFa",
        "outputId": "62658342-0010-40b7-eb39-e044a60290fa"
      },
      "execution_count": null,
      "outputs": [
        {
          "output_type": "execute_result",
          "data": {
            "text/plain": [
              "1.0    10626\n",
              "2.0      797\n",
              "3.0      104\n",
              "4.0       24\n",
              "5.0        5\n",
              "7.0        2\n",
              "8.0        1\n",
              "6.0        1\n",
              "Name: hij_nacm, dtype: int64"
            ]
          },
          "metadata": {},
          "execution_count": 132
        }
      ]
    },
    {
      "cell_type": "code",
      "source": [
        "defunciones[\"con_pren\"].value_counts()"
      ],
      "metadata": {
        "colab": {
          "base_uri": "https://localhost:8080/"
        },
        "id": "FnbxhIA2BZwB",
        "outputId": "1a9a0d99-3467-43aa-9de3-2f80116de7af"
      },
      "execution_count": null,
      "outputs": [
        {
          "output_type": "execute_result",
          "data": {
            "text/plain": [
              "5.0     1764\n",
              "4.0     1527\n",
              "6.0     1448\n",
              "3.0     1378\n",
              "0.0     1296\n",
              "2.0      938\n",
              "7.0      928\n",
              "8.0      807\n",
              "1.0      590\n",
              "9.0      355\n",
              "10.0     323\n",
              "12.0      71\n",
              "15.0      56\n",
              "11.0      26\n",
              "20.0      14\n",
              "14.0      12\n",
              "25.0       8\n",
              "13.0       7\n",
              "16.0       6\n",
              "17.0       2\n",
              "18.0       2\n",
              "23.0       1\n",
              "19.0       1\n",
              "Name: con_pren, dtype: int64"
            ]
          },
          "metadata": {},
          "execution_count": 133
        }
      ]
    },
    {
      "cell_type": "code",
      "source": [
        "defunciones[\"est_civil\"].value_counts()"
      ],
      "metadata": {
        "colab": {
          "base_uri": "https://localhost:8080/"
        },
        "id": "HzgQzLMpBjvx",
        "outputId": "33520d51-7787-49f8-f4ce-6a20a3822bb2"
      },
      "execution_count": null,
      "outputs": [
        {
          "output_type": "execute_result",
          "data": {
            "text/plain": [
              "Unida              4207\n",
              "Soltera            3473\n",
              "Casada             3122\n",
              "Se ignora           390\n",
              "Union de hecho      177\n",
              "Divorciada          127\n",
              "Separada             26\n",
              "Viuda                23\n",
              "Sin informacion      15\n",
              "Name: est_civil, dtype: int64"
            ]
          },
          "metadata": {},
          "execution_count": 134
        }
      ]
    },
    {
      "cell_type": "code",
      "source": [
        "defunciones['est_civil'] = defunciones['est_civil'].replace({'Sin informacion': 'Se ignora'})"
      ],
      "metadata": {
        "id": "LiLMPSS5Br_B"
      },
      "execution_count": null,
      "outputs": []
    },
    {
      "cell_type": "code",
      "source": [
        "defunciones[\"sabe_leer\"].value_counts()"
      ],
      "metadata": {
        "colab": {
          "base_uri": "https://localhost:8080/"
        },
        "id": "SLLZ-XHmCCLQ",
        "outputId": "57ce78a4-4af9-4f14-a30b-c4817c18b45d"
      },
      "execution_count": null,
      "outputs": [
        {
          "output_type": "execute_result",
          "data": {
            "text/plain": [
              "Si                 11199\n",
              "Sin informacion      181\n",
              "No                   140\n",
              "Ignorado              40\n",
              "Name: sabe_leer, dtype: int64"
            ]
          },
          "metadata": {},
          "execution_count": 136
        }
      ]
    },
    {
      "cell_type": "code",
      "source": [
        "defunciones['sabe_leer'] = defunciones['sabe_leer'].replace({'Sin informacion': 'Ignorado'})"
      ],
      "metadata": {
        "id": "JV7xBJCQCIlo"
      },
      "execution_count": null,
      "outputs": []
    },
    {
      "cell_type": "code",
      "source": [
        "defunciones[\"niv_inst\"].value_counts()"
      ],
      "metadata": {
        "colab": {
          "base_uri": "https://localhost:8080/"
        },
        "id": "nAr1-nGBCPro",
        "outputId": "e7a00be5-c11c-4a79-9d6b-4aec5f5c055c"
      },
      "execution_count": null,
      "outputs": [
        {
          "output_type": "execute_result",
          "data": {
            "text/plain": [
              "Secundaria                        3158\n",
              "Educacion Media / Bachillerato    2078\n",
              "Primaria                          2046\n",
              "Educacion Basica                  1167\n",
              "Superior                           933\n",
              "Superior universitario             822\n",
              "Educacion_media                    337\n",
              "Se_ignora                          276\n",
              "Superior no universitario          209\n",
              "Educacion_basica                   187\n",
              "Ninguno                            114\n",
              "Ciclo_post_bachillerato             69\n",
              "Postgrado                           54\n",
              "Sin informacion                     39\n",
              "Centro de alfabetizacion            26\n",
              "Ciclo Post-Bachillerato             24\n",
              "Centro_de_alfabetizacion            13\n",
              "Posgrado                             8\n",
              "Name: niv_inst, dtype: int64"
            ]
          },
          "metadata": {},
          "execution_count": 138
        }
      ]
    },
    {
      "cell_type": "code",
      "source": [
        "defunciones['niv_inst'] = defunciones['niv_inst'].replace({'Educacion_media': 'Educacion Media / Bachillerato',\"Educacion Basica\":\"Educacion_basica\",\"Sin informacion\":\"Se_ignora\",\"Ciclo Post-Bachillerato\":\"Ciclo_post_bachillerato\",\"Centro de alfabetizacion\":\"Centro_de_alfabetizacion\"})"
      ],
      "metadata": {
        "id": "p0gFIeGuCZkA"
      },
      "execution_count": null,
      "outputs": []
    },
    {
      "cell_type": "code",
      "source": [
        "defunciones[\"niv_inst\"].value_counts()"
      ],
      "metadata": {
        "colab": {
          "base_uri": "https://localhost:8080/"
        },
        "id": "I6itL09pDUaw",
        "outputId": "278efad5-71c9-4511-d933-5dbbea736c49"
      },
      "execution_count": null,
      "outputs": [
        {
          "output_type": "execute_result",
          "data": {
            "text/plain": [
              "Secundaria                        3158\n",
              "Educacion Media / Bachillerato    2415\n",
              "Primaria                          2046\n",
              "Educacion_basica                  1354\n",
              "Superior                           933\n",
              "Superior universitario             822\n",
              "Se_ignora                          315\n",
              "Superior no universitario          209\n",
              "Ninguno                            114\n",
              "Ciclo_post_bachillerato             93\n",
              "Postgrado                           54\n",
              "Centro_de_alfabetizacion            39\n",
              "Posgrado                             8\n",
              "Name: niv_inst, dtype: int64"
            ]
          },
          "metadata": {},
          "execution_count": 140
        }
      ]
    },
    {
      "cell_type": "code",
      "source": [
        "defunciones.info()"
      ],
      "metadata": {
        "colab": {
          "base_uri": "https://localhost:8080/"
        },
        "id": "TJXwcmVgyrmC",
        "outputId": "a397f815-4bc8-4859-e58a-3ba682d807eb"
      },
      "execution_count": null,
      "outputs": [
        {
          "output_type": "stream",
          "name": "stdout",
          "text": [
            "<class 'pandas.core.frame.DataFrame'>\n",
            "Int64Index: 11560 entries, 0 to 1856\n",
            "Data columns (total 30 columns):\n",
            " #   Column       Non-Null Count  Dtype  \n",
            "---  ------       --------------  -----  \n",
            " 0   prov_insc    11560 non-null  object \n",
            " 1   cant_insc    11560 non-null  object \n",
            " 2   parr_insc    9408 non-null   object \n",
            " 3   anio_insc    11560 non-null  float64\n",
            " 4   mes_insc     11560 non-null  object \n",
            " 5   sexo         11560 non-null  object \n",
            " 6   sem_gest     11560 non-null  float64\n",
            " 7   anio_fall    11560 non-null  float64\n",
            " 8   mes_fall     11560 non-null  object \n",
            " 9   asis_por     11560 non-null  object \n",
            " 10  p_emb        11560 non-null  object \n",
            " 11  lugar_ocur   11560 non-null  object \n",
            " 12  prov_fall    11560 non-null  object \n",
            " 13  cant_fall    11560 non-null  object \n",
            " 14  parr_fall    11368 non-null  object \n",
            " 15  area_fall    11560 non-null  object \n",
            " 16  causa_fetal  11560 non-null  object \n",
            " 17  edad_mad     11560 non-null  float64\n",
            " 18  hij_viv      11560 non-null  float64\n",
            " 19  hij_vivm     11560 non-null  float64\n",
            " 20  hij_nacm     11560 non-null  float64\n",
            " 21  con_pren     11560 non-null  float64\n",
            " 22  etnia        11560 non-null  object \n",
            " 23  est_civil    11560 non-null  object \n",
            " 24  sabe_leer    11560 non-null  object \n",
            " 25  niv_inst     11560 non-null  object \n",
            " 26  prov_res     11559 non-null  object \n",
            " 27  cant_res     11559 non-null  object \n",
            " 28  parr_res     10367 non-null  object \n",
            " 29  area_res     11560 non-null  object \n",
            "dtypes: float64(8), object(22)\n",
            "memory usage: 2.7+ MB\n"
          ]
        }
      ]
    },
    {
      "cell_type": "code",
      "source": [
        "defunciones[\"causa_fetal\"].value_counts()"
      ],
      "metadata": {
        "colab": {
          "base_uri": "https://localhost:8080/"
        },
        "id": "D0Y_H6kb6xld",
        "outputId": "a6cc5d1c-6605-47fc-ea70-47ab32079583"
      },
      "execution_count": null,
      "outputs": [
        {
          "output_type": "execute_result",
          "data": {
            "text/plain": [
              "Hipoxia intrauterina, no especificada                                                                                       4751\n",
              "Muerte fetal de causa no especificada                                                                                       3314\n",
              "Feto y recien nacido afectados por otras formas de desprendimiento y de hemorragia placentarios                              576\n",
              "Inmaturidad extrema                                                                                                          281\n",
              "Feto y recien nacido afectados por trastornos hipertensivos de la madre                                                      251\n",
              "Malformacion congenita, no especificada                                                                                      209\n",
              "Feto y recien nacido afectados por oligohidramnios                                                                           163\n",
              "Feto y recien nacido afectados por otra compresion del cordon umbilical                                                      135\n",
              "Feto y recien nacido afectados por ruptura prematura de las membranas                                                        134\n",
              "Malformaciones congenitas multiples, no clasificadas en otra parte                                                           118\n",
              "Feto y recien nacido afectados por otras anormalidades morfologicas y funcionales de la placenta y las no especific          100\n",
              "Afeccion no especificada originada en el periodo perinatal                                                                    89\n",
              "Feto y recien nacido afectados por corioamnionitis                                                                            81\n",
              "Feto y recien nacido afectados por otras anormalidades morfologicas y funcionales de la placenta y las no especificadas       79\n",
              "Otros recien nacidos pretermino                                                                                               63\n",
              "Hidropesia fetal no debida a enfermedad hemolitica                                                                            53\n",
              "Anencefalia                                                                                                                   50\n",
              "Feto y recien nacido afectados por polihidramnios                                                                             49\n",
              "Asfixia del nacimiento, no especificada                                                                                       38\n",
              "Feto y recien nacido afectados por otras anormalidades morfologicas y funcionales de la placenta y las no especificada        38\n",
              "Feto y recien nacido afectados por otras complicaciones del cordon umbilical y las no especificadas                           36\n",
              "Sindrome del recien nacido de madre con diabetes gestacional                                                                  34\n",
              "Feto y recien nacido afectados por traumatismo de la madre                                                                    33\n",
              "Malformacion congenita del corazon, no especificada                                                                           32\n",
              "Hipoxia intrauterina notada por primera vez antes del inicio del trabajo de parto                                             32\n",
              "Feto y recien nacido afectados por otras complicaciones maternas del embarazo                                                 32\n",
              "Feto y recien nacido afectados por muerte materna                                                                             29\n",
              "Feto y recien nacido afectados por Otras afecciones maternas                                                                  27\n",
              "Feto y recien nacido afectados por enfermedades renales y de las vias urinarias de la madre                                   25\n",
              "Retardo del crecimiento fetal, no especificado                                                                                24\n",
              "Feto y recien nacido afectados por sindromes de transfusion placentaria                                                       24\n",
              "Otras afecciones especificadas originadas en el periodo perinatal                                                             22\n",
              "Hidropesia fetal debida a otras enfermedades hemoliticas especificadas y a las no especificadas                               21\n",
              "Feto y recien nacido afectados por placenta previa                                                                            21\n",
              "Feto y recien nacido afectados por anormalidad no especificada de las membranas                                               21\n",
              "Feto y recien nacido afectados por enfermedades infecciosas y parasitarias de la madre                                        20\n",
              "Feto y recien nacido afectados por incompetencia del cuello uterino                                                           20\n",
              "Aspiracion neonatal de meconio                                                                                                19\n",
              "Feto y recien nacido afectados por embarazo multiple                                                                          18\n",
              "Hidrocefalo congenito, no especificado                                                                                        15\n",
              "Sindrome del recien nacido de madre diabetica                                                                                 15\n",
              "Feto y recien nacido afectados por prolapso del cordon umbilical                                                              15\n",
              "Feto y recien nacido afectados por prolapso el cordon umbilical                                                               14\n",
              "Hipoxia intrauterina notada por primera vez durante el trabajo de parto y el parto                                            14\n",
              "Malformacion congenita del encefalo, no especificada                                                                          13\n",
              "Feto y recien nacido afectados por afeccion materna no especificada                                                           12\n",
              "Anomalia cromosomica, no especificada                                                                                         12\n",
              " Feto y recien nacido afectados por otras complicaciones especificadas del trabajo de parto y del parto                       12\n",
              "Sindrome de dificultad respiratoria del recien nacido                                                                         10\n",
              "Feto y recien nacido afectados por presentacion anomala antes del trabajo de parto                                            10\n",
              "Sepsis bacteriana del recien nacido, no especificada                                                                          10\n",
              "Sindrome de edwards, no especificado                                                                                           9\n",
              "Infeccion intraamniotica del feto, no clasificada en otra parte                                                                8\n",
              "Feto y recien nacido afectados por contracciones uterinas anormales                                                            8\n",
              "Infeccion propia del periodo perinatal, no especificada                                                                        7\n",
              "Sindrome de Down, no especificado                                                                                              7\n",
              "Feto y recien nacido afectados por otras enfermedades circulatorias y respiratorias de la madre                                7\n",
              "Agenesia renal, sin otra especificacion                                                                                        7\n",
              "Malformacion congenita de las c maras cardiacas y sus conexiones, no especificada                                              7\n",
              "Otras anomalias hipopl sicas del encefalo                                                                                      6\n",
              "Feto y recien nacido afectados por complicaciones maternas no especificadas del embarazo                                       6\n",
              "Feto y recien nacido afectados por complicaciones no especificadas del trabajo de parto y del parto                            6\n",
              "Malformacion congenita del sistema nervioso, no especificada                                                                   6\n",
              "Feto y recien nacido afectados por otras complicaciones especificadas del trabajo de parto y del parto                         6\n",
              "Disritmia cardiaca neonatal                                                                                                    6\n",
              "Toxoplasmosis congenita                                                                                                        5\n",
              "Feto y recien nacido afectados por otra presentacion anomala, posicion anomala y desproporcion durante el trabajo d            5\n",
              "Feto y recien nacido afectados por drogradiccion materna                                                                       5\n",
              "Trastorno cardiovascular no especificado, originado en el periodo perinatal                                                    5\n",
              "Holoprosencefalia                                                                                                              5\n",
              "Exonfalos                                                                                                                      4\n",
              "Gastrosquisis                                                                                                                  4\n",
              "Tetralogia de fallot                                                                                                           4\n",
              "Espina bifida, no especificada                                                                                                 4\n",
              "Trisomia 18, por translocacion                                                                                                 4\n",
              "Feto y recien nacido afectados por otras anormalidades de las membranas                                                        4\n",
              "Feto y recien nacido afectados por otras afecciones maternas                                                                   4\n",
              "Dificultad respiratoria del recien nacido, no especificada                                                                     4\n",
              "Terminacion del embarazo, feto y recien nacido                                                                                 4\n",
              "Feto y recien nacido afectados por otra presentacion anomala, posicion anomala y desproporcion durante el trabajo de par       4\n",
              "Diabetes mellitus neonatal                                                                                                     3\n",
              "Atelectasia primaria del recien nacido                                                                                         3\n",
              "Coagulacion intravascular diseminada en el feto y el recien nacido                                                             3\n",
              "Quistes cerebrales congenitos                                                                                                  3\n",
              "Malformacion congenita del intestino, no especificada                                                                          3\n",
              "Agenesia del pulmon                                                                                                            3\n",
              "Ri¤on poliquistico, tipo no especificado                                                                                       3\n",
              "Incompatibilidad rh del feto y del recien nacido                                                                               3\n",
              "Feto y recien nacido afectados por trastornos nutricionales de la madre                                                        3\n",
              "Recien nacido postermino sin sobrepeso para su edad gestacional                                                                3\n",
              "Otras malformaciones congenitas especificadas del sistema respiratorio                                                         3\n",
              "Feto y recien nacido afectados por otras medicaciones maternas                                                                 3\n",
              "Sindrome del tapon de meconio                                                                                                  3\n",
              "Malformacion congenita no especificada de los huesos del craneo y de la cara                                                   3\n",
              "Sindrome de potter                                                                                                             3\n",
              "Otras malformaciones congenitas de las camaras cardiacas y sus conexiones                                                      2\n",
              "Otros trastornos neonatales transitorios de la coagulacion                                                                     2\n",
              "Otros trastornos cardiovasculares originados en el periodo perinatal                                                           2\n",
              "Gemelos siameses                                                                                                               2\n",
              "Hernia diafragmatica congenita                                                                                                 2\n",
              "Desnutricion fetal, sin mencion de peso o talla bajos para la edad gestacional                                                 2\n",
              "Otras malformaciones congenitas del intestino, especificadas                                                                   2\n",
              "Aspiracion neonatal de liquido amniotico y de moco                                                                             2\n",
              " Hipoplasia y displasia pulmonar                                                                                               2\n",
              "Defecto del tabique ventricular                                                                                                2\n",
              "Hipoxia intrauterina                                                                                                           2\n",
              "Feto y recien nacido afectados por embarazo ectopico                                                                           2\n",
              "Hipertension neonatal                                                                                                          2\n",
              "Otros sindromes de malformaciones congenitas especificados, no clasificados en otra parte                                      2\n",
              "Trastorno metabolico transitorio del recien nacido, no especificado                                                            2\n",
              "Malformacion arteriovenosa de los vasos cerebrales                                                                             2\n",
              "Retardo del crecimiento fetal y desnutricion fetal                                                                             2\n",
              "Traumatismo no especificado, durante el nacimiento                                                                             2\n",
              "Incompatibilidad RH del feto y del recien nacido                                                                               2\n",
              "Encefalocele, no especificado                                                                                                  2\n",
              "Feto y recien nacido afectados por parto precipitado                                                                           2\n",
              "Aspiracion neonatal de leche y alimento regurgitado                                                                            2\n",
              " Feto y recien nacido afectados por complicaciones maternas no especificadas del embarazo                                      2\n",
              "Malformacion congenita de la cara y del cuello, no especificada                                                                2\n",
              "Feto y recien nacido afectados por otra presentacion anomala, posicion anomala y desproporcion durante el trabajo              2\n",
              "Insuficiencia respiratoria del recien nacido                                                                                   2\n",
              "Asfixia del nacimiento, severa                                                                                                 2\n",
              "Insuficiencia cardiaca neonatal                                                                                                2\n",
              "Neumonia congenita, organismo no especificado                                                                                  1\n",
              "Reacciones e intoxicaciones debidas a drogas administradas al feto y al recien nacido                                          1\n",
              "Espina bifida lumbar sin hidrocefalo                                                                                           1\n",
              "Sindromes de malformaciones congenitas que afectan principalmente los miembros                                                 1\n",
              "Otros hidrocefalos congenitos                                                                                                  1\n",
              "Hidropesia fetal debida a incompatibilidad                                                                                     1\n",
              "Feto y recien nacido afectados por procedimiento quirurgico en la madre                                                        1\n",
              "Otras hipoglicemias neonatales                                                                                                 1\n",
              "Persistencia de la circulacion fetal                                                                                           1\n",
              "Trastornos cardiovasculares originados en el periodo perinatal                                                                 1\n",
              "Perdida de sangre fetal por ruptura del cordon umbilical                                                                       1\n",
              "Otro peso bajo al nacer                                                                                                        1\n",
              "Sindrome de patau, no especificado                                                                                             1\n",
              "Feto y recien nacido afectados por otro procedimiento medico en la madre, no clasificado en otra parte                         1\n",
              "Hemorragia subaracnoidea (no traum tica) del feto y del recien nacido                                                          1\n",
              "Hemorragia traqueobronquial originada en el periodo perinatal                                                                  1\n",
              "Encefalocele de otros sitios                                                                                                   1\n",
              "Hipoplasia y displasia pulmonar                                                                                                1\n",
              "Ausencia, atresia y estenosis congenita del intestino delgado, parte no especificada                                           1\n",
              "Otras afecciones originadas en el periodo perinatal                                                                            1\n",
              "Hemorragia intracraneal (no traum tica) del feto y del recien nacido, sin otra especificacion                                  1\n",
              "Malformacion congenita de la medula espinal, no especificada                                                                   1\n",
              "Atresia de los agujeros de magendie y de luschka                                                                               1\n",
              "Espina bifida con hidrocefalo, sin otra especificacion                                                                         1\n",
              "Ausencia e hipoplasia congenita de la arteria umbilical                                                                        1\n",
              "Malformacion congenita del sistema respiratorio, no especificada                                                               1\n",
              "Atresia del esofago sin mencion de fistula                                                                                     1\n",
              "Enfermedad viral congenita, sin otra especificacion                                                                            1\n",
              "Obstruccion intestinal del recien nacido, no especificada                                                                      1\n",
              "Asfixia del nacimiento, leve y moderada                                                                                        1\n",
              "Otras malformaciones congenitas de los bronquios                                                                               1\n",
              "Trastorno hematologico perinatal, no especificado                                                                              1\n",
              "Anomalia de ebstein                                                                                                            1\n",
              "Hemorragia intracerebral (no traum tica) del feto y del recien nacido                                                          1\n",
              "Enfermedad de Hirschsprung                                                                                                     1\n",
              "Hemorragia intraventricular (no traum tica) del feto y del recien nacido, sin otra especificacion                              1\n",
              "Sindrome de Wilson-Mikity                                                                                                      1\n",
              "Anemia de la prematuridad                                                                                                      1\n",
              "Estenosis congenita de la v lvula aortica                                                                                      1\n",
              "Fisura del paladar unilateral, sin otra especificacion                                                                         1\n",
              "Equimosis del cuero cabelludo debida a traumatismo del nacimiento                                                              1\n",
              "Ausencia, atresia y estenosis congenita del duodeno                                                                            1\n",
              "Otras anomalias cromosomicas, no clasificadas en otra parte                                                                    1\n",
              "Ictiosis congenita, no especificada                                                                                            1\n",
              "Otros recien nacidos con sobrepeso para la edad gestacional                                                                    1\n",
              "Acondroplasia                                                                                                                  1\n",
              "Rinon poliquistico, tipo no especificado                                                                                       1\n",
              "Perdida de sangre fetal, no especificada                                                                                       1\n",
              "Malformacion congenita de los organos genitales masculinos, no especificada                                                    1\n",
              "Estenosis congenita de la valvula tricuspide                                                                                   1\n",
              "Feto y recien nacido afectados por parto y extraccion de nalgas                                                                1\n",
              "Feto arlequin                                                                                                                  1\n",
              "Enanismo tanatoforico                                                                                                          1\n",
              "Otras malformaciones congenitas especificadas de los huesos del craneo y de la cara                                            1\n",
              "Sindrome de arnold-chiari                                                                                                      1\n",
              " Otras malformaciones congenitas de la traquea                                                                                 1\n",
              "Otros edemas y los no especificados, propios del feto y del recien nacido                                                      1\n",
              "Malformacion congenita del rinon, no especificada                                                                              1\n",
              "Otras malformaciones congenitas especificadas de cara y cuello                                                                 1\n",
              "Encefalocele occipital                                                                                                         1\n",
              "Hemorragia cerebral debida a traumatismo del nacimiento                                                                        1\n",
              "Otras malformaciones congenitas, especificadas                                                                                 1\n",
              "Malformacion congenita del esofago, no especificada                                                                            1\n",
              "Feto y recien nacido afectados por tabaquismo de la madre                                                                      1\n",
              "Otras malformaciones congenitas de la vejiga y de la uretra                                                                    1\n",
              "Otras afecciones relacionadas con el enfisema intersticial, originadas en el periodo perinatal                                 1\n",
              "Candidiasis neonatal                                                                                                           1\n",
              "Enfermedad hemolitica del feto y del recien nacido, no especificada                                                            1\n",
              "Otras deformidades congenitas del craneo, de la cara y de la mandibula                                                         1\n",
              "Feto y recien nacido afectados por alcoholismo de la madre                                                                     1\n",
              "Otros traumatismos especificados, durante el nacimiento                                                                        1\n",
              "Malformacion congenita del sistema digestivo, no especificada                                                                  1\n",
              "Otras malformaciones congenitas de la boca                                                                                     1\n",
              "Malformacion congenita de la valvula tricuspide, no especificada                                                               1\n",
              "Hemorragia subaracnoidea (no traumatica) del feto y del recien nacido                                                          1\n",
              "Osteocondrodisplasia con defectos del crecimiento de los huesos largos y de la columna vertebral, sin otra especificaci        1\n",
              "Trisomia 21, por falta de disyuncion meiotica                                                                                  1\n",
              "Otras malformaciones congenitas del higado                                                                                     1\n",
              "Otros trastornos perinatales especificos del sistema digestivo                                                                 1\n",
              "Otras malformaciones congenitas del encefalo, especificadas                                                                    1\n",
              "Focomelia, miembro(s) no especificado(s)                                                                                       1\n",
              "Enfermedad quistica del rinon, no especificada                                                                                 1\n",
              "Osteocondrodisplasia, no especificada                                                                                          1\n",
              "Perdida de sangre fetal por la placenta                                                                                        1\n",
              "Name: causa_fetal, dtype: int64"
            ]
          },
          "metadata": {},
          "execution_count": 147
        }
      ]
    },
    {
      "cell_type": "code",
      "source": [
        "defunciones.groupby(\"causa_fetal\")[\"sem_gest\"].mean()"
      ],
      "metadata": {
        "colab": {
          "base_uri": "https://localhost:8080/"
        },
        "id": "UMenkH8myuua",
        "outputId": "07f1b7c8-700c-4c5b-8bf1-24c95f6e6859"
      },
      "execution_count": null,
      "outputs": [
        {
          "output_type": "execute_result",
          "data": {
            "text/plain": [
              "causa_fetal\n",
              " Feto y recien nacido afectados por complicaciones maternas no especificadas del embarazo                                   37.000000\n",
              " Feto y recien nacido afectados por otras complicaciones especificadas del trabajo de parto y del parto                     35.666667\n",
              " Hipoplasia y displasia pulmonar                                                                                            27.000000\n",
              " Otras malformaciones congenitas de la traquea                                                                              23.000000\n",
              "Acondroplasia                                                                                                               34.000000\n",
              "Afeccion no especificada originada en el periodo perinatal                                                                  34.539326\n",
              "Agenesia del pulmon                                                                                                         35.333333\n",
              "Agenesia renal, sin otra especificacion                                                                                     27.857143\n",
              "Anemia de la prematuridad                                                                                                   26.000000\n",
              "Anencefalia                                                                                                                 30.360000\n",
              "Anomalia cromosomica, no especificada                                                                                       29.666667\n",
              "Anomalia de ebstein                                                                                                         30.000000\n",
              "Asfixia del nacimiento, leve y moderada                                                                                     39.000000\n",
              "Asfixia del nacimiento, no especificada                                                                                     32.605263\n",
              "Asfixia del nacimiento, severa                                                                                              34.000000\n",
              "Aspiracion neonatal de leche y alimento regurgitado                                                                         30.500000\n",
              "Aspiracion neonatal de liquido amniotico y de moco                                                                          41.000000\n",
              "Aspiracion neonatal de meconio                                                                                              38.947368\n",
              "Atelectasia primaria del recien nacido                                                                                      28.000000\n",
              "Atresia de los agujeros de magendie y de luschka                                                                            20.000000\n",
              "Atresia del esofago sin mencion de fistula                                                                                  32.000000\n",
              "Ausencia e hipoplasia congenita de la arteria umbilical                                                                     28.000000\n",
              "Ausencia, atresia y estenosis congenita del duodeno                                                                         38.000000\n",
              "Ausencia, atresia y estenosis congenita del intestino delgado, parte no especificada                                        32.000000\n",
              "Candidiasis neonatal                                                                                                        38.000000\n",
              "Coagulacion intravascular diseminada en el feto y el recien nacido                                                          30.333333\n",
              "Defecto del tabique ventricular                                                                                             37.000000\n",
              "Desnutricion fetal, sin mencion de peso o talla bajos para la edad gestacional                                              38.500000\n",
              "Diabetes mellitus neonatal                                                                                                  34.333333\n",
              "Dificultad respiratoria del recien nacido, no especificada                                                                  29.000000\n",
              "Disritmia cardiaca neonatal                                                                                                 32.666667\n",
              "Enanismo tanatoforico                                                                                                       30.000000\n",
              "Encefalocele de otros sitios                                                                                                32.000000\n",
              "Encefalocele occipital                                                                                                      19.000000\n",
              "Encefalocele, no especificado                                                                                               21.500000\n",
              "Enfermedad de Hirschsprung                                                                                                  36.000000\n",
              "Enfermedad hemolitica del feto y del recien nacido, no especificada                                                         26.000000\n",
              "Enfermedad quistica del rinon, no especificada                                                                              23.000000\n",
              "Enfermedad viral congenita, sin otra especificacion                                                                         24.000000\n",
              "Equimosis del cuero cabelludo debida a traumatismo del nacimiento                                                           34.000000\n",
              "Espina bifida con hidrocefalo, sin otra especificacion                                                                      24.000000\n",
              "Espina bifida lumbar sin hidrocefalo                                                                                        26.000000\n",
              "Espina bifida, no especificada                                                                                              27.750000\n",
              "Estenosis congenita de la v lvula aortica                                                                                   36.000000\n",
              "Estenosis congenita de la valvula tricuspide                                                                                36.000000\n",
              "Exonfalos                                                                                                                   26.500000\n",
              "Feto arlequin                                                                                                               24.000000\n",
              "Feto y recien nacido afectados por Otras afecciones maternas                                                                26.333333\n",
              "Feto y recien nacido afectados por afeccion materna no especificada                                                         25.416667\n",
              "Feto y recien nacido afectados por alcoholismo de la madre                                                                  38.000000\n",
              "Feto y recien nacido afectados por anormalidad no especificada de las membranas                                             30.142857\n",
              "Feto y recien nacido afectados por complicaciones maternas no especificadas del embarazo                                    31.333333\n",
              "Feto y recien nacido afectados por complicaciones no especificadas del trabajo de parto y del parto                         29.333333\n",
              "Feto y recien nacido afectados por contracciones uterinas anormales                                                         34.000000\n",
              "Feto y recien nacido afectados por corioamnionitis                                                                          27.049383\n",
              "Feto y recien nacido afectados por drogradiccion materna                                                                    32.200000\n",
              "Feto y recien nacido afectados por embarazo ectopico                                                                        21.000000\n",
              "Feto y recien nacido afectados por embarazo multiple                                                                        29.000000\n",
              "Feto y recien nacido afectados por enfermedades infecciosas y parasitarias de la madre                                      29.050000\n",
              "Feto y recien nacido afectados por enfermedades renales y de las vias urinarias de la madre                                 25.440000\n",
              "Feto y recien nacido afectados por incompetencia del cuello uterino                                                         22.000000\n",
              "Feto y recien nacido afectados por muerte materna                                                                           32.344828\n",
              "Feto y recien nacido afectados por oligohidramnios                                                                          27.662577\n",
              "Feto y recien nacido afectados por otra compresion del cordon umbilical                                                     34.251852\n",
              "Feto y recien nacido afectados por otra presentacion anomala, posicion anomala y desproporcion durante el trabajo           39.500000\n",
              "Feto y recien nacido afectados por otra presentacion anomala, posicion anomala y desproporcion durante el trabajo d         33.600000\n",
              "Feto y recien nacido afectados por otra presentacion anomala, posicion anomala y desproporcion durante el trabajo de par    54.000000\n",
              "Feto y recien nacido afectados por otras afecciones maternas                                                                37.250000\n",
              "Feto y recien nacido afectados por otras anormalidades de las membranas                                                     26.750000\n",
              "Feto y recien nacido afectados por otras anormalidades morfologicas y funcionales de la placenta y las no especific         31.970000\n",
              "Feto y recien nacido afectados por otras anormalidades morfologicas y funcionales de la placenta y las no especificada      31.526316\n",
              "Feto y recien nacido afectados por otras anormalidades morfologicas y funcionales de la placenta y las no especificadas     33.405063\n",
              "Feto y recien nacido afectados por otras complicaciones del cordon umbilical y las no especificadas                         33.194444\n",
              "Feto y recien nacido afectados por otras complicaciones especificadas del trabajo de parto y del parto                      35.833333\n",
              "Feto y recien nacido afectados por otras complicaciones maternas del embarazo                                               22.250000\n",
              "Feto y recien nacido afectados por otras enfermedades circulatorias y respiratorias de la madre                             29.714286\n",
              "Feto y recien nacido afectados por otras formas de desprendimiento y de hemorragia placentarios                             31.923611\n",
              "Feto y recien nacido afectados por otras medicaciones maternas                                                              31.666667\n",
              "Feto y recien nacido afectados por otro procedimiento medico en la madre, no clasificado en otra parte                      24.000000\n",
              "Feto y recien nacido afectados por parto precipitado                                                                        21.500000\n",
              "Feto y recien nacido afectados por parto y extraccion de nalgas                                                             40.000000\n",
              "Feto y recien nacido afectados por placenta previa                                                                          28.952381\n",
              "Feto y recien nacido afectados por polihidramnios                                                                           29.020408\n",
              "Feto y recien nacido afectados por presentacion anomala antes del trabajo de parto                                          32.300000\n",
              "Feto y recien nacido afectados por procedimiento quirurgico en la madre                                                     28.000000\n",
              "Feto y recien nacido afectados por prolapso del cordon umbilical                                                            34.066667\n",
              "Feto y recien nacido afectados por prolapso el cordon umbilical                                                             34.357143\n",
              "Feto y recien nacido afectados por ruptura prematura de las membranas                                                       24.567164\n",
              "Feto y recien nacido afectados por sindromes de transfusion placentaria                                                     30.125000\n",
              "Feto y recien nacido afectados por tabaquismo de la madre                                                                   38.000000\n",
              "Feto y recien nacido afectados por trastornos hipertensivos de la madre                                                     31.478088\n",
              "Feto y recien nacido afectados por trastornos nutricionales de la madre                                                     36.000000\n",
              "Feto y recien nacido afectados por traumatismo de la madre                                                                  31.272727\n",
              "Fisura del paladar unilateral, sin otra especificacion                                                                      30.000000\n",
              "Focomelia, miembro(s) no especificado(s)                                                                                    28.000000\n",
              "Gastrosquisis                                                                                                               30.250000\n",
              "Gemelos siameses                                                                                                            39.000000\n",
              "Hemorragia cerebral debida a traumatismo del nacimiento                                                                     38.000000\n",
              "Hemorragia intracerebral (no traum tica) del feto y del recien nacido                                                       39.000000\n",
              "Hemorragia intracraneal (no traum tica) del feto y del recien nacido, sin otra especificacion                               27.000000\n",
              "Hemorragia intraventricular (no traum tica) del feto y del recien nacido, sin otra especificacion                           29.000000\n",
              "Hemorragia subaracnoidea (no traum tica) del feto y del recien nacido                                                       40.000000\n",
              "Hemorragia subaracnoidea (no traumatica) del feto y del recien nacido                                                       36.000000\n",
              "Hemorragia traqueobronquial originada en el periodo perinatal                                                               24.000000\n",
              "Hernia diafragmatica congenita                                                                                              32.500000\n",
              "Hidrocefalo congenito, no especificado                                                                                      29.333333\n",
              "Hidropesia fetal debida a incompatibilidad                                                                                  30.000000\n",
              "Hidropesia fetal debida a otras enfermedades hemoliticas especificadas y a las no especificadas                             27.333333\n",
              "Hidropesia fetal no debida a enfermedad hemolitica                                                                          28.849057\n",
              "Hipertension neonatal                                                                                                       64.000000\n",
              "Hipoplasia y displasia pulmonar                                                                                             30.000000\n",
              "Hipoxia intrauterina                                                                                                        28.500000\n",
              "Hipoxia intrauterina notada por primera vez antes del inicio del trabajo de parto                                           34.437500\n",
              "Hipoxia intrauterina notada por primera vez durante el trabajo de parto y el parto                                          35.928571\n",
              "Hipoxia intrauterina, no especificada                                                                                       29.063355\n",
              "Holoprosencefalia                                                                                                           26.000000\n",
              "Ictiosis congenita, no especificada                                                                                         28.000000\n",
              "Incompatibilidad RH del feto y del recien nacido                                                                            31.500000\n",
              "Incompatibilidad rh del feto y del recien nacido                                                                            32.666667\n",
              "Infeccion intraamniotica del feto, no clasificada en otra parte                                                             30.250000\n",
              "Infeccion propia del periodo perinatal, no especificada                                                                     27.285714\n",
              "Inmaturidad extrema                                                                                                         23.718861\n",
              "Insuficiencia cardiaca neonatal                                                                                             35.000000\n",
              "Insuficiencia respiratoria del recien nacido                                                                                29.500000\n",
              "Malformacion arteriovenosa de los vasos cerebrales                                                                          29.000000\n",
              "Malformacion congenita de la cara y del cuello, no especificada                                                             33.500000\n",
              "Malformacion congenita de la medula espinal, no especificada                                                                22.000000\n",
              "Malformacion congenita de la valvula tricuspide, no especificada                                                            36.000000\n",
              "Malformacion congenita de las c maras cardiacas y sus conexiones, no especificada                                           27.714286\n",
              "Malformacion congenita de los organos genitales masculinos, no especificada                                                 27.000000\n",
              "Malformacion congenita del corazon, no especificada                                                                         32.187500\n",
              "Malformacion congenita del encefalo, no especificada                                                                        29.692308\n",
              "Malformacion congenita del esofago, no especificada                                                                         36.000000\n",
              "Malformacion congenita del intestino, no especificada                                                                       33.666667\n",
              "Malformacion congenita del rinon, no especificada                                                                           24.000000\n",
              "Malformacion congenita del sistema digestivo, no especificada                                                               25.000000\n",
              "Malformacion congenita del sistema nervioso, no especificada                                                                31.166667\n",
              "Malformacion congenita del sistema respiratorio, no especificada                                                            40.000000\n",
              "Malformacion congenita no especificada de los huesos del craneo y de la cara                                                35.000000\n",
              "Malformacion congenita, no especificada                                                                                     30.684211\n",
              "Malformaciones congenitas multiples, no clasificadas en otra parte                                                          30.788136\n",
              "Muerte fetal de causa no especificada                                                                                       30.950211\n",
              "Neumonia congenita, organismo no especificado                                                                               40.000000\n",
              "Obstruccion intestinal del recien nacido, no especificada                                                                   26.000000\n",
              "Osteocondrodisplasia con defectos del crecimiento de los huesos largos y de la columna vertebral, sin otra especificaci     22.000000\n",
              "Osteocondrodisplasia, no especificada                                                                                       30.000000\n",
              "Otras afecciones especificadas originadas en el periodo perinatal                                                           34.863636\n",
              "Otras afecciones originadas en el periodo perinatal                                                                         36.000000\n",
              "Otras afecciones relacionadas con el enfisema intersticial, originadas en el periodo perinatal                              38.000000\n",
              "Otras anomalias cromosomicas, no clasificadas en otra parte                                                                 25.000000\n",
              "Otras anomalias hipopl sicas del encefalo                                                                                   29.166667\n",
              "Otras deformidades congenitas del craneo, de la cara y de la mandibula                                                      26.000000\n",
              "Otras hipoglicemias neonatales                                                                                              36.000000\n",
              "Otras malformaciones congenitas de la boca                                                                                  31.000000\n",
              "Otras malformaciones congenitas de la vejiga y de la uretra                                                                 34.000000\n",
              "Otras malformaciones congenitas de las camaras cardiacas y sus conexiones                                                   30.500000\n",
              "Otras malformaciones congenitas de los bronquios                                                                            23.000000\n",
              "Otras malformaciones congenitas del encefalo, especificadas                                                                 35.000000\n",
              "Otras malformaciones congenitas del higado                                                                                  35.000000\n",
              "Otras malformaciones congenitas del intestino, especificadas                                                                27.500000\n",
              "Otras malformaciones congenitas especificadas de cara y cuello                                                              22.000000\n",
              "Otras malformaciones congenitas especificadas de los huesos del craneo y de la cara                                         33.000000\n",
              "Otras malformaciones congenitas especificadas del sistema respiratorio                                                      27.000000\n",
              "Otras malformaciones congenitas, especificadas                                                                              34.000000\n",
              "Otro peso bajo al nacer                                                                                                     38.000000\n",
              "Otros edemas y los no especificados, propios del feto y del recien nacido                                                   38.000000\n",
              "Otros hidrocefalos congenitos                                                                                               21.000000\n",
              "Otros recien nacidos con sobrepeso para la edad gestacional                                                                 39.000000\n",
              "Otros recien nacidos pretermino                                                                                             27.428571\n",
              "Otros sindromes de malformaciones congenitas especificados, no clasificados en otra parte                                   29.500000\n",
              "Otros trastornos cardiovasculares originados en el periodo perinatal                                                        32.500000\n",
              "Otros trastornos neonatales transitorios de la coagulacion                                                                  21.000000\n",
              "Otros trastornos perinatales especificos del sistema digestivo                                                              39.000000\n",
              "Otros traumatismos especificados, durante el nacimiento                                                                     42.000000\n",
              "Perdida de sangre fetal por la placenta                                                                                     22.000000\n",
              "Perdida de sangre fetal por ruptura del cordon umbilical                                                                    33.000000\n",
              "Perdida de sangre fetal, no especificada                                                                                    38.000000\n",
              "Persistencia de la circulacion fetal                                                                                        36.000000\n",
              "Quistes cerebrales congenitos                                                                                               21.333333\n",
              "Reacciones e intoxicaciones debidas a drogas administradas al feto y al recien nacido                                       31.000000\n",
              "Recien nacido postermino sin sobrepeso para su edad gestacional                                                             41.666667\n",
              "Retardo del crecimiento fetal y desnutricion fetal                                                                          34.500000\n",
              "Retardo del crecimiento fetal, no especificado                                                                              34.125000\n",
              "Rinon poliquistico, tipo no especificado                                                                                    26.000000\n",
              "Ri¤on poliquistico, tipo no especificado                                                                                    25.666667\n",
              "Sepsis bacteriana del recien nacido, no especificada                                                                        29.100000\n",
              "Sindrome de Down, no especificado                                                                                           30.571429\n",
              "Sindrome de Wilson-Mikity                                                                                                   38.000000\n",
              "Sindrome de arnold-chiari                                                                                                   28.000000\n",
              "Sindrome de dificultad respiratoria del recien nacido                                                                       32.800000\n",
              "Sindrome de edwards, no especificado                                                                                        28.333333\n",
              "Sindrome de patau, no especificado                                                                                          26.000000\n",
              "Sindrome de potter                                                                                                          30.000000\n",
              "Sindrome del recien nacido de madre con diabetes gestacional                                                                35.500000\n",
              "Sindrome del recien nacido de madre diabetica                                                                               36.400000\n",
              "Sindrome del tapon de meconio                                                                                               38.666667\n",
              "Sindromes de malformaciones congenitas que afectan principalmente los miembros                                              25.000000\n",
              "Terminacion del embarazo, feto y recien nacido                                                                              21.750000\n",
              "Tetralogia de fallot                                                                                                        35.250000\n",
              "Toxoplasmosis congenita                                                                                                     32.400000\n",
              "Trastorno cardiovascular no especificado, originado en el periodo perinatal                                                 34.400000\n",
              "Trastorno hematologico perinatal, no especificado                                                                           35.000000\n",
              "Trastorno metabolico transitorio del recien nacido, no especificado                                                         29.500000\n",
              "Trastornos cardiovasculares originados en el periodo perinatal                                                              38.000000\n",
              "Traumatismo no especificado, durante el nacimiento                                                                          20.500000\n",
              "Trisomia 18, por translocacion                                                                                              23.250000\n",
              "Trisomia 21, por falta de disyuncion meiotica                                                                               22.000000\n",
              "Name: sem_gest, dtype: float64"
            ]
          },
          "metadata": {},
          "execution_count": 146
        }
      ]
    },
    {
      "cell_type": "code",
      "source": [
        "#Guardamos el data frame de defunciones en un archivo\n",
        "#defunciones.to_csv('defuncion.csv', index=False)"
      ],
      "metadata": {
        "id": "sUiH4eaWDeFn"
      },
      "execution_count": null,
      "outputs": []
    }
  ]
}