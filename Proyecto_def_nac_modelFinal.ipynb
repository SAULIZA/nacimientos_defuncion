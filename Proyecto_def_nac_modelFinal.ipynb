{
  "nbformat": 4,
  "nbformat_minor": 0,
  "metadata": {
    "colab": {
      "provenance": [],
      "authorship_tag": "ABX9TyNb5m2j1OuEmTRIvQftcWrF",
      "include_colab_link": true
    },
    "kernelspec": {
      "name": "python3",
      "display_name": "Python 3"
    },
    "language_info": {
      "name": "python"
    }
  },
  "cells": [
    {
      "cell_type": "markdown",
      "metadata": {
        "id": "view-in-github",
        "colab_type": "text"
      },
      "source": [
        "<a href=\"https://colab.research.google.com/github/SAULIZA/nacimientos_defuncion/blob/main/Proyecto_def_nac_modelFinal.ipynb\" target=\"_parent\"><img src=\"https://colab.research.google.com/assets/colab-badge.svg\" alt=\"Open In Colab\"/></a>"
      ]
    },
    {
      "cell_type": "markdown",
      "source": [
        "# Desarrollo del modelo del proyecto\n",
        "**Proyecto 2 - Parte 4 (base)**\n",
        "* Crado por: Saúl Iza\n",
        "* Fecha de realización: 23/04/2023\n",
        "* Fecha de modificación: 23/04/2023"
      ],
      "metadata": {
        "id": "TcI7dOlzwwVb"
      }
    },
    {
      "cell_type": "markdown",
      "source": [
        "## Garantiza que completes los pasos de preprocesamiento adecuados"
      ],
      "metadata": {
        "id": "snTPGpp7AMAv"
      }
    },
    {
      "cell_type": "code",
      "execution_count": 2,
      "metadata": {
        "id": "0pqGUgd1wsAx",
        "colab": {
          "base_uri": "https://localhost:8080/"
        },
        "outputId": "3443ae0a-91a3-4060-c55c-5c92b56e3c20"
      },
      "outputs": [
        {
          "output_type": "stream",
          "name": "stdout",
          "text": [
            "Drive already mounted at /content/drive; to attempt to forcibly remount, call drive.mount(\"/content/drive\", force_remount=True).\n"
          ]
        }
      ],
      "source": [
        "from google.colab import drive\n",
        "drive.mount(\"/content/drive\")"
      ]
    },
    {
      "cell_type": "code",
      "source": [
        "import pandas as pd\n",
        "import numpy as np\n",
        "from sklearn.pipeline import make_pipeline\n",
        "from sklearn.impute import SimpleImputer\n",
        "from sklearn.preprocessing import StandardScaler\n",
        "from sklearn.model_selection import train_test_split\n",
        "from sklearn.preprocessing import OneHotEncoder\n",
        "from sklearn.compose import make_column_selector, make_column_transformer\n",
        "from sklearn import set_config\n",
        "set_config(display='diagram')"
      ],
      "metadata": {
        "id": "kf3dipFvA1Fu"
      },
      "execution_count": 3,
      "outputs": []
    },
    {
      "cell_type": "code",
      "source": [
        "#Adquirimos los datos limpios desde la parte de visualización\n",
        "df = pd.read_csv(\"/content/drive/MyDrive/Codificación de Dojo/Proyecto2/datos_nac_def_limpio.csv\")"
      ],
      "metadata": {
        "id": "J17UtS9VBNVu"
      },
      "execution_count": 4,
      "outputs": []
    },
    {
      "cell_type": "code",
      "source": [
        "(df[\"anio\"] <= 2020).sum()"
      ],
      "metadata": {
        "colab": {
          "base_uri": "https://localhost:8080/"
        },
        "id": "Hp1_ZZbWoEp7",
        "outputId": "1e850863-ba29-4aa7-8497-9a9ec46ed48e"
      },
      "execution_count": 5,
      "outputs": [
        {
          "output_type": "execute_result",
          "data": {
            "text/plain": [
              "1532771"
            ]
          },
          "metadata": {},
          "execution_count": 5
        }
      ]
    },
    {
      "cell_type": "code",
      "source": [
        "(df[\"anio\"] == 2020).sum()"
      ],
      "metadata": {
        "colab": {
          "base_uri": "https://localhost:8080/"
        },
        "id": "tdWSvdQXoQ6b",
        "outputId": "edf1bd0f-bc30-4d01-dd77-ed184971237d"
      },
      "execution_count": 6,
      "outputs": [
        {
          "output_type": "execute_result",
          "data": {
            "text/plain": [
              "223322"
            ]
          },
          "metadata": {},
          "execution_count": 6
        }
      ]
    },
    {
      "cell_type": "markdown",
      "source": [
        "### Elección de las características más importantes"
      ],
      "metadata": {
        "id": "QcjoXCmGaZlR"
      }
    },
    {
      "cell_type": "code",
      "source": [
        "df.columns"
      ],
      "metadata": {
        "colab": {
          "base_uri": "https://localhost:8080/"
        },
        "id": "TwqAHVHxZk1B",
        "outputId": "835070c5-4976-499a-ca07-218527019189"
      },
      "execution_count": 7,
      "outputs": [
        {
          "output_type": "execute_result",
          "data": {
            "text/plain": [
              "Index(['sexo', 'sem_gest', 'anio', 'mes', 'p_emb', 'lugar_ocur', 'provincia',\n",
              "       'canton', 'parroquia', 'asis_por', 'area', 'edad_mad', 'con_pren',\n",
              "       'hij_viv', 'hij_vivm', 'hij_nacm', 'etnia', 'est_civil', 'sabe_leer',\n",
              "       'niv_inst', 'prov_res', 'cant_res', 'parr_res', 'area_res', 'Estado',\n",
              "       'nuev_estad'],\n",
              "      dtype='object')"
            ]
          },
          "metadata": {},
          "execution_count": 7
        }
      ]
    },
    {
      "cell_type": "markdown",
      "source": [
        "* Sex: el sexo del recién nacido o difunto si será tomado en cuenta\n",
        "* Sem_gest: las semanas de gestación si se toman en cuenta (debido a que esta característica puede tener un peso considerable con respecto al resto aún está a discusión)\n",
        "* Anio: El año de nacimiento o defunción no se considera una característica importante, sin embargo no lo eliminaremos pero luego si.\n",
        "* Mes: El mes de nacimiento o defunción tampoco es una característica importante\n",
        "* P_emb: El producto de embarazo si será tomda en cuenta\n",
        "* Lugar_ocurr: el lugar de ocurrencia también será una característica importante a tomar en cuenta\n",
        "* La provincia, cantón y área también se consideraran más no las parroquias (tanto de nacimientos, como de defunciones)\n",
        "* El estado civil la etnia, y el nivel de instrucción de la madre también serán tomados en cuenta\n",
        "* El estado también será eliminado ya que consideramos una nueva clase, en la columna nuevo estado se encuentran clasificados 3, uno de nacimiendo otro de nacido muerto y otro de aborto, según las semanas de gestación.\n",
        "* Los hijos vivos, hijos nacidos vivos que han muerto, y los hijos que han nacido muertos también serán tomados en cuenta "
      ],
      "metadata": {
        "id": "dHyYIST2b1hA"
      }
    },
    {
      "cell_type": "code",
      "source": [
        "#variables que consideramos\n",
        "col_selec = ['sexo','anio','p_emb','lugar_ocur','sem_gest',\n",
        "        'asis_por','edad_mad','con_pren',\n",
        "       'hij_viv', 'hij_vivm', 'hij_nacm','etnia','est_civil','sabe_leer',\n",
        "       'niv_inst','prov_res', \"Estado\"]\n"
      ],
      "metadata": {
        "id": "PjemIvxE8KBf"
      },
      "execution_count": 9,
      "outputs": []
    },
    {
      "cell_type": "code",
      "source": [
        "#nuevo marco de datos con las columnas seleccionadas\n",
        "data = df.loc[:,col_selec]"
      ],
      "metadata": {
        "id": "RbnXWj7eePTG"
      },
      "execution_count": 10,
      "outputs": []
    },
    {
      "cell_type": "code",
      "source": [
        "data.info()"
      ],
      "metadata": {
        "colab": {
          "base_uri": "https://localhost:8080/"
        },
        "id": "Gjc4_B45_cql",
        "outputId": "1da6cdd3-37b6-4646-e6f5-3bca65324375"
      },
      "execution_count": 11,
      "outputs": [
        {
          "output_type": "stream",
          "name": "stdout",
          "text": [
            "<class 'pandas.core.frame.DataFrame'>\n",
            "RangeIndex: 1750112 entries, 0 to 1750111\n",
            "Data columns (total 17 columns):\n",
            " #   Column      Dtype  \n",
            "---  ------      -----  \n",
            " 0   sexo        object \n",
            " 1   anio        float64\n",
            " 2   p_emb       object \n",
            " 3   lugar_ocur  object \n",
            " 4   sem_gest    float64\n",
            " 5   asis_por    object \n",
            " 6   edad_mad    float64\n",
            " 7   con_pren    float64\n",
            " 8   hij_viv     float64\n",
            " 9   hij_vivm    float64\n",
            " 10  hij_nacm    float64\n",
            " 11  etnia       object \n",
            " 12  est_civil   object \n",
            " 13  sabe_leer   object \n",
            " 14  niv_inst    object \n",
            " 15  prov_res    object \n",
            " 16  Estado      int64  \n",
            "dtypes: float64(7), int64(1), object(9)\n",
            "memory usage: 227.0+ MB\n"
          ]
        }
      ]
    },
    {
      "cell_type": "markdown",
      "source": [
        "### Ingeniería de características"
      ],
      "metadata": {
        "id": "SyNoe4rLecfs"
      }
    },
    {
      "cell_type": "code",
      "source": [
        "#haremos una sola columna con numero de hijos totales que nacieron vivos hij_viv + hij_vivm\n",
        "data['ThijosV'] = data['hij_viv'] + data['hij_vivm'] \n",
        "data = data.drop(['hij_viv', 'hij_vivm'], axis=1)"
      ],
      "metadata": {
        "id": "T6wSFwXWehau"
      },
      "execution_count": 12,
      "outputs": []
    },
    {
      "cell_type": "markdown",
      "source": [
        "* La variable nivel de instrucción, es una variable de tipo ordinal, por lo tanto vamos a ordenarlo de la siguiente manera:\n",
        "0. Se ignora y ninguno\n",
        "1. Primaria y Centro de alfabetizacion\n",
        "2. Educación básica y Educacion Media / Bachillerato\n",
        "3. Ciclo_post_bachillerato y Superior no universitario\n",
        "4. Superior y Superior universitario\n",
        "5. Posgrado\n"
      ],
      "metadata": {
        "id": "RbPo_ge8haU1"
      }
    },
    {
      "cell_type": "code",
      "source": [
        "niv_instruccion = {'Se_ignora': 0, 'Ninguno': 0, 'Primaria': 1, \"Centro_de_alfabetizacion\":1, \"Educacion_basica\":2, \"Educacion Media / Bachillerato\":2,\"Secundaria\":2, \"Ciclo_post_bachillerato\":3, \"Superior no universitario\":3,\"Superior\":4,\"Superior universitario\":4,\"Posgrado\":5}\n",
        "data[\"niv_inst\"] = data[\"niv_inst\"].replace(niv_instruccion)"
      ],
      "metadata": {
        "id": "ISwr2jkQhSb1"
      },
      "execution_count": 14,
      "outputs": []
    },
    {
      "cell_type": "markdown",
      "source": [
        "* De igual manera el producto de embarazo es una variable de tipo ordinal, por lo tanto vamos a ordenarlo:\n",
        "0. Simple\n",
        "1. Doble\n",
        "2. Triple\n",
        "3. Cuadruple o más"
      ],
      "metadata": {
        "id": "JXNzZVXll0Mh"
      }
    },
    {
      "cell_type": "code",
      "source": [
        "prod_emb = {'Simple': 0, 'Doble': 1, \"Triple\":2, \"Cuadruple_o_mas\":3}\n",
        "data[\"p_emb\"] = data[\"p_emb\"].replace(prod_emb)"
      ],
      "metadata": {
        "id": "TiX4VqH6mO8a"
      },
      "execution_count": 15,
      "outputs": []
    },
    {
      "cell_type": "markdown",
      "source": [
        "* Tomaremos en cuenta también la provincia de residencia de la madre, tomaremos en cuenta las 5 provincias más pobladas y como una categoría especial que contenga al resto de provincias"
      ],
      "metadata": {
        "id": "EdgPScqLsNrA"
      }
    },
    {
      "cell_type": "code",
      "source": [
        "data[\"prov_res\"].value_counts()"
      ],
      "metadata": {
        "colab": {
          "base_uri": "https://localhost:8080/"
        },
        "id": "P5DyueqFtNTw",
        "outputId": "d247bd9e-b280-40b9-ba8b-8f87a5d8926c"
      },
      "execution_count": 16,
      "outputs": [
        {
          "output_type": "execute_result",
          "data": {
            "text/plain": [
              "Guayas                            436740\n",
              "Pichincha                         271008\n",
              "Manabi                            167679\n",
              "Los Rios                          109599\n",
              "El Oro                             82226\n",
              "Azuay                              78050\n",
              "Esmeraldas                         66102\n",
              "Santo Domingo de los Tsachilas     58632\n",
              "Tungurahua                         53680\n",
              "Loja                               51374\n",
              "Cotopaxi                           49552\n",
              "Santa Elena                        48101\n",
              "Imbabura                           42748\n",
              "Chimborazo                         41776\n",
              "Canar                              33623\n",
              "Sucumbios                          27470\n",
              "Morona Santiago                    23625\n",
              "Orellana                           21663\n",
              "Bolivar                            19361\n",
              "Napo                               18895\n",
              "Carchi                             16221\n",
              "Pastaza                            14289\n",
              "Zamora Chinchipe                   14028\n",
              "Galapagos                           3194\n",
              "Exterior                             389\n",
              "Zona no delimitada                    84\n",
              "Zonas no delimitadas                   2\n",
              "Name: prov_res, dtype: int64"
            ]
          },
          "metadata": {},
          "execution_count": 16
        }
      ]
    },
    {
      "cell_type": "markdown",
      "source": [
        "### Train test split"
      ],
      "metadata": {
        "id": "Xx_qFVNMsvQV"
      }
    },
    {
      "cell_type": "markdown",
      "source": [
        "* Este es un problema de predicción anual, por lo tanto vamos a hacer que los datos de entrenamiento sean los datos recolectados desde los años 2012 hasta 2020 y el conjunto de testeo sea del año 2021."
      ],
      "metadata": {
        "id": "G83xU5cbonBA"
      }
    },
    {
      "cell_type": "code",
      "source": [
        "#filtramos los datos desde el 2012 hasta el 2020\n",
        "df_2012_2020 = data[(data['anio'] >= 2012) & (data['anio'] <= 2020)]\n",
        "# filtramos los datos del 2021\n",
        "df_2021 = data[data['anio'] == 2021]"
      ],
      "metadata": {
        "id": "nA4LO8TqomSI"
      },
      "execution_count": 19,
      "outputs": []
    },
    {
      "cell_type": "code",
      "source": [
        "#comprobamos\n",
        "df_2012_2020[\"anio\"].value_counts()"
      ],
      "metadata": {
        "colab": {
          "base_uri": "https://localhost:8080/"
        },
        "id": "6dVaChLSp84A",
        "outputId": "4c2ec823-97f5-49b0-eb85-7de3d962c9a6"
      },
      "execution_count": 20,
      "outputs": [
        {
          "output_type": "execute_result",
          "data": {
            "text/plain": [
              "2018.0    265923\n",
              "2017.0    263558\n",
              "2019.0    258668\n",
              "2016.0    250567\n",
              "2020.0    223322\n",
              "2013.0    103954\n",
              "2014.0     92392\n",
              "2015.0     52417\n",
              "2012.0     21970\n",
              "Name: anio, dtype: int64"
            ]
          },
          "metadata": {},
          "execution_count": 20
        }
      ]
    },
    {
      "cell_type": "code",
      "source": [
        "df_2021[\"anio\"].value_counts()"
      ],
      "metadata": {
        "colab": {
          "base_uri": "https://localhost:8080/"
        },
        "id": "H6ApN6bDqf-H",
        "outputId": "cd8dbcb4-d421-4eeb-8fd4-eab0c9566df8"
      },
      "execution_count": 21,
      "outputs": [
        {
          "output_type": "execute_result",
          "data": {
            "text/plain": [
              "2021.0    217341\n",
              "Name: anio, dtype: int64"
            ]
          },
          "metadata": {},
          "execution_count": 21
        }
      ]
    },
    {
      "cell_type": "code",
      "source": [
        "#test train split\n",
        "#características\n",
        "X_train = df_2012_2020.drop([\"anio\",\"Estado\"], axis = 1)\n",
        "X_test = df_2021.drop([\"anio\",\"Estado\"], axis = 1)\n",
        "\n",
        "y_train = df_2012_2020[\"Estado\"]\n",
        "y_test = df_2021[\"Estado\"]"
      ],
      "metadata": {
        "id": "WzvOahOoqznn"
      },
      "execution_count": 22,
      "outputs": []
    },
    {
      "cell_type": "markdown",
      "source": [
        " ### Preparación de datos para aplicar modelos"
      ],
      "metadata": {
        "id": "Kbb9gpDSsitl"
      }
    },
    {
      "cell_type": "code",
      "source": [
        "from sklearn.pipeline import make_pipeline\n",
        "from sklearn.impute import SimpleImputer\n",
        "from sklearn.preprocessing import StandardScaler\n",
        "from sklearn.model_selection import train_test_split\n",
        "from sklearn.preprocessing import OneHotEncoder\n",
        "from sklearn.compose import make_column_selector, make_column_transformer\n",
        "from sklearn import set_config\n",
        "set_config(display='diagram')"
      ],
      "metadata": {
        "id": "bpBgSLbLsga9"
      },
      "execution_count": 23,
      "outputs": []
    },
    {
      "cell_type": "code",
      "source": [
        "#Instanciamos column selector\n",
        "num_selector = make_column_selector(dtype_include = \"number\")\n",
        "cat_selector = make_column_selector(dtype_include = \"object\")"
      ],
      "metadata": {
        "id": "RvX5CEVis5nV"
      },
      "execution_count": 24,
      "outputs": []
    },
    {
      "cell_type": "code",
      "source": [
        "#instanciamos scaler para los datos numéricos\n",
        "scaler = StandardScaler()\n",
        "#instanciamos codificación one-hot-endoder para datos nominales\n",
        "ohe_encoder = OneHotEncoder(drop = \"first\",sparse_output = False, handle_unknown = \"ignore\")"
      ],
      "metadata": {
        "id": "UEDPCA5Du0SM"
      },
      "execution_count": 25,
      "outputs": []
    },
    {
      "cell_type": "code",
      "source": [
        "#creación de tuplas\n",
        "num_tuple = (scaler, num_selector)\n",
        "cat_tuple = (ohe_encoder, cat_selector)"
      ],
      "metadata": {
        "id": "gZQDC5kTvL-8"
      },
      "execution_count": 26,
      "outputs": []
    },
    {
      "cell_type": "code",
      "source": [
        "#instanciamos column transform\n",
        "col_transformer = make_column_transformer(num_tuple,cat_tuple, remainder = \"passthrough\")"
      ],
      "metadata": {
        "id": "_-aBDP8zv7wE"
      },
      "execution_count": 27,
      "outputs": []
    },
    {
      "cell_type": "code",
      "source": [
        "#ajustamos a los datos de entrenamiento\n",
        "col_transformer.fit(X_train)"
      ],
      "metadata": {
        "colab": {
          "base_uri": "https://localhost:8080/",
          "height": 117
        },
        "id": "JRYp5_sZwJYM",
        "outputId": "b4fd075b-7fa7-41c9-f7a8-0f1efd900ca6"
      },
      "execution_count": 28,
      "outputs": [
        {
          "output_type": "execute_result",
          "data": {
            "text/plain": [
              "ColumnTransformer(remainder='passthrough',\n",
              "                  transformers=[('standardscaler', StandardScaler(),\n",
              "                                 <sklearn.compose._column_transformer.make_column_selector object at 0x7ff7a9d33a00>),\n",
              "                                ('onehotencoder',\n",
              "                                 OneHotEncoder(drop='first',\n",
              "                                               handle_unknown='ignore',\n",
              "                                               sparse_output=False),\n",
              "                                 <sklearn.compose._column_transformer.make_column_selector object at 0x7ff7a9d33250>)])"
            ],
            "text/html": [
              "<style>#sk-container-id-1 {color: black;background-color: white;}#sk-container-id-1 pre{padding: 0;}#sk-container-id-1 div.sk-toggleable {background-color: white;}#sk-container-id-1 label.sk-toggleable__label {cursor: pointer;display: block;width: 100%;margin-bottom: 0;padding: 0.3em;box-sizing: border-box;text-align: center;}#sk-container-id-1 label.sk-toggleable__label-arrow:before {content: \"▸\";float: left;margin-right: 0.25em;color: #696969;}#sk-container-id-1 label.sk-toggleable__label-arrow:hover:before {color: black;}#sk-container-id-1 div.sk-estimator:hover label.sk-toggleable__label-arrow:before {color: black;}#sk-container-id-1 div.sk-toggleable__content {max-height: 0;max-width: 0;overflow: hidden;text-align: left;background-color: #f0f8ff;}#sk-container-id-1 div.sk-toggleable__content pre {margin: 0.2em;color: black;border-radius: 0.25em;background-color: #f0f8ff;}#sk-container-id-1 input.sk-toggleable__control:checked~div.sk-toggleable__content {max-height: 200px;max-width: 100%;overflow: auto;}#sk-container-id-1 input.sk-toggleable__control:checked~label.sk-toggleable__label-arrow:before {content: \"▾\";}#sk-container-id-1 div.sk-estimator input.sk-toggleable__control:checked~label.sk-toggleable__label {background-color: #d4ebff;}#sk-container-id-1 div.sk-label input.sk-toggleable__control:checked~label.sk-toggleable__label {background-color: #d4ebff;}#sk-container-id-1 input.sk-hidden--visually {border: 0;clip: rect(1px 1px 1px 1px);clip: rect(1px, 1px, 1px, 1px);height: 1px;margin: -1px;overflow: hidden;padding: 0;position: absolute;width: 1px;}#sk-container-id-1 div.sk-estimator {font-family: monospace;background-color: #f0f8ff;border: 1px dotted black;border-radius: 0.25em;box-sizing: border-box;margin-bottom: 0.5em;}#sk-container-id-1 div.sk-estimator:hover {background-color: #d4ebff;}#sk-container-id-1 div.sk-parallel-item::after {content: \"\";width: 100%;border-bottom: 1px solid gray;flex-grow: 1;}#sk-container-id-1 div.sk-label:hover label.sk-toggleable__label {background-color: #d4ebff;}#sk-container-id-1 div.sk-serial::before {content: \"\";position: absolute;border-left: 1px solid gray;box-sizing: border-box;top: 0;bottom: 0;left: 50%;z-index: 0;}#sk-container-id-1 div.sk-serial {display: flex;flex-direction: column;align-items: center;background-color: white;padding-right: 0.2em;padding-left: 0.2em;position: relative;}#sk-container-id-1 div.sk-item {position: relative;z-index: 1;}#sk-container-id-1 div.sk-parallel {display: flex;align-items: stretch;justify-content: center;background-color: white;position: relative;}#sk-container-id-1 div.sk-item::before, #sk-container-id-1 div.sk-parallel-item::before {content: \"\";position: absolute;border-left: 1px solid gray;box-sizing: border-box;top: 0;bottom: 0;left: 50%;z-index: -1;}#sk-container-id-1 div.sk-parallel-item {display: flex;flex-direction: column;z-index: 1;position: relative;background-color: white;}#sk-container-id-1 div.sk-parallel-item:first-child::after {align-self: flex-end;width: 50%;}#sk-container-id-1 div.sk-parallel-item:last-child::after {align-self: flex-start;width: 50%;}#sk-container-id-1 div.sk-parallel-item:only-child::after {width: 0;}#sk-container-id-1 div.sk-dashed-wrapped {border: 1px dashed gray;margin: 0 0.4em 0.5em 0.4em;box-sizing: border-box;padding-bottom: 0.4em;background-color: white;}#sk-container-id-1 div.sk-label label {font-family: monospace;font-weight: bold;display: inline-block;line-height: 1.2em;}#sk-container-id-1 div.sk-label-container {text-align: center;}#sk-container-id-1 div.sk-container {/* jupyter's `normalize.less` sets `[hidden] { display: none; }` but bootstrap.min.css set `[hidden] { display: none !important; }` so we also need the `!important` here to be able to override the default hidden behavior on the sphinx rendered scikit-learn.org. See: https://github.com/scikit-learn/scikit-learn/issues/21755 */display: inline-block !important;position: relative;}#sk-container-id-1 div.sk-text-repr-fallback {display: none;}</style><div id=\"sk-container-id-1\" class=\"sk-top-container\"><div class=\"sk-text-repr-fallback\"><pre>ColumnTransformer(remainder=&#x27;passthrough&#x27;,\n",
              "                  transformers=[(&#x27;standardscaler&#x27;, StandardScaler(),\n",
              "                                 &lt;sklearn.compose._column_transformer.make_column_selector object at 0x7ff7a9d33a00&gt;),\n",
              "                                (&#x27;onehotencoder&#x27;,\n",
              "                                 OneHotEncoder(drop=&#x27;first&#x27;,\n",
              "                                               handle_unknown=&#x27;ignore&#x27;,\n",
              "                                               sparse_output=False),\n",
              "                                 &lt;sklearn.compose._column_transformer.make_column_selector object at 0x7ff7a9d33250&gt;)])</pre><b>In a Jupyter environment, please rerun this cell to show the HTML representation or trust the notebook. <br />On GitHub, the HTML representation is unable to render, please try loading this page with nbviewer.org.</b></div><div class=\"sk-container\" hidden><div class=\"sk-item sk-dashed-wrapped\"><div class=\"sk-label-container\"><div class=\"sk-label sk-toggleable\"><input class=\"sk-toggleable__control sk-hidden--visually\" id=\"sk-estimator-id-1\" type=\"checkbox\" ><label for=\"sk-estimator-id-1\" class=\"sk-toggleable__label sk-toggleable__label-arrow\">ColumnTransformer</label><div class=\"sk-toggleable__content\"><pre>ColumnTransformer(remainder=&#x27;passthrough&#x27;,\n",
              "                  transformers=[(&#x27;standardscaler&#x27;, StandardScaler(),\n",
              "                                 &lt;sklearn.compose._column_transformer.make_column_selector object at 0x7ff7a9d33a00&gt;),\n",
              "                                (&#x27;onehotencoder&#x27;,\n",
              "                                 OneHotEncoder(drop=&#x27;first&#x27;,\n",
              "                                               handle_unknown=&#x27;ignore&#x27;,\n",
              "                                               sparse_output=False),\n",
              "                                 &lt;sklearn.compose._column_transformer.make_column_selector object at 0x7ff7a9d33250&gt;)])</pre></div></div></div><div class=\"sk-parallel\"><div class=\"sk-parallel-item\"><div class=\"sk-item\"><div class=\"sk-label-container\"><div class=\"sk-label sk-toggleable\"><input class=\"sk-toggleable__control sk-hidden--visually\" id=\"sk-estimator-id-2\" type=\"checkbox\" ><label for=\"sk-estimator-id-2\" class=\"sk-toggleable__label sk-toggleable__label-arrow\">standardscaler</label><div class=\"sk-toggleable__content\"><pre>&lt;sklearn.compose._column_transformer.make_column_selector object at 0x7ff7a9d33a00&gt;</pre></div></div></div><div class=\"sk-serial\"><div class=\"sk-item\"><div class=\"sk-estimator sk-toggleable\"><input class=\"sk-toggleable__control sk-hidden--visually\" id=\"sk-estimator-id-3\" type=\"checkbox\" ><label for=\"sk-estimator-id-3\" class=\"sk-toggleable__label sk-toggleable__label-arrow\">StandardScaler</label><div class=\"sk-toggleable__content\"><pre>StandardScaler()</pre></div></div></div></div></div></div><div class=\"sk-parallel-item\"><div class=\"sk-item\"><div class=\"sk-label-container\"><div class=\"sk-label sk-toggleable\"><input class=\"sk-toggleable__control sk-hidden--visually\" id=\"sk-estimator-id-4\" type=\"checkbox\" ><label for=\"sk-estimator-id-4\" class=\"sk-toggleable__label sk-toggleable__label-arrow\">onehotencoder</label><div class=\"sk-toggleable__content\"><pre>&lt;sklearn.compose._column_transformer.make_column_selector object at 0x7ff7a9d33250&gt;</pre></div></div></div><div class=\"sk-serial\"><div class=\"sk-item\"><div class=\"sk-estimator sk-toggleable\"><input class=\"sk-toggleable__control sk-hidden--visually\" id=\"sk-estimator-id-5\" type=\"checkbox\" ><label for=\"sk-estimator-id-5\" class=\"sk-toggleable__label sk-toggleable__label-arrow\">OneHotEncoder</label><div class=\"sk-toggleable__content\"><pre>OneHotEncoder(drop=&#x27;first&#x27;, handle_unknown=&#x27;ignore&#x27;, sparse_output=False)</pre></div></div></div></div></div></div><div class=\"sk-parallel-item\"><div class=\"sk-item\"><div class=\"sk-label-container\"><div class=\"sk-label sk-toggleable\"><input class=\"sk-toggleable__control sk-hidden--visually\" id=\"sk-estimator-id-6\" type=\"checkbox\" ><label for=\"sk-estimator-id-6\" class=\"sk-toggleable__label sk-toggleable__label-arrow\">remainder</label><div class=\"sk-toggleable__content\"><pre>[]</pre></div></div></div><div class=\"sk-serial\"><div class=\"sk-item\"><div class=\"sk-estimator sk-toggleable\"><input class=\"sk-toggleable__control sk-hidden--visually\" id=\"sk-estimator-id-7\" type=\"checkbox\" ><label for=\"sk-estimator-id-7\" class=\"sk-toggleable__label sk-toggleable__label-arrow\">passthrough</label><div class=\"sk-toggleable__content\"><pre>passthrough</pre></div></div></div></div></div></div></div></div></div></div>"
            ]
          },
          "metadata": {},
          "execution_count": 28
        }
      ]
    },
    {
      "cell_type": "code",
      "source": [
        "#transformacion de datos\n",
        "X_train_processed = col_transformer.transform(X_train)\n",
        "X_test_processed = col_transformer.transform(X_test)"
      ],
      "metadata": {
        "id": "drdQxv8PtCq1"
      },
      "execution_count": 29,
      "outputs": []
    },
    {
      "cell_type": "markdown",
      "source": [
        "## El modelo final escogido es el XGBoost, lo usaremos con los mejores hiperparámetros que se encontraron."
      ],
      "metadata": {
        "id": "yGYA8GrYAQEH"
      }
    },
    {
      "cell_type": "markdown",
      "source": [
        "### Extreme Gradient Bosting"
      ],
      "metadata": {
        "id": "Rygx7gnaKZ9n"
      }
    },
    {
      "cell_type": "code",
      "source": [
        "from xgboost import XGBClassifier"
      ],
      "metadata": {
        "id": "JMBlX2pSKcsP"
      },
      "execution_count": 34,
      "outputs": []
    },
    {
      "cell_type": "code",
      "source": [
        "from sklearn.model_selection import GridSearchCV"
      ],
      "metadata": {
        "id": "6BlpT8aOh2Q3"
      },
      "execution_count": 35,
      "outputs": []
    },
    {
      "cell_type": "code",
      "source": [
        "# Instantiate and fit gradient boosting classifier\n",
        "xgb_best = XGBClassifier(max_depth= 5, n_estimators= 95)\n",
        "xgb_best.fit(X_train_processed, y_train)"
      ],
      "metadata": {
        "colab": {
          "base_uri": "https://localhost:8080/",
          "height": 248
        },
        "id": "8B45VVDOKgu_",
        "outputId": "108f7062-1a4a-4a00-b781-1a26475e951b"
      },
      "execution_count": 36,
      "outputs": [
        {
          "output_type": "execute_result",
          "data": {
            "text/plain": [
              "XGBClassifier(base_score=None, booster=None, callbacks=None,\n",
              "              colsample_bylevel=None, colsample_bynode=None,\n",
              "              colsample_bytree=None, early_stopping_rounds=None,\n",
              "              enable_categorical=False, eval_metric=None, feature_types=None,\n",
              "              gamma=None, gpu_id=None, grow_policy=None, importance_type=None,\n",
              "              interaction_constraints=None, learning_rate=None, max_bin=None,\n",
              "              max_cat_threshold=None, max_cat_to_onehot=None,\n",
              "              max_delta_step=None, max_depth=5, max_leaves=None,\n",
              "              min_child_weight=None, missing=nan, monotone_constraints=None,\n",
              "              n_estimators=95, n_jobs=None, num_parallel_tree=None,\n",
              "              predictor=None, random_state=None, ...)"
            ],
            "text/html": [
              "<style>#sk-container-id-2 {color: black;background-color: white;}#sk-container-id-2 pre{padding: 0;}#sk-container-id-2 div.sk-toggleable {background-color: white;}#sk-container-id-2 label.sk-toggleable__label {cursor: pointer;display: block;width: 100%;margin-bottom: 0;padding: 0.3em;box-sizing: border-box;text-align: center;}#sk-container-id-2 label.sk-toggleable__label-arrow:before {content: \"▸\";float: left;margin-right: 0.25em;color: #696969;}#sk-container-id-2 label.sk-toggleable__label-arrow:hover:before {color: black;}#sk-container-id-2 div.sk-estimator:hover label.sk-toggleable__label-arrow:before {color: black;}#sk-container-id-2 div.sk-toggleable__content {max-height: 0;max-width: 0;overflow: hidden;text-align: left;background-color: #f0f8ff;}#sk-container-id-2 div.sk-toggleable__content pre {margin: 0.2em;color: black;border-radius: 0.25em;background-color: #f0f8ff;}#sk-container-id-2 input.sk-toggleable__control:checked~div.sk-toggleable__content {max-height: 200px;max-width: 100%;overflow: auto;}#sk-container-id-2 input.sk-toggleable__control:checked~label.sk-toggleable__label-arrow:before {content: \"▾\";}#sk-container-id-2 div.sk-estimator input.sk-toggleable__control:checked~label.sk-toggleable__label {background-color: #d4ebff;}#sk-container-id-2 div.sk-label input.sk-toggleable__control:checked~label.sk-toggleable__label {background-color: #d4ebff;}#sk-container-id-2 input.sk-hidden--visually {border: 0;clip: rect(1px 1px 1px 1px);clip: rect(1px, 1px, 1px, 1px);height: 1px;margin: -1px;overflow: hidden;padding: 0;position: absolute;width: 1px;}#sk-container-id-2 div.sk-estimator {font-family: monospace;background-color: #f0f8ff;border: 1px dotted black;border-radius: 0.25em;box-sizing: border-box;margin-bottom: 0.5em;}#sk-container-id-2 div.sk-estimator:hover {background-color: #d4ebff;}#sk-container-id-2 div.sk-parallel-item::after {content: \"\";width: 100%;border-bottom: 1px solid gray;flex-grow: 1;}#sk-container-id-2 div.sk-label:hover label.sk-toggleable__label {background-color: #d4ebff;}#sk-container-id-2 div.sk-serial::before {content: \"\";position: absolute;border-left: 1px solid gray;box-sizing: border-box;top: 0;bottom: 0;left: 50%;z-index: 0;}#sk-container-id-2 div.sk-serial {display: flex;flex-direction: column;align-items: center;background-color: white;padding-right: 0.2em;padding-left: 0.2em;position: relative;}#sk-container-id-2 div.sk-item {position: relative;z-index: 1;}#sk-container-id-2 div.sk-parallel {display: flex;align-items: stretch;justify-content: center;background-color: white;position: relative;}#sk-container-id-2 div.sk-item::before, #sk-container-id-2 div.sk-parallel-item::before {content: \"\";position: absolute;border-left: 1px solid gray;box-sizing: border-box;top: 0;bottom: 0;left: 50%;z-index: -1;}#sk-container-id-2 div.sk-parallel-item {display: flex;flex-direction: column;z-index: 1;position: relative;background-color: white;}#sk-container-id-2 div.sk-parallel-item:first-child::after {align-self: flex-end;width: 50%;}#sk-container-id-2 div.sk-parallel-item:last-child::after {align-self: flex-start;width: 50%;}#sk-container-id-2 div.sk-parallel-item:only-child::after {width: 0;}#sk-container-id-2 div.sk-dashed-wrapped {border: 1px dashed gray;margin: 0 0.4em 0.5em 0.4em;box-sizing: border-box;padding-bottom: 0.4em;background-color: white;}#sk-container-id-2 div.sk-label label {font-family: monospace;font-weight: bold;display: inline-block;line-height: 1.2em;}#sk-container-id-2 div.sk-label-container {text-align: center;}#sk-container-id-2 div.sk-container {/* jupyter's `normalize.less` sets `[hidden] { display: none; }` but bootstrap.min.css set `[hidden] { display: none !important; }` so we also need the `!important` here to be able to override the default hidden behavior on the sphinx rendered scikit-learn.org. See: https://github.com/scikit-learn/scikit-learn/issues/21755 */display: inline-block !important;position: relative;}#sk-container-id-2 div.sk-text-repr-fallback {display: none;}</style><div id=\"sk-container-id-2\" class=\"sk-top-container\"><div class=\"sk-text-repr-fallback\"><pre>XGBClassifier(base_score=None, booster=None, callbacks=None,\n",
              "              colsample_bylevel=None, colsample_bynode=None,\n",
              "              colsample_bytree=None, early_stopping_rounds=None,\n",
              "              enable_categorical=False, eval_metric=None, feature_types=None,\n",
              "              gamma=None, gpu_id=None, grow_policy=None, importance_type=None,\n",
              "              interaction_constraints=None, learning_rate=None, max_bin=None,\n",
              "              max_cat_threshold=None, max_cat_to_onehot=None,\n",
              "              max_delta_step=None, max_depth=5, max_leaves=None,\n",
              "              min_child_weight=None, missing=nan, monotone_constraints=None,\n",
              "              n_estimators=95, n_jobs=None, num_parallel_tree=None,\n",
              "              predictor=None, random_state=None, ...)</pre><b>In a Jupyter environment, please rerun this cell to show the HTML representation or trust the notebook. <br />On GitHub, the HTML representation is unable to render, please try loading this page with nbviewer.org.</b></div><div class=\"sk-container\" hidden><div class=\"sk-item\"><div class=\"sk-estimator sk-toggleable\"><input class=\"sk-toggleable__control sk-hidden--visually\" id=\"sk-estimator-id-8\" type=\"checkbox\" checked><label for=\"sk-estimator-id-8\" class=\"sk-toggleable__label sk-toggleable__label-arrow\">XGBClassifier</label><div class=\"sk-toggleable__content\"><pre>XGBClassifier(base_score=None, booster=None, callbacks=None,\n",
              "              colsample_bylevel=None, colsample_bynode=None,\n",
              "              colsample_bytree=None, early_stopping_rounds=None,\n",
              "              enable_categorical=False, eval_metric=None, feature_types=None,\n",
              "              gamma=None, gpu_id=None, grow_policy=None, importance_type=None,\n",
              "              interaction_constraints=None, learning_rate=None, max_bin=None,\n",
              "              max_cat_threshold=None, max_cat_to_onehot=None,\n",
              "              max_delta_step=None, max_depth=5, max_leaves=None,\n",
              "              min_child_weight=None, missing=nan, monotone_constraints=None,\n",
              "              n_estimators=95, n_jobs=None, num_parallel_tree=None,\n",
              "              predictor=None, random_state=None, ...)</pre></div></div></div></div></div>"
            ]
          },
          "metadata": {},
          "execution_count": 36
        }
      ]
    },
    {
      "cell_type": "code",
      "source": [
        "#grupo de entrenamiento\n",
        "y_train_pred_xgb = xgb_best.predict(X_train_processed)\n",
        "#grupo de testeo\n",
        "y_test_pred_xgb = xgb_best.predict(X_test_processed)"
      ],
      "metadata": {
        "id": "057MFOBxKk0_"
      },
      "execution_count": 37,
      "outputs": []
    },
    {
      "cell_type": "code",
      "source": [
        "from sklearn.metrics import accuracy_score, precision_score, recall_score, classification_report, confusion_matrix,ConfusionMatrixDisplay\n",
        "import matplotlib.pyplot as plt"
      ],
      "metadata": {
        "id": "co36dPvHRNGc"
      },
      "execution_count": 38,
      "outputs": []
    },
    {
      "cell_type": "markdown",
      "source": [
        "## Métricas del modelo"
      ],
      "metadata": {
        "id": "sKhIHdUvSFoo"
      }
    },
    {
      "cell_type": "markdown",
      "source": [
        "* Grupo de entrenamiento"
      ],
      "metadata": {
        "id": "KsymRWSJgpD5"
      }
    },
    {
      "cell_type": "code",
      "source": [
        "print(classification_report(y_train, y_train_pred_xgb))"
      ],
      "metadata": {
        "colab": {
          "base_uri": "https://localhost:8080/"
        },
        "id": "bGIa8WaCguAR",
        "outputId": "5d978844-aae3-4263-b0aa-f29b1814a61f"
      },
      "execution_count": 39,
      "outputs": [
        {
          "output_type": "stream",
          "name": "stdout",
          "text": [
            "              precision    recall  f1-score   support\n",
            "\n",
            "           0       0.92      0.81      0.86     10244\n",
            "           1       1.00      1.00      1.00   1522527\n",
            "\n",
            "    accuracy                           1.00   1532771\n",
            "   macro avg       0.96      0.90      0.93   1532771\n",
            "weighted avg       1.00      1.00      1.00   1532771\n",
            "\n"
          ]
        }
      ]
    },
    {
      "cell_type": "code",
      "source": [
        "cm_xgb_train = confusion_matrix(y_train, y_train_pred_xgb)\n",
        "disp = ConfusionMatrixDisplay(cm_xgb_train)\n",
        "disp.plot();"
      ],
      "metadata": {
        "colab": {
          "base_uri": "https://localhost:8080/",
          "height": 465
        },
        "id": "cOy8UBnwgxXy",
        "outputId": "637368ae-7d23-4c8d-e10c-8cee6db5cbae"
      },
      "execution_count": 40,
      "outputs": [
        {
          "output_type": "display_data",
          "data": {
            "text/plain": [
              "<Figure size 640x480 with 2 Axes>"
            ],
            "image/png": "[encoded data removed]"
          },
          "metadata": {}
        }
      ]
    },
    {
      "cell_type": "markdown",
      "source": [
        "* Grupo de testeo"
      ],
      "metadata": {
        "id": "XfUua8b-gryh"
      }
    },
    {
      "cell_type": "code",
      "source": [
        "print(classification_report(y_test, y_test_pred_xgb))"
      ],
      "metadata": {
        "colab": {
          "base_uri": "https://localhost:8080/"
        },
        "id": "LZSXLPmcg_BJ",
        "outputId": "3fefa9fd-4d38-4ef9-97a7-f70cc6fde29e"
      },
      "execution_count": 41,
      "outputs": [
        {
          "output_type": "stream",
          "name": "stdout",
          "text": [
            "              precision    recall  f1-score   support\n",
            "\n",
            "           0       0.91      0.79      0.85      1300\n",
            "           1       1.00      1.00      1.00    216041\n",
            "\n",
            "    accuracy                           1.00    217341\n",
            "   macro avg       0.95      0.90      0.92    217341\n",
            "weighted avg       1.00      1.00      1.00    217341\n",
            "\n"
          ]
        }
      ]
    },
    {
      "cell_type": "code",
      "source": [
        "cm_xgb_test = confusion_matrix(y_test, y_test_pred_xgb)\n",
        "disp = ConfusionMatrixDisplay(cm_xgb_test)\n",
        "disp.plot();"
      ],
      "metadata": {
        "colab": {
          "base_uri": "https://localhost:8080/",
          "height": 449
        },
        "id": "vlA8-gLzhCUA",
        "outputId": "d0dec9cd-9574-4e91-f5fb-7c858e6507a1"
      },
      "execution_count": 42,
      "outputs": [
        {
          "output_type": "display_data",
          "data": {
            "text/plain": [
              "<Figure size 640x480 with 2 Axes>"
            ],
            "image/png": "[encoded data removed]"
          },
          "metadata": {}
        }
      ]
    },
    {
      "cell_type": "code",
      "source": [
        "from sklearn.metrics import roc_auc_score"
      ],
      "metadata": {
        "id": "W3uxUpvWV15f"
      },
      "execution_count": null,
      "outputs": []
    },
    {
      "cell_type": "code",
      "source": [
        "auc = roc_auc_score(y_test,y_test_pred_xgb)\n",
        "auc"
      ],
      "metadata": {
        "colab": {
          "base_uri": "https://localhost:8080/"
        },
        "id": "znxHn292V42v",
        "outputId": "2b897cad-4224-4260-84d1-2815e17ea7d5"
      },
      "execution_count": null,
      "outputs": [
        {
          "output_type": "execute_result",
          "data": {
            "text/plain": [
              "0.8970600541279022"
            ]
          },
          "metadata": {},
          "execution_count": 99
        }
      ]
    },
    {
      "cell_type": "markdown",
      "source": [
        "## Variables más representativas"
      ],
      "metadata": {
        "id": "hCygUxL_SLaP"
      }
    },
    {
      "cell_type": "markdown",
      "source": [
        "Para encontrar las variables más representativas se realizo un analisis de rendimiento del modelo XGBoost que depende de cada variable, es decir, quitamos una variable y realizamos la clasificación, y vemos como afecta la ausencia de la misma al recall del modelo. "
      ],
      "metadata": {
        "id": "-EeLR3frSPJP"
      }
    },
    {
      "cell_type": "markdown",
      "source": [
        "![6.PNG](data:image/png;base64,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)"
      ],
      "metadata": {
        "id": "qQ9T9HiaS9of"
      }
    },
    {
      "cell_type": "markdown",
      "source": [
        "El rendimiento del modelo según el recall con ausencia de cada variable se lo realizó a mano, estos datos encontrados se recolectó en excel y luego se realizó un gráfico de los mismos (ver gráfico superior). Aquí se puede observar algunas variables que afectan mucho al rendimiento del modelo, a continuación vemos los más representativos.\n",
        "1. Número de hijos nacidos muertos\n",
        "2. Semanas de gestación\n",
        "3. Número todal de hijos concebidos\n",
        "4. Edad de la madre\n",
        "5. Asistido por\n",
        "6. Controles prenatales"
      ],
      "metadata": {
        "id": "82equCmLTBY_"
      }
    },
    {
      "cell_type": "markdown",
      "source": [
        "* Se puede observar que entre las primeras causas de las defunciones fetales, se encuentran variables que dependen de la capacidad de la madre de dar a luz, o la incapacidad de dar a luz, por algúna razón.\n",
        "* Las últimas variables están más relacionadas con la falta de acceso a medicos especialistas (obstetras) o a la falta de acceso a los controles prenatales."
      ],
      "metadata": {
        "id": "WyMoxw-mUIUW"
      }
    }
  ]
}