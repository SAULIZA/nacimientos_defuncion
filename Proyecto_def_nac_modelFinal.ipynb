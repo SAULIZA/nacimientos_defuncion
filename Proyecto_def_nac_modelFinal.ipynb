{
  "nbformat": 4,
  "nbformat_minor": 0,
  "metadata": {
    "colab": {
      "provenance": [],
      "authorship_tag": "ABX9TyOi0EIEuIS3R2Kgc8EdqOWJ",
      "include_colab_link": true
    },
    "kernelspec": {
      "name": "python3",
      "display_name": "Python 3"
    },
    "language_info": {
      "name": "python"
    }
  },
  "cells": [
    {
      "cell_type": "markdown",
      "metadata": {
        "id": "view-in-github",
        "colab_type": "text"
      },
      "source": [
        "<a href=\"https://colab.research.google.com/github/SAULIZA/nacimientos_defuncion/blob/main/Proyecto_def_nac_modelFinal.ipynb\" target=\"_parent\"><img src=\"https://colab.research.google.com/assets/colab-badge.svg\" alt=\"Open In Colab\"/></a>"
      ]
    },
    {
      "cell_type": "markdown",
      "source": [
        "# Desarrollo del modelo del proyecto\n",
        "**Proyecto 2 - Parte 4 (base)**\n",
        "* Crado por: Saúl Iza\n",
        "* Fecha de realización: 23/04/2023\n",
        "* Fecha de modificación: 23/04/2023"
      ],
      "metadata": {
        "id": "TcI7dOlzwwVb"
      }
    },
    {
      "cell_type": "markdown",
      "source": [
        "## Garantiza que completes los pasos de preprocesamiento adecuados"
      ],
      "metadata": {
        "id": "snTPGpp7AMAv"
      }
    },
    {
      "cell_type": "code",
      "execution_count": 16,
      "metadata": {
        "id": "0pqGUgd1wsAx",
        "colab": {
          "base_uri": "https://localhost:8080/"
        },
        "outputId": "48795a2f-1bff-41ed-8ce2-71c8c08eb30e"
      },
      "outputs": [
        {
          "output_type": "stream",
          "name": "stdout",
          "text": [
            "Drive already mounted at /content/drive; to attempt to forcibly remount, call drive.mount(\"/content/drive\", force_remount=True).\n"
          ]
        }
      ],
      "source": [
        "from google.colab import drive\n",
        "drive.mount(\"/content/drive\")"
      ]
    },
    {
      "cell_type": "code",
      "source": [
        "import pandas as pd\n",
        "import numpy as np\n",
        "from sklearn.pipeline import make_pipeline\n",
        "from sklearn.impute import SimpleImputer\n",
        "from sklearn.preprocessing import StandardScaler\n",
        "from sklearn.model_selection import train_test_split\n",
        "from sklearn.preprocessing import OneHotEncoder\n",
        "from sklearn.compose import make_column_selector, make_column_transformer\n",
        "from sklearn import set_config\n",
        "set_config(display='diagram')"
      ],
      "metadata": {
        "id": "kf3dipFvA1Fu"
      },
      "execution_count": 17,
      "outputs": []
    },
    {
      "cell_type": "code",
      "source": [
        "#Adquirimos los datos limpios desde la parte de visualización\n",
        "df = pd.read_csv(\"/content/drive/MyDrive/Codificación de Dojo/Proyecto2/datos_nac_def_limpio.csv\")"
      ],
      "metadata": {
        "id": "J17UtS9VBNVu"
      },
      "execution_count": 18,
      "outputs": []
    },
    {
      "cell_type": "code",
      "source": [
        "(df[\"anio\"] <= 2020).sum()"
      ],
      "metadata": {
        "colab": {
          "base_uri": "https://localhost:8080/"
        },
        "id": "Hp1_ZZbWoEp7",
        "outputId": "a2a5e1ba-6d0d-46d0-ced9-767d03dc3bea"
      },
      "execution_count": 19,
      "outputs": [
        {
          "output_type": "execute_result",
          "data": {
            "text/plain": [
              "1532771"
            ]
          },
          "metadata": {},
          "execution_count": 19
        }
      ]
    },
    {
      "cell_type": "code",
      "source": [
        "(df[\"anio\"] == 2020).sum()"
      ],
      "metadata": {
        "colab": {
          "base_uri": "https://localhost:8080/"
        },
        "id": "tdWSvdQXoQ6b",
        "outputId": "dd6464b5-0115-4f80-f6f5-cceea171906d"
      },
      "execution_count": 20,
      "outputs": [
        {
          "output_type": "execute_result",
          "data": {
            "text/plain": [
              "223322"
            ]
          },
          "metadata": {},
          "execution_count": 20
        }
      ]
    },
    {
      "cell_type": "markdown",
      "source": [
        "### Elección de las características más importantes"
      ],
      "metadata": {
        "id": "QcjoXCmGaZlR"
      }
    },
    {
      "cell_type": "code",
      "source": [
        "df.columns"
      ],
      "metadata": {
        "colab": {
          "base_uri": "https://localhost:8080/"
        },
        "id": "TwqAHVHxZk1B",
        "outputId": "cb31a060-7116-40d8-b96a-04b1ac49de57"
      },
      "execution_count": 21,
      "outputs": [
        {
          "output_type": "execute_result",
          "data": {
            "text/plain": [
              "Index(['sexo', 'sem_gest', 'anio', 'mes', 'p_emb', 'lugar_ocur', 'provincia',\n",
              "       'canton', 'parroquia', 'asis_por', 'area', 'edad_mad', 'con_pren',\n",
              "       'hij_viv', 'hij_vivm', 'hij_nacm', 'etnia', 'est_civil', 'sabe_leer',\n",
              "       'niv_inst', 'prov_res', 'cant_res', 'parr_res', 'area_res', 'Estado',\n",
              "       'nuev_estad'],\n",
              "      dtype='object')"
            ]
          },
          "metadata": {},
          "execution_count": 21
        }
      ]
    },
    {
      "cell_type": "markdown",
      "source": [
        "* Sex: el sexo del recién nacido o difunto si será tomado en cuenta\n",
        "* Sem_gest: las semanas de gestación si se toman en cuenta (debido a que esta característica puede tener un peso considerable con respecto al resto aún está a discusión)\n",
        "* Anio: El año de nacimiento o defunción no se considera una característica importante, sin embargo no lo eliminaremos pero luego si.\n",
        "* Mes: El mes de nacimiento o defunción tampoco es una característica importante\n",
        "* P_emb: El producto de embarazo si será tomda en cuenta\n",
        "* Lugar_ocurr: el lugar de ocurrencia también será una característica importante a tomar en cuenta\n",
        "* La provincia, cantón y área también se consideraran más no las parroquias (tanto de nacimientos, como de defunciones)\n",
        "* El estado civil la etnia, y el nivel de instrucción de la madre también serán tomados en cuenta\n",
        "* El estado también será eliminado ya que consideramos una nueva clase, en la columna nuevo estado se encuentran clasificados 3, uno de nacimiendo otro de nacido muerto y otro de aborto, según las semanas de gestación.\n",
        "* Los hijos vivos, hijos nacidos vivos que han muerto, y los hijos que han nacido muertos también serán tomados en cuenta "
      ],
      "metadata": {
        "id": "dHyYIST2b1hA"
      }
    },
    {
      "cell_type": "code",
      "source": [
        "#col_selec = ['sexo','anio', 'p_emb', 'lugar_ocur',#'sem_gest',\n",
        "#       'asis_por', 'area', 'edad_mad', 'con_pren',\n",
        "#       'hij_viv', 'hij_vivm', 'hij_nacm', 'etnia', 'est_civil', 'sabe_leer',\n",
        "#      'niv_inst', 'prov_res', 'area_res', \"Estado\"\n",
        "#       'nuev_estad']"
      ],
      "metadata": {
        "id": "3Qt4TvysaWth"
      },
      "execution_count": 22,
      "outputs": []
    },
    {
      "cell_type": "code",
      "source": [
        "#recomendación de WHO\n",
        "col_selec = ['sexo','anio','p_emb','lugar_ocur','sem_gest',\n",
        "        'asis_por','edad_mad','con_pren',\n",
        "       'hij_viv', 'hij_vivm', 'hij_nacm','etnia','est_civil','sabe_leer',\n",
        "       'niv_inst','prov_res', \"Estado\"]\n"
      ],
      "metadata": {
        "id": "PjemIvxE8KBf"
      },
      "execution_count": 73,
      "outputs": []
    },
    {
      "cell_type": "code",
      "source": [
        "#nuevo marco de datos con las columnas seleccionadas\n",
        "data = df.loc[:,col_selec]"
      ],
      "metadata": {
        "id": "RbnXWj7eePTG"
      },
      "execution_count": 74,
      "outputs": []
    },
    {
      "cell_type": "code",
      "source": [
        "data.info()"
      ],
      "metadata": {
        "colab": {
          "base_uri": "https://localhost:8080/"
        },
        "id": "Gjc4_B45_cql",
        "outputId": "25eb8932-91e8-4981-db83-0a1d3db2faff"
      },
      "execution_count": 25,
      "outputs": [
        {
          "output_type": "stream",
          "name": "stdout",
          "text": [
            "<class 'pandas.core.frame.DataFrame'>\n",
            "RangeIndex: 1750112 entries, 0 to 1750111\n",
            "Data columns (total 17 columns):\n",
            " #   Column      Dtype  \n",
            "---  ------      -----  \n",
            " 0   sexo        object \n",
            " 1   anio        float64\n",
            " 2   p_emb       object \n",
            " 3   lugar_ocur  object \n",
            " 4   sem_gest    float64\n",
            " 5   asis_por    object \n",
            " 6   edad_mad    float64\n",
            " 7   con_pren    float64\n",
            " 8   hij_viv     float64\n",
            " 9   hij_vivm    float64\n",
            " 10  hij_nacm    float64\n",
            " 11  etnia       object \n",
            " 12  est_civil   object \n",
            " 13  sabe_leer   object \n",
            " 14  niv_inst    object \n",
            " 15  prov_res    object \n",
            " 16  Estado      int64  \n",
            "dtypes: float64(7), int64(1), object(9)\n",
            "memory usage: 227.0+ MB\n"
          ]
        }
      ]
    },
    {
      "cell_type": "markdown",
      "source": [
        "### Ingeniería de características"
      ],
      "metadata": {
        "id": "SyNoe4rLecfs"
      }
    },
    {
      "cell_type": "code",
      "source": [
        "#haremos una sola columna con numero de hijos totales que nacieron vivos hij_viv + hij_vivm\n",
        "data['ThijosV'] = data['hij_viv'] + data['hij_vivm'] \n",
        "data = data.drop(['hij_viv', 'hij_vivm'], axis=1)"
      ],
      "metadata": {
        "id": "T6wSFwXWehau"
      },
      "execution_count": 75,
      "outputs": []
    },
    {
      "cell_type": "code",
      "source": [
        "# debido a la inclongruencia entre nivel de instrucción de la madre y si sabe leer o no\n",
        "# a la columna de sabe leer no la vamos a eliminar\n",
        "data.groupby(\"niv_inst\")[\"sabe_leer\"].value_counts()"
      ],
      "metadata": {
        "id": "tCepS6JHfr4W",
        "colab": {
          "base_uri": "https://localhost:8080/"
        },
        "outputId": "28dd3a87-cc1d-486a-8269-230f4d84a93f"
      },
      "execution_count": 76,
      "outputs": [
        {
          "output_type": "execute_result",
          "data": {
            "text/plain": [
              "niv_inst                        sabe_leer\n",
              "Centro_de_alfabetizacion        Si             2291\n",
              "                                No               83\n",
              "                                Ignorado         21\n",
              "Ciclo_post_bachillerato         Si             7783\n",
              "Educacion Media / Bachillerato  Si           349355\n",
              "                                No                5\n",
              "Educacion_basica                Si           369094\n",
              "                                Ignorado        684\n",
              "                                No              288\n",
              "Ninguno                         No             6206\n",
              "                                Si             3255\n",
              "                                Ignorado         49\n",
              "Posgrado                        Si             5182\n",
              "Primaria                        Si           250081\n",
              "                                Ignorado        321\n",
              "                                No               56\n",
              "Se_ignora                       Si            12931\n",
              "                                Ignorado       3364\n",
              "                                No             2493\n",
              "Secundaria                      Si           387235\n",
              "                                No               34\n",
              "Superior                        Si            75135\n",
              "Superior no universitario       Si            53019\n",
              "Superior universitario          Si           221147\n",
              "Name: sabe_leer, dtype: int64"
            ]
          },
          "metadata": {},
          "execution_count": 76
        }
      ]
    },
    {
      "cell_type": "markdown",
      "source": [
        "* La variable nivel de instrucción, es una variable de tipo ordinal, por lo tanto vamos a ordenarlo de la siguiente manera:\n",
        "0. Se ignora y ninguno\n",
        "1. Primaria y Centro de alfabetizacion\n",
        "2. Educación básica y Educacion Media / Bachillerato\n",
        "3. Ciclo_post_bachillerato y Superior no universitario\n",
        "4. Superior y Superior universitario\n",
        "5. Posgrado\n"
      ],
      "metadata": {
        "id": "RbPo_ge8haU1"
      }
    },
    {
      "cell_type": "code",
      "source": [
        "niv_instruccion = {'Se_ignora': 0, 'Ninguno': 0, 'Primaria': 1, \"Centro_de_alfabetizacion\":1, \"Educacion_basica\":2, \"Educacion Media / Bachillerato\":2,\"Secundaria\":2, \"Ciclo_post_bachillerato\":3, \"Superior no universitario\":3,\"Superior\":4,\"Superior universitario\":4,\"Posgrado\":5}\n",
        "data[\"niv_inst\"] = data[\"niv_inst\"].replace(niv_instruccion)"
      ],
      "metadata": {
        "id": "ISwr2jkQhSb1"
      },
      "execution_count": 77,
      "outputs": []
    },
    {
      "cell_type": "markdown",
      "source": [
        "* De igual manera el producto de embarazo es una variable de tipo ordinal, por lo tanto vamos a ordenarlo:\n",
        "0. Simple\n",
        "1. Doble\n",
        "2. Triple\n",
        "3. Cuadruple o más"
      ],
      "metadata": {
        "id": "JXNzZVXll0Mh"
      }
    },
    {
      "cell_type": "code",
      "source": [
        "prod_emb = {'Simple': 0, 'Doble': 1, \"Triple\":2, \"Cuadruple_o_mas\":3}\n",
        "data[\"p_emb\"] = data[\"p_emb\"].replace(prod_emb)"
      ],
      "metadata": {
        "id": "TiX4VqH6mO8a"
      },
      "execution_count": 78,
      "outputs": []
    },
    {
      "cell_type": "markdown",
      "source": [
        "* Tomaremos en cuenta también la provincia de residencia de la madre, tomaremos en cuenta las 5 provincias más pobladas y como una categoría especial que contenga al resto de provincias"
      ],
      "metadata": {
        "id": "EdgPScqLsNrA"
      }
    },
    {
      "cell_type": "code",
      "source": [
        "data[\"prov_res\"].value_counts()"
      ],
      "metadata": {
        "colab": {
          "base_uri": "https://localhost:8080/"
        },
        "id": "P5DyueqFtNTw",
        "outputId": "a90550c2-f407-4ac3-eb3a-852d3aab1e80"
      },
      "execution_count": 30,
      "outputs": [
        {
          "output_type": "execute_result",
          "data": {
            "text/plain": [
              "Guayas                            436740\n",
              "Pichincha                         271008\n",
              "Manabi                            167679\n",
              "Los Rios                          109599\n",
              "El Oro                             82226\n",
              "Azuay                              78050\n",
              "Esmeraldas                         66102\n",
              "Santo Domingo de los Tsachilas     58632\n",
              "Tungurahua                         53680\n",
              "Loja                               51374\n",
              "Cotopaxi                           49552\n",
              "Santa Elena                        48101\n",
              "Imbabura                           42748\n",
              "Chimborazo                         41776\n",
              "Canar                              33623\n",
              "Sucumbios                          27470\n",
              "Morona Santiago                    23625\n",
              "Orellana                           21663\n",
              "Bolivar                            19361\n",
              "Napo                               18895\n",
              "Carchi                             16221\n",
              "Pastaza                            14289\n",
              "Zamora Chinchipe                   14028\n",
              "Galapagos                           3194\n",
              "Exterior                             389\n",
              "Zona no delimitada                    84\n",
              "Zonas no delimitadas                   2\n",
              "Name: prov_res, dtype: int64"
            ]
          },
          "metadata": {},
          "execution_count": 30
        }
      ]
    },
    {
      "cell_type": "code",
      "source": [
        "#pro = {\"El Oro\" : \"Resto\",\"Azuay\"  : \"Resto\",\"Esmeraldas\" : \"Resto\",\"Santo Domingo de los Tsachilas\": \"Resto\",\"Tungurahua \": \"Resto\" ,\"Loja\": \"Resto\",\"Cotopaxi\": \"Resto\",\"Santa Elena\": \"Resto\",\"Imbabura\": \"Resto\",\"Chimborazo\": \"Resto\",\"Canar\": \"Resto\",\"Sucumbios\": \"Resto\",\"Morona Santiago\": \"Resto\",\"Orellana\": \"Resto\",\"Bolivar\": \"Resto\",\"Napo\": \"Resto\",\"Carchi\": \"Resto\",\"Pastaza\": \"Resto\",\"Zamora Chinchipe\": \"Resto\",\"Galapagos\": \"Resto\",\"Exterior\" : \"Resto\",\"Zona no delimitada\": \"Resto\",\"Zonas no delimitadas\": \"Resto\"}\n",
        "#pro = {\"Cotopaxi\": \"Resto\",\"Santa Elena\": \"Resto\",\"Imbabura\": \"Resto\",\"Chimborazo\": \"Resto\",\"Canar\": \"Resto\",\"Sucumbios\": \"Resto\",\"Morona Santiago\": \"Resto\",\"Orellana\": \"Resto\",\"Bolivar\": \"Resto\",\"Napo\": \"Resto\",\"Carchi\": \"Resto\",\"Pastaza\": \"Resto\",\"Zamora Chinchipe\": \"Resto\",\"Galapagos\": \"Resto\",\"Exterior\" : \"Resto\",\"Zona no delimitada\": \"Resto\",\"Zonas no delimitadas\": \"Resto\"}   "
      ],
      "metadata": {
        "id": "3K9NCW-tsNO4"
      },
      "execution_count": 68,
      "outputs": []
    },
    {
      "cell_type": "code",
      "source": [
        "#data[\"prov_res\"] = data[\"prov_res\"].replace(pro)"
      ],
      "metadata": {
        "id": "Gd2fyDhvMWvF"
      },
      "execution_count": 69,
      "outputs": []
    },
    {
      "cell_type": "markdown",
      "source": [
        "### Train test split"
      ],
      "metadata": {
        "id": "Xx_qFVNMsvQV"
      }
    },
    {
      "cell_type": "markdown",
      "source": [
        "* Este es un problema de predicción anual, por lo tanto vamos a hacer que los datos de entrenamiento sean los datos recolectados desde los años 2012 hasta 2020 y el conjunto de testeo sea del año 2021."
      ],
      "metadata": {
        "id": "G83xU5cbonBA"
      }
    },
    {
      "cell_type": "code",
      "source": [
        "#filtramos los datos desde el 2012 hasta el 2020\n",
        "df_2012_2020 = data[(data['anio'] >= 2012) & (data['anio'] <= 2020)]\n",
        "# filtramos los datos del 2021\n",
        "df_2021 = data[data['anio'] == 2021]"
      ],
      "metadata": {
        "id": "nA4LO8TqomSI"
      },
      "execution_count": 79,
      "outputs": []
    },
    {
      "cell_type": "code",
      "source": [
        "#comprobamos\n",
        "df_2012_2020[\"anio\"].value_counts()"
      ],
      "metadata": {
        "colab": {
          "base_uri": "https://localhost:8080/"
        },
        "id": "6dVaChLSp84A",
        "outputId": "6092f993-3b98-4400-c463-d22c1021aa60"
      },
      "execution_count": 80,
      "outputs": [
        {
          "output_type": "execute_result",
          "data": {
            "text/plain": [
              "2018.0    265923\n",
              "2017.0    263558\n",
              "2019.0    258668\n",
              "2016.0    250567\n",
              "2020.0    223322\n",
              "2013.0    103954\n",
              "2014.0     92392\n",
              "2015.0     52417\n",
              "2012.0     21970\n",
              "Name: anio, dtype: int64"
            ]
          },
          "metadata": {},
          "execution_count": 80
        }
      ]
    },
    {
      "cell_type": "code",
      "source": [
        "df_2021[\"anio\"].value_counts()"
      ],
      "metadata": {
        "colab": {
          "base_uri": "https://localhost:8080/"
        },
        "id": "H6ApN6bDqf-H",
        "outputId": "2de6be38-b826-4fae-b54c-5c31c8be4585"
      },
      "execution_count": 72,
      "outputs": [
        {
          "output_type": "execute_result",
          "data": {
            "text/plain": [
              "2021.0    217341\n",
              "Name: anio, dtype: int64"
            ]
          },
          "metadata": {},
          "execution_count": 72
        }
      ]
    },
    {
      "cell_type": "code",
      "source": [
        "#test train split\n",
        "#características\n",
        "X_train = df_2012_2020.drop([\"anio\",\"Estado\"], axis = 1)\n",
        "X_test = df_2021.drop([\"anio\",\"Estado\"], axis = 1)\n",
        "\n",
        "y_train = df_2012_2020[\"Estado\"]\n",
        "y_test = df_2021[\"Estado\"]"
      ],
      "metadata": {
        "id": "WzvOahOoqznn"
      },
      "execution_count": 81,
      "outputs": []
    },
    {
      "cell_type": "markdown",
      "source": [
        " ### Preparación de datos para aplicar modelos"
      ],
      "metadata": {
        "id": "Kbb9gpDSsitl"
      }
    },
    {
      "cell_type": "code",
      "source": [
        "from sklearn.pipeline import make_pipeline\n",
        "from sklearn.impute import SimpleImputer\n",
        "from sklearn.preprocessing import StandardScaler\n",
        "from sklearn.model_selection import train_test_split\n",
        "from sklearn.preprocessing import OneHotEncoder\n",
        "from sklearn.compose import make_column_selector, make_column_transformer\n",
        "from sklearn import set_config\n",
        "set_config(display='diagram')"
      ],
      "metadata": {
        "id": "bpBgSLbLsga9"
      },
      "execution_count": 40,
      "outputs": []
    },
    {
      "cell_type": "code",
      "source": [
        "#Instanciamos column selector\n",
        "num_selector = make_column_selector(dtype_include = \"number\")\n",
        "cat_selector = make_column_selector(dtype_include = \"object\")"
      ],
      "metadata": {
        "id": "RvX5CEVis5nV"
      },
      "execution_count": 41,
      "outputs": []
    },
    {
      "cell_type": "code",
      "source": [
        "#instanciamos scaler para los datos numéricos\n",
        "scaler = StandardScaler()\n",
        "#instanciamos codificación one-hot-endoder para datos nominales\n",
        "ohe_encoder = OneHotEncoder(drop = \"first\",sparse_output = False, handle_unknown = \"ignore\")"
      ],
      "metadata": {
        "id": "UEDPCA5Du0SM"
      },
      "execution_count": 42,
      "outputs": []
    },
    {
      "cell_type": "code",
      "source": [
        "#creación de tuplas\n",
        "num_tuple = (scaler, num_selector)\n",
        "cat_tuple = (ohe_encoder, cat_selector)"
      ],
      "metadata": {
        "id": "gZQDC5kTvL-8"
      },
      "execution_count": 43,
      "outputs": []
    },
    {
      "cell_type": "code",
      "source": [
        "#instanciamos column transform\n",
        "col_transformer = make_column_transformer(num_tuple,cat_tuple, remainder = \"passthrough\")"
      ],
      "metadata": {
        "id": "_-aBDP8zv7wE"
      },
      "execution_count": 44,
      "outputs": []
    },
    {
      "cell_type": "code",
      "source": [
        "#ajustamos a los datos de entrenamiento\n",
        "col_transformer.fit(X_train)"
      ],
      "metadata": {
        "colab": {
          "base_uri": "https://localhost:8080/",
          "height": 117
        },
        "id": "JRYp5_sZwJYM",
        "outputId": "304e21b6-6421-4a75-8bc2-4fcfc1fdc2a2"
      },
      "execution_count": 82,
      "outputs": [
        {
          "output_type": "execute_result",
          "data": {
            "text/plain": [
              "ColumnTransformer(remainder='passthrough',\n",
              "                  transformers=[('standardscaler', StandardScaler(),\n",
              "                                 <sklearn.compose._column_transformer.make_column_selector object at 0x7f269034d870>),\n",
              "                                ('onehotencoder',\n",
              "                                 OneHotEncoder(drop='first',\n",
              "                                               handle_unknown='ignore',\n",
              "                                               sparse_output=False),\n",
              "                                 <sklearn.compose._column_transformer.make_column_selector object at 0x7f269034f010>)])"
            ],
            "text/html": [
              "<style>#sk-container-id-3 {color: black;background-color: white;}#sk-container-id-3 pre{padding: 0;}#sk-container-id-3 div.sk-toggleable {background-color: white;}#sk-container-id-3 label.sk-toggleable__label {cursor: pointer;display: block;width: 100%;margin-bottom: 0;padding: 0.3em;box-sizing: border-box;text-align: center;}#sk-container-id-3 label.sk-toggleable__label-arrow:before {content: \"▸\";float: left;margin-right: 0.25em;color: #696969;}#sk-container-id-3 label.sk-toggleable__label-arrow:hover:before {color: black;}#sk-container-id-3 div.sk-estimator:hover label.sk-toggleable__label-arrow:before {color: black;}#sk-container-id-3 div.sk-toggleable__content {max-height: 0;max-width: 0;overflow: hidden;text-align: left;background-color: #f0f8ff;}#sk-container-id-3 div.sk-toggleable__content pre {margin: 0.2em;color: black;border-radius: 0.25em;background-color: #f0f8ff;}#sk-container-id-3 input.sk-toggleable__control:checked~div.sk-toggleable__content {max-height: 200px;max-width: 100%;overflow: auto;}#sk-container-id-3 input.sk-toggleable__control:checked~label.sk-toggleable__label-arrow:before {content: \"▾\";}#sk-container-id-3 div.sk-estimator input.sk-toggleable__control:checked~label.sk-toggleable__label {background-color: #d4ebff;}#sk-container-id-3 div.sk-label input.sk-toggleable__control:checked~label.sk-toggleable__label {background-color: #d4ebff;}#sk-container-id-3 input.sk-hidden--visually {border: 0;clip: rect(1px 1px 1px 1px);clip: rect(1px, 1px, 1px, 1px);height: 1px;margin: -1px;overflow: hidden;padding: 0;position: absolute;width: 1px;}#sk-container-id-3 div.sk-estimator {font-family: monospace;background-color: #f0f8ff;border: 1px dotted black;border-radius: 0.25em;box-sizing: border-box;margin-bottom: 0.5em;}#sk-container-id-3 div.sk-estimator:hover {background-color: #d4ebff;}#sk-container-id-3 div.sk-parallel-item::after {content: \"\";width: 100%;border-bottom: 1px solid gray;flex-grow: 1;}#sk-container-id-3 div.sk-label:hover label.sk-toggleable__label {background-color: #d4ebff;}#sk-container-id-3 div.sk-serial::before {content: \"\";position: absolute;border-left: 1px solid gray;box-sizing: border-box;top: 0;bottom: 0;left: 50%;z-index: 0;}#sk-container-id-3 div.sk-serial {display: flex;flex-direction: column;align-items: center;background-color: white;padding-right: 0.2em;padding-left: 0.2em;position: relative;}#sk-container-id-3 div.sk-item {position: relative;z-index: 1;}#sk-container-id-3 div.sk-parallel {display: flex;align-items: stretch;justify-content: center;background-color: white;position: relative;}#sk-container-id-3 div.sk-item::before, #sk-container-id-3 div.sk-parallel-item::before {content: \"\";position: absolute;border-left: 1px solid gray;box-sizing: border-box;top: 0;bottom: 0;left: 50%;z-index: -1;}#sk-container-id-3 div.sk-parallel-item {display: flex;flex-direction: column;z-index: 1;position: relative;background-color: white;}#sk-container-id-3 div.sk-parallel-item:first-child::after {align-self: flex-end;width: 50%;}#sk-container-id-3 div.sk-parallel-item:last-child::after {align-self: flex-start;width: 50%;}#sk-container-id-3 div.sk-parallel-item:only-child::after {width: 0;}#sk-container-id-3 div.sk-dashed-wrapped {border: 1px dashed gray;margin: 0 0.4em 0.5em 0.4em;box-sizing: border-box;padding-bottom: 0.4em;background-color: white;}#sk-container-id-3 div.sk-label label {font-family: monospace;font-weight: bold;display: inline-block;line-height: 1.2em;}#sk-container-id-3 div.sk-label-container {text-align: center;}#sk-container-id-3 div.sk-container {/* jupyter's `normalize.less` sets `[hidden] { display: none; }` but bootstrap.min.css set `[hidden] { display: none !important; }` so we also need the `!important` here to be able to override the default hidden behavior on the sphinx rendered scikit-learn.org. See: https://github.com/scikit-learn/scikit-learn/issues/21755 */display: inline-block !important;position: relative;}#sk-container-id-3 div.sk-text-repr-fallback {display: none;}</style><div id=\"sk-container-id-3\" class=\"sk-top-container\"><div class=\"sk-text-repr-fallback\"><pre>ColumnTransformer(remainder=&#x27;passthrough&#x27;,\n",
              "                  transformers=[(&#x27;standardscaler&#x27;, StandardScaler(),\n",
              "                                 &lt;sklearn.compose._column_transformer.make_column_selector object at 0x7f269034d870&gt;),\n",
              "                                (&#x27;onehotencoder&#x27;,\n",
              "                                 OneHotEncoder(drop=&#x27;first&#x27;,\n",
              "                                               handle_unknown=&#x27;ignore&#x27;,\n",
              "                                               sparse_output=False),\n",
              "                                 &lt;sklearn.compose._column_transformer.make_column_selector object at 0x7f269034f010&gt;)])</pre><b>In a Jupyter environment, please rerun this cell to show the HTML representation or trust the notebook. <br />On GitHub, the HTML representation is unable to render, please try loading this page with nbviewer.org.</b></div><div class=\"sk-container\" hidden><div class=\"sk-item sk-dashed-wrapped\"><div class=\"sk-label-container\"><div class=\"sk-label sk-toggleable\"><input class=\"sk-toggleable__control sk-hidden--visually\" id=\"sk-estimator-id-9\" type=\"checkbox\" ><label for=\"sk-estimator-id-9\" class=\"sk-toggleable__label sk-toggleable__label-arrow\">ColumnTransformer</label><div class=\"sk-toggleable__content\"><pre>ColumnTransformer(remainder=&#x27;passthrough&#x27;,\n",
              "                  transformers=[(&#x27;standardscaler&#x27;, StandardScaler(),\n",
              "                                 &lt;sklearn.compose._column_transformer.make_column_selector object at 0x7f269034d870&gt;),\n",
              "                                (&#x27;onehotencoder&#x27;,\n",
              "                                 OneHotEncoder(drop=&#x27;first&#x27;,\n",
              "                                               handle_unknown=&#x27;ignore&#x27;,\n",
              "                                               sparse_output=False),\n",
              "                                 &lt;sklearn.compose._column_transformer.make_column_selector object at 0x7f269034f010&gt;)])</pre></div></div></div><div class=\"sk-parallel\"><div class=\"sk-parallel-item\"><div class=\"sk-item\"><div class=\"sk-label-container\"><div class=\"sk-label sk-toggleable\"><input class=\"sk-toggleable__control sk-hidden--visually\" id=\"sk-estimator-id-10\" type=\"checkbox\" ><label for=\"sk-estimator-id-10\" class=\"sk-toggleable__label sk-toggleable__label-arrow\">standardscaler</label><div class=\"sk-toggleable__content\"><pre>&lt;sklearn.compose._column_transformer.make_column_selector object at 0x7f269034d870&gt;</pre></div></div></div><div class=\"sk-serial\"><div class=\"sk-item\"><div class=\"sk-estimator sk-toggleable\"><input class=\"sk-toggleable__control sk-hidden--visually\" id=\"sk-estimator-id-11\" type=\"checkbox\" ><label for=\"sk-estimator-id-11\" class=\"sk-toggleable__label sk-toggleable__label-arrow\">StandardScaler</label><div class=\"sk-toggleable__content\"><pre>StandardScaler()</pre></div></div></div></div></div></div><div class=\"sk-parallel-item\"><div class=\"sk-item\"><div class=\"sk-label-container\"><div class=\"sk-label sk-toggleable\"><input class=\"sk-toggleable__control sk-hidden--visually\" id=\"sk-estimator-id-12\" type=\"checkbox\" ><label for=\"sk-estimator-id-12\" class=\"sk-toggleable__label sk-toggleable__label-arrow\">onehotencoder</label><div class=\"sk-toggleable__content\"><pre>&lt;sklearn.compose._column_transformer.make_column_selector object at 0x7f269034f010&gt;</pre></div></div></div><div class=\"sk-serial\"><div class=\"sk-item\"><div class=\"sk-estimator sk-toggleable\"><input class=\"sk-toggleable__control sk-hidden--visually\" id=\"sk-estimator-id-13\" type=\"checkbox\" ><label for=\"sk-estimator-id-13\" class=\"sk-toggleable__label sk-toggleable__label-arrow\">OneHotEncoder</label><div class=\"sk-toggleable__content\"><pre>OneHotEncoder(drop=&#x27;first&#x27;, handle_unknown=&#x27;ignore&#x27;, sparse_output=False)</pre></div></div></div></div></div></div><div class=\"sk-parallel-item\"><div class=\"sk-item\"><div class=\"sk-label-container\"><div class=\"sk-label sk-toggleable\"><input class=\"sk-toggleable__control sk-hidden--visually\" id=\"sk-estimator-id-14\" type=\"checkbox\" ><label for=\"sk-estimator-id-14\" class=\"sk-toggleable__label sk-toggleable__label-arrow\">remainder</label><div class=\"sk-toggleable__content\"><pre>[]</pre></div></div></div><div class=\"sk-serial\"><div class=\"sk-item\"><div class=\"sk-estimator sk-toggleable\"><input class=\"sk-toggleable__control sk-hidden--visually\" id=\"sk-estimator-id-15\" type=\"checkbox\" ><label for=\"sk-estimator-id-15\" class=\"sk-toggleable__label sk-toggleable__label-arrow\">passthrough</label><div class=\"sk-toggleable__content\"><pre>passthrough</pre></div></div></div></div></div></div></div></div></div></div>"
            ]
          },
          "metadata": {},
          "execution_count": 82
        }
      ]
    },
    {
      "cell_type": "code",
      "source": [
        "#transformacion de datos\n",
        "X_train_processed = col_transformer.transform(X_train)\n",
        "X_test_processed = col_transformer.transform(X_test)"
      ],
      "metadata": {
        "id": "drdQxv8PtCq1"
      },
      "execution_count": 83,
      "outputs": []
    },
    {
      "cell_type": "code",
      "source": [
        "#col_names = col_transformer.get_feature_names_out(X_train.columns)"
      ],
      "metadata": {
        "id": "ZJIoDwMY3P4a"
      },
      "execution_count": 47,
      "outputs": []
    },
    {
      "cell_type": "code",
      "source": [
        "col = ['p_emb', 'sem_gest',\n",
        "       'edad_mad', 'con_pren',\n",
        "       'hij_nacm', 'niv_inst',\n",
        "       'ThijosV', 'sexo_Indeterminado',\n",
        "       'sexo_Mujer',\n",
        "       'lugar_ocur_Establecimiento_IESS',\n",
        "       'lugar_ocur_Establecimiento_junta_beneficiaria',\n",
        "       'lugar_ocur_Establecimiento_ministerio_de_salud',\n",
        "       'lugar_ocur_Hospital_clinica_consultorio_privado',\n",
        "       'lugar_ocur_Otro',\n",
        "       'lugar_ocur_Otro_establecimiento_publico',\n",
        "       'asis_por_Enfermero/a',\n",
        "       'asis_por_Medico',\n",
        "       'asis_por_Medico Legista',\n",
        "       'asis_por_Obstetra', 'asis_por_Otro',\n",
        "       'asis_por_Partero/a calificado/a',\n",
        "       'asis_por_Partero/a no calilficado/a',\n",
        "       'etnia_Blanca', 'etnia_Ignorado',\n",
        "       'etnia_Indigena', 'etnia_Mestiza',\n",
        "       'etnia_Montubia', 'etnia_Mulata',\n",
        "       'etnia_Negra', 'etnia_Otra',\n",
        "       'etnia_Sin informacion',\n",
        "       'est_civil_Divorciada',\n",
        "       'est_civil_Se ignora',\n",
        "       'est_civil_Separada',\n",
        "       'est_civil_Soltera',\n",
        "       'est_civil_Unida',\n",
        "       'est_civil_Union de hecho',\n",
        "       'est_civil_Union libre',\n",
        "       'est_civil_Viuda', 'sabe_leer_No',\n",
        "       'sabe_leer_Si', 'area_res_Urbana']"
      ],
      "metadata": {
        "id": "JnZv8fp11_C-"
      },
      "execution_count": 48,
      "outputs": []
    },
    {
      "cell_type": "code",
      "source": [
        "#X_train_processed = pd.DataFrame(X_train_processed,columns=col)\n",
        "#X_test_processed = pd.DataFrame(X_test_processed,columns=col)"
      ],
      "metadata": {
        "id": "movU6xFP1WJn"
      },
      "execution_count": 49,
      "outputs": []
    },
    {
      "cell_type": "code",
      "source": [
        "#X_train_processed"
      ],
      "metadata": {
        "id": "1ihf-Coo298G"
      },
      "execution_count": 50,
      "outputs": []
    },
    {
      "cell_type": "markdown",
      "source": [
        "## Intenta múltiples modelos y afina los hiperparámetros de cada modelo para optimizar el rendimiento del modelo (incluye todos los modelos e hiperparámetros probados además del modelo final)"
      ],
      "metadata": {
        "id": "yGYA8GrYAQEH"
      }
    },
    {
      "cell_type": "markdown",
      "source": [
        "### Extreme Gradient Bosting"
      ],
      "metadata": {
        "id": "Rygx7gnaKZ9n"
      }
    },
    {
      "cell_type": "code",
      "source": [
        "from xgboost import XGBClassifier"
      ],
      "metadata": {
        "id": "JMBlX2pSKcsP"
      },
      "execution_count": 51,
      "outputs": []
    },
    {
      "cell_type": "code",
      "source": [
        "from sklearn.model_selection import GridSearchCV"
      ],
      "metadata": {
        "id": "6BlpT8aOh2Q3"
      },
      "execution_count": 52,
      "outputs": []
    },
    {
      "cell_type": "code",
      "source": [
        "#xgb = XGBClassifier()"
      ],
      "metadata": {
        "id": "FCbs0iD0h8Xx"
      },
      "execution_count": 53,
      "outputs": []
    },
    {
      "cell_type": "code",
      "source": [
        "#hiperxgb = {\"n_estimators\" : [100,120],\n",
        "#          \"max_depth\" : [3,6]}\n",
        "#grid_searchlgbm = GridSearchCV(xgb, hiperxgb, scoring='accuracy')\n",
        "#grid_searchlgbm.fit(X_train_processed, y_train)"
      ],
      "metadata": {
        "id": "Vvt0zzxlgnTQ"
      },
      "execution_count": 54,
      "outputs": []
    },
    {
      "cell_type": "code",
      "source": [
        "#best_params_lgbm = grid_searchlgbm.best_params_\n",
        "#print(best_params_lgbm)"
      ],
      "metadata": {
        "id": "DcWjmsiQgqYA"
      },
      "execution_count": 55,
      "outputs": []
    },
    {
      "cell_type": "code",
      "source": [
        "# Instantiate and fit gradient boosting classifier\n",
        "xgb_best = XGBClassifier(max_depth= 5, n_estimators= 95)\n",
        "xgb_best.fit(X_train_processed, y_train)"
      ],
      "metadata": {
        "colab": {
          "base_uri": "https://localhost:8080/",
          "height": 248
        },
        "id": "8B45VVDOKgu_",
        "outputId": "88f0aa6e-cf3c-4a5b-86f4-39ea6bb4e009"
      },
      "execution_count": 84,
      "outputs": [
        {
          "output_type": "execute_result",
          "data": {
            "text/plain": [
              "XGBClassifier(base_score=None, booster=None, callbacks=None,\n",
              "              colsample_bylevel=None, colsample_bynode=None,\n",
              "              colsample_bytree=None, early_stopping_rounds=None,\n",
              "              enable_categorical=False, eval_metric=None, feature_types=None,\n",
              "              gamma=None, gpu_id=None, grow_policy=None, importance_type=None,\n",
              "              interaction_constraints=None, learning_rate=None, max_bin=None,\n",
              "              max_cat_threshold=None, max_cat_to_onehot=None,\n",
              "              max_delta_step=None, max_depth=5, max_leaves=None,\n",
              "              min_child_weight=None, missing=nan, monotone_constraints=None,\n",
              "              n_estimators=95, n_jobs=None, num_parallel_tree=None,\n",
              "              predictor=None, random_state=None, ...)"
            ],
            "text/html": [
              "<style>#sk-container-id-4 {color: black;background-color: white;}#sk-container-id-4 pre{padding: 0;}#sk-container-id-4 div.sk-toggleable {background-color: white;}#sk-container-id-4 label.sk-toggleable__label {cursor: pointer;display: block;width: 100%;margin-bottom: 0;padding: 0.3em;box-sizing: border-box;text-align: center;}#sk-container-id-4 label.sk-toggleable__label-arrow:before {content: \"▸\";float: left;margin-right: 0.25em;color: #696969;}#sk-container-id-4 label.sk-toggleable__label-arrow:hover:before {color: black;}#sk-container-id-4 div.sk-estimator:hover label.sk-toggleable__label-arrow:before {color: black;}#sk-container-id-4 div.sk-toggleable__content {max-height: 0;max-width: 0;overflow: hidden;text-align: left;background-color: #f0f8ff;}#sk-container-id-4 div.sk-toggleable__content pre {margin: 0.2em;color: black;border-radius: 0.25em;background-color: #f0f8ff;}#sk-container-id-4 input.sk-toggleable__control:checked~div.sk-toggleable__content {max-height: 200px;max-width: 100%;overflow: auto;}#sk-container-id-4 input.sk-toggleable__control:checked~label.sk-toggleable__label-arrow:before {content: \"▾\";}#sk-container-id-4 div.sk-estimator input.sk-toggleable__control:checked~label.sk-toggleable__label {background-color: #d4ebff;}#sk-container-id-4 div.sk-label input.sk-toggleable__control:checked~label.sk-toggleable__label {background-color: #d4ebff;}#sk-container-id-4 input.sk-hidden--visually {border: 0;clip: rect(1px 1px 1px 1px);clip: rect(1px, 1px, 1px, 1px);height: 1px;margin: -1px;overflow: hidden;padding: 0;position: absolute;width: 1px;}#sk-container-id-4 div.sk-estimator {font-family: monospace;background-color: #f0f8ff;border: 1px dotted black;border-radius: 0.25em;box-sizing: border-box;margin-bottom: 0.5em;}#sk-container-id-4 div.sk-estimator:hover {background-color: #d4ebff;}#sk-container-id-4 div.sk-parallel-item::after {content: \"\";width: 100%;border-bottom: 1px solid gray;flex-grow: 1;}#sk-container-id-4 div.sk-label:hover label.sk-toggleable__label {background-color: #d4ebff;}#sk-container-id-4 div.sk-serial::before {content: \"\";position: absolute;border-left: 1px solid gray;box-sizing: border-box;top: 0;bottom: 0;left: 50%;z-index: 0;}#sk-container-id-4 div.sk-serial {display: flex;flex-direction: column;align-items: center;background-color: white;padding-right: 0.2em;padding-left: 0.2em;position: relative;}#sk-container-id-4 div.sk-item {position: relative;z-index: 1;}#sk-container-id-4 div.sk-parallel {display: flex;align-items: stretch;justify-content: center;background-color: white;position: relative;}#sk-container-id-4 div.sk-item::before, #sk-container-id-4 div.sk-parallel-item::before {content: \"\";position: absolute;border-left: 1px solid gray;box-sizing: border-box;top: 0;bottom: 0;left: 50%;z-index: -1;}#sk-container-id-4 div.sk-parallel-item {display: flex;flex-direction: column;z-index: 1;position: relative;background-color: white;}#sk-container-id-4 div.sk-parallel-item:first-child::after {align-self: flex-end;width: 50%;}#sk-container-id-4 div.sk-parallel-item:last-child::after {align-self: flex-start;width: 50%;}#sk-container-id-4 div.sk-parallel-item:only-child::after {width: 0;}#sk-container-id-4 div.sk-dashed-wrapped {border: 1px dashed gray;margin: 0 0.4em 0.5em 0.4em;box-sizing: border-box;padding-bottom: 0.4em;background-color: white;}#sk-container-id-4 div.sk-label label {font-family: monospace;font-weight: bold;display: inline-block;line-height: 1.2em;}#sk-container-id-4 div.sk-label-container {text-align: center;}#sk-container-id-4 div.sk-container {/* jupyter's `normalize.less` sets `[hidden] { display: none; }` but bootstrap.min.css set `[hidden] { display: none !important; }` so we also need the `!important` here to be able to override the default hidden behavior on the sphinx rendered scikit-learn.org. See: https://github.com/scikit-learn/scikit-learn/issues/21755 */display: inline-block !important;position: relative;}#sk-container-id-4 div.sk-text-repr-fallback {display: none;}</style><div id=\"sk-container-id-4\" class=\"sk-top-container\"><div class=\"sk-text-repr-fallback\"><pre>XGBClassifier(base_score=None, booster=None, callbacks=None,\n",
              "              colsample_bylevel=None, colsample_bynode=None,\n",
              "              colsample_bytree=None, early_stopping_rounds=None,\n",
              "              enable_categorical=False, eval_metric=None, feature_types=None,\n",
              "              gamma=None, gpu_id=None, grow_policy=None, importance_type=None,\n",
              "              interaction_constraints=None, learning_rate=None, max_bin=None,\n",
              "              max_cat_threshold=None, max_cat_to_onehot=None,\n",
              "              max_delta_step=None, max_depth=5, max_leaves=None,\n",
              "              min_child_weight=None, missing=nan, monotone_constraints=None,\n",
              "              n_estimators=95, n_jobs=None, num_parallel_tree=None,\n",
              "              predictor=None, random_state=None, ...)</pre><b>In a Jupyter environment, please rerun this cell to show the HTML representation or trust the notebook. <br />On GitHub, the HTML representation is unable to render, please try loading this page with nbviewer.org.</b></div><div class=\"sk-container\" hidden><div class=\"sk-item\"><div class=\"sk-estimator sk-toggleable\"><input class=\"sk-toggleable__control sk-hidden--visually\" id=\"sk-estimator-id-16\" type=\"checkbox\" checked><label for=\"sk-estimator-id-16\" class=\"sk-toggleable__label sk-toggleable__label-arrow\">XGBClassifier</label><div class=\"sk-toggleable__content\"><pre>XGBClassifier(base_score=None, booster=None, callbacks=None,\n",
              "              colsample_bylevel=None, colsample_bynode=None,\n",
              "              colsample_bytree=None, early_stopping_rounds=None,\n",
              "              enable_categorical=False, eval_metric=None, feature_types=None,\n",
              "              gamma=None, gpu_id=None, grow_policy=None, importance_type=None,\n",
              "              interaction_constraints=None, learning_rate=None, max_bin=None,\n",
              "              max_cat_threshold=None, max_cat_to_onehot=None,\n",
              "              max_delta_step=None, max_depth=5, max_leaves=None,\n",
              "              min_child_weight=None, missing=nan, monotone_constraints=None,\n",
              "              n_estimators=95, n_jobs=None, num_parallel_tree=None,\n",
              "              predictor=None, random_state=None, ...)</pre></div></div></div></div></div>"
            ]
          },
          "metadata": {},
          "execution_count": 84
        }
      ]
    },
    {
      "cell_type": "code",
      "source": [
        "#grupo de entrenamiento\n",
        "y_train_pred_xgb = xgb_best.predict(X_train_processed)\n",
        "#grupo de testeo\n",
        "y_test_pred_xgb = xgb_best.predict(X_test_processed)"
      ],
      "metadata": {
        "id": "057MFOBxKk0_"
      },
      "execution_count": 85,
      "outputs": []
    },
    {
      "cell_type": "markdown",
      "source": [
        "## Evalúa el rendimiento del modelo con las métricas adecuados para el modelo"
      ],
      "metadata": {
        "id": "kB2cK6fgAZcP"
      }
    },
    {
      "cell_type": "code",
      "source": [
        "from sklearn.metrics import accuracy_score, precision_score, recall_score, classification_report, confusion_matrix,ConfusionMatrixDisplay\n",
        "import matplotlib.pyplot as plt"
      ],
      "metadata": {
        "id": "co36dPvHRNGc"
      },
      "execution_count": 88,
      "outputs": []
    },
    {
      "cell_type": "markdown",
      "source": [
        "### Extreme Gradient Boosting"
      ],
      "metadata": {
        "id": "ls7nSBjugixJ"
      }
    },
    {
      "cell_type": "markdown",
      "source": [
        "El modelo de Extreme Gradient Boosting es uno de los mejores en el caso de estudio de nacimientos y defunciones fetales [Application of machine learning in analysis of infant mortality and its factors, Singha, Aayush Kumar and Phukan]  [Neonatal mortality prediction with routinely collected data: a machine learning approach, Batista, André FM and Diniz]. Debido al tiempo que toma en ajustarse este modelo nada más hemos aplicado el modelo XGB con sus hiperparámetros por defecto, debemos afinar los hiperparámetros para tratar de obtener un mejor resultado."
      ],
      "metadata": {
        "id": "1D0VesZelo-_"
      }
    },
    {
      "cell_type": "markdown",
      "source": [
        "* Grupo de entrenamiento"
      ],
      "metadata": {
        "id": "KsymRWSJgpD5"
      }
    },
    {
      "cell_type": "code",
      "source": [
        "print(classification_report(y_train, y_train_pred_xgb))"
      ],
      "metadata": {
        "colab": {
          "base_uri": "https://localhost:8080/"
        },
        "id": "bGIa8WaCguAR",
        "outputId": "9a986ff3-97ff-4eec-9f97-d0e66476e0b7"
      },
      "execution_count": 101,
      "outputs": [
        {
          "output_type": "stream",
          "name": "stdout",
          "text": [
            "              precision    recall  f1-score   support\n",
            "\n",
            "           0       0.92      0.81      0.86     10244\n",
            "           1       1.00      1.00      1.00   1522527\n",
            "\n",
            "    accuracy                           1.00   1532771\n",
            "   macro avg       0.96      0.90      0.93   1532771\n",
            "weighted avg       1.00      1.00      1.00   1532771\n",
            "\n"
          ]
        }
      ]
    },
    {
      "cell_type": "code",
      "source": [
        "cm_xgb_train = confusion_matrix(y_train, y_train_pred_xgb)\n",
        "disp = ConfusionMatrixDisplay(cm_xgb_train)\n",
        "disp.plot();"
      ],
      "metadata": {
        "colab": {
          "base_uri": "https://localhost:8080/",
          "height": 465
        },
        "id": "cOy8UBnwgxXy",
        "outputId": "73ecbc1a-64c9-402e-87ce-31a265355dec"
      },
      "execution_count": 102,
      "outputs": [
        {
          "output_type": "display_data",
          "data": {
            "text/plain": [
              "<Figure size 640x480 with 2 Axes>"
            ],
            "image/png": "[encoded data removed]"
          },
          "metadata": {}
        }
      ]
    },
    {
      "cell_type": "markdown",
      "source": [
        "* Grupo de testeo"
      ],
      "metadata": {
        "id": "XfUua8b-gryh"
      }
    },
    {
      "cell_type": "code",
      "source": [
        "print(classification_report(y_test, y_test_pred_xgb))"
      ],
      "metadata": {
        "colab": {
          "base_uri": "https://localhost:8080/"
        },
        "id": "LZSXLPmcg_BJ",
        "outputId": "f5811c0e-f252-4ef9-b126-ef4367bb9eea"
      },
      "execution_count": 86,
      "outputs": [
        {
          "output_type": "stream",
          "name": "stdout",
          "text": [
            "              precision    recall  f1-score   support\n",
            "\n",
            "           0       0.91      0.79      0.85      1300\n",
            "           1       1.00      1.00      1.00    216041\n",
            "\n",
            "    accuracy                           1.00    217341\n",
            "   macro avg       0.95      0.90      0.92    217341\n",
            "weighted avg       1.00      1.00      1.00    217341\n",
            "\n"
          ]
        }
      ]
    },
    {
      "cell_type": "code",
      "source": [
        "cm_xgb_test = confusion_matrix(y_test, y_test_pred_xgb)\n",
        "disp = ConfusionMatrixDisplay(cm_xgb_test)\n",
        "plt.figure(figsize=(6,6))\n",
        "disp.plot(cmap='Blues')\n",
        "plt.show();"
      ],
      "metadata": {
        "colab": {
          "base_uri": "https://localhost:8080/",
          "height": 467
        },
        "id": "vlA8-gLzhCUA",
        "outputId": "0052b0ee-04a9-4218-ddc2-98adb3d31729"
      },
      "execution_count": 100,
      "outputs": [
        {
          "output_type": "display_data",
          "data": {
            "text/plain": [
              "<Figure size 600x600 with 0 Axes>"
            ]
          },
          "metadata": {}
        },
        {
          "output_type": "display_data",
          "data": {
            "text/plain": [
              "<Figure size 640x480 with 2 Axes>"
            ],
            "image/png": "[encoded data removed]"
          },
          "metadata": {}
        }
      ]
    },
    {
      "cell_type": "code",
      "source": [
        "from sklearn.metrics import roc_auc_score"
      ],
      "metadata": {
        "id": "W3uxUpvWV15f"
      },
      "execution_count": 97,
      "outputs": []
    },
    {
      "cell_type": "code",
      "source": [
        "auc = roc_auc_score(y_test,y_test_pred_xgb)\n",
        "auc"
      ],
      "metadata": {
        "colab": {
          "base_uri": "https://localhost:8080/"
        },
        "id": "znxHn292V42v",
        "outputId": "2b897cad-4224-4260-84d1-2815e17ea7d5"
      },
      "execution_count": 99,
      "outputs": [
        {
          "output_type": "execute_result",
          "data": {
            "text/plain": [
              "0.8970600541279022"
            ]
          },
          "metadata": {},
          "execution_count": 99
        }
      ]
    }
  ]
}