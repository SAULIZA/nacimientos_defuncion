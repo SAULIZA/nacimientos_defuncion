{
  "nbformat": 4,
  "nbformat_minor": 0,
  "metadata": {
    "colab": {
      "provenance": [],
      "authorship_tag": "ABX9TyMaRW5lpRw8bBJxu44IPnVS",
      "include_colab_link": true
    },
    "kernelspec": {
      "name": "python3",
      "display_name": "Python 3"
    },
    "language_info": {
      "name": "python"
    }
  },
  "cells": [
    {
      "cell_type": "markdown",
      "metadata": {
        "id": "view-in-github",
        "colab_type": "text"
      },
      "source": [
        "<a href=\"https://colab.research.google.com/github/SAULIZA/nacimientos_defuncion/blob/main/Proyecto_def_nac_modelos.ipynb\" target=\"_parent\"><img src=\"https://colab.research.google.com/assets/colab-badge.svg\" alt=\"Open In Colab\"/></a>"
      ]
    },
    {
      "cell_type": "markdown",
      "source": [
        "# Desarrollo del modelo del proyecto\n",
        "**Proyecto 2 - Parte 4 (base)**\n",
        "* Crado por: Saúl Iza\n",
        "* Fecha de realización: 23/04/2023\n",
        "* Fecha de modificación: 23/04/2023"
      ],
      "metadata": {
        "id": "TcI7dOlzwwVb"
      }
    },
    {
      "cell_type": "markdown",
      "source": [
        "## Garantiza que completes los pasos de preprocesamiento adecuados"
      ],
      "metadata": {
        "id": "snTPGpp7AMAv"
      }
    },
    {
      "cell_type": "code",
      "execution_count": 52,
      "metadata": {
        "id": "0pqGUgd1wsAx",
        "colab": {
          "base_uri": "https://localhost:8080/"
        },
        "outputId": "476cb763-0c05-4bd5-ae35-421bb1c9df82"
      },
      "outputs": [
        {
          "output_type": "stream",
          "name": "stdout",
          "text": [
            "Drive already mounted at /content/drive; to attempt to forcibly remount, call drive.mount(\"/content/drive\", force_remount=True).\n"
          ]
        }
      ],
      "source": [
        "from google.colab import drive\n",
        "drive.mount(\"/content/drive\")"
      ]
    },
    {
      "cell_type": "code",
      "source": [
        "import pandas as pd\n",
        "import numpy as np\n",
        "from sklearn.pipeline import make_pipeline\n",
        "from sklearn.impute import SimpleImputer\n",
        "from sklearn.preprocessing import StandardScaler\n",
        "from sklearn.model_selection import train_test_split\n",
        "from sklearn.preprocessing import OneHotEncoder\n",
        "from sklearn.compose import make_column_selector, make_column_transformer\n",
        "from sklearn import set_config\n",
        "set_config(display='diagram')"
      ],
      "metadata": {
        "id": "kf3dipFvA1Fu"
      },
      "execution_count": 53,
      "outputs": []
    },
    {
      "cell_type": "code",
      "source": [
        "#Adquirimos los datos limpios desde la parte de visualización\n",
        "df = pd.read_csv(\"/content/drive/MyDrive/Codificación de Dojo/Proyecto2/datos_nac_def_limpio.csv\")"
      ],
      "metadata": {
        "id": "J17UtS9VBNVu"
      },
      "execution_count": 83,
      "outputs": []
    },
    {
      "cell_type": "markdown",
      "source": [
        "### Elección de las características más importantes"
      ],
      "metadata": {
        "id": "QcjoXCmGaZlR"
      }
    },
    {
      "cell_type": "code",
      "source": [
        "df.columns"
      ],
      "metadata": {
        "colab": {
          "base_uri": "https://localhost:8080/"
        },
        "id": "TwqAHVHxZk1B",
        "outputId": "9925f123-bdb3-4592-b277-003f34d9b520"
      },
      "execution_count": 55,
      "outputs": [
        {
          "output_type": "execute_result",
          "data": {
            "text/plain": [
              "Index(['sexo', 'sem_gest', 'anio', 'mes', 'p_emb', 'lugar_ocur', 'provincia',\n",
              "       'canton', 'parroquia', 'asis_por', 'area', 'edad_mad', 'con_pren',\n",
              "       'hij_viv', 'hij_vivm', 'hij_nacm', 'etnia', 'est_civil', 'sabe_leer',\n",
              "       'niv_inst', 'prov_res', 'cant_res', 'parr_res', 'area_res', 'Estado',\n",
              "       'nuev_estad'],\n",
              "      dtype='object')"
            ]
          },
          "metadata": {},
          "execution_count": 55
        }
      ]
    },
    {
      "cell_type": "markdown",
      "source": [
        "* Sex: el sexo del recién nacido o difunto si será tomado en cuenta\n",
        "* Sem_gest: las semanas de gestación si se toman en cuenta (debido a que esta característica puede tener un peso considerable con respecto al resto aún está a discusión)\n",
        "* Anio: El año de nacimiento o defunción no se considera una característica importante, sin embargo no lo eliminaremos pero luego si.\n",
        "* Mes: El mes de nacimiento o defunción tampoco es una característica importante\n",
        "* P_emb: El producto de embarazo si será tomda en cuenta\n",
        "* Lugar_ocurr: el lugar de ocurrencia también será una característica importante a tomar en cuenta\n",
        "* La provincia, cantón y área también se consideraran más no las parroquias (tanto de nacimientos, como de defunciones)\n",
        "* El estado civil la etnia, y el nivel de instrucción de la madre también serán tomados en cuenta\n",
        "* El estado también será eliminado ya que consideramos una nueva clase, en la columna nuevo estado se encuentran clasificados 3, uno de nacimiendo otro de nacido muerto y otro de aborto, según las semanas de gestación.\n",
        "* Los hijos vivos, hijos nacidos vivos que han muerto, y los hijos que han nacido muertos también serán tomados en cuenta "
      ],
      "metadata": {
        "id": "dHyYIST2b1hA"
      }
    },
    {
      "cell_type": "code",
      "source": [
        "col_selec = ['sexo','anio', 'p_emb', 'lugar_ocur',#'sem_gest',\n",
        "       'asis_por', 'area', 'edad_mad', 'con_pren',\n",
        "       'hij_viv', 'hij_vivm', 'hij_nacm', 'etnia', 'est_civil', 'sabe_leer',\n",
        "       'niv_inst', 'prov_res', 'area_res',\n",
        "       'nuev_estad']"
      ],
      "metadata": {
        "id": "3Qt4TvysaWth"
      },
      "execution_count": 84,
      "outputs": []
    },
    {
      "cell_type": "code",
      "source": [
        "#nuevo marco de datos con las columnas seleccionadas\n",
        "data = df.loc[:,col_selec]"
      ],
      "metadata": {
        "id": "RbnXWj7eePTG"
      },
      "execution_count": 85,
      "outputs": []
    },
    {
      "cell_type": "markdown",
      "source": [
        "### Ingeniería de características"
      ],
      "metadata": {
        "id": "SyNoe4rLecfs"
      }
    },
    {
      "cell_type": "code",
      "source": [
        "#haremos una sola columna con numero de hijos totales que nacieron vivos hij_viv + hij_vivm\n",
        "data['ThijosV'] = data['hij_viv'] + data['hij_vivm'] \n",
        "data = data.drop(['hij_viv', 'hij_vivm'], axis=1)"
      ],
      "metadata": {
        "id": "T6wSFwXWehau"
      },
      "execution_count": 86,
      "outputs": []
    },
    {
      "cell_type": "code",
      "source": [
        "# debido a la inclongruencia entre nivel de instrucción de la madre y si sabe leer o no\n",
        "# a la columna de sabe leer no la vamos a eliminar\n",
        "data.groupby(\"niv_inst\")[\"sabe_leer\"].value_counts()"
      ],
      "metadata": {
        "colab": {
          "base_uri": "https://localhost:8080/"
        },
        "id": "tCepS6JHfr4W",
        "outputId": "db4f4cd9-8f9f-4bc2-8aab-8ea8bc8b9418"
      },
      "execution_count": 87,
      "outputs": [
        {
          "output_type": "execute_result",
          "data": {
            "text/plain": [
              "niv_inst                        sabe_leer\n",
              "Centro_de_alfabetizacion        Si             2291\n",
              "                                No               83\n",
              "                                Ignorado         21\n",
              "Ciclo_post_bachillerato         Si             7783\n",
              "Educacion Media / Bachillerato  Si           349355\n",
              "                                No                5\n",
              "Educacion_basica                Si           369094\n",
              "                                Ignorado        684\n",
              "                                No              288\n",
              "Ninguno                         No             6206\n",
              "                                Si             3255\n",
              "                                Ignorado         49\n",
              "Posgrado                        Si             5182\n",
              "Primaria                        Si           250081\n",
              "                                Ignorado        321\n",
              "                                No               56\n",
              "Se_ignora                       Si            12931\n",
              "                                Ignorado       3364\n",
              "                                No             2493\n",
              "Secundaria                      Si           387235\n",
              "                                No               34\n",
              "Superior                        Si            75135\n",
              "Superior no universitario       Si            53019\n",
              "Superior universitario          Si           221147\n",
              "Name: sabe_leer, dtype: int64"
            ]
          },
          "metadata": {},
          "execution_count": 87
        }
      ]
    },
    {
      "cell_type": "markdown",
      "source": [
        "* La variable nivel de instrucción, es una variable de tipo ordinal, por lo tanto vamos a ordenarlo de la siguiente manera:\n",
        "0. Se ignora y ninguno\n",
        "1. Primaria y Centro de alfabetizacion\n",
        "2. Educación básica y Educacion Media / Bachillerato\n",
        "3. Ciclo_post_bachillerato y Superior no universitario\n",
        "4. Superior y Superior universitario\n",
        "5. Posgrado\n"
      ],
      "metadata": {
        "id": "RbPo_ge8haU1"
      }
    },
    {
      "cell_type": "code",
      "source": [
        "niv_instruccion = {'Se_ignora': 0, 'Ninguno': 0, 'Primaria': 1, \"Centro_de_alfabetizacion\":1, \"Educacion_basica\":2, \"Educacion Media / Bachillerato\":2,\"Secundaria\":2, \"Ciclo_post_bachillerato\":3, \"Superior no universitario\":3,\"Superior\":4,\"Superior universitario\":4,\"Posgrado\":5}\n",
        "data[\"niv_inst\"] = data[\"niv_inst\"].replace(niv_instruccion)"
      ],
      "metadata": {
        "id": "ISwr2jkQhSb1"
      },
      "execution_count": 88,
      "outputs": []
    },
    {
      "cell_type": "markdown",
      "source": [
        "* De igual manera el producto de embarazo es una variable de tipo ordinal, por lo tanto vamos a ordenarlo:\n",
        "0. Simple\n",
        "1. Doble\n",
        "2. Triple\n",
        "3. Cuadruple o más"
      ],
      "metadata": {
        "id": "JXNzZVXll0Mh"
      }
    },
    {
      "cell_type": "code",
      "source": [
        "prod_emb = {'Simple': 0, 'Doble': 1, \"Triple\":2, \"Cuadruple_o_mas\":3}\n",
        "data[\"p_emb\"] = data[\"p_emb\"].replace(prod_emb)"
      ],
      "metadata": {
        "id": "TiX4VqH6mO8a"
      },
      "execution_count": 89,
      "outputs": []
    },
    {
      "cell_type": "markdown",
      "source": [
        "### Train test split"
      ],
      "metadata": {
        "id": "Xx_qFVNMsvQV"
      }
    },
    {
      "cell_type": "markdown",
      "source": [
        "* Este es un problema de predicción anual, por lo tanto vamos a hacer que los datos de entrenamiento sean los datos recolectados desde los años 2012 hasta 2020 y el conjunto de testeo sea del año 2021."
      ],
      "metadata": {
        "id": "G83xU5cbonBA"
      }
    },
    {
      "cell_type": "code",
      "source": [
        "#filtramos los datos desde el 2012 hasta el 2020\n",
        "df_2012_2020 = data[(data['anio'] >= 2017) & (data['anio'] <= 2020)]\n",
        "# filtramos los datos del 2021\n",
        "df_2021 = data[data['anio'] == 2021]"
      ],
      "metadata": {
        "id": "nA4LO8TqomSI"
      },
      "execution_count": 90,
      "outputs": []
    },
    {
      "cell_type": "code",
      "source": [
        "#comprobamos\n",
        "df_2012_2020[\"anio\"].value_counts()"
      ],
      "metadata": {
        "colab": {
          "base_uri": "https://localhost:8080/"
        },
        "id": "6dVaChLSp84A",
        "outputId": "2af10e43-07c5-4f52-d5ac-24d2d2e8945f"
      },
      "execution_count": 91,
      "outputs": [
        {
          "output_type": "execute_result",
          "data": {
            "text/plain": [
              "2018.0    265923\n",
              "2017.0    263558\n",
              "2019.0    258668\n",
              "2020.0    223322\n",
              "Name: anio, dtype: int64"
            ]
          },
          "metadata": {},
          "execution_count": 91
        }
      ]
    },
    {
      "cell_type": "code",
      "source": [
        "df_2021[\"anio\"].value_counts()"
      ],
      "metadata": {
        "colab": {
          "base_uri": "https://localhost:8080/"
        },
        "id": "H6ApN6bDqf-H",
        "outputId": "0955c976-23fd-468f-e3a8-0cc642b7ed2f"
      },
      "execution_count": 92,
      "outputs": [
        {
          "output_type": "execute_result",
          "data": {
            "text/plain": [
              "2021.0    217341\n",
              "Name: anio, dtype: int64"
            ]
          },
          "metadata": {},
          "execution_count": 92
        }
      ]
    },
    {
      "cell_type": "code",
      "source": [
        "#test train split\n",
        "#características\n",
        "X_train = df_2012_2020.drop([\"anio\",\"nuev_estad\"], axis = 1)\n",
        "X_test = df_2021.drop([\"anio\",\"nuev_estad\"], axis = 1)\n",
        "\n",
        "y_train = df_2012_2020[\"nuev_estad\"]\n",
        "y_test = df_2021[\"nuev_estad\"]"
      ],
      "metadata": {
        "id": "WzvOahOoqznn"
      },
      "execution_count": 93,
      "outputs": []
    },
    {
      "cell_type": "markdown",
      "source": [
        " ### Preparación de datos para aplicar modelos"
      ],
      "metadata": {
        "id": "Kbb9gpDSsitl"
      }
    },
    {
      "cell_type": "code",
      "source": [
        "from sklearn.pipeline import make_pipeline\n",
        "from sklearn.impute import SimpleImputer\n",
        "from sklearn.preprocessing import StandardScaler\n",
        "from sklearn.model_selection import train_test_split\n",
        "from sklearn.preprocessing import OneHotEncoder\n",
        "from sklearn.compose import make_column_selector, make_column_transformer\n",
        "from sklearn import set_config\n",
        "set_config(display='diagram')"
      ],
      "metadata": {
        "id": "bpBgSLbLsga9"
      },
      "execution_count": 94,
      "outputs": []
    },
    {
      "cell_type": "code",
      "source": [
        "#Instanciamos column selector\n",
        "num_selector = make_column_selector(dtype_include = \"number\")\n",
        "cat_selector = make_column_selector(dtype_include = \"object\")"
      ],
      "metadata": {
        "id": "RvX5CEVis5nV"
      },
      "execution_count": 67,
      "outputs": []
    },
    {
      "cell_type": "code",
      "source": [
        "#instanciamos scaler para los datos numéricos\n",
        "scaler = StandardScaler()\n",
        "#instanciamos codificación one-hot-endoder para datos nominales\n",
        "ohe_encoder = OneHotEncoder(drop = \"first\",sparse_output = False, handle_unknown = \"ignore\")"
      ],
      "metadata": {
        "id": "UEDPCA5Du0SM"
      },
      "execution_count": 68,
      "outputs": []
    },
    {
      "cell_type": "code",
      "source": [
        "#creación de tuplas\n",
        "num_tuple = (scaler, num_selector)\n",
        "cat_tuple = (ohe_encoder, cat_selector)"
      ],
      "metadata": {
        "id": "gZQDC5kTvL-8"
      },
      "execution_count": 69,
      "outputs": []
    },
    {
      "cell_type": "code",
      "source": [
        "#instanciamos column transform\n",
        "col_transformer = make_column_transformer(num_tuple,cat_tuple, remainder = \"passthrough\")"
      ],
      "metadata": {
        "id": "_-aBDP8zv7wE"
      },
      "execution_count": 70,
      "outputs": []
    },
    {
      "cell_type": "code",
      "source": [
        "#ajustamos a los datos de entrenamiento\n",
        "col_transformer.fit(X_train)"
      ],
      "metadata": {
        "colab": {
          "base_uri": "https://localhost:8080/",
          "height": 117
        },
        "id": "JRYp5_sZwJYM",
        "outputId": "f257e28c-537b-4a36-dba4-392f0b15444c"
      },
      "execution_count": 95,
      "outputs": [
        {
          "output_type": "execute_result",
          "data": {
            "text/plain": [
              "ColumnTransformer(remainder='passthrough',\n",
              "                  transformers=[('standardscaler', StandardScaler(),\n",
              "                                 <sklearn.compose._column_transformer.make_column_selector object at 0x7f293154d850>),\n",
              "                                ('onehotencoder',\n",
              "                                 OneHotEncoder(drop='first',\n",
              "                                               handle_unknown='ignore',\n",
              "                                               sparse_output=False),\n",
              "                                 <sklearn.compose._column_transformer.make_column_selector object at 0x7f29321f6bb0>)])"
            ],
            "text/html": [
              "<style>#sk-container-id-5 {color: black;background-color: white;}#sk-container-id-5 pre{padding: 0;}#sk-container-id-5 div.sk-toggleable {background-color: white;}#sk-container-id-5 label.sk-toggleable__label {cursor: pointer;display: block;width: 100%;margin-bottom: 0;padding: 0.3em;box-sizing: border-box;text-align: center;}#sk-container-id-5 label.sk-toggleable__label-arrow:before {content: \"▸\";float: left;margin-right: 0.25em;color: #696969;}#sk-container-id-5 label.sk-toggleable__label-arrow:hover:before {color: black;}#sk-container-id-5 div.sk-estimator:hover label.sk-toggleable__label-arrow:before {color: black;}#sk-container-id-5 div.sk-toggleable__content {max-height: 0;max-width: 0;overflow: hidden;text-align: left;background-color: #f0f8ff;}#sk-container-id-5 div.sk-toggleable__content pre {margin: 0.2em;color: black;border-radius: 0.25em;background-color: #f0f8ff;}#sk-container-id-5 input.sk-toggleable__control:checked~div.sk-toggleable__content {max-height: 200px;max-width: 100%;overflow: auto;}#sk-container-id-5 input.sk-toggleable__control:checked~label.sk-toggleable__label-arrow:before {content: \"▾\";}#sk-container-id-5 div.sk-estimator input.sk-toggleable__control:checked~label.sk-toggleable__label {background-color: #d4ebff;}#sk-container-id-5 div.sk-label input.sk-toggleable__control:checked~label.sk-toggleable__label {background-color: #d4ebff;}#sk-container-id-5 input.sk-hidden--visually {border: 0;clip: rect(1px 1px 1px 1px);clip: rect(1px, 1px, 1px, 1px);height: 1px;margin: -1px;overflow: hidden;padding: 0;position: absolute;width: 1px;}#sk-container-id-5 div.sk-estimator {font-family: monospace;background-color: #f0f8ff;border: 1px dotted black;border-radius: 0.25em;box-sizing: border-box;margin-bottom: 0.5em;}#sk-container-id-5 div.sk-estimator:hover {background-color: #d4ebff;}#sk-container-id-5 div.sk-parallel-item::after {content: \"\";width: 100%;border-bottom: 1px solid gray;flex-grow: 1;}#sk-container-id-5 div.sk-label:hover label.sk-toggleable__label {background-color: #d4ebff;}#sk-container-id-5 div.sk-serial::before {content: \"\";position: absolute;border-left: 1px solid gray;box-sizing: border-box;top: 0;bottom: 0;left: 50%;z-index: 0;}#sk-container-id-5 div.sk-serial {display: flex;flex-direction: column;align-items: center;background-color: white;padding-right: 0.2em;padding-left: 0.2em;position: relative;}#sk-container-id-5 div.sk-item {position: relative;z-index: 1;}#sk-container-id-5 div.sk-parallel {display: flex;align-items: stretch;justify-content: center;background-color: white;position: relative;}#sk-container-id-5 div.sk-item::before, #sk-container-id-5 div.sk-parallel-item::before {content: \"\";position: absolute;border-left: 1px solid gray;box-sizing: border-box;top: 0;bottom: 0;left: 50%;z-index: -1;}#sk-container-id-5 div.sk-parallel-item {display: flex;flex-direction: column;z-index: 1;position: relative;background-color: white;}#sk-container-id-5 div.sk-parallel-item:first-child::after {align-self: flex-end;width: 50%;}#sk-container-id-5 div.sk-parallel-item:last-child::after {align-self: flex-start;width: 50%;}#sk-container-id-5 div.sk-parallel-item:only-child::after {width: 0;}#sk-container-id-5 div.sk-dashed-wrapped {border: 1px dashed gray;margin: 0 0.4em 0.5em 0.4em;box-sizing: border-box;padding-bottom: 0.4em;background-color: white;}#sk-container-id-5 div.sk-label label {font-family: monospace;font-weight: bold;display: inline-block;line-height: 1.2em;}#sk-container-id-5 div.sk-label-container {text-align: center;}#sk-container-id-5 div.sk-container {/* jupyter's `normalize.less` sets `[hidden] { display: none; }` but bootstrap.min.css set `[hidden] { display: none !important; }` so we also need the `!important` here to be able to override the default hidden behavior on the sphinx rendered scikit-learn.org. See: https://github.com/scikit-learn/scikit-learn/issues/21755 */display: inline-block !important;position: relative;}#sk-container-id-5 div.sk-text-repr-fallback {display: none;}</style><div id=\"sk-container-id-5\" class=\"sk-top-container\"><div class=\"sk-text-repr-fallback\"><pre>ColumnTransformer(remainder=&#x27;passthrough&#x27;,\n",
              "                  transformers=[(&#x27;standardscaler&#x27;, StandardScaler(),\n",
              "                                 &lt;sklearn.compose._column_transformer.make_column_selector object at 0x7f293154d850&gt;),\n",
              "                                (&#x27;onehotencoder&#x27;,\n",
              "                                 OneHotEncoder(drop=&#x27;first&#x27;,\n",
              "                                               handle_unknown=&#x27;ignore&#x27;,\n",
              "                                               sparse_output=False),\n",
              "                                 &lt;sklearn.compose._column_transformer.make_column_selector object at 0x7f29321f6bb0&gt;)])</pre><b>In a Jupyter environment, please rerun this cell to show the HTML representation or trust the notebook. <br />On GitHub, the HTML representation is unable to render, please try loading this page with nbviewer.org.</b></div><div class=\"sk-container\" hidden><div class=\"sk-item sk-dashed-wrapped\"><div class=\"sk-label-container\"><div class=\"sk-label sk-toggleable\"><input class=\"sk-toggleable__control sk-hidden--visually\" id=\"sk-estimator-id-23\" type=\"checkbox\" ><label for=\"sk-estimator-id-23\" class=\"sk-toggleable__label sk-toggleable__label-arrow\">ColumnTransformer</label><div class=\"sk-toggleable__content\"><pre>ColumnTransformer(remainder=&#x27;passthrough&#x27;,\n",
              "                  transformers=[(&#x27;standardscaler&#x27;, StandardScaler(),\n",
              "                                 &lt;sklearn.compose._column_transformer.make_column_selector object at 0x7f293154d850&gt;),\n",
              "                                (&#x27;onehotencoder&#x27;,\n",
              "                                 OneHotEncoder(drop=&#x27;first&#x27;,\n",
              "                                               handle_unknown=&#x27;ignore&#x27;,\n",
              "                                               sparse_output=False),\n",
              "                                 &lt;sklearn.compose._column_transformer.make_column_selector object at 0x7f29321f6bb0&gt;)])</pre></div></div></div><div class=\"sk-parallel\"><div class=\"sk-parallel-item\"><div class=\"sk-item\"><div class=\"sk-label-container\"><div class=\"sk-label sk-toggleable\"><input class=\"sk-toggleable__control sk-hidden--visually\" id=\"sk-estimator-id-24\" type=\"checkbox\" ><label for=\"sk-estimator-id-24\" class=\"sk-toggleable__label sk-toggleable__label-arrow\">standardscaler</label><div class=\"sk-toggleable__content\"><pre>&lt;sklearn.compose._column_transformer.make_column_selector object at 0x7f293154d850&gt;</pre></div></div></div><div class=\"sk-serial\"><div class=\"sk-item\"><div class=\"sk-estimator sk-toggleable\"><input class=\"sk-toggleable__control sk-hidden--visually\" id=\"sk-estimator-id-25\" type=\"checkbox\" ><label for=\"sk-estimator-id-25\" class=\"sk-toggleable__label sk-toggleable__label-arrow\">StandardScaler</label><div class=\"sk-toggleable__content\"><pre>StandardScaler()</pre></div></div></div></div></div></div><div class=\"sk-parallel-item\"><div class=\"sk-item\"><div class=\"sk-label-container\"><div class=\"sk-label sk-toggleable\"><input class=\"sk-toggleable__control sk-hidden--visually\" id=\"sk-estimator-id-26\" type=\"checkbox\" ><label for=\"sk-estimator-id-26\" class=\"sk-toggleable__label sk-toggleable__label-arrow\">onehotencoder</label><div class=\"sk-toggleable__content\"><pre>&lt;sklearn.compose._column_transformer.make_column_selector object at 0x7f29321f6bb0&gt;</pre></div></div></div><div class=\"sk-serial\"><div class=\"sk-item\"><div class=\"sk-estimator sk-toggleable\"><input class=\"sk-toggleable__control sk-hidden--visually\" id=\"sk-estimator-id-27\" type=\"checkbox\" ><label for=\"sk-estimator-id-27\" class=\"sk-toggleable__label sk-toggleable__label-arrow\">OneHotEncoder</label><div class=\"sk-toggleable__content\"><pre>OneHotEncoder(drop=&#x27;first&#x27;, handle_unknown=&#x27;ignore&#x27;, sparse_output=False)</pre></div></div></div></div></div></div><div class=\"sk-parallel-item\"><div class=\"sk-item\"><div class=\"sk-label-container\"><div class=\"sk-label sk-toggleable\"><input class=\"sk-toggleable__control sk-hidden--visually\" id=\"sk-estimator-id-28\" type=\"checkbox\" ><label for=\"sk-estimator-id-28\" class=\"sk-toggleable__label sk-toggleable__label-arrow\">remainder</label><div class=\"sk-toggleable__content\"><pre>[]</pre></div></div></div><div class=\"sk-serial\"><div class=\"sk-item\"><div class=\"sk-estimator sk-toggleable\"><input class=\"sk-toggleable__control sk-hidden--visually\" id=\"sk-estimator-id-29\" type=\"checkbox\" ><label for=\"sk-estimator-id-29\" class=\"sk-toggleable__label sk-toggleable__label-arrow\">passthrough</label><div class=\"sk-toggleable__content\"><pre>passthrough</pre></div></div></div></div></div></div></div></div></div></div>"
            ]
          },
          "metadata": {},
          "execution_count": 95
        }
      ]
    },
    {
      "cell_type": "code",
      "source": [
        "#transformacion de datos\n",
        "X_train_processed = col_transformer.transform(X_train)\n",
        "X_test_processed = col_transformer.transform(X_test)"
      ],
      "metadata": {
        "id": "drdQxv8PtCq1"
      },
      "execution_count": 96,
      "outputs": []
    },
    {
      "cell_type": "code",
      "source": [
        "#col_names = col_transformer.get_feature_names_out(X_train.columns)\n",
        "#col_names"
      ],
      "metadata": {
        "id": "ZJIoDwMY3P4a"
      },
      "execution_count": 73,
      "outputs": []
    },
    {
      "cell_type": "markdown",
      "source": [
        "## Intenta múltiples modelos y afina los hiperparámetros de cada modelo para optimizar el rendimiento del modelo (incluye todos los modelos e hiperparámetros probados además del modelo final)"
      ],
      "metadata": {
        "id": "yGYA8GrYAQEH"
      }
    },
    {
      "cell_type": "markdown",
      "source": [
        "* Debido a que los datos son desiquilibrados usaremos los modelos Random Forest, Gradient Boosting Classifier,extreme gradient Boosting y LightGBM."
      ],
      "metadata": {
        "id": "orAnkv7F43uu"
      }
    },
    {
      "cell_type": "markdown",
      "source": [
        "## Random Forest"
      ],
      "metadata": {
        "id": "lcQtr4FuIK6B"
      }
    },
    {
      "cell_type": "code",
      "source": [
        "from sklearn.model_selection import GridSearchCV"
      ],
      "metadata": {
        "id": "Hf0RshzoO750"
      },
      "execution_count": 101,
      "outputs": []
    },
    {
      "cell_type": "code",
      "source": [
        "from sklearn.ensemble import RandomForestClassifier"
      ],
      "metadata": {
        "id": "D3FAeO2wtSpV"
      },
      "execution_count": 74,
      "outputs": []
    },
    {
      "cell_type": "code",
      "source": [
        "rf = RandomForestClassifier(random_state = 42)"
      ],
      "metadata": {
        "id": "3pBy-n4CIjEY"
      },
      "execution_count": 97,
      "outputs": []
    },
    {
      "cell_type": "markdown",
      "source": [
        "Probamos el modelo random forest con numero de estimadores de 80, 100 y 120"
      ],
      "metadata": {
        "id": "2Lc4aCIscm-M"
      }
    },
    {
      "cell_type": "code",
      "source": [
        "# Probamos con 3 números de estimadores\n",
        "hiperp = {\"n_estimators\" : [80,100,120]}\n",
        "grid_search = GridSearchCV(rf, hiperp, scoring='accuracy')\n",
        "grid_search.fit(X_train_processed, y_train)"
      ],
      "metadata": {
        "colab": {
          "base_uri": "https://localhost:8080/",
          "height": 117
        },
        "id": "LMmnfB3bPObM",
        "outputId": "96a09caf-9d5f-49a6-e3c8-de6d33198534"
      },
      "execution_count": 102,
      "outputs": [
        {
          "output_type": "execute_result",
          "data": {
            "text/plain": [
              "GridSearchCV(estimator=RandomForestClassifier(random_state=42),\n",
              "             param_grid={'n_estimators': [80, 100, 120]}, scoring='accuracy')"
            ],
            "text/html": [
              "<style>#sk-container-id-7 {color: black;background-color: white;}#sk-container-id-7 pre{padding: 0;}#sk-container-id-7 div.sk-toggleable {background-color: white;}#sk-container-id-7 label.sk-toggleable__label {cursor: pointer;display: block;width: 100%;margin-bottom: 0;padding: 0.3em;box-sizing: border-box;text-align: center;}#sk-container-id-7 label.sk-toggleable__label-arrow:before {content: \"▸\";float: left;margin-right: 0.25em;color: #696969;}#sk-container-id-7 label.sk-toggleable__label-arrow:hover:before {color: black;}#sk-container-id-7 div.sk-estimator:hover label.sk-toggleable__label-arrow:before {color: black;}#sk-container-id-7 div.sk-toggleable__content {max-height: 0;max-width: 0;overflow: hidden;text-align: left;background-color: #f0f8ff;}#sk-container-id-7 div.sk-toggleable__content pre {margin: 0.2em;color: black;border-radius: 0.25em;background-color: #f0f8ff;}#sk-container-id-7 input.sk-toggleable__control:checked~div.sk-toggleable__content {max-height: 200px;max-width: 100%;overflow: auto;}#sk-container-id-7 input.sk-toggleable__control:checked~label.sk-toggleable__label-arrow:before {content: \"▾\";}#sk-container-id-7 div.sk-estimator input.sk-toggleable__control:checked~label.sk-toggleable__label {background-color: #d4ebff;}#sk-container-id-7 div.sk-label input.sk-toggleable__control:checked~label.sk-toggleable__label {background-color: #d4ebff;}#sk-container-id-7 input.sk-hidden--visually {border: 0;clip: rect(1px 1px 1px 1px);clip: rect(1px, 1px, 1px, 1px);height: 1px;margin: -1px;overflow: hidden;padding: 0;position: absolute;width: 1px;}#sk-container-id-7 div.sk-estimator {font-family: monospace;background-color: #f0f8ff;border: 1px dotted black;border-radius: 0.25em;box-sizing: border-box;margin-bottom: 0.5em;}#sk-container-id-7 div.sk-estimator:hover {background-color: #d4ebff;}#sk-container-id-7 div.sk-parallel-item::after {content: \"\";width: 100%;border-bottom: 1px solid gray;flex-grow: 1;}#sk-container-id-7 div.sk-label:hover label.sk-toggleable__label {background-color: #d4ebff;}#sk-container-id-7 div.sk-serial::before {content: \"\";position: absolute;border-left: 1px solid gray;box-sizing: border-box;top: 0;bottom: 0;left: 50%;z-index: 0;}#sk-container-id-7 div.sk-serial {display: flex;flex-direction: column;align-items: center;background-color: white;padding-right: 0.2em;padding-left: 0.2em;position: relative;}#sk-container-id-7 div.sk-item {position: relative;z-index: 1;}#sk-container-id-7 div.sk-parallel {display: flex;align-items: stretch;justify-content: center;background-color: white;position: relative;}#sk-container-id-7 div.sk-item::before, #sk-container-id-7 div.sk-parallel-item::before {content: \"\";position: absolute;border-left: 1px solid gray;box-sizing: border-box;top: 0;bottom: 0;left: 50%;z-index: -1;}#sk-container-id-7 div.sk-parallel-item {display: flex;flex-direction: column;z-index: 1;position: relative;background-color: white;}#sk-container-id-7 div.sk-parallel-item:first-child::after {align-self: flex-end;width: 50%;}#sk-container-id-7 div.sk-parallel-item:last-child::after {align-self: flex-start;width: 50%;}#sk-container-id-7 div.sk-parallel-item:only-child::after {width: 0;}#sk-container-id-7 div.sk-dashed-wrapped {border: 1px dashed gray;margin: 0 0.4em 0.5em 0.4em;box-sizing: border-box;padding-bottom: 0.4em;background-color: white;}#sk-container-id-7 div.sk-label label {font-family: monospace;font-weight: bold;display: inline-block;line-height: 1.2em;}#sk-container-id-7 div.sk-label-container {text-align: center;}#sk-container-id-7 div.sk-container {/* jupyter's `normalize.less` sets `[hidden] { display: none; }` but bootstrap.min.css set `[hidden] { display: none !important; }` so we also need the `!important` here to be able to override the default hidden behavior on the sphinx rendered scikit-learn.org. See: https://github.com/scikit-learn/scikit-learn/issues/21755 */display: inline-block !important;position: relative;}#sk-container-id-7 div.sk-text-repr-fallback {display: none;}</style><div id=\"sk-container-id-7\" class=\"sk-top-container\"><div class=\"sk-text-repr-fallback\"><pre>GridSearchCV(estimator=RandomForestClassifier(random_state=42),\n",
              "             param_grid={&#x27;n_estimators&#x27;: [80, 100, 120]}, scoring=&#x27;accuracy&#x27;)</pre><b>In a Jupyter environment, please rerun this cell to show the HTML representation or trust the notebook. <br />On GitHub, the HTML representation is unable to render, please try loading this page with nbviewer.org.</b></div><div class=\"sk-container\" hidden><div class=\"sk-item sk-dashed-wrapped\"><div class=\"sk-label-container\"><div class=\"sk-label sk-toggleable\"><input class=\"sk-toggleable__control sk-hidden--visually\" id=\"sk-estimator-id-31\" type=\"checkbox\" ><label for=\"sk-estimator-id-31\" class=\"sk-toggleable__label sk-toggleable__label-arrow\">GridSearchCV</label><div class=\"sk-toggleable__content\"><pre>GridSearchCV(estimator=RandomForestClassifier(random_state=42),\n",
              "             param_grid={&#x27;n_estimators&#x27;: [80, 100, 120]}, scoring=&#x27;accuracy&#x27;)</pre></div></div></div><div class=\"sk-parallel\"><div class=\"sk-parallel-item\"><div class=\"sk-item\"><div class=\"sk-label-container\"><div class=\"sk-label sk-toggleable\"><input class=\"sk-toggleable__control sk-hidden--visually\" id=\"sk-estimator-id-32\" type=\"checkbox\" ><label for=\"sk-estimator-id-32\" class=\"sk-toggleable__label sk-toggleable__label-arrow\">estimator: RandomForestClassifier</label><div class=\"sk-toggleable__content\"><pre>RandomForestClassifier(random_state=42)</pre></div></div></div><div class=\"sk-serial\"><div class=\"sk-item\"><div class=\"sk-estimator sk-toggleable\"><input class=\"sk-toggleable__control sk-hidden--visually\" id=\"sk-estimator-id-33\" type=\"checkbox\" ><label for=\"sk-estimator-id-33\" class=\"sk-toggleable__label sk-toggleable__label-arrow\">RandomForestClassifier</label><div class=\"sk-toggleable__content\"><pre>RandomForestClassifier(random_state=42)</pre></div></div></div></div></div></div></div></div></div></div>"
            ]
          },
          "metadata": {},
          "execution_count": 102
        }
      ]
    },
    {
      "cell_type": "markdown",
      "source": [
        "El hiperparámetro que mejor resultado con respecto a la exactitud es número de estimadores = 100."
      ],
      "metadata": {
        "id": "bfaSyxcscv_c"
      }
    },
    {
      "cell_type": "code",
      "source": [
        "best_params = grid_search.best_params_\n",
        "print(best_params)"
      ],
      "metadata": {
        "colab": {
          "base_uri": "https://localhost:8080/"
        },
        "id": "XEVmM9PRWl3X",
        "outputId": "85a82b4d-f13d-4f3c-d78b-95112eac8bfa"
      },
      "execution_count": 104,
      "outputs": [
        {
          "output_type": "stream",
          "name": "stdout",
          "text": [
            "{'n_estimators': 100}\n"
          ]
        }
      ]
    },
    {
      "cell_type": "code",
      "source": [
        "rf_best = RandomForestClassifier(n_estimators = 100, random_state = 42)"
      ],
      "metadata": {
        "id": "VmjtkTIKW9Dw"
      },
      "execution_count": 105,
      "outputs": []
    },
    {
      "cell_type": "markdown",
      "source": [
        "Entrenamos el modelo con el hiperparámetro óptimo"
      ],
      "metadata": {
        "id": "eW4leZnUdALs"
      }
    },
    {
      "cell_type": "code",
      "source": [
        "#entrenamos el modelo\n",
        "rf_best.fit(X_train_processed, y_train)"
      ],
      "metadata": {
        "colab": {
          "base_uri": "https://localhost:8080/",
          "height": 74
        },
        "id": "0lHc1ujZIwtn",
        "outputId": "0233fa6e-6b63-41d2-8d42-6327dbb607ab"
      },
      "execution_count": 106,
      "outputs": [
        {
          "output_type": "execute_result",
          "data": {
            "text/plain": [
              "RandomForestClassifier(random_state=42)"
            ],
            "text/html": [
              "<style>#sk-container-id-8 {color: black;background-color: white;}#sk-container-id-8 pre{padding: 0;}#sk-container-id-8 div.sk-toggleable {background-color: white;}#sk-container-id-8 label.sk-toggleable__label {cursor: pointer;display: block;width: 100%;margin-bottom: 0;padding: 0.3em;box-sizing: border-box;text-align: center;}#sk-container-id-8 label.sk-toggleable__label-arrow:before {content: \"▸\";float: left;margin-right: 0.25em;color: #696969;}#sk-container-id-8 label.sk-toggleable__label-arrow:hover:before {color: black;}#sk-container-id-8 div.sk-estimator:hover label.sk-toggleable__label-arrow:before {color: black;}#sk-container-id-8 div.sk-toggleable__content {max-height: 0;max-width: 0;overflow: hidden;text-align: left;background-color: #f0f8ff;}#sk-container-id-8 div.sk-toggleable__content pre {margin: 0.2em;color: black;border-radius: 0.25em;background-color: #f0f8ff;}#sk-container-id-8 input.sk-toggleable__control:checked~div.sk-toggleable__content {max-height: 200px;max-width: 100%;overflow: auto;}#sk-container-id-8 input.sk-toggleable__control:checked~label.sk-toggleable__label-arrow:before {content: \"▾\";}#sk-container-id-8 div.sk-estimator input.sk-toggleable__control:checked~label.sk-toggleable__label {background-color: #d4ebff;}#sk-container-id-8 div.sk-label input.sk-toggleable__control:checked~label.sk-toggleable__label {background-color: #d4ebff;}#sk-container-id-8 input.sk-hidden--visually {border: 0;clip: rect(1px 1px 1px 1px);clip: rect(1px, 1px, 1px, 1px);height: 1px;margin: -1px;overflow: hidden;padding: 0;position: absolute;width: 1px;}#sk-container-id-8 div.sk-estimator {font-family: monospace;background-color: #f0f8ff;border: 1px dotted black;border-radius: 0.25em;box-sizing: border-box;margin-bottom: 0.5em;}#sk-container-id-8 div.sk-estimator:hover {background-color: #d4ebff;}#sk-container-id-8 div.sk-parallel-item::after {content: \"\";width: 100%;border-bottom: 1px solid gray;flex-grow: 1;}#sk-container-id-8 div.sk-label:hover label.sk-toggleable__label {background-color: #d4ebff;}#sk-container-id-8 div.sk-serial::before {content: \"\";position: absolute;border-left: 1px solid gray;box-sizing: border-box;top: 0;bottom: 0;left: 50%;z-index: 0;}#sk-container-id-8 div.sk-serial {display: flex;flex-direction: column;align-items: center;background-color: white;padding-right: 0.2em;padding-left: 0.2em;position: relative;}#sk-container-id-8 div.sk-item {position: relative;z-index: 1;}#sk-container-id-8 div.sk-parallel {display: flex;align-items: stretch;justify-content: center;background-color: white;position: relative;}#sk-container-id-8 div.sk-item::before, #sk-container-id-8 div.sk-parallel-item::before {content: \"\";position: absolute;border-left: 1px solid gray;box-sizing: border-box;top: 0;bottom: 0;left: 50%;z-index: -1;}#sk-container-id-8 div.sk-parallel-item {display: flex;flex-direction: column;z-index: 1;position: relative;background-color: white;}#sk-container-id-8 div.sk-parallel-item:first-child::after {align-self: flex-end;width: 50%;}#sk-container-id-8 div.sk-parallel-item:last-child::after {align-self: flex-start;width: 50%;}#sk-container-id-8 div.sk-parallel-item:only-child::after {width: 0;}#sk-container-id-8 div.sk-dashed-wrapped {border: 1px dashed gray;margin: 0 0.4em 0.5em 0.4em;box-sizing: border-box;padding-bottom: 0.4em;background-color: white;}#sk-container-id-8 div.sk-label label {font-family: monospace;font-weight: bold;display: inline-block;line-height: 1.2em;}#sk-container-id-8 div.sk-label-container {text-align: center;}#sk-container-id-8 div.sk-container {/* jupyter's `normalize.less` sets `[hidden] { display: none; }` but bootstrap.min.css set `[hidden] { display: none !important; }` so we also need the `!important` here to be able to override the default hidden behavior on the sphinx rendered scikit-learn.org. See: https://github.com/scikit-learn/scikit-learn/issues/21755 */display: inline-block !important;position: relative;}#sk-container-id-8 div.sk-text-repr-fallback {display: none;}</style><div id=\"sk-container-id-8\" class=\"sk-top-container\"><div class=\"sk-text-repr-fallback\"><pre>RandomForestClassifier(random_state=42)</pre><b>In a Jupyter environment, please rerun this cell to show the HTML representation or trust the notebook. <br />On GitHub, the HTML representation is unable to render, please try loading this page with nbviewer.org.</b></div><div class=\"sk-container\" hidden><div class=\"sk-item\"><div class=\"sk-estimator sk-toggleable\"><input class=\"sk-toggleable__control sk-hidden--visually\" id=\"sk-estimator-id-34\" type=\"checkbox\" checked><label for=\"sk-estimator-id-34\" class=\"sk-toggleable__label sk-toggleable__label-arrow\">RandomForestClassifier</label><div class=\"sk-toggleable__content\"><pre>RandomForestClassifier(random_state=42)</pre></div></div></div></div></div>"
            ]
          },
          "metadata": {},
          "execution_count": 106
        }
      ]
    },
    {
      "cell_type": "markdown",
      "source": [
        "Obtenemos las predicciones con el modelo de random forest"
      ],
      "metadata": {
        "id": "u62v0u5IdGxD"
      }
    },
    {
      "cell_type": "code",
      "source": [
        "#grupo de entrenamiento\n",
        "y_train_pred_rf = rf_best.predict(X_train_processed)\n",
        "#grupo de testeo\n",
        "y_test_pred_rf = rf_best.predict(X_test_processed)"
      ],
      "metadata": {
        "id": "M3L3AXwNXuz_"
      },
      "execution_count": 112,
      "outputs": []
    },
    {
      "cell_type": "markdown",
      "source": [
        "### Extreme Gradient Bosting"
      ],
      "metadata": {
        "id": "Rygx7gnaKZ9n"
      }
    },
    {
      "cell_type": "code",
      "source": [
        "from xgboost import XGBClassifier"
      ],
      "metadata": {
        "id": "JMBlX2pSKcsP"
      },
      "execution_count": 132,
      "outputs": []
    },
    {
      "cell_type": "code",
      "source": [
        "# Instantiate and fit gradient boosting classifier\n",
        "xgb = XGBClassifier()\n",
        "xgb.fit(X_train_processed, y_train)"
      ],
      "metadata": {
        "colab": {
          "base_uri": "https://localhost:8080/",
          "height": 248
        },
        "id": "8B45VVDOKgu_",
        "outputId": "568b1d26-7e16-4ee7-f642-6803654d2660"
      },
      "execution_count": 137,
      "outputs": [
        {
          "output_type": "execute_result",
          "data": {
            "text/plain": [
              "XGBClassifier(base_score=None, booster=None, callbacks=None,\n",
              "              colsample_bylevel=None, colsample_bynode=None,\n",
              "              colsample_bytree=None, early_stopping_rounds=None,\n",
              "              enable_categorical=False, eval_metric=None, feature_types=None,\n",
              "              gamma=None, gpu_id=None, grow_policy=None, importance_type=None,\n",
              "              interaction_constraints=None, learning_rate=None, max_bin=None,\n",
              "              max_cat_threshold=None, max_cat_to_onehot=None,\n",
              "              max_delta_step=None, max_depth=None, max_leaves=None,\n",
              "              min_child_weight=None, missing=nan, monotone_constraints=None,\n",
              "              n_estimators=100, n_jobs=None, num_parallel_tree=None,\n",
              "              objective='multi:softprob', predictor=None, ...)"
            ],
            "text/html": [
              "<style>#sk-container-id-12 {color: black;background-color: white;}#sk-container-id-12 pre{padding: 0;}#sk-container-id-12 div.sk-toggleable {background-color: white;}#sk-container-id-12 label.sk-toggleable__label {cursor: pointer;display: block;width: 100%;margin-bottom: 0;padding: 0.3em;box-sizing: border-box;text-align: center;}#sk-container-id-12 label.sk-toggleable__label-arrow:before {content: \"▸\";float: left;margin-right: 0.25em;color: #696969;}#sk-container-id-12 label.sk-toggleable__label-arrow:hover:before {color: black;}#sk-container-id-12 div.sk-estimator:hover label.sk-toggleable__label-arrow:before {color: black;}#sk-container-id-12 div.sk-toggleable__content {max-height: 0;max-width: 0;overflow: hidden;text-align: left;background-color: #f0f8ff;}#sk-container-id-12 div.sk-toggleable__content pre {margin: 0.2em;color: black;border-radius: 0.25em;background-color: #f0f8ff;}#sk-container-id-12 input.sk-toggleable__control:checked~div.sk-toggleable__content {max-height: 200px;max-width: 100%;overflow: auto;}#sk-container-id-12 input.sk-toggleable__control:checked~label.sk-toggleable__label-arrow:before {content: \"▾\";}#sk-container-id-12 div.sk-estimator input.sk-toggleable__control:checked~label.sk-toggleable__label {background-color: #d4ebff;}#sk-container-id-12 div.sk-label input.sk-toggleable__control:checked~label.sk-toggleable__label {background-color: #d4ebff;}#sk-container-id-12 input.sk-hidden--visually {border: 0;clip: rect(1px 1px 1px 1px);clip: rect(1px, 1px, 1px, 1px);height: 1px;margin: -1px;overflow: hidden;padding: 0;position: absolute;width: 1px;}#sk-container-id-12 div.sk-estimator {font-family: monospace;background-color: #f0f8ff;border: 1px dotted black;border-radius: 0.25em;box-sizing: border-box;margin-bottom: 0.5em;}#sk-container-id-12 div.sk-estimator:hover {background-color: #d4ebff;}#sk-container-id-12 div.sk-parallel-item::after {content: \"\";width: 100%;border-bottom: 1px solid gray;flex-grow: 1;}#sk-container-id-12 div.sk-label:hover label.sk-toggleable__label {background-color: #d4ebff;}#sk-container-id-12 div.sk-serial::before {content: \"\";position: absolute;border-left: 1px solid gray;box-sizing: border-box;top: 0;bottom: 0;left: 50%;z-index: 0;}#sk-container-id-12 div.sk-serial {display: flex;flex-direction: column;align-items: center;background-color: white;padding-right: 0.2em;padding-left: 0.2em;position: relative;}#sk-container-id-12 div.sk-item {position: relative;z-index: 1;}#sk-container-id-12 div.sk-parallel {display: flex;align-items: stretch;justify-content: center;background-color: white;position: relative;}#sk-container-id-12 div.sk-item::before, #sk-container-id-12 div.sk-parallel-item::before {content: \"\";position: absolute;border-left: 1px solid gray;box-sizing: border-box;top: 0;bottom: 0;left: 50%;z-index: -1;}#sk-container-id-12 div.sk-parallel-item {display: flex;flex-direction: column;z-index: 1;position: relative;background-color: white;}#sk-container-id-12 div.sk-parallel-item:first-child::after {align-self: flex-end;width: 50%;}#sk-container-id-12 div.sk-parallel-item:last-child::after {align-self: flex-start;width: 50%;}#sk-container-id-12 div.sk-parallel-item:only-child::after {width: 0;}#sk-container-id-12 div.sk-dashed-wrapped {border: 1px dashed gray;margin: 0 0.4em 0.5em 0.4em;box-sizing: border-box;padding-bottom: 0.4em;background-color: white;}#sk-container-id-12 div.sk-label label {font-family: monospace;font-weight: bold;display: inline-block;line-height: 1.2em;}#sk-container-id-12 div.sk-label-container {text-align: center;}#sk-container-id-12 div.sk-container {/* jupyter's `normalize.less` sets `[hidden] { display: none; }` but bootstrap.min.css set `[hidden] { display: none !important; }` so we also need the `!important` here to be able to override the default hidden behavior on the sphinx rendered scikit-learn.org. See: https://github.com/scikit-learn/scikit-learn/issues/21755 */display: inline-block !important;position: relative;}#sk-container-id-12 div.sk-text-repr-fallback {display: none;}</style><div id=\"sk-container-id-12\" class=\"sk-top-container\"><div class=\"sk-text-repr-fallback\"><pre>XGBClassifier(base_score=None, booster=None, callbacks=None,\n",
              "              colsample_bylevel=None, colsample_bynode=None,\n",
              "              colsample_bytree=None, early_stopping_rounds=None,\n",
              "              enable_categorical=False, eval_metric=None, feature_types=None,\n",
              "              gamma=None, gpu_id=None, grow_policy=None, importance_type=None,\n",
              "              interaction_constraints=None, learning_rate=None, max_bin=None,\n",
              "              max_cat_threshold=None, max_cat_to_onehot=None,\n",
              "              max_delta_step=None, max_depth=None, max_leaves=None,\n",
              "              min_child_weight=None, missing=nan, monotone_constraints=None,\n",
              "              n_estimators=100, n_jobs=None, num_parallel_tree=None,\n",
              "              objective=&#x27;multi:softprob&#x27;, predictor=None, ...)</pre><b>In a Jupyter environment, please rerun this cell to show the HTML representation or trust the notebook. <br />On GitHub, the HTML representation is unable to render, please try loading this page with nbviewer.org.</b></div><div class=\"sk-container\" hidden><div class=\"sk-item\"><div class=\"sk-estimator sk-toggleable\"><input class=\"sk-toggleable__control sk-hidden--visually\" id=\"sk-estimator-id-42\" type=\"checkbox\" checked><label for=\"sk-estimator-id-42\" class=\"sk-toggleable__label sk-toggleable__label-arrow\">XGBClassifier</label><div class=\"sk-toggleable__content\"><pre>XGBClassifier(base_score=None, booster=None, callbacks=None,\n",
              "              colsample_bylevel=None, colsample_bynode=None,\n",
              "              colsample_bytree=None, early_stopping_rounds=None,\n",
              "              enable_categorical=False, eval_metric=None, feature_types=None,\n",
              "              gamma=None, gpu_id=None, grow_policy=None, importance_type=None,\n",
              "              interaction_constraints=None, learning_rate=None, max_bin=None,\n",
              "              max_cat_threshold=None, max_cat_to_onehot=None,\n",
              "              max_delta_step=None, max_depth=None, max_leaves=None,\n",
              "              min_child_weight=None, missing=nan, monotone_constraints=None,\n",
              "              n_estimators=100, n_jobs=None, num_parallel_tree=None,\n",
              "              objective=&#x27;multi:softprob&#x27;, predictor=None, ...)</pre></div></div></div></div></div>"
            ]
          },
          "metadata": {},
          "execution_count": 137
        }
      ]
    },
    {
      "cell_type": "code",
      "source": [
        "#grupo de entrenamiento\n",
        "y_train_pred_xgb = xgb.predict(X_train_processed)\n",
        "#grupo de testeo\n",
        "y_test_pred_xgb = xgb.predict(X_test_processed)"
      ],
      "metadata": {
        "id": "057MFOBxKk0_"
      },
      "execution_count": 138,
      "outputs": []
    },
    {
      "cell_type": "markdown",
      "source": [
        "### LightGBM"
      ],
      "metadata": {
        "id": "W_pheJgWKqen"
      }
    },
    {
      "cell_type": "code",
      "source": [
        "from lightgbm import LGBMClassifier"
      ],
      "metadata": {
        "id": "QO2dgWTZKuun"
      },
      "execution_count": 108,
      "outputs": []
    },
    {
      "cell_type": "code",
      "source": [
        "# Instantiate and fit gradient boosting classifier\n",
        "lgbm = LGBMClassifier()\n",
        "#lgbm.fit(X_train_processed, y_train)"
      ],
      "metadata": {
        "id": "-t25jkMiKzUH"
      },
      "execution_count": 109,
      "outputs": []
    },
    {
      "cell_type": "markdown",
      "source": [
        "Aplicamos el modelo LightGBM con distintos hiperparámetros "
      ],
      "metadata": {
        "id": "8VVQ3OkIdMzL"
      }
    },
    {
      "cell_type": "code",
      "source": [
        "hiperplgbm = {\"num_leaves\" : [40,60],\n",
        "          \"min_data_in_leaf\" : [50,75],\n",
        "          \"max_depth\" : [8,9]}\n",
        "grid_searchlgbm = GridSearchCV(lgbm, hiperplgbm, scoring='accuracy')\n",
        "grid_searchlgbm.fit(X_train_processed, y_train)"
      ],
      "metadata": {
        "colab": {
          "base_uri": "https://localhost:8080/",
          "height": 848
        },
        "id": "Sq1At0ZxWSCf",
        "outputId": "ac3d7597-7913-4699-bb99-1350772da95c"
      },
      "execution_count": 124,
      "outputs": [
        {
          "output_type": "stream",
          "name": "stdout",
          "text": [
            "[LightGBM] [Warning] min_data_in_leaf is set=50, min_child_samples=20 will be ignored. Current value: min_data_in_leaf=50\n",
            "[LightGBM] [Warning] min_data_in_leaf is set=50, min_child_samples=20 will be ignored. Current value: min_data_in_leaf=50\n",
            "[LightGBM] [Warning] min_data_in_leaf is set=50, min_child_samples=20 will be ignored. Current value: min_data_in_leaf=50\n",
            "[LightGBM] [Warning] min_data_in_leaf is set=50, min_child_samples=20 will be ignored. Current value: min_data_in_leaf=50\n",
            "[LightGBM] [Warning] min_data_in_leaf is set=50, min_child_samples=20 will be ignored. Current value: min_data_in_leaf=50\n",
            "[LightGBM] [Warning] min_data_in_leaf is set=50, min_child_samples=20 will be ignored. Current value: min_data_in_leaf=50\n",
            "[LightGBM] [Warning] min_data_in_leaf is set=50, min_child_samples=20 will be ignored. Current value: min_data_in_leaf=50\n",
            "[LightGBM] [Warning] min_data_in_leaf is set=50, min_child_samples=20 will be ignored. Current value: min_data_in_leaf=50\n",
            "[LightGBM] [Warning] min_data_in_leaf is set=50, min_child_samples=20 will be ignored. Current value: min_data_in_leaf=50\n",
            "[LightGBM] [Warning] min_data_in_leaf is set=75, min_child_samples=20 will be ignored. Current value: min_data_in_leaf=75\n",
            "[LightGBM] [Warning] min_data_in_leaf is set=75, min_child_samples=20 will be ignored. Current value: min_data_in_leaf=75\n",
            "[LightGBM] [Warning] min_data_in_leaf is set=75, min_child_samples=20 will be ignored. Current value: min_data_in_leaf=75\n",
            "[LightGBM] [Warning] min_data_in_leaf is set=75, min_child_samples=20 will be ignored. Current value: min_data_in_leaf=75\n",
            "[LightGBM] [Warning] min_data_in_leaf is set=75, min_child_samples=20 will be ignored. Current value: min_data_in_leaf=75\n",
            "[LightGBM] [Warning] min_data_in_leaf is set=75, min_child_samples=20 will be ignored. Current value: min_data_in_leaf=75\n",
            "[LightGBM] [Warning] min_data_in_leaf is set=75, min_child_samples=20 will be ignored. Current value: min_data_in_leaf=75\n",
            "[LightGBM] [Warning] min_data_in_leaf is set=75, min_child_samples=20 will be ignored. Current value: min_data_in_leaf=75\n",
            "[LightGBM] [Warning] min_data_in_leaf is set=75, min_child_samples=20 will be ignored. Current value: min_data_in_leaf=75\n",
            "[LightGBM] [Warning] min_data_in_leaf is set=75, min_child_samples=20 will be ignored. Current value: min_data_in_leaf=75\n",
            "[LightGBM] [Warning] min_data_in_leaf is set=50, min_child_samples=20 will be ignored. Current value: min_data_in_leaf=50\n",
            "[LightGBM] [Warning] min_data_in_leaf is set=50, min_child_samples=20 will be ignored. Current value: min_data_in_leaf=50\n",
            "[LightGBM] [Warning] min_data_in_leaf is set=50, min_child_samples=20 will be ignored. Current value: min_data_in_leaf=50\n",
            "[LightGBM] [Warning] min_data_in_leaf is set=50, min_child_samples=20 will be ignored. Current value: min_data_in_leaf=50\n",
            "[LightGBM] [Warning] min_data_in_leaf is set=50, min_child_samples=20 will be ignored. Current value: min_data_in_leaf=50\n",
            "[LightGBM] [Warning] min_data_in_leaf is set=50, min_child_samples=20 will be ignored. Current value: min_data_in_leaf=50\n",
            "[LightGBM] [Warning] min_data_in_leaf is set=50, min_child_samples=20 will be ignored. Current value: min_data_in_leaf=50\n",
            "[LightGBM] [Warning] min_data_in_leaf is set=50, min_child_samples=20 will be ignored. Current value: min_data_in_leaf=50\n",
            "[LightGBM] [Warning] min_data_in_leaf is set=50, min_child_samples=20 will be ignored. Current value: min_data_in_leaf=50\n",
            "[LightGBM] [Warning] min_data_in_leaf is set=50, min_child_samples=20 will be ignored. Current value: min_data_in_leaf=50\n",
            "[LightGBM] [Warning] min_data_in_leaf is set=75, min_child_samples=20 will be ignored. Current value: min_data_in_leaf=75\n",
            "[LightGBM] [Warning] min_data_in_leaf is set=75, min_child_samples=20 will be ignored. Current value: min_data_in_leaf=75\n",
            "[LightGBM] [Warning] min_data_in_leaf is set=75, min_child_samples=20 will be ignored. Current value: min_data_in_leaf=75\n",
            "[LightGBM] [Warning] min_data_in_leaf is set=75, min_child_samples=20 will be ignored. Current value: min_data_in_leaf=75\n",
            "[LightGBM] [Warning] min_data_in_leaf is set=75, min_child_samples=20 will be ignored. Current value: min_data_in_leaf=75\n",
            "[LightGBM] [Warning] min_data_in_leaf is set=75, min_child_samples=20 will be ignored. Current value: min_data_in_leaf=75\n",
            "[LightGBM] [Warning] min_data_in_leaf is set=75, min_child_samples=20 will be ignored. Current value: min_data_in_leaf=75\n",
            "[LightGBM] [Warning] min_data_in_leaf is set=75, min_child_samples=20 will be ignored. Current value: min_data_in_leaf=75\n",
            "[LightGBM] [Warning] min_data_in_leaf is set=75, min_child_samples=20 will be ignored. Current value: min_data_in_leaf=75\n",
            "[LightGBM] [Warning] min_data_in_leaf is set=75, min_child_samples=20 will be ignored. Current value: min_data_in_leaf=75\n",
            "[LightGBM] [Warning] min_data_in_leaf is set=75, min_child_samples=20 will be ignored. Current value: min_data_in_leaf=75\n"
          ]
        },
        {
          "output_type": "execute_result",
          "data": {
            "text/plain": [
              "GridSearchCV(estimator=LGBMClassifier(),\n",
              "             param_grid={'max_depth': [8, 9], 'min_data_in_leaf': [50, 75],\n",
              "                         'num_leaves': [40, 60]},\n",
              "             scoring='accuracy')"
            ],
            "text/html": [
              "<style>#sk-container-id-10 {color: black;background-color: white;}#sk-container-id-10 pre{padding: 0;}#sk-container-id-10 div.sk-toggleable {background-color: white;}#sk-container-id-10 label.sk-toggleable__label {cursor: pointer;display: block;width: 100%;margin-bottom: 0;padding: 0.3em;box-sizing: border-box;text-align: center;}#sk-container-id-10 label.sk-toggleable__label-arrow:before {content: \"▸\";float: left;margin-right: 0.25em;color: #696969;}#sk-container-id-10 label.sk-toggleable__label-arrow:hover:before {color: black;}#sk-container-id-10 div.sk-estimator:hover label.sk-toggleable__label-arrow:before {color: black;}#sk-container-id-10 div.sk-toggleable__content {max-height: 0;max-width: 0;overflow: hidden;text-align: left;background-color: #f0f8ff;}#sk-container-id-10 div.sk-toggleable__content pre {margin: 0.2em;color: black;border-radius: 0.25em;background-color: #f0f8ff;}#sk-container-id-10 input.sk-toggleable__control:checked~div.sk-toggleable__content {max-height: 200px;max-width: 100%;overflow: auto;}#sk-container-id-10 input.sk-toggleable__control:checked~label.sk-toggleable__label-arrow:before {content: \"▾\";}#sk-container-id-10 div.sk-estimator input.sk-toggleable__control:checked~label.sk-toggleable__label {background-color: #d4ebff;}#sk-container-id-10 div.sk-label input.sk-toggleable__control:checked~label.sk-toggleable__label {background-color: #d4ebff;}#sk-container-id-10 input.sk-hidden--visually {border: 0;clip: rect(1px 1px 1px 1px);clip: rect(1px, 1px, 1px, 1px);height: 1px;margin: -1px;overflow: hidden;padding: 0;position: absolute;width: 1px;}#sk-container-id-10 div.sk-estimator {font-family: monospace;background-color: #f0f8ff;border: 1px dotted black;border-radius: 0.25em;box-sizing: border-box;margin-bottom: 0.5em;}#sk-container-id-10 div.sk-estimator:hover {background-color: #d4ebff;}#sk-container-id-10 div.sk-parallel-item::after {content: \"\";width: 100%;border-bottom: 1px solid gray;flex-grow: 1;}#sk-container-id-10 div.sk-label:hover label.sk-toggleable__label {background-color: #d4ebff;}#sk-container-id-10 div.sk-serial::before {content: \"\";position: absolute;border-left: 1px solid gray;box-sizing: border-box;top: 0;bottom: 0;left: 50%;z-index: 0;}#sk-container-id-10 div.sk-serial {display: flex;flex-direction: column;align-items: center;background-color: white;padding-right: 0.2em;padding-left: 0.2em;position: relative;}#sk-container-id-10 div.sk-item {position: relative;z-index: 1;}#sk-container-id-10 div.sk-parallel {display: flex;align-items: stretch;justify-content: center;background-color: white;position: relative;}#sk-container-id-10 div.sk-item::before, #sk-container-id-10 div.sk-parallel-item::before {content: \"\";position: absolute;border-left: 1px solid gray;box-sizing: border-box;top: 0;bottom: 0;left: 50%;z-index: -1;}#sk-container-id-10 div.sk-parallel-item {display: flex;flex-direction: column;z-index: 1;position: relative;background-color: white;}#sk-container-id-10 div.sk-parallel-item:first-child::after {align-self: flex-end;width: 50%;}#sk-container-id-10 div.sk-parallel-item:last-child::after {align-self: flex-start;width: 50%;}#sk-container-id-10 div.sk-parallel-item:only-child::after {width: 0;}#sk-container-id-10 div.sk-dashed-wrapped {border: 1px dashed gray;margin: 0 0.4em 0.5em 0.4em;box-sizing: border-box;padding-bottom: 0.4em;background-color: white;}#sk-container-id-10 div.sk-label label {font-family: monospace;font-weight: bold;display: inline-block;line-height: 1.2em;}#sk-container-id-10 div.sk-label-container {text-align: center;}#sk-container-id-10 div.sk-container {/* jupyter's `normalize.less` sets `[hidden] { display: none; }` but bootstrap.min.css set `[hidden] { display: none !important; }` so we also need the `!important` here to be able to override the default hidden behavior on the sphinx rendered scikit-learn.org. See: https://github.com/scikit-learn/scikit-learn/issues/21755 */display: inline-block !important;position: relative;}#sk-container-id-10 div.sk-text-repr-fallback {display: none;}</style><div id=\"sk-container-id-10\" class=\"sk-top-container\"><div class=\"sk-text-repr-fallback\"><pre>GridSearchCV(estimator=LGBMClassifier(),\n",
              "             param_grid={&#x27;max_depth&#x27;: [8, 9], &#x27;min_data_in_leaf&#x27;: [50, 75],\n",
              "                         &#x27;num_leaves&#x27;: [40, 60]},\n",
              "             scoring=&#x27;accuracy&#x27;)</pre><b>In a Jupyter environment, please rerun this cell to show the HTML representation or trust the notebook. <br />On GitHub, the HTML representation is unable to render, please try loading this page with nbviewer.org.</b></div><div class=\"sk-container\" hidden><div class=\"sk-item sk-dashed-wrapped\"><div class=\"sk-label-container\"><div class=\"sk-label sk-toggleable\"><input class=\"sk-toggleable__control sk-hidden--visually\" id=\"sk-estimator-id-38\" type=\"checkbox\" ><label for=\"sk-estimator-id-38\" class=\"sk-toggleable__label sk-toggleable__label-arrow\">GridSearchCV</label><div class=\"sk-toggleable__content\"><pre>GridSearchCV(estimator=LGBMClassifier(),\n",
              "             param_grid={&#x27;max_depth&#x27;: [8, 9], &#x27;min_data_in_leaf&#x27;: [50, 75],\n",
              "                         &#x27;num_leaves&#x27;: [40, 60]},\n",
              "             scoring=&#x27;accuracy&#x27;)</pre></div></div></div><div class=\"sk-parallel\"><div class=\"sk-parallel-item\"><div class=\"sk-item\"><div class=\"sk-label-container\"><div class=\"sk-label sk-toggleable\"><input class=\"sk-toggleable__control sk-hidden--visually\" id=\"sk-estimator-id-39\" type=\"checkbox\" ><label for=\"sk-estimator-id-39\" class=\"sk-toggleable__label sk-toggleable__label-arrow\">estimator: LGBMClassifier</label><div class=\"sk-toggleable__content\"><pre>LGBMClassifier()</pre></div></div></div><div class=\"sk-serial\"><div class=\"sk-item\"><div class=\"sk-estimator sk-toggleable\"><input class=\"sk-toggleable__control sk-hidden--visually\" id=\"sk-estimator-id-40\" type=\"checkbox\" ><label for=\"sk-estimator-id-40\" class=\"sk-toggleable__label sk-toggleable__label-arrow\">LGBMClassifier</label><div class=\"sk-toggleable__content\"><pre>LGBMClassifier()</pre></div></div></div></div></div></div></div></div></div></div>"
            ]
          },
          "metadata": {},
          "execution_count": 124
        }
      ]
    },
    {
      "cell_type": "markdown",
      "source": [
        "Obtenemos el grupo de hiperparámetros que mejor resultados nos da con respecto a la exactitud."
      ],
      "metadata": {
        "id": "tn12dnpAdYrr"
      }
    },
    {
      "cell_type": "code",
      "source": [
        "best_params_lgbm = grid_searchlgbm.best_params_\n",
        "print(best_params_lgbm)"
      ],
      "metadata": {
        "colab": {
          "base_uri": "https://localhost:8080/"
        },
        "id": "tchOQsSVa-Hl",
        "outputId": "fb271c45-b1f6-421b-f001-312274d57736"
      },
      "execution_count": 125,
      "outputs": [
        {
          "output_type": "stream",
          "name": "stdout",
          "text": [
            "{'max_depth': 8, 'min_data_in_leaf': 75, 'num_leaves': 60}\n"
          ]
        }
      ]
    },
    {
      "cell_type": "markdown",
      "source": [
        "Entrenamos el modelo con los hiperparámetros optimos obtenidos."
      ],
      "metadata": {
        "id": "KPaxfTKUdmrD"
      }
    },
    {
      "cell_type": "code",
      "source": [
        "# Instantiate and fit gradient boosting classifier\n",
        "lgbm_best = LGBMClassifier(max_depth= 8, min_data_in_leaf= 75,num_leaves= 60)\n",
        "lgbm_best.fit(X_train_processed, y_train)"
      ],
      "metadata": {
        "colab": {
          "base_uri": "https://localhost:8080/",
          "height": 74
        },
        "id": "d1M3J3ZPdr3E",
        "outputId": "5fea386f-c685-4e6a-be22-4651781974c1"
      },
      "execution_count": 127,
      "outputs": [
        {
          "output_type": "execute_result",
          "data": {
            "text/plain": [
              "LGBMClassifier(max_depth=8, min_data_in_leaf=75, num_leaves=60)"
            ],
            "text/html": [
              "<style>#sk-container-id-11 {color: black;background-color: white;}#sk-container-id-11 pre{padding: 0;}#sk-container-id-11 div.sk-toggleable {background-color: white;}#sk-container-id-11 label.sk-toggleable__label {cursor: pointer;display: block;width: 100%;margin-bottom: 0;padding: 0.3em;box-sizing: border-box;text-align: center;}#sk-container-id-11 label.sk-toggleable__label-arrow:before {content: \"▸\";float: left;margin-right: 0.25em;color: #696969;}#sk-container-id-11 label.sk-toggleable__label-arrow:hover:before {color: black;}#sk-container-id-11 div.sk-estimator:hover label.sk-toggleable__label-arrow:before {color: black;}#sk-container-id-11 div.sk-toggleable__content {max-height: 0;max-width: 0;overflow: hidden;text-align: left;background-color: #f0f8ff;}#sk-container-id-11 div.sk-toggleable__content pre {margin: 0.2em;color: black;border-radius: 0.25em;background-color: #f0f8ff;}#sk-container-id-11 input.sk-toggleable__control:checked~div.sk-toggleable__content {max-height: 200px;max-width: 100%;overflow: auto;}#sk-container-id-11 input.sk-toggleable__control:checked~label.sk-toggleable__label-arrow:before {content: \"▾\";}#sk-container-id-11 div.sk-estimator input.sk-toggleable__control:checked~label.sk-toggleable__label {background-color: #d4ebff;}#sk-container-id-11 div.sk-label input.sk-toggleable__control:checked~label.sk-toggleable__label {background-color: #d4ebff;}#sk-container-id-11 input.sk-hidden--visually {border: 0;clip: rect(1px 1px 1px 1px);clip: rect(1px, 1px, 1px, 1px);height: 1px;margin: -1px;overflow: hidden;padding: 0;position: absolute;width: 1px;}#sk-container-id-11 div.sk-estimator {font-family: monospace;background-color: #f0f8ff;border: 1px dotted black;border-radius: 0.25em;box-sizing: border-box;margin-bottom: 0.5em;}#sk-container-id-11 div.sk-estimator:hover {background-color: #d4ebff;}#sk-container-id-11 div.sk-parallel-item::after {content: \"\";width: 100%;border-bottom: 1px solid gray;flex-grow: 1;}#sk-container-id-11 div.sk-label:hover label.sk-toggleable__label {background-color: #d4ebff;}#sk-container-id-11 div.sk-serial::before {content: \"\";position: absolute;border-left: 1px solid gray;box-sizing: border-box;top: 0;bottom: 0;left: 50%;z-index: 0;}#sk-container-id-11 div.sk-serial {display: flex;flex-direction: column;align-items: center;background-color: white;padding-right: 0.2em;padding-left: 0.2em;position: relative;}#sk-container-id-11 div.sk-item {position: relative;z-index: 1;}#sk-container-id-11 div.sk-parallel {display: flex;align-items: stretch;justify-content: center;background-color: white;position: relative;}#sk-container-id-11 div.sk-item::before, #sk-container-id-11 div.sk-parallel-item::before {content: \"\";position: absolute;border-left: 1px solid gray;box-sizing: border-box;top: 0;bottom: 0;left: 50%;z-index: -1;}#sk-container-id-11 div.sk-parallel-item {display: flex;flex-direction: column;z-index: 1;position: relative;background-color: white;}#sk-container-id-11 div.sk-parallel-item:first-child::after {align-self: flex-end;width: 50%;}#sk-container-id-11 div.sk-parallel-item:last-child::after {align-self: flex-start;width: 50%;}#sk-container-id-11 div.sk-parallel-item:only-child::after {width: 0;}#sk-container-id-11 div.sk-dashed-wrapped {border: 1px dashed gray;margin: 0 0.4em 0.5em 0.4em;box-sizing: border-box;padding-bottom: 0.4em;background-color: white;}#sk-container-id-11 div.sk-label label {font-family: monospace;font-weight: bold;display: inline-block;line-height: 1.2em;}#sk-container-id-11 div.sk-label-container {text-align: center;}#sk-container-id-11 div.sk-container {/* jupyter's `normalize.less` sets `[hidden] { display: none; }` but bootstrap.min.css set `[hidden] { display: none !important; }` so we also need the `!important` here to be able to override the default hidden behavior on the sphinx rendered scikit-learn.org. See: https://github.com/scikit-learn/scikit-learn/issues/21755 */display: inline-block !important;position: relative;}#sk-container-id-11 div.sk-text-repr-fallback {display: none;}</style><div id=\"sk-container-id-11\" class=\"sk-top-container\"><div class=\"sk-text-repr-fallback\"><pre>LGBMClassifier(max_depth=8, min_data_in_leaf=75, num_leaves=60)</pre><b>In a Jupyter environment, please rerun this cell to show the HTML representation or trust the notebook. <br />On GitHub, the HTML representation is unable to render, please try loading this page with nbviewer.org.</b></div><div class=\"sk-container\" hidden><div class=\"sk-item\"><div class=\"sk-estimator sk-toggleable\"><input class=\"sk-toggleable__control sk-hidden--visually\" id=\"sk-estimator-id-41\" type=\"checkbox\" checked><label for=\"sk-estimator-id-41\" class=\"sk-toggleable__label sk-toggleable__label-arrow\">LGBMClassifier</label><div class=\"sk-toggleable__content\"><pre>LGBMClassifier(max_depth=8, min_data_in_leaf=75, num_leaves=60)</pre></div></div></div></div></div>"
            ]
          },
          "metadata": {},
          "execution_count": 127
        }
      ]
    },
    {
      "cell_type": "code",
      "source": [
        "#grupo de entrenamiento\n",
        "y_train_pred_lgbm = lgbm_best.predict(X_train_processed)\n",
        "#grupo de testeo\n",
        "y_test_pred_lgbm = lgbm_best.predict(X_test_processed)"
      ],
      "metadata": {
        "id": "dbXIP1bzK33X"
      },
      "execution_count": 131,
      "outputs": []
    },
    {
      "cell_type": "markdown",
      "source": [
        "## Evalúa el rendimiento del modelo con las métricas adecuados para el modelo"
      ],
      "metadata": {
        "id": "kB2cK6fgAZcP"
      }
    },
    {
      "cell_type": "code",
      "source": [
        "from sklearn.metrics import accuracy_score, precision_score, recall_score, classification_report, confusion_matrix,ConfusionMatrixDisplay"
      ],
      "metadata": {
        "id": "co36dPvHRNGc"
      },
      "execution_count": 114,
      "outputs": []
    },
    {
      "cell_type": "markdown",
      "source": [
        "### Random Forest"
      ],
      "metadata": {
        "id": "C---E0VPLOAJ"
      }
    },
    {
      "cell_type": "markdown",
      "source": [
        "En el Random Forest se puede ver que la precisión en el grupo de entrenamiento es muy buena, de hecho todas las métricas del reporte de clasificación son excelentes, sin embargo, con los datos de testeo todas las métricas, disminuyen notablemente, probablemente existe un sobreajuste. Es muy común obtener este tipo de resultados en estudios médicos con datos recolectados de manera rutinaria, más no datos médicos un poco más específicos, así como se puede ver en otros estudios [Neonatal mortality prediction with routinely collected data: a machine learning approach, Batista, André FM and Diniz]"
      ],
      "metadata": {
        "id": "jgJkRy9xh8gY"
      }
    },
    {
      "cell_type": "markdown",
      "source": [
        "* Grupo de entrenamiento"
      ],
      "metadata": {
        "id": "RWGWPVCOaj_d"
      }
    },
    {
      "cell_type": "code",
      "source": [
        "print(classification_report(y_train, y_train_pred_rf))"
      ],
      "metadata": {
        "colab": {
          "base_uri": "https://localhost:8080/"
        },
        "id": "UaFUs0fBZOH-",
        "outputId": "92be1f0c-b939-4c85-b4d3-277bb9bfd120"
      },
      "execution_count": 119,
      "outputs": [
        {
          "output_type": "stream",
          "name": "stdout",
          "text": [
            "              precision    recall  f1-score   support\n",
            "\n",
            "           0       0.97      0.95      0.96       978\n",
            "           1       0.99      0.97      0.98      3864\n",
            "           2       1.00      1.00      1.00   1006629\n",
            "\n",
            "    accuracy                           1.00   1011471\n",
            "   macro avg       0.99      0.97      0.98   1011471\n",
            "weighted avg       1.00      1.00      1.00   1011471\n",
            "\n"
          ]
        }
      ]
    },
    {
      "cell_type": "code",
      "source": [
        "cm_rf = confusion_matrix(y_train, y_train_pred_rf)\n",
        "disp = ConfusionMatrixDisplay(cm_rf)\n",
        "disp.plot();"
      ],
      "metadata": {
        "colab": {
          "base_uri": "https://localhost:8080/",
          "height": 465
        },
        "id": "vkW2YJaHSjRp",
        "outputId": "df9e0a8b-d3f6-4c97-d24e-11643b2662c4"
      },
      "execution_count": 120,
      "outputs": [
        {
          "output_type": "display_data",
          "data": {
            "text/plain": [
              "<Figure size 640x480 with 2 Axes>"
            ],
            "image/png": "[encoded data removed]"
          },
          "metadata": {}
        }
      ]
    },
    {
      "cell_type": "markdown",
      "source": [
        "* Grupo de testeo"
      ],
      "metadata": {
        "id": "8HfcUB6waofV"
      }
    },
    {
      "cell_type": "code",
      "source": [
        "print(classification_report(y_test, y_test_pred_rf))"
      ],
      "metadata": {
        "colab": {
          "base_uri": "https://localhost:8080/"
        },
        "id": "5MLdSysPaqZt",
        "outputId": "84d80ceb-befd-413d-a5ce-42314d53e93a"
      },
      "execution_count": 129,
      "outputs": [
        {
          "output_type": "stream",
          "name": "stdout",
          "text": [
            "              precision    recall  f1-score   support\n",
            "\n",
            "           0       0.46      0.30      0.36       230\n",
            "           1       0.75      0.47      0.57      1070\n",
            "           2       1.00      1.00      1.00    216041\n",
            "\n",
            "    accuracy                           1.00    217341\n",
            "   macro avg       0.73      0.59      0.65    217341\n",
            "weighted avg       1.00      1.00      1.00    217341\n",
            "\n"
          ]
        }
      ]
    },
    {
      "cell_type": "code",
      "source": [
        "cm_rf_test = confusion_matrix(y_test, y_test_pred_rf)\n",
        "disp = ConfusionMatrixDisplay(cm_rf_test)\n",
        "disp.plot();"
      ],
      "metadata": {
        "colab": {
          "base_uri": "https://localhost:8080/",
          "height": 449
        },
        "id": "YqRFsSmTauO1",
        "outputId": "ff2abb07-d3d0-441f-fb24-0fb43dc0ad57"
      },
      "execution_count": 130,
      "outputs": [
        {
          "output_type": "display_data",
          "data": {
            "text/plain": [
              "<Figure size 640x480 with 2 Axes>"
            ],
            "image/png": "[encoded data removed]"
          },
          "metadata": {}
        }
      ]
    },
    {
      "cell_type": "markdown",
      "source": [
        "### Extreme Gradient Boosting"
      ],
      "metadata": {
        "id": "ls7nSBjugixJ"
      }
    },
    {
      "cell_type": "markdown",
      "source": [
        "El modelo de Extreme Gradient Boosting es uno de los mejores en el caso de estudio de nacimientos y defunciones fetales [Application of machine learning in analysis of infant mortality and its factors, Singha, Aayush Kumar and Phukan]  [Neonatal mortality prediction with routinely collected data: a machine learning approach, Batista, André FM and Diniz]. Debido al tiempo que toma en ajustarse este modelo nada más hemos aplicado el modelo XGB con sus hiperparámetros por defecto, debemos afinar los hiperparámetros para tratar de obtener un mejor resultado."
      ],
      "metadata": {
        "id": "1D0VesZelo-_"
      }
    },
    {
      "cell_type": "markdown",
      "source": [
        "* Grupo de entrenamiento"
      ],
      "metadata": {
        "id": "KsymRWSJgpD5"
      }
    },
    {
      "cell_type": "code",
      "source": [
        "print(classification_report(y_train, y_train_pred_xgb))"
      ],
      "metadata": {
        "colab": {
          "base_uri": "https://localhost:8080/"
        },
        "id": "bGIa8WaCguAR",
        "outputId": "504b1eb1-c409-4b0c-cea1-ac9ef62849fd"
      },
      "execution_count": 139,
      "outputs": [
        {
          "output_type": "stream",
          "name": "stdout",
          "text": [
            "              precision    recall  f1-score   support\n",
            "\n",
            "           0       0.79      0.52      0.63       978\n",
            "           1       0.82      0.59      0.69      3864\n",
            "           2       1.00      1.00      1.00   1006629\n",
            "\n",
            "    accuracy                           1.00   1011471\n",
            "   macro avg       0.87      0.70      0.77   1011471\n",
            "weighted avg       1.00      1.00      1.00   1011471\n",
            "\n"
          ]
        }
      ]
    },
    {
      "cell_type": "code",
      "source": [
        "cm_xgb_train = confusion_matrix(y_train, y_train_pred_xgb)\n",
        "disp = ConfusionMatrixDisplay(cm_xgb_train)\n",
        "disp.plot();"
      ],
      "metadata": {
        "colab": {
          "base_uri": "https://localhost:8080/",
          "height": 465
        },
        "id": "cOy8UBnwgxXy",
        "outputId": "b4cdd7a3-761a-4f8f-e6b5-30e2227bebe9"
      },
      "execution_count": 140,
      "outputs": [
        {
          "output_type": "display_data",
          "data": {
            "text/plain": [
              "<Figure size 640x480 with 2 Axes>"
            ],
            "image/png": "[encoded data removed]"
          },
          "metadata": {}
        }
      ]
    },
    {
      "cell_type": "markdown",
      "source": [
        "* Grupo de testeo"
      ],
      "metadata": {
        "id": "XfUua8b-gryh"
      }
    },
    {
      "cell_type": "code",
      "source": [
        "print(classification_report(y_test, y_test_pred_xgb))"
      ],
      "metadata": {
        "colab": {
          "base_uri": "https://localhost:8080/"
        },
        "id": "LZSXLPmcg_BJ",
        "outputId": "3a44d3a0-5a5f-497f-c34f-4fecf1069176"
      },
      "execution_count": 141,
      "outputs": [
        {
          "output_type": "stream",
          "name": "stdout",
          "text": [
            "              precision    recall  f1-score   support\n",
            "\n",
            "           0       0.49      0.36      0.42       230\n",
            "           1       0.77      0.53      0.63      1070\n",
            "           2       1.00      1.00      1.00    216041\n",
            "\n",
            "    accuracy                           1.00    217341\n",
            "   macro avg       0.75      0.63      0.68    217341\n",
            "weighted avg       1.00      1.00      1.00    217341\n",
            "\n"
          ]
        }
      ]
    },
    {
      "cell_type": "code",
      "source": [
        "cm_xgb_test = confusion_matrix(y_test, y_test_pred_xgb)\n",
        "disp = ConfusionMatrixDisplay(cm_xgb_test)\n",
        "disp.plot();"
      ],
      "metadata": {
        "colab": {
          "base_uri": "https://localhost:8080/",
          "height": 449
        },
        "id": "vlA8-gLzhCUA",
        "outputId": "e0d80fcd-60a3-482d-b041-0bed221bb90d"
      },
      "execution_count": 142,
      "outputs": [
        {
          "output_type": "display_data",
          "data": {
            "text/plain": [
              "<Figure size 640x480 with 2 Axes>"
            ],
            "image/png": "[encoded data removed]"
          },
          "metadata": {}
        }
      ]
    },
    {
      "cell_type": "markdown",
      "source": [
        "### LightGBM"
      ],
      "metadata": {
        "id": "UlzQkk0VbZrV"
      }
    },
    {
      "cell_type": "markdown",
      "source": [
        "El modelo LightGBM es ideal para grupo de datos que tienen una gran dimensión, este fue el modelo más rápido en ejecutarse. Sin embargo sus métrica indica una precisión, exhaustividad y f1-score muy bajas."
      ],
      "metadata": {
        "id": "Ax5mMUH_mlo2"
      }
    },
    {
      "cell_type": "markdown",
      "source": [
        "* Grupo de entrenamiento"
      ],
      "metadata": {
        "id": "QGVif-efbgqc"
      }
    },
    {
      "cell_type": "code",
      "source": [
        "print(classification_report(y_train, y_train_pred_lgbm))"
      ],
      "metadata": {
        "colab": {
          "base_uri": "https://localhost:8080/"
        },
        "id": "TOK9Ldh6bcpU",
        "outputId": "343c1845-844d-4b56-c0e0-c0b345afd861"
      },
      "execution_count": 133,
      "outputs": [
        {
          "output_type": "stream",
          "name": "stdout",
          "text": [
            "              precision    recall  f1-score   support\n",
            "\n",
            "           0       0.52      0.44      0.48       978\n",
            "           1       0.72      0.54      0.61      3864\n",
            "           2       1.00      1.00      1.00   1006629\n",
            "\n",
            "    accuracy                           1.00   1011471\n",
            "   macro avg       0.75      0.66      0.70   1011471\n",
            "weighted avg       1.00      1.00      1.00   1011471\n",
            "\n"
          ]
        }
      ]
    },
    {
      "cell_type": "code",
      "source": [
        "cm_lgbm_train = confusion_matrix(y_train, y_train_pred_lgbm)\n",
        "disp = ConfusionMatrixDisplay(cm_lgbm_train)\n",
        "disp.plot();"
      ],
      "metadata": {
        "colab": {
          "base_uri": "https://localhost:8080/",
          "height": 465
        },
        "id": "85vCjpImbyts",
        "outputId": "94ed185d-f478-4b6c-d224-dd721921594a"
      },
      "execution_count": 134,
      "outputs": [
        {
          "output_type": "display_data",
          "data": {
            "text/plain": [
              "<Figure size 640x480 with 2 Axes>"
            ],
            "image/png": "[encoded data removed]"
          },
          "metadata": {}
        }
      ]
    },
    {
      "cell_type": "markdown",
      "source": [
        "* Grupo de testeo"
      ],
      "metadata": {
        "id": "bhU8TNKObjas"
      }
    },
    {
      "cell_type": "code",
      "source": [
        "print(classification_report(y_test, y_test_pred_lgbm))"
      ],
      "metadata": {
        "colab": {
          "base_uri": "https://localhost:8080/"
        },
        "id": "21yHEdLdblAc",
        "outputId": "1746f930-9141-4f9d-e41b-221928a692e2"
      },
      "execution_count": 135,
      "outputs": [
        {
          "output_type": "stream",
          "name": "stdout",
          "text": [
            "              precision    recall  f1-score   support\n",
            "\n",
            "           0       0.32      0.37      0.34       230\n",
            "           1       0.69      0.48      0.56      1070\n",
            "           2       1.00      1.00      1.00    216041\n",
            "\n",
            "    accuracy                           1.00    217341\n",
            "   macro avg       0.67      0.61      0.64    217341\n",
            "weighted avg       1.00      1.00      1.00    217341\n",
            "\n"
          ]
        }
      ]
    },
    {
      "cell_type": "code",
      "source": [
        "cm_lgbm_test = confusion_matrix(y_test, y_test_pred_lgbm)\n",
        "disp = ConfusionMatrixDisplay(cm_lgbm_test)\n",
        "disp.plot();"
      ],
      "metadata": {
        "colab": {
          "base_uri": "https://localhost:8080/",
          "height": 449
        },
        "id": "a0vxynsbbzbL",
        "outputId": "e8038ff4-da1c-4031-9411-91a01bed9e17"
      },
      "execution_count": 136,
      "outputs": [
        {
          "output_type": "display_data",
          "data": {
            "text/plain": [
              "<Figure size 640x480 with 2 Axes>"
            ],
            "image/png": "[encoded data removed]"
          },
          "metadata": {}
        }
      ]
    },
    {
      "cell_type": "markdown",
      "source": [
        "## Elije tu modelo de “producción” y justifica esta decisión"
      ],
      "metadata": {
        "id": "OPlJTp6vAd4G"
      }
    },
    {
      "cell_type": "markdown",
      "source": [
        "* El mejor modelo que encontramos es el XGBoosting por las siguientes razones:\n",
        "1. A pesar de el tiempo que tomó en la ejecución el resultado de su exactitud fué el mejor.\n",
        "2. La métrica de exactitud, exhaustividad y f1-score son las más altas.\n",
        "3. En el problema, lo que nos interesa es identificar el número de estados 0 y 1, que representan a nacidos muertos y abortos. El modelo elegido justamente, es el que mejor predice estos grupos. A continuación se puede observar algunos resultados de las métricas que se compararon para su elección."
      ],
      "metadata": {
        "id": "zLHLhaJfTCFZ"
      }
    },
    {
      "cell_type": "markdown",
      "source": [
        "![Capture.PNG](data:image/png;base64,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)"
      ],
      "metadata": {
        "id": "LXAl7AM2oe21"
      }
    }
  ]
}