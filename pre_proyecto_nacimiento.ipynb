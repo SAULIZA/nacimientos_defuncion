{
  "nbformat": 4,
  "nbformat_minor": 0,
  "metadata": {
    "colab": {
      "provenance": [],
      "authorship_tag": "ABX9TyPaNQ2yIRq4YPbNqAGBifX0",
      "include_colab_link": true
    },
    "kernelspec": {
      "name": "python3",
      "display_name": "Python 3"
    },
    "language_info": {
      "name": "python"
    }
  },
  "cells": [
    {
      "cell_type": "markdown",
      "metadata": {
        "id": "view-in-github",
        "colab_type": "text"
      },
      "source": [
        "<a href=\"https://colab.research.google.com/github/SAULIZA/nacimientos_defuncion/blob/main/pre_proyecto_nacimiento.ipynb\" target=\"_parent\"><img src=\"https://colab.research.google.com/assets/colab-badge.svg\" alt=\"Open In Colab\"/></a>"
      ]
    },
    {
      "cell_type": "markdown",
      "source": [
        "#Nacimientos"
      ],
      "metadata": {
        "id": "JFhKFGlSVnSs"
      }
    },
    {
      "cell_type": "code",
      "execution_count": null,
      "metadata": {
        "colab": {
          "base_uri": "https://localhost:8080/"
        },
        "id": "NSM8uYqkUIe6",
        "outputId": "2ba93c2d-6f84-4347-8120-cc8f13287ae7"
      },
      "outputs": [
        {
          "output_type": "stream",
          "name": "stdout",
          "text": [
            "Mounted at /content/drive\n"
          ]
        }
      ],
      "source": [
        "from google.colab import drive\n",
        "drive.mount(\"/content/drive\")"
      ]
    },
    {
      "cell_type": "code",
      "source": [
        "!pip install pyreadstat"
      ],
      "metadata": {
        "colab": {
          "base_uri": "https://localhost:8080/"
        },
        "id": "hQjFqCGhURML",
        "outputId": "907c5f38-dddc-45d7-d5cd-fc2853412092"
      },
      "execution_count": null,
      "outputs": [
        {
          "output_type": "stream",
          "name": "stdout",
          "text": [
            "Looking in indexes: https://pypi.org/simple, https://us-python.pkg.dev/colab-wheels/public/simple/\n",
            "Collecting pyreadstat\n",
            "  Downloading pyreadstat-1.2.1-cp39-cp39-manylinux_2_17_x86_64.manylinux2014_x86_64.whl (2.7 MB)\n",
            "\u001b[2K     \u001b[90m━━━━━━━━━━━━━━━━━━━━━━━━━━━━━━━━━━━━━━━━\u001b[0m \u001b[32m2.7/2.7 MB\u001b[0m \u001b[31m41.5 MB/s\u001b[0m eta \u001b[36m0:00:00\u001b[0m\n",
            "\u001b[?25hRequirement already satisfied: pandas>=1.2.0 in /usr/local/lib/python3.9/dist-packages (from pyreadstat) (1.5.3)\n",
            "Requirement already satisfied: pytz>=2020.1 in /usr/local/lib/python3.9/dist-packages (from pandas>=1.2.0->pyreadstat) (2022.7.1)\n",
            "Requirement already satisfied: python-dateutil>=2.8.1 in /usr/local/lib/python3.9/dist-packages (from pandas>=1.2.0->pyreadstat) (2.8.2)\n",
            "Requirement already satisfied: numpy>=1.20.3 in /usr/local/lib/python3.9/dist-packages (from pandas>=1.2.0->pyreadstat) (1.22.4)\n",
            "Requirement already satisfied: six>=1.5 in /usr/local/lib/python3.9/dist-packages (from python-dateutil>=2.8.1->pandas>=1.2.0->pyreadstat) (1.16.0)\n",
            "Installing collected packages: pyreadstat\n",
            "Successfully installed pyreadstat-1.2.1\n"
          ]
        }
      ]
    },
    {
      "cell_type": "code",
      "source": [
        "import pandas as pd\n",
        "import numpy as np\n",
        "import pyreadstat "
      ],
      "metadata": {
        "id": "t0CdqVIuUWFz"
      },
      "execution_count": null,
      "outputs": []
    },
    {
      "cell_type": "markdown",
      "source": [
        "## Lectura de datos"
      ],
      "metadata": {
        "id": "3pgQLKZA_Lzi"
      }
    },
    {
      "cell_type": "code",
      "source": [
        "df1 = pd.read_csv(\"/content/drive/MyDrive/Codificación de Dojo/Proyecto2/nacimientos/Base_Nacimientos_2012.dat\",sep='\\t')"
      ],
      "metadata": {
        "id": "X2MTgeRWUbzL"
      },
      "execution_count": null,
      "outputs": []
    },
    {
      "cell_type": "code",
      "source": [
        "df1.duplicated().sum()"
      ],
      "metadata": {
        "colab": {
          "base_uri": "https://localhost:8080/"
        },
        "id": "QWRXj5VIGoWj",
        "outputId": "171af4e9-5a7e-4af1-910c-7920d387d330"
      },
      "execution_count": null,
      "outputs": [
        {
          "output_type": "execute_result",
          "data": {
            "text/plain": [
              "0"
            ]
          },
          "metadata": {},
          "execution_count": 5
        }
      ]
    },
    {
      "cell_type": "code",
      "source": [
        "df2, meta = pyreadstat.read_sav('/content/drive/MyDrive/Codificación de Dojo/Proyecto2/nacimientos/Base_Nacidos_Vivos_año_2013.sav')\n",
        "df2 = pd.DataFrame(df2)"
      ],
      "metadata": {
        "id": "Wpoq32EaVvth"
      },
      "execution_count": null,
      "outputs": []
    },
    {
      "cell_type": "code",
      "source": [
        "df2.duplicated().sum()"
      ],
      "metadata": {
        "colab": {
          "base_uri": "https://localhost:8080/"
        },
        "id": "ETI2D5pkHqoT",
        "outputId": "8e1dedda-eb90-49e7-85c2-72add4e8f8bd"
      },
      "execution_count": null,
      "outputs": [
        {
          "output_type": "execute_result",
          "data": {
            "text/plain": [
              "0"
            ]
          },
          "metadata": {},
          "execution_count": 7
        }
      ]
    },
    {
      "cell_type": "code",
      "source": [
        "df3, meta = pyreadstat.read_sav('/content/drive/MyDrive/Codificación de Dojo/Proyecto2/nacimientos/ENV_2014.sav')\n",
        "df3 = pd.DataFrame(df3)"
      ],
      "metadata": {
        "id": "raavoTLlV3Bq"
      },
      "execution_count": null,
      "outputs": []
    },
    {
      "cell_type": "code",
      "source": [
        "df3.duplicated().sum()"
      ],
      "metadata": {
        "colab": {
          "base_uri": "https://localhost:8080/"
        },
        "id": "GhQWvmaoH3tz",
        "outputId": "76d55b1c-9006-40ac-dcfe-ff9dec97840e"
      },
      "execution_count": null,
      "outputs": [
        {
          "output_type": "execute_result",
          "data": {
            "text/plain": [
              "168"
            ]
          },
          "metadata": {},
          "execution_count": 9
        }
      ]
    },
    {
      "cell_type": "code",
      "source": [
        "df3 = df3.drop_duplicates()"
      ],
      "metadata": {
        "id": "UUlKCAF2H60T"
      },
      "execution_count": null,
      "outputs": []
    },
    {
      "cell_type": "code",
      "source": [
        "df4, meta = pyreadstat.read_sav('/content/drive/MyDrive/Codificación de Dojo/Proyecto2/nacimientos/ENV_2015.sav')\n",
        "df4 = pd.DataFrame(df4)"
      ],
      "metadata": {
        "id": "6SvwplxeV9wC"
      },
      "execution_count": null,
      "outputs": []
    },
    {
      "cell_type": "code",
      "source": [
        "df4.duplicated().sum()"
      ],
      "metadata": {
        "colab": {
          "base_uri": "https://localhost:8080/"
        },
        "id": "LqmJQyT-ICjT",
        "outputId": "f5af6853-2dbb-48d6-d619-2d031a5b3c46"
      },
      "execution_count": null,
      "outputs": [
        {
          "output_type": "execute_result",
          "data": {
            "text/plain": [
              "347"
            ]
          },
          "metadata": {},
          "execution_count": 12
        }
      ]
    },
    {
      "cell_type": "code",
      "source": [
        "df4 = df4.drop_duplicates()"
      ],
      "metadata": {
        "id": "eLmNPTEHIE9i"
      },
      "execution_count": null,
      "outputs": []
    },
    {
      "cell_type": "code",
      "source": [
        "df5 = pd.read_csv(\"/content/drive/MyDrive/Codificación de Dojo/Proyecto2/nacimientos/ENV_2016.csv\", encoding='ISO-8859-1')"
      ],
      "metadata": {
        "id": "ehc7DZoDWEKr",
        "colab": {
          "base_uri": "https://localhost:8080/"
        },
        "outputId": "96c7b211-50f8-4c48-8d00-c95f2942655d"
      },
      "execution_count": null,
      "outputs": [
        {
          "output_type": "stream",
          "name": "stderr",
          "text": [
            "<ipython-input-14-adbe837b2ca4>:1: DtypeWarning: Columns (1,2,3,5,12,13,14,16,17,27,29,31,32,36,37) have mixed types. Specify dtype option on import or set low_memory=False.\n",
            "  df5 = pd.read_csv(\"/content/drive/MyDrive/Codificación de Dojo/Proyecto2/nacimientos/ENV_2016.csv\", encoding='ISO-8859-1')\n"
          ]
        }
      ]
    },
    {
      "cell_type": "code",
      "source": [
        "df5.duplicated().sum()"
      ],
      "metadata": {
        "colab": {
          "base_uri": "https://localhost:8080/"
        },
        "id": "vtFjUi0jIIY6",
        "outputId": "951f8f90-298b-4f34-9762-9f0eea751bcc"
      },
      "execution_count": null,
      "outputs": [
        {
          "output_type": "execute_result",
          "data": {
            "text/plain": [
              "34"
            ]
          },
          "metadata": {},
          "execution_count": 15
        }
      ]
    },
    {
      "cell_type": "code",
      "source": [
        "df5 = df5.drop_duplicates()"
      ],
      "metadata": {
        "id": "5o_Qk2ioINzy"
      },
      "execution_count": null,
      "outputs": []
    },
    {
      "cell_type": "code",
      "source": [
        "df6 = pd.read_csv(\"/content/drive/MyDrive/Codificación de Dojo/Proyecto2/nacimientos/ENV_2017.csv\", encoding='ISO-8859-1')"
      ],
      "metadata": {
        "id": "Mtoe3OnJXIHz",
        "colab": {
          "base_uri": "https://localhost:8080/"
        },
        "outputId": "222d5b28-41c7-426d-d621-208b96be7083"
      },
      "execution_count": null,
      "outputs": [
        {
          "output_type": "stream",
          "name": "stderr",
          "text": [
            "<ipython-input-17-b9f882f394a4>:1: DtypeWarning: Columns (3,5,12,13,14,16,17,27,29,31,32,36,37) have mixed types. Specify dtype option on import or set low_memory=False.\n",
            "  df6 = pd.read_csv(\"/content/drive/MyDrive/Codificación de Dojo/Proyecto2/nacimientos/ENV_2017.csv\", encoding='ISO-8859-1')\n"
          ]
        }
      ]
    },
    {
      "cell_type": "code",
      "source": [
        "df6.duplicated().sum()"
      ],
      "metadata": {
        "colab": {
          "base_uri": "https://localhost:8080/"
        },
        "id": "QesJgR5hISgD",
        "outputId": "a6b2586b-f9b8-4dc6-a505-081e32a6a753"
      },
      "execution_count": null,
      "outputs": [
        {
          "output_type": "execute_result",
          "data": {
            "text/plain": [
              "60"
            ]
          },
          "metadata": {},
          "execution_count": 18
        }
      ]
    },
    {
      "cell_type": "code",
      "source": [
        "df6 = df6.drop_duplicates()"
      ],
      "metadata": {
        "id": "ITxBEoEPIUxz"
      },
      "execution_count": null,
      "outputs": []
    },
    {
      "cell_type": "code",
      "source": [
        "df7 = pd.read_excel(\"/content/drive/MyDrive/Codificación de Dojo/Proyecto2/nacimientos/2018.xlsx\")"
      ],
      "metadata": {
        "id": "Xxo72zSeXuOz"
      },
      "execution_count": null,
      "outputs": []
    },
    {
      "cell_type": "code",
      "source": [
        "df7.duplicated().sum()"
      ],
      "metadata": {
        "colab": {
          "base_uri": "https://localhost:8080/"
        },
        "id": "qn7dtVZzIY86",
        "outputId": "dce4a2fa-af6f-4853-c0a6-b2784629b48f"
      },
      "execution_count": null,
      "outputs": [
        {
          "output_type": "execute_result",
          "data": {
            "text/plain": [
              "51"
            ]
          },
          "metadata": {},
          "execution_count": 21
        }
      ]
    },
    {
      "cell_type": "code",
      "source": [
        "df7 = df7.drop_duplicates()"
      ],
      "metadata": {
        "id": "bs7TzLUCIbez"
      },
      "execution_count": null,
      "outputs": []
    },
    {
      "cell_type": "code",
      "source": [
        "df8 = pd.read_excel(\"/content/drive/MyDrive/Codificación de Dojo/Proyecto2/nacimientos/2019.xlsx\")"
      ],
      "metadata": {
        "id": "g5qVC4kMYzhK"
      },
      "execution_count": null,
      "outputs": []
    },
    {
      "cell_type": "code",
      "source": [
        "df8.duplicated().sum()"
      ],
      "metadata": {
        "colab": {
          "base_uri": "https://localhost:8080/"
        },
        "id": "BCUK0DS5IfP7",
        "outputId": "fe9f9b31-ffc2-4b94-c715-bf653af7ca95"
      },
      "execution_count": null,
      "outputs": [
        {
          "output_type": "execute_result",
          "data": {
            "text/plain": [
              "92"
            ]
          },
          "metadata": {},
          "execution_count": 24
        }
      ]
    },
    {
      "cell_type": "code",
      "source": [
        "df8 = df8.drop_duplicates()"
      ],
      "metadata": {
        "id": "M7y1zuZjIiFj"
      },
      "execution_count": null,
      "outputs": []
    },
    {
      "cell_type": "code",
      "source": [
        "df9 = pd.read_excel(\"/content/drive/MyDrive/Codificación de Dojo/Proyecto2/nacimientos/2020.xlsx\")"
      ],
      "metadata": {
        "id": "_DQTV7Ipcp4p"
      },
      "execution_count": null,
      "outputs": []
    },
    {
      "cell_type": "code",
      "source": [
        "df9.duplicated().sum()"
      ],
      "metadata": {
        "colab": {
          "base_uri": "https://localhost:8080/"
        },
        "id": "HdptuLgBIk1L",
        "outputId": "3be51e4b-645d-40c8-ae68-7c3ed48f0f71"
      },
      "execution_count": null,
      "outputs": [
        {
          "output_type": "execute_result",
          "data": {
            "text/plain": [
              "53"
            ]
          },
          "metadata": {},
          "execution_count": 27
        }
      ]
    },
    {
      "cell_type": "code",
      "source": [
        "df9 = df9.drop_duplicates()"
      ],
      "metadata": {
        "id": "L9dfuXKrInn7"
      },
      "execution_count": null,
      "outputs": []
    },
    {
      "cell_type": "code",
      "source": [
        "df10 = pd.read_excel(\"/content/drive/MyDrive/Codificación de Dojo/Proyecto2/nacimientos/2021.xlsx\")"
      ],
      "metadata": {
        "id": "vuKfSSA0wgER"
      },
      "execution_count": null,
      "outputs": []
    },
    {
      "cell_type": "code",
      "source": [
        "df10.duplicated().sum()"
      ],
      "metadata": {
        "colab": {
          "base_uri": "https://localhost:8080/"
        },
        "id": "SsvPoII8Iqvj",
        "outputId": "98790065-af8f-4501-f539-ca035716c059"
      },
      "execution_count": null,
      "outputs": [
        {
          "output_type": "execute_result",
          "data": {
            "text/plain": [
              "34"
            ]
          },
          "metadata": {},
          "execution_count": 30
        }
      ]
    },
    {
      "cell_type": "code",
      "source": [
        "df10 = df10.drop_duplicates()"
      ],
      "metadata": {
        "id": "gmjRYfl_ItnT"
      },
      "execution_count": null,
      "outputs": []
    },
    {
      "cell_type": "code",
      "source": [
        "pd.set_option('display.max_columns', None)"
      ],
      "metadata": {
        "id": "Yxq5anv89gm7"
      },
      "execution_count": null,
      "outputs": []
    },
    {
      "cell_type": "markdown",
      "source": [
        "## Selección de columnas"
      ],
      "metadata": {
        "id": "bTxbtmgg_Qmq"
      }
    },
    {
      "cell_type": "code",
      "source": [
        "names1 = ['prov_insc', 'cant_insc', 'parr_insc', 'anio_insc',\n",
        "       'mes_insc', 'sexo', 'talla', 'peso', 'sem_gest',\n",
        "       'tipo_part', 'anio_nac', 'mes_nac', 'p_emb', 'lugar_ocur', 'prov_nac',\n",
        "       'cant_nac', 'parr_nac', 'asis_por', 'area_nac', 'edad_mad',\n",
        "       'con_pren', 'hij_vivos', 'hij_vivm', 'hij_nacm', 'p_etnica',\n",
        "       'est_civil', 'sabe_leer', 'niv_inst', 'prov_res', 'cant_res',\n",
        "       'parr_res', 'area_res']\n",
        "df1 = df1.loc[:, names1]"
      ],
      "metadata": {
        "id": "QUhFfPAa7gXd"
      },
      "execution_count": null,
      "outputs": []
    },
    {
      "cell_type": "code",
      "source": [
        "df1.shape"
      ],
      "metadata": {
        "colab": {
          "base_uri": "https://localhost:8080/"
        },
        "id": "11KMFKq3DgKf",
        "outputId": "096ecc00-97be-40ac-c766-e37b56b884e2"
      },
      "execution_count": null,
      "outputs": [
        {
          "output_type": "execute_result",
          "data": {
            "text/plain": [
              "(345151, 32)"
            ]
          },
          "metadata": {},
          "execution_count": 34
        }
      ]
    },
    {
      "cell_type": "code",
      "source": [
        "names2 = ['prov_insc', 'cant_insc', 'parr_insc', 'anio_insc',\n",
        "       'mes_insc', 'sexo', 'talla',\n",
        "       'peso', 'sem_gest', 'tipo_part', 'anio_nac', 'mes_nac',\n",
        "       'p_emb', 'lugar_ocur', 'prov_nac', 'cant_nac',\n",
        "       'parr_nac', 'asis_por', 'area_nac',\n",
        "       'edad_mad', 'con_pren', \n",
        "       'hij_viv', 'hij_vivm', 'hij_nacm', 'etnia', 'est_civil', 'sabe_leer',\n",
        "       'niv_inst', 'prov_res', 'cant_res', 'parr_res', 'area_res']\n",
        "df2 = df2.loc[:, names2]"
      ],
      "metadata": {
        "id": "Et9HBWMb_k8B"
      },
      "execution_count": null,
      "outputs": []
    },
    {
      "cell_type": "code",
      "source": [
        "df3 = df3.loc[:, names2]"
      ],
      "metadata": {
        "id": "FDq3py9jAlLp"
      },
      "execution_count": null,
      "outputs": []
    },
    {
      "cell_type": "code",
      "source": [
        "df4 = df4.loc[:, names2]"
      ],
      "metadata": {
        "id": "8NjMwjadAudA"
      },
      "execution_count": null,
      "outputs": []
    },
    {
      "cell_type": "code",
      "source": [
        "df5 = df5.loc[:, names2]"
      ],
      "metadata": {
        "id": "9cYCuuhhA2dw"
      },
      "execution_count": null,
      "outputs": []
    },
    {
      "cell_type": "code",
      "source": [
        "df6 = df6.loc[:, names2]"
      ],
      "metadata": {
        "id": "nKQrnJBjA6zI"
      },
      "execution_count": null,
      "outputs": []
    },
    {
      "cell_type": "code",
      "source": [
        "df7 = df7.loc[:, names2]"
      ],
      "metadata": {
        "id": "O2og0GN6A-7g"
      },
      "execution_count": null,
      "outputs": []
    },
    {
      "cell_type": "code",
      "source": [
        "df8 = df8.loc[:, names2]"
      ],
      "metadata": {
        "id": "7fE85K8-BCrQ"
      },
      "execution_count": null,
      "outputs": []
    },
    {
      "cell_type": "code",
      "source": [
        "df9 = df9.loc[:, names2]"
      ],
      "metadata": {
        "id": "NrNjTY6aBHT4"
      },
      "execution_count": null,
      "outputs": []
    },
    {
      "cell_type": "code",
      "source": [
        "df10 = df10.loc[:, names2]"
      ],
      "metadata": {
        "id": "JDhyhlsbBOI4"
      },
      "execution_count": null,
      "outputs": []
    },
    {
      "cell_type": "code",
      "source": [
        "df10.columns"
      ],
      "metadata": {
        "colab": {
          "base_uri": "https://localhost:8080/"
        },
        "id": "B6FACoBLF1ue",
        "outputId": "680cacb4-25e1-4727-f626-30022af79590"
      },
      "execution_count": null,
      "outputs": [
        {
          "output_type": "execute_result",
          "data": {
            "text/plain": [
              "Index(['prov_insc', 'cant_insc', 'parr_insc', 'anio_insc', 'mes_insc', 'sexo',\n",
              "       'talla', 'peso', 'sem_gest', 'tipo_part', 'anio_nac', 'mes_nac',\n",
              "       'p_emb', 'lugar_ocur', 'prov_nac', 'cant_nac', 'parr_nac', 'asis_por',\n",
              "       'area_nac', 'edad_mad', 'con_pren', 'hij_viv', 'hij_vivm', 'hij_nacm',\n",
              "       'etnia', 'est_civil', 'sabe_leer', 'niv_inst', 'prov_res', 'cant_res',\n",
              "       'parr_res', 'area_res'],\n",
              "      dtype='object')"
            ]
          },
          "metadata": {},
          "execution_count": 44
        }
      ]
    },
    {
      "cell_type": "markdown",
      "source": [
        "## Corrección de nombre de columnas"
      ],
      "metadata": {
        "id": "IUbJ01NRBy6f"
      }
    },
    {
      "cell_type": "code",
      "source": [
        "df1 = df1.rename(columns={\"hij_vivos\":\"hij_viv\",\"p_etnica\":\"etnia\",})"
      ],
      "metadata": {
        "id": "wSJh4dQZB29g"
      },
      "execution_count": null,
      "outputs": []
    },
    {
      "cell_type": "markdown",
      "source": [
        "## Decodificación de datos de los años 2011 hasta 2014"
      ],
      "metadata": {
        "id": "fpTptFncTMAj"
      }
    },
    {
      "cell_type": "code",
      "source": [
        "#concatenación de datos del año 2012 hasta 2015\n",
        "df_nac1 = pd.concat([df1, df2, df3, df4])"
      ],
      "metadata": {
        "id": "hisptjPRD6CH"
      },
      "execution_count": null,
      "outputs": []
    },
    {
      "cell_type": "code",
      "source": [
        "df_nac1.isna().sum()"
      ],
      "metadata": {
        "colab": {
          "base_uri": "https://localhost:8080/"
        },
        "id": "DkQYxXHiFkrO",
        "outputId": "3a6fca23-78da-4cbd-8103-6aab6a1cf394"
      },
      "execution_count": null,
      "outputs": [
        {
          "output_type": "execute_result",
          "data": {
            "text/plain": [
              "prov_insc         0\n",
              "cant_insc         0\n",
              "parr_insc         0\n",
              "anio_insc         0\n",
              "mes_insc          0\n",
              "sexo              0\n",
              "talla         32437\n",
              "peso          32437\n",
              "sem_gest      32437\n",
              "tipo_part     32437\n",
              "anio_nac          0\n",
              "mes_nac           0\n",
              "p_emb         74122\n",
              "lugar_ocur    74122\n",
              "prov_nac          0\n",
              "cant_nac          0\n",
              "parr_nac          0\n",
              "asis_por      74122\n",
              "area_nac      74122\n",
              "edad_mad      74122\n",
              "con_pren      74122\n",
              "hij_viv       74122\n",
              "hij_vivm      74122\n",
              "hij_nacm      74122\n",
              "etnia         74122\n",
              "est_civil     74122\n",
              "sabe_leer     74122\n",
              "niv_inst      77897\n",
              "prov_res          0\n",
              "cant_res          0\n",
              "parr_res          0\n",
              "area_res          0\n",
              "dtype: int64"
            ]
          },
          "metadata": {},
          "execution_count": 47
        }
      ]
    },
    {
      "cell_type": "code",
      "source": [
        "df_nac1[\"prov_nac\"].value_counts().head()"
      ],
      "metadata": {
        "colab": {
          "base_uri": "https://localhost:8080/"
        },
        "id": "AQIpdlCfGus1",
        "outputId": "a38b0ff3-cb93-4479-c710-8de4b89b7adf"
      },
      "execution_count": null,
      "outputs": [
        {
          "output_type": "execute_result",
          "data": {
            "text/plain": [
              "09    240703\n",
              "17    153759\n",
              "       74122\n",
              "9      73961\n",
              "13     73496\n",
              "Name: prov_nac, dtype: int64"
            ]
          },
          "metadata": {},
          "execution_count": 48
        }
      ]
    },
    {
      "cell_type": "code",
      "source": [
        "df_nac1[\"prov_nac\"] = df_nac1[\"prov_nac\"].replace(\"\",0)\n",
        "df_nac1[\"cant_nac\"] = df_nac1[\"cant_nac\"].replace(\"\",0)\n",
        "df_nac1[\"parr_nac\"] = df_nac1[\"parr_nac\"].replace(\"\",0)"
      ],
      "metadata": {
        "id": "8SNHhAJnHuXF"
      },
      "execution_count": null,
      "outputs": []
    },
    {
      "cell_type": "code",
      "source": [
        "#cambiar todos el data frame a float\n",
        "df_nac1[\"prov_insc\"] = df_nac1[\"prov_insc\"].astype(int)\n",
        "df_nac1[\"prov_nac\"] = df_nac1[\"prov_nac\"].astype(int)\n",
        "df_nac1[\"prov_res\"] = df_nac1[\"prov_res\"].astype(int)\n",
        "df_nac1[\"cant_insc\"] = df_nac1[\"cant_insc\"].astype(int)\n",
        "df_nac1[\"cant_nac\"] = df_nac1[\"cant_nac\"].astype(int)\n",
        "df_nac1[\"cant_res\"] = df_nac1[\"cant_res\"].astype(int)\n",
        "df_nac1[\"parr_insc\"] = df_nac1[\"parr_insc\"].astype(int)\n",
        "df_nac1[\"parr_nac\"] = df_nac1[\"parr_nac\"].astype(int)\n",
        "df_nac1[\"parr_res\"] = df_nac1[\"parr_res\"].astype(int)"
      ],
      "metadata": {
        "id": "Btu6LyDigft7"
      },
      "execution_count": null,
      "outputs": []
    },
    {
      "cell_type": "code",
      "source": [
        "provi = pd.read_excel(\"/content/drive/MyDrive/Codificación de Dojo/Proyecto2/provincia.xlsx\", index_col=False)\n",
        "provi = provi.set_index(\"codigo\")\n",
        "dicc_prov = provi.to_dict()['provincia']"
      ],
      "metadata": {
        "id": "ZyWt4_P4Ejgn"
      },
      "execution_count": null,
      "outputs": []
    },
    {
      "cell_type": "code",
      "source": [
        "canto = pd.read_excel(\"/content/drive/MyDrive/Codificación de Dojo/Proyecto2/canton.xlsx\")\n",
        "canto = canto.set_index(\"codigo\")\n",
        "dicc_canto = canto.to_dict()['canton']"
      ],
      "metadata": {
        "id": "7eitSFt_UG2a"
      },
      "execution_count": null,
      "outputs": []
    },
    {
      "cell_type": "code",
      "source": [
        "parro = pd.read_excel(\"/content/drive/MyDrive/Codificación de Dojo/Proyecto2/parroquia.xlsx\")\n",
        "parro = parro.set_index(\"codigo\")\n",
        "dicc_parro = parro.to_dict()['parroquia']"
      ],
      "metadata": {
        "id": "6ovkQmNFUJq6"
      },
      "execution_count": null,
      "outputs": []
    },
    {
      "cell_type": "markdown",
      "source": [
        "Provincia, canton  y parroquia"
      ],
      "metadata": {
        "id": "LnISnsvrVbkK"
      }
    },
    {
      "cell_type": "code",
      "source": [
        "df_nac1[\"prov_insc\"] = df_nac1[\"prov_insc\"].replace(dicc_prov)\n",
        "df_nac1[\"prov_nac\"] = df_nac1[\"prov_nac\"].replace(dicc_prov)\n",
        "df_nac1[\"prov_res\"] = df_nac1[\"prov_res\"].replace(dicc_prov)"
      ],
      "metadata": {
        "id": "t_nMJI4lUe2C"
      },
      "execution_count": null,
      "outputs": []
    },
    {
      "cell_type": "code",
      "source": [
        "df_nac1[\"cant_insc\"] = df_nac1[\"cant_insc\"].replace(dicc_canto)\n",
        "df_nac1[\"cant_nac\"] = df_nac1[\"cant_nac\"].replace(dicc_canto)\n",
        "df_nac1[\"cant_res\"] = df_nac1[\"cant_res\"].replace(dicc_canto)"
      ],
      "metadata": {
        "id": "dGclcRvUU126"
      },
      "execution_count": null,
      "outputs": []
    },
    {
      "cell_type": "code",
      "source": [
        "df_nac1[\"parr_insc\"] = df_nac1[\"parr_insc\"].replace(dicc_parro)\n",
        "df_nac1[\"parr_nac\"] = df_nac1[\"parr_nac\"].replace(dicc_parro)\n",
        "df_nac1[\"parr_res\"] = df_nac1[\"parr_res\"].replace(dicc_parro)"
      ],
      "metadata": {
        "id": "d0UI4E2iVF4h"
      },
      "execution_count": null,
      "outputs": []
    },
    {
      "cell_type": "markdown",
      "source": [
        "Sexo y mes"
      ],
      "metadata": {
        "id": "n37CEiMRVgJR"
      }
    },
    {
      "cell_type": "code",
      "source": [
        "df_nac1[\"sexo\"] = df_nac1[\"sexo\"].replace({1:\"Hombre\",2:\"Mujer\"})\n",
        "meses = {1:\"Enero\",2:\"Febrero\",3:\"Marzo\",4:\"Abril\",5:\"Mayo\",6:\"Junio\",7:\"Julio\",8:\"Agosto\",9:\"Septiembre\",10:\"Octubre\",11:\"Noviembre\",12:\"Diciembre\"}\n",
        "df_nac1[\"mes_insc\"] = df_nac1[\"mes_insc\"].replace(meses)\n",
        "df_nac1[\"mes_nac\"] = df_nac1[\"mes_nac\"].replace(meses)"
      ],
      "metadata": {
        "id": "Ey0JO1CNVfRB"
      },
      "execution_count": null,
      "outputs": []
    },
    {
      "cell_type": "markdown",
      "source": [
        "Reemplazo de asistido por, producto de embarazo y lugar de ocurrencia"
      ],
      "metadata": {
        "id": "4pDsv_FsWYZ_"
      }
    },
    {
      "cell_type": "code",
      "source": [
        "asistencia = {1:\"Medico\",2:\"Obstetra\",3:\"Enfermero_a\",4:\"Auxiliar_enfermeria\",5:\"Partero_a_calificad\",6:\"Partero_a_no_calificado\",7:\"Otro\",9:\"Ignorado\"}\n",
        "df_nac1[\"asis_por\"] = df_nac1[\"asis_por\"].replace(asistencia)"
      ],
      "metadata": {
        "id": "ottUy2o0WcLo"
      },
      "execution_count": null,
      "outputs": []
    },
    {
      "cell_type": "code",
      "source": [
        "prod_embar = {1:\"Simple\", 2:\"Doble\",3:\"Triple\",4:\"Cuadruple_o_mas\"}\n",
        "df_nac1[\"p_emb\"] = df_nac1[\"p_emb\"].replace(prod_embar)"
      ],
      "metadata": {
        "id": "BylDq0R0WnRJ"
      },
      "execution_count": null,
      "outputs": []
    },
    {
      "cell_type": "code",
      "source": [
        "lug_oc = {1:\"Establecimiento_ministerio_de_salud\",2:\"Establecimiento_IESS\",3:\"Establecimiento_junta_beneficiaria\",4:\"Otro_establecimiento_publico\",5:\"Hospital_clinica_consultorio_privado\",6:\"Casa\",7:\"Otro\"}\n",
        "df_nac1[\"lugar_ocur\"] = df_nac1[\"lugar_ocur\"].replace(lug_oc)"
      ],
      "metadata": {
        "id": "XlPxdsZ4Wshh"
      },
      "execution_count": null,
      "outputs": []
    },
    {
      "cell_type": "markdown",
      "source": [
        "Reemplazo de area de residencia y fallecimiento, etnia, estado civil, sabe leer y nivel de instrucción"
      ],
      "metadata": {
        "id": "y2Fk54AIWzBR"
      }
    },
    {
      "cell_type": "code",
      "source": [
        "df_nac1[\"area_res\"] = df_nac1[\"area_res\"].replace({1:\"Urbana\",2:\"Rural\"})"
      ],
      "metadata": {
        "id": "G4FCMMCeWz9g"
      },
      "execution_count": null,
      "outputs": []
    },
    {
      "cell_type": "code",
      "source": [
        "df_nac1[\"area_nac\"] = df_nac1[\"area_nac\"].replace({1:\"Urbana\",2:\"Rural\"})"
      ],
      "metadata": {
        "id": "RTJpjw4UXps4"
      },
      "execution_count": null,
      "outputs": []
    },
    {
      "cell_type": "code",
      "source": [
        "df_nac1[\"etnia\"] = df_nac1[\"etnia\"].replace({1:\"Indigena\",2:\"Afro_ecuatoriana\",3:\"Negra\",4:\"Mulata\",5:\"Montubia\",6:\"Mestiza\",7:\"Blanca\",8:\"Otra\",9:\"Ignorado\"})"
      ],
      "metadata": {
        "id": "__-kn68UW4fg"
      },
      "execution_count": null,
      "outputs": []
    },
    {
      "cell_type": "code",
      "source": [
        "df_nac1[\"est_civil\"] = df_nac1[\"est_civil\"].replace({1:\"Unida\",2:\"Soltera\",3:\"Casada\",4:\"Divorciada\",5:\"Separada\",6:\"Viuda\",9:\"Se ignora\"})"
      ],
      "metadata": {
        "id": "Yv5JtDyuXIUp"
      },
      "execution_count": null,
      "outputs": []
    },
    {
      "cell_type": "code",
      "source": [
        "df_nac1[\"sabe_leer\"] = df_nac1[\"sabe_leer\"].replace({1:\"Si\",2:\"No\",9:\"Ignorado\"})"
      ],
      "metadata": {
        "id": "dPGcLUf-XQ1R"
      },
      "execution_count": null,
      "outputs": []
    },
    {
      "cell_type": "code",
      "source": [
        "df_nac1[\"niv_inst\"] = df_nac1[\"niv_inst\"].replace({0:\"Ninguno\",1:\"Centro_de_alfabetizacion\",2:\"Primaria\",3:\"Secundaria\",4:\"Educacion_basica\",5:\"Educacion_media\",6:\"Ciclo_post_bachillerato\",7:\"Superior\",8:\"Postgrado\",9:\"Se_ignora\"})"
      ],
      "metadata": {
        "id": "ysQj1GW-XVjw"
      },
      "execution_count": null,
      "outputs": []
    },
    {
      "cell_type": "markdown",
      "source": [
        "Reemplazo de tipo de parto"
      ],
      "metadata": {
        "id": "65UB2lvuKgnj"
      }
    },
    {
      "cell_type": "code",
      "source": [
        "df_nac1[\"tipo_part\"] = df_nac1[\"tipo_part\"].replace({1:\"Normal\",2:\"Cesarea\",9:\"Ignorado\"})"
      ],
      "metadata": {
        "id": "fhfaF0c1KkAz"
      },
      "execution_count": null,
      "outputs": []
    },
    {
      "cell_type": "code",
      "source": [
        "df_nac1.head()"
      ],
      "metadata": {
        "colab": {
          "base_uri": "https://localhost:8080/",
          "height": 270
        },
        "id": "6irSWUj0KLqL",
        "outputId": "92c2280a-4906-4401-9762-ecff6a481cc0"
      },
      "execution_count": null,
      "outputs": [
        {
          "output_type": "execute_result",
          "data": {
            "text/plain": [
              "  prov_insc cant_insc parr_insc  anio_insc mes_insc    sexo  talla    peso  \\\n",
              "0    Azuay    Cuenca    Cuenca      2012.0    Enero   Mujer   49.0  2900.0   \n",
              "1    Azuay    Cuenca    Cuenca      2012.0    Enero  Hombre   51.0  3100.0   \n",
              "2    Azuay    Cuenca    Cuenca      2012.0    Enero   Mujer   40.0  1300.0   \n",
              "3    Azuay    Cuenca    Cuenca      2012.0    Enero  Hombre   50.0  3100.0   \n",
              "4    Azuay    Cuenca    Cuenca      2012.0    Enero   Mujer   44.0  3200.0   \n",
              "\n",
              "   sem_gest tipo_part  anio_nac     mes_nac   p_emb  \\\n",
              "0      99.0    Normal    2011.0     Octubre  Simple   \n",
              "1      39.0    Normal    2011.0       Marzo  Simple   \n",
              "2      33.0   Cesarea    2011.0   Diciembre  Simple   \n",
              "3      40.0   Cesarea    2011.0  Septiembre  Simple   \n",
              "4      99.0   Cesarea    2011.0     Octubre  Simple   \n",
              "\n",
              "                            lugar_ocur prov_nac cant_nac parr_nac asis_por  \\\n",
              "0  Establecimiento_ministerio_de_salud   Azuay   Cuenca   Cuenca    Medico   \n",
              "1  Establecimiento_ministerio_de_salud   Azuay   Cuenca   Cuenca    Medico   \n",
              "2         Otro_establecimiento_publico   Azuay   Cuenca   Cuenca    Medico   \n",
              "3  Establecimiento_ministerio_de_salud   Azuay   Cuenca   Cuenca    Medico   \n",
              "4  Establecimiento_ministerio_de_salud   Azuay   Cuenca   Cuenca    Medico   \n",
              "\n",
              "  area_nac  edad_mad  con_pren  hij_viv  hij_vivm  hij_nacm    etnia  \\\n",
              "0   Urbana      30.0      99.0      2.0      99.0      99.0  Mestiza   \n",
              "1   Urbana      19.0      99.0      2.0      99.0      99.0  Mestiza   \n",
              "2   Urbana      33.0      99.0      1.0      99.0      99.0  Mestiza   \n",
              "3   Urbana      31.0      99.0      6.0      99.0      99.0  Mestiza   \n",
              "4   Urbana      19.0      99.0      2.0      99.0       1.0  Mestiza   \n",
              "\n",
              "  est_civil sabe_leer    niv_inst prov_res cant_res parr_res area_res  \n",
              "0   Soltera        Si    Primaria   Azuay   Cuenca   Cuenca    Urbana  \n",
              "1   Soltera        Si  Secundaria   Azuay   Cuenca   Cuenca    Urbana  \n",
              "2   Soltera        Si    Superior   Azuay   Cuenca   Cuenca    Urbana  \n",
              "3    Casada        Si  Secundaria   Azuay   Cuenca   Cuenca    Urbana  \n",
              "4     Unida        Si  Secundaria   Azuay   Cuenca   Cuenca    Urbana  "
            ],
            "text/html": [
              "\n",
              "  <div id=\"df-5c28e7d5-a2fd-48ca-a44d-1ea07d5784f7\">\n",
              "    <div class=\"colab-df-container\">\n",
              "      <div>\n",
              "<style scoped>\n",
              "    .dataframe tbody tr th:only-of-type {\n",
              "        vertical-align: middle;\n",
              "    }\n",
              "\n",
              "    .dataframe tbody tr th {\n",
              "        vertical-align: top;\n",
              "    }\n",
              "\n",
              "    .dataframe thead th {\n",
              "        text-align: right;\n",
              "    }\n",
              "</style>\n",
              "<table border=\"1\" class=\"dataframe\">\n",
              "  <thead>\n",
              "    <tr style=\"text-align: right;\">\n",
              "      <th></th>\n",
              "      <th>prov_insc</th>\n",
              "      <th>cant_insc</th>\n",
              "      <th>parr_insc</th>\n",
              "      <th>anio_insc</th>\n",
              "      <th>mes_insc</th>\n",
              "      <th>sexo</th>\n",
              "      <th>talla</th>\n",
              "      <th>peso</th>\n",
              "      <th>sem_gest</th>\n",
              "      <th>tipo_part</th>\n",
              "      <th>anio_nac</th>\n",
              "      <th>mes_nac</th>\n",
              "      <th>p_emb</th>\n",
              "      <th>lugar_ocur</th>\n",
              "      <th>prov_nac</th>\n",
              "      <th>cant_nac</th>\n",
              "      <th>parr_nac</th>\n",
              "      <th>asis_por</th>\n",
              "      <th>area_nac</th>\n",
              "      <th>edad_mad</th>\n",
              "      <th>con_pren</th>\n",
              "      <th>hij_viv</th>\n",
              "      <th>hij_vivm</th>\n",
              "      <th>hij_nacm</th>\n",
              "      <th>etnia</th>\n",
              "      <th>est_civil</th>\n",
              "      <th>sabe_leer</th>\n",
              "      <th>niv_inst</th>\n",
              "      <th>prov_res</th>\n",
              "      <th>cant_res</th>\n",
              "      <th>parr_res</th>\n",
              "      <th>area_res</th>\n",
              "    </tr>\n",
              "  </thead>\n",
              "  <tbody>\n",
              "    <tr>\n",
              "      <th>0</th>\n",
              "      <td>Azuay</td>\n",
              "      <td>Cuenca</td>\n",
              "      <td>Cuenca</td>\n",
              "      <td>2012.0</td>\n",
              "      <td>Enero</td>\n",
              "      <td>Mujer</td>\n",
              "      <td>49.0</td>\n",
              "      <td>2900.0</td>\n",
              "      <td>99.0</td>\n",
              "      <td>Normal</td>\n",
              "      <td>2011.0</td>\n",
              "      <td>Octubre</td>\n",
              "      <td>Simple</td>\n",
              "      <td>Establecimiento_ministerio_de_salud</td>\n",
              "      <td>Azuay</td>\n",
              "      <td>Cuenca</td>\n",
              "      <td>Cuenca</td>\n",
              "      <td>Medico</td>\n",
              "      <td>Urbana</td>\n",
              "      <td>30.0</td>\n",
              "      <td>99.0</td>\n",
              "      <td>2.0</td>\n",
              "      <td>99.0</td>\n",
              "      <td>99.0</td>\n",
              "      <td>Mestiza</td>\n",
              "      <td>Soltera</td>\n",
              "      <td>Si</td>\n",
              "      <td>Primaria</td>\n",
              "      <td>Azuay</td>\n",
              "      <td>Cuenca</td>\n",
              "      <td>Cuenca</td>\n",
              "      <td>Urbana</td>\n",
              "    </tr>\n",
              "    <tr>\n",
              "      <th>1</th>\n",
              "      <td>Azuay</td>\n",
              "      <td>Cuenca</td>\n",
              "      <td>Cuenca</td>\n",
              "      <td>2012.0</td>\n",
              "      <td>Enero</td>\n",
              "      <td>Hombre</td>\n",
              "      <td>51.0</td>\n",
              "      <td>3100.0</td>\n",
              "      <td>39.0</td>\n",
              "      <td>Normal</td>\n",
              "      <td>2011.0</td>\n",
              "      <td>Marzo</td>\n",
              "      <td>Simple</td>\n",
              "      <td>Establecimiento_ministerio_de_salud</td>\n",
              "      <td>Azuay</td>\n",
              "      <td>Cuenca</td>\n",
              "      <td>Cuenca</td>\n",
              "      <td>Medico</td>\n",
              "      <td>Urbana</td>\n",
              "      <td>19.0</td>\n",
              "      <td>99.0</td>\n",
              "      <td>2.0</td>\n",
              "      <td>99.0</td>\n",
              "      <td>99.0</td>\n",
              "      <td>Mestiza</td>\n",
              "      <td>Soltera</td>\n",
              "      <td>Si</td>\n",
              "      <td>Secundaria</td>\n",
              "      <td>Azuay</td>\n",
              "      <td>Cuenca</td>\n",
              "      <td>Cuenca</td>\n",
              "      <td>Urbana</td>\n",
              "    </tr>\n",
              "    <tr>\n",
              "      <th>2</th>\n",
              "      <td>Azuay</td>\n",
              "      <td>Cuenca</td>\n",
              "      <td>Cuenca</td>\n",
              "      <td>2012.0</td>\n",
              "      <td>Enero</td>\n",
              "      <td>Mujer</td>\n",
              "      <td>40.0</td>\n",
              "      <td>1300.0</td>\n",
              "      <td>33.0</td>\n",
              "      <td>Cesarea</td>\n",
              "      <td>2011.0</td>\n",
              "      <td>Diciembre</td>\n",
              "      <td>Simple</td>\n",
              "      <td>Otro_establecimiento_publico</td>\n",
              "      <td>Azuay</td>\n",
              "      <td>Cuenca</td>\n",
              "      <td>Cuenca</td>\n",
              "      <td>Medico</td>\n",
              "      <td>Urbana</td>\n",
              "      <td>33.0</td>\n",
              "      <td>99.0</td>\n",
              "      <td>1.0</td>\n",
              "      <td>99.0</td>\n",
              "      <td>99.0</td>\n",
              "      <td>Mestiza</td>\n",
              "      <td>Soltera</td>\n",
              "      <td>Si</td>\n",
              "      <td>Superior</td>\n",
              "      <td>Azuay</td>\n",
              "      <td>Cuenca</td>\n",
              "      <td>Cuenca</td>\n",
              "      <td>Urbana</td>\n",
              "    </tr>\n",
              "    <tr>\n",
              "      <th>3</th>\n",
              "      <td>Azuay</td>\n",
              "      <td>Cuenca</td>\n",
              "      <td>Cuenca</td>\n",
              "      <td>2012.0</td>\n",
              "      <td>Enero</td>\n",
              "      <td>Hombre</td>\n",
              "      <td>50.0</td>\n",
              "      <td>3100.0</td>\n",
              "      <td>40.0</td>\n",
              "      <td>Cesarea</td>\n",
              "      <td>2011.0</td>\n",
              "      <td>Septiembre</td>\n",
              "      <td>Simple</td>\n",
              "      <td>Establecimiento_ministerio_de_salud</td>\n",
              "      <td>Azuay</td>\n",
              "      <td>Cuenca</td>\n",
              "      <td>Cuenca</td>\n",
              "      <td>Medico</td>\n",
              "      <td>Urbana</td>\n",
              "      <td>31.0</td>\n",
              "      <td>99.0</td>\n",
              "      <td>6.0</td>\n",
              "      <td>99.0</td>\n",
              "      <td>99.0</td>\n",
              "      <td>Mestiza</td>\n",
              "      <td>Casada</td>\n",
              "      <td>Si</td>\n",
              "      <td>Secundaria</td>\n",
              "      <td>Azuay</td>\n",
              "      <td>Cuenca</td>\n",
              "      <td>Cuenca</td>\n",
              "      <td>Urbana</td>\n",
              "    </tr>\n",
              "    <tr>\n",
              "      <th>4</th>\n",
              "      <td>Azuay</td>\n",
              "      <td>Cuenca</td>\n",
              "      <td>Cuenca</td>\n",
              "      <td>2012.0</td>\n",
              "      <td>Enero</td>\n",
              "      <td>Mujer</td>\n",
              "      <td>44.0</td>\n",
              "      <td>3200.0</td>\n",
              "      <td>99.0</td>\n",
              "      <td>Cesarea</td>\n",
              "      <td>2011.0</td>\n",
              "      <td>Octubre</td>\n",
              "      <td>Simple</td>\n",
              "      <td>Establecimiento_ministerio_de_salud</td>\n",
              "      <td>Azuay</td>\n",
              "      <td>Cuenca</td>\n",
              "      <td>Cuenca</td>\n",
              "      <td>Medico</td>\n",
              "      <td>Urbana</td>\n",
              "      <td>19.0</td>\n",
              "      <td>99.0</td>\n",
              "      <td>2.0</td>\n",
              "      <td>99.0</td>\n",
              "      <td>1.0</td>\n",
              "      <td>Mestiza</td>\n",
              "      <td>Unida</td>\n",
              "      <td>Si</td>\n",
              "      <td>Secundaria</td>\n",
              "      <td>Azuay</td>\n",
              "      <td>Cuenca</td>\n",
              "      <td>Cuenca</td>\n",
              "      <td>Urbana</td>\n",
              "    </tr>\n",
              "  </tbody>\n",
              "</table>\n",
              "</div>\n",
              "      <button class=\"colab-df-convert\" onclick=\"convertToInteractive('df-5c28e7d5-a2fd-48ca-a44d-1ea07d5784f7')\"\n",
              "              title=\"Convert this dataframe to an interactive table.\"\n",
              "              style=\"display:none;\">\n",
              "        \n",
              "  <svg xmlns=\"http://www.w3.org/2000/svg\" height=\"24px\"viewBox=\"0 0 24 24\"\n",
              "       width=\"24px\">\n",
              "    <path d=\"M0 0h24v24H0V0z\" fill=\"none\"/>\n",
              "    <path d=\"M18.56 5.44l.94 2.06.94-2.06 2.06-.94-2.06-.94-.94-2.06-.94 2.06-2.06.94zm-11 1L8.5 8.5l.94-2.06 2.06-.94-2.06-.94L8.5 2.5l-.94 2.06-2.06.94zm10 10l.94 2.06.94-2.06 2.06-.94-2.06-.94-.94-2.06-.94 2.06-2.06.94z\"/><path d=\"M17.41 7.96l-1.37-1.37c-.4-.4-.92-.59-1.43-.59-.52 0-1.04.2-1.43.59L10.3 9.45l-7.72 7.72c-.78.78-.78 2.05 0 2.83L4 21.41c.39.39.9.59 1.41.59.51 0 1.02-.2 1.41-.59l7.78-7.78 2.81-2.81c.8-.78.8-2.07 0-2.86zM5.41 20L4 18.59l7.72-7.72 1.47 1.35L5.41 20z\"/>\n",
              "  </svg>\n",
              "      </button>\n",
              "      \n",
              "  <style>\n",
              "    .colab-df-container {\n",
              "      display:flex;\n",
              "      flex-wrap:wrap;\n",
              "      gap: 12px;\n",
              "    }\n",
              "\n",
              "    .colab-df-convert {\n",
              "      background-color: #E8F0FE;\n",
              "      border: none;\n",
              "      border-radius: 50%;\n",
              "      cursor: pointer;\n",
              "      display: none;\n",
              "      fill: #1967D2;\n",
              "      height: 32px;\n",
              "      padding: 0 0 0 0;\n",
              "      width: 32px;\n",
              "    }\n",
              "\n",
              "    .colab-df-convert:hover {\n",
              "      background-color: #E2EBFA;\n",
              "      box-shadow: 0px 1px 2px rgba(60, 64, 67, 0.3), 0px 1px 3px 1px rgba(60, 64, 67, 0.15);\n",
              "      fill: #174EA6;\n",
              "    }\n",
              "\n",
              "    [theme=dark] .colab-df-convert {\n",
              "      background-color: #3B4455;\n",
              "      fill: #D2E3FC;\n",
              "    }\n",
              "\n",
              "    [theme=dark] .colab-df-convert:hover {\n",
              "      background-color: #434B5C;\n",
              "      box-shadow: 0px 1px 3px 1px rgba(0, 0, 0, 0.15);\n",
              "      filter: drop-shadow(0px 1px 2px rgba(0, 0, 0, 0.3));\n",
              "      fill: #FFFFFF;\n",
              "    }\n",
              "  </style>\n",
              "\n",
              "      <script>\n",
              "        const buttonEl =\n",
              "          document.querySelector('#df-5c28e7d5-a2fd-48ca-a44d-1ea07d5784f7 button.colab-df-convert');\n",
              "        buttonEl.style.display =\n",
              "          google.colab.kernel.accessAllowed ? 'block' : 'none';\n",
              "\n",
              "        async function convertToInteractive(key) {\n",
              "          const element = document.querySelector('#df-5c28e7d5-a2fd-48ca-a44d-1ea07d5784f7');\n",
              "          const dataTable =\n",
              "            await google.colab.kernel.invokeFunction('convertToInteractive',\n",
              "                                                     [key], {});\n",
              "          if (!dataTable) return;\n",
              "\n",
              "          const docLinkHtml = 'Like what you see? Visit the ' +\n",
              "            '<a target=\"_blank\" href=https://colab.research.google.com/notebooks/data_table.ipynb>data table notebook</a>'\n",
              "            + ' to learn more about interactive tables.';\n",
              "          element.innerHTML = '';\n",
              "          dataTable['output_type'] = 'display_data';\n",
              "          await google.colab.output.renderOutput(dataTable, element);\n",
              "          const docLink = document.createElement('div');\n",
              "          docLink.innerHTML = docLinkHtml;\n",
              "          element.appendChild(docLink);\n",
              "        }\n",
              "      </script>\n",
              "    </div>\n",
              "  </div>\n",
              "  "
            ]
          },
          "metadata": {},
          "execution_count": 68
        }
      ]
    },
    {
      "cell_type": "code",
      "source": [
        "#creamos una copia del data frame\n",
        "#df_def = df_def1.copy()"
      ],
      "metadata": {
        "id": "q2H7BvAtfCeb"
      },
      "execution_count": null,
      "outputs": []
    },
    {
      "cell_type": "markdown",
      "source": [
        "## Análisis del data frame de los años 2012-2015"
      ],
      "metadata": {
        "id": "nUyDRHWve9CK"
      }
    },
    {
      "cell_type": "code",
      "source": [
        "pd.set_option('display.max_rows', None)"
      ],
      "metadata": {
        "id": "un8msxKAh_-p"
      },
      "execution_count": null,
      "outputs": []
    },
    {
      "cell_type": "code",
      "source": [
        "df_nac1.info()"
      ],
      "metadata": {
        "colab": {
          "base_uri": "https://localhost:8080/"
        },
        "id": "w7q5He6F2QXY",
        "outputId": "ed5239fa-7340-4fa6-e108-fb3109fbfb66"
      },
      "execution_count": null,
      "outputs": [
        {
          "output_type": "stream",
          "name": "stdout",
          "text": [
            "<class 'pandas.core.frame.DataFrame'>\n",
            "Int64Index: 1339041 entries, 0 to 351010\n",
            "Data columns (total 32 columns):\n",
            " #   Column      Non-Null Count    Dtype  \n",
            "---  ------      --------------    -----  \n",
            " 0   prov_insc   1339041 non-null  object \n",
            " 1   cant_insc   1339041 non-null  object \n",
            " 2   parr_insc   1339041 non-null  object \n",
            " 3   anio_insc   1339041 non-null  float64\n",
            " 4   mes_insc    1339041 non-null  object \n",
            " 5   sexo        1339041 non-null  object \n",
            " 6   talla       1306604 non-null  float64\n",
            " 7   peso        1306604 non-null  float64\n",
            " 8   sem_gest    1306604 non-null  float64\n",
            " 9   tipo_part   1306604 non-null  object \n",
            " 10  anio_nac    1339041 non-null  float64\n",
            " 11  mes_nac     1339041 non-null  object \n",
            " 12  p_emb       1264919 non-null  object \n",
            " 13  lugar_ocur  1264919 non-null  object \n",
            " 14  prov_nac    1339041 non-null  object \n",
            " 15  cant_nac    1339041 non-null  object \n",
            " 16  parr_nac    1339041 non-null  object \n",
            " 17  asis_por    1264919 non-null  object \n",
            " 18  area_nac    1264919 non-null  object \n",
            " 19  edad_mad    1264919 non-null  float64\n",
            " 20  con_pren    1264919 non-null  float64\n",
            " 21  hij_viv     1264919 non-null  float64\n",
            " 22  hij_vivm    1264919 non-null  float64\n",
            " 23  hij_nacm    1264919 non-null  float64\n",
            " 24  etnia       1264919 non-null  object \n",
            " 25  est_civil   1264919 non-null  object \n",
            " 26  sabe_leer   1264919 non-null  object \n",
            " 27  niv_inst    1261144 non-null  object \n",
            " 28  prov_res    1339041 non-null  object \n",
            " 29  cant_res    1339041 non-null  object \n",
            " 30  parr_res    1339041 non-null  object \n",
            " 31  area_res    1339041 non-null  object \n",
            "dtypes: float64(10), object(22)\n",
            "memory usage: 337.1+ MB\n"
          ]
        }
      ]
    },
    {
      "cell_type": "code",
      "source": [
        "df_nac1.isna().sum()"
      ],
      "metadata": {
        "colab": {
          "base_uri": "https://localhost:8080/"
        },
        "id": "ULIZ65BKLQFS",
        "outputId": "00845b28-9d24-40b0-aa8e-d53b3cf72fca"
      },
      "execution_count": null,
      "outputs": [
        {
          "output_type": "execute_result",
          "data": {
            "text/plain": [
              "prov_insc         0\n",
              "cant_insc         0\n",
              "parr_insc         0\n",
              "anio_insc         0\n",
              "mes_insc          0\n",
              "sexo              0\n",
              "talla         32437\n",
              "peso          32437\n",
              "sem_gest      32437\n",
              "tipo_part     32437\n",
              "anio_nac          0\n",
              "mes_nac           0\n",
              "p_emb         74122\n",
              "lugar_ocur    74122\n",
              "prov_nac          0\n",
              "cant_nac          0\n",
              "parr_nac          0\n",
              "asis_por      74122\n",
              "area_nac      74122\n",
              "edad_mad      74122\n",
              "con_pren      74122\n",
              "hij_viv       74122\n",
              "hij_vivm      74122\n",
              "hij_nacm      74122\n",
              "etnia         74122\n",
              "est_civil     74122\n",
              "sabe_leer     74122\n",
              "niv_inst      77897\n",
              "prov_res          0\n",
              "cant_res          0\n",
              "parr_res          0\n",
              "area_res          0\n",
              "dtype: int64"
            ]
          },
          "metadata": {},
          "execution_count": 72
        }
      ]
    },
    {
      "cell_type": "code",
      "source": [
        "df_nac1[\"anio_insc\"].value_counts()"
      ],
      "metadata": {
        "colab": {
          "base_uri": "https://localhost:8080/"
        },
        "id": "usjK_E_JLt9y",
        "outputId": "ee292148-ca7c-4c69-c730-3acee20891ab"
      },
      "execution_count": null,
      "outputs": [
        {
          "output_type": "execute_result",
          "data": {
            "text/plain": [
              "2012.0    345151\n",
              "2013.0    324653\n",
              "2015.0    320411\n",
              "2014.0    318573\n",
              "2016.0     30253\n",
              "Name: anio_insc, dtype: int64"
            ]
          },
          "metadata": {},
          "execution_count": 73
        }
      ]
    },
    {
      "cell_type": "code",
      "source": [
        "df_nac1[\"mes_insc\"].value_counts()"
      ],
      "metadata": {
        "colab": {
          "base_uri": "https://localhost:8080/"
        },
        "id": "qCxocmPwLXEL",
        "outputId": "08964e6c-b045-4a36-f40c-86f9a81031e9"
      },
      "execution_count": null,
      "outputs": [
        {
          "output_type": "execute_result",
          "data": {
            "text/plain": [
              "Enero         125199\n",
              "Marzo         120813\n",
              "Abril         115564\n",
              "Julio         113200\n",
              "Octubre       112238\n",
              "Septiembre    110717\n",
              "Mayo          109426\n",
              "Agosto        109343\n",
              "Junio         108028\n",
              "Febrero       105443\n",
              "Diciembre     103304\n",
              "Noviembre     103000\n",
              "99.0            2766\n",
              "Name: mes_insc, dtype: int64"
            ]
          },
          "metadata": {},
          "execution_count": 74
        }
      ]
    },
    {
      "cell_type": "code",
      "source": [
        "df_nac1[\"sexo\"].value_counts()"
      ],
      "metadata": {
        "colab": {
          "base_uri": "https://localhost:8080/"
        },
        "id": "W4yV3Z-Jnrqu",
        "outputId": "f4f2ffb0-2be0-4ae6-9691-e8c58d95f417"
      },
      "execution_count": null,
      "outputs": [
        {
          "output_type": "execute_result",
          "data": {
            "text/plain": [
              "Hombre    685415\n",
              "Mujer     653626\n",
              "Name: sexo, dtype: int64"
            ]
          },
          "metadata": {},
          "execution_count": 75
        }
      ]
    },
    {
      "cell_type": "code",
      "source": [
        "df_nac1[\"sem_gest\"].value_counts()"
      ],
      "metadata": {
        "colab": {
          "base_uri": "https://localhost:8080/"
        },
        "id": "PfDI6JMQMcUS",
        "outputId": "f327475c-c180-4113-8374-934d14cf06e5"
      },
      "execution_count": null,
      "outputs": [
        {
          "output_type": "execute_result",
          "data": {
            "text/plain": [
              "39.0    344419\n",
              "38.0    280210\n",
              "40.0    249534\n",
              "99.0    211488\n",
              "37.0     93044\n",
              "41.0     45279\n",
              "36.0     32828\n",
              "35.0     13264\n",
              "34.0      9572\n",
              "42.0      8921\n",
              "33.0      4920\n",
              "32.0      4320\n",
              "30.0      2255\n",
              "31.0      2162\n",
              "28.0      2035\n",
              "29.0      1175\n",
              "27.0       378\n",
              "26.0       295\n",
              "25.0       211\n",
              "24.0       122\n",
              "22.0        95\n",
              "23.0        77\n",
              "Name: sem_gest, dtype: int64"
            ]
          },
          "metadata": {},
          "execution_count": 76
        }
      ]
    },
    {
      "cell_type": "code",
      "source": [
        "#eliminamos las filas donde semana de gestacion =99\n",
        "df_nac1 = df_nac1.loc[df_nac1[\"sem_gest\"] != 99,:]"
      ],
      "metadata": {
        "id": "GACrnlVIomdG"
      },
      "execution_count": null,
      "outputs": []
    },
    {
      "cell_type": "code",
      "source": [
        "df_nac1[\"anio_nac\"].value_counts()"
      ],
      "metadata": {
        "colab": {
          "base_uri": "https://localhost:8080/"
        },
        "id": "Ac_bxPyyMlcB",
        "outputId": "bcea64c7-946b-4bf0-bd82-7fec02049538"
      },
      "execution_count": null,
      "outputs": [
        {
          "output_type": "execute_result",
          "data": {
            "text/plain": [
              "2015.0    254474\n",
              "2012.0    253243\n",
              "2014.0    253037\n",
              "2013.0    248237\n",
              "2011.0     68974\n",
              "2010.0     17705\n",
              "2009.0     11193\n",
              "2008.0      6324\n",
              "2007.0      3579\n",
              "2006.0      2077\n",
              "2005.0      1383\n",
              "2004.0      1107\n",
              "2003.0       902\n",
              "2002.0       803\n",
              "2001.0       710\n",
              "2000.0       600\n",
              "1999.0       417\n",
              "1998.0       286\n",
              "1997.0       277\n",
              "1996.0       257\n",
              "1995.0       169\n",
              "1994.0       126\n",
              "1993.0       109\n",
              "1990.0        84\n",
              "1992.0        81\n",
              "1991.0        75\n",
              "1989.0        49\n",
              "1988.0        45\n",
              "1984.0        42\n",
              "1986.0        39\n",
              "1987.0        32\n",
              "1980.0        31\n",
              "1985.0        29\n",
              "1934.0        29\n",
              "1982.0        28\n",
              "1945.0        27\n",
              "1940.0        27\n",
              "1965.0        26\n",
              "1962.0        26\n",
              "1983.0        24\n",
              "1979.0        24\n",
              "1978.0        24\n",
              "1944.0        23\n",
              "1981.0        23\n",
              "1948.0        23\n",
              "1954.0        22\n",
              "1947.0        22\n",
              "1933.0        21\n",
              "1938.0        21\n",
              "1939.0        21\n",
              "1977.0        20\n",
              "1928.0        20\n",
              "1955.0        20\n",
              "1930.0        20\n",
              "1975.0        19\n",
              "1957.0        17\n",
              "1976.0        17\n",
              "1935.0        16\n",
              "1960.0        16\n",
              "1946.0        16\n",
              "1974.0        16\n",
              "1932.0        16\n",
              "1943.0        16\n",
              "1924.0        15\n",
              "1942.0        15\n",
              "1941.0        15\n",
              "1970.0        14\n",
              "1961.0        14\n",
              "1969.0        14\n",
              "1958.0        14\n",
              "1973.0        13\n",
              "1926.0        13\n",
              "1968.0        13\n",
              "1952.0        13\n",
              "1959.0        13\n",
              "1967.0        13\n",
              "1936.0        13\n",
              "1971.0        13\n",
              "1927.0        13\n",
              "1949.0        12\n",
              "1972.0        12\n",
              "1953.0        12\n",
              "1937.0        12\n",
              "1920.0        12\n",
              "1966.0        11\n",
              "1929.0        11\n",
              "1963.0        10\n",
              "1950.0        10\n",
              "1964.0        10\n",
              "1956.0        10\n",
              "1951.0         9\n",
              "1921.0         9\n",
              "1931.0         8\n",
              "1925.0         7\n",
              "1918.0         6\n",
              "1922.0         6\n",
              "1923.0         5\n",
              "1919.0         5\n",
              "1917.0         4\n",
              "1905.0         3\n",
              "1914.0         3\n",
              "1912.0         2\n",
              "1910.0         2\n",
              "1899.0         2\n",
              "1916.0         1\n",
              "1913.0         1\n",
              "1911.0         1\n",
              "1915.0         1\n",
              "1909.0         1\n",
              "1907.0         1\n",
              "Name: anio_nac, dtype: int64"
            ]
          },
          "metadata": {},
          "execution_count": 78
        }
      ]
    },
    {
      "cell_type": "code",
      "source": [
        "#eliminamos registros de años menores a 2012\n",
        "df_nac1 = df_nac1.loc[df_nac1[\"anio_nac\"] > 2011 ,:]"
      ],
      "metadata": {
        "id": "skZhDZ4qpY2G"
      },
      "execution_count": null,
      "outputs": []
    },
    {
      "cell_type": "code",
      "source": [
        "df_nac1[\"asis_por\"].value_counts()"
      ],
      "metadata": {
        "colab": {
          "base_uri": "https://localhost:8080/"
        },
        "id": "uC7ib4AMrTW8",
        "outputId": "96276ed3-8d70-411b-edc4-54749bcd5a42"
      },
      "execution_count": null,
      "outputs": [
        {
          "output_type": "execute_result",
          "data": {
            "text/plain": [
              "Medico                     852866\n",
              "Obstetra                   131951\n",
              "Otro                         7274\n",
              "Partero_a_no_calificado      4202\n",
              "Partero_a_calificad          1087\n",
              "Auxiliar_enfermeria           300\n",
              "Enfermero_a                   286\n",
              "Name: asis_por, dtype: int64"
            ]
          },
          "metadata": {},
          "execution_count": 80
        }
      ]
    },
    {
      "cell_type": "code",
      "source": [
        "#Eliminamos las filas donde no hay datos de asistido por\n",
        "df_nac1 = df_nac1.dropna(subset=[\"asis_por\"])"
      ],
      "metadata": {
        "id": "ejDyBfjBNCpB"
      },
      "execution_count": null,
      "outputs": []
    },
    {
      "cell_type": "code",
      "source": [
        "df_nac1[\"p_emb\"].value_counts()"
      ],
      "metadata": {
        "colab": {
          "base_uri": "https://localhost:8080/"
        },
        "id": "pG77ZAOjrLTE",
        "outputId": "d6f692a0-3539-4ac4-88a8-8f0ed2c3e2b2"
      },
      "execution_count": null,
      "outputs": [
        {
          "output_type": "execute_result",
          "data": {
            "text/plain": [
              "Simple             983433\n",
              "Doble               13947\n",
              "Triple                482\n",
              "Cuadruple_o_mas       104\n",
              "Name: p_emb, dtype: int64"
            ]
          },
          "metadata": {},
          "execution_count": 82
        }
      ]
    },
    {
      "cell_type": "code",
      "source": [
        "df_nac1[\"lugar_ocur\"].value_counts()"
      ],
      "metadata": {
        "colab": {
          "base_uri": "https://localhost:8080/"
        },
        "id": "74FyiYGFrZH8",
        "outputId": "75976838-70eb-4c18-c48d-f9ebb8a76a6b"
      },
      "execution_count": null,
      "outputs": [
        {
          "output_type": "execute_result",
          "data": {
            "text/plain": [
              "Establecimiento_ministerio_de_salud     510261\n",
              "Hospital_clinica_consultorio_privado    274477\n",
              "Establecimiento_junta_beneficiaria       92329\n",
              "Establecimiento_IESS                     70927\n",
              "Otro_establecimiento_publico             29129\n",
              "Casa                                     15766\n",
              "Otro                                      5077\n",
              "Name: lugar_ocur, dtype: int64"
            ]
          },
          "metadata": {},
          "execution_count": 83
        }
      ]
    },
    {
      "cell_type": "code",
      "source": [
        "df_nac1[\"area_nac\"].value_counts()"
      ],
      "metadata": {
        "colab": {
          "base_uri": "https://localhost:8080/"
        },
        "id": "725g07ITriNc",
        "outputId": "e6e0d341-f9ba-4a04-9bd5-6d09a6c953ce"
      },
      "execution_count": null,
      "outputs": [
        {
          "output_type": "execute_result",
          "data": {
            "text/plain": [
              "Urbana    962116\n",
              "Rural      35850\n",
              "Name: area_nac, dtype: int64"
            ]
          },
          "metadata": {},
          "execution_count": 84
        }
      ]
    },
    {
      "cell_type": "code",
      "source": [
        "df_nac1[\"edad_mad\"].value_counts()"
      ],
      "metadata": {
        "colab": {
          "base_uri": "https://localhost:8080/"
        },
        "id": "uqnezJrZOFnZ",
        "outputId": "19bceb4f-9bbe-4b41-f1b0-b1c979307836"
      },
      "execution_count": null,
      "outputs": [
        {
          "output_type": "execute_result",
          "data": {
            "text/plain": [
              "20.0    58424\n",
              "19.0    57804\n",
              "21.0    56821\n",
              "22.0    54518\n",
              "23.0    52114\n",
              "18.0    51568\n",
              "24.0    50432\n",
              "25.0    48929\n",
              "26.0    48210\n",
              "27.0    46406\n",
              "28.0    44557\n",
              "17.0    42882\n",
              "29.0    42296\n",
              "30.0    40453\n",
              "31.0    36692\n",
              "32.0    34351\n",
              "33.0    30657\n",
              "16.0    30142\n",
              "34.0    26902\n",
              "35.0    24160\n",
              "36.0    20721\n",
              "37.0    17035\n",
              "15.0    16561\n",
              "38.0    14367\n",
              "39.0    11279\n",
              "40.0     8986\n",
              "41.0     6439\n",
              "14.0     6212\n",
              "99.0     5116\n",
              "42.0     4579\n",
              "43.0     2884\n",
              "44.0     1767\n",
              "13.0     1446\n",
              "45.0      908\n",
              "46.0      491\n",
              "12.0      258\n",
              "47.0      235\n",
              "48.0      188\n",
              "49.0      142\n",
              "11.0       34\n",
              "Name: edad_mad, dtype: int64"
            ]
          },
          "metadata": {},
          "execution_count": 85
        }
      ]
    },
    {
      "cell_type": "code",
      "source": [
        "#eliminamos edades de madres de 99 años\n",
        "df_nac1 = df_nac1.loc[df_nac1[\"edad_mad\"] != 99 ,:]"
      ],
      "metadata": {
        "id": "uo7KqMPLtJx7"
      },
      "execution_count": null,
      "outputs": []
    },
    {
      "cell_type": "code",
      "source": [
        "df_nac1[\"con_pren\"].value_counts()"
      ],
      "metadata": {
        "colab": {
          "base_uri": "https://localhost:8080/"
        },
        "id": "vkijsqQSORjJ",
        "outputId": "2cb4ba28-d030-491b-bd66-869f3eb193f8"
      },
      "execution_count": null,
      "outputs": [
        {
          "output_type": "execute_result",
          "data": {
            "text/plain": [
              "99.0    148522\n",
              "9.0     134537\n",
              "8.0     133085\n",
              "6.0     121676\n",
              "7.0     113061\n",
              "5.0      88583\n",
              "4.0      57984\n",
              "10.0     54424\n",
              "3.0      36445\n",
              "2.0      21712\n",
              "1.0      21569\n",
              "12.0     20984\n",
              "0.0      18845\n",
              "11.0      6551\n",
              "15.0      6229\n",
              "13.0      2476\n",
              "14.0      2014\n",
              "20.0      1590\n",
              "18.0       672\n",
              "16.0       671\n",
              "25.0       662\n",
              "17.0       201\n",
              "19.0       147\n",
              "21.0        59\n",
              "22.0        54\n",
              "24.0        53\n",
              "23.0        44\n",
              "Name: con_pren, dtype: int64"
            ]
          },
          "metadata": {},
          "execution_count": 87
        }
      ]
    },
    {
      "cell_type": "code",
      "source": [
        "#eliminamos controles fetales iguales a 99\n",
        "df_nac1 = df_nac1.loc[df_nac1[\"con_pren\"] != 99,:]"
      ],
      "metadata": {
        "id": "aJTiNnXO6uNV"
      },
      "execution_count": null,
      "outputs": []
    },
    {
      "cell_type": "code",
      "source": [
        "df_nac1[\"con_pren\"].value_counts()"
      ],
      "metadata": {
        "colab": {
          "base_uri": "https://localhost:8080/"
        },
        "id": "MPZD-4zltupy",
        "outputId": "eb2f04ad-3e8f-4613-e421-3ff81edb8c0e"
      },
      "execution_count": null,
      "outputs": [
        {
          "output_type": "execute_result",
          "data": {
            "text/plain": [
              "9.0     134537\n",
              "8.0     133085\n",
              "6.0     121676\n",
              "7.0     113061\n",
              "5.0      88583\n",
              "4.0      57984\n",
              "10.0     54424\n",
              "3.0      36445\n",
              "2.0      21712\n",
              "1.0      21569\n",
              "12.0     20984\n",
              "0.0      18845\n",
              "11.0      6551\n",
              "15.0      6229\n",
              "13.0      2476\n",
              "14.0      2014\n",
              "20.0      1590\n",
              "18.0       672\n",
              "16.0       671\n",
              "25.0       662\n",
              "17.0       201\n",
              "19.0       147\n",
              "21.0        59\n",
              "22.0        54\n",
              "24.0        53\n",
              "23.0        44\n",
              "Name: con_pren, dtype: int64"
            ]
          },
          "metadata": {},
          "execution_count": 89
        }
      ]
    },
    {
      "cell_type": "code",
      "source": [
        "df_nac1[\"hij_viv\"].value_counts()"
      ],
      "metadata": {
        "colab": {
          "base_uri": "https://localhost:8080/"
        },
        "id": "SODfoCiduWqa",
        "outputId": "a4b1a870-d52b-4d93-f191-9be48288abfd"
      },
      "execution_count": null,
      "outputs": [
        {
          "output_type": "execute_result",
          "data": {
            "text/plain": [
              "1.0     352366\n",
              "2.0     252162\n",
              "3.0     141403\n",
              "4.0      56739\n",
              "5.0      22270\n",
              "6.0       9993\n",
              "7.0       4648\n",
              "8.0       2318\n",
              "9.0       1213\n",
              "10.0       653\n",
              "11.0       311\n",
              "12.0       162\n",
              "13.0        62\n",
              "14.0        19\n",
              "15.0         7\n",
              "17.0         1\n",
              "16.0         1\n",
              "Name: hij_viv, dtype: int64"
            ]
          },
          "metadata": {},
          "execution_count": 90
        }
      ]
    },
    {
      "cell_type": "code",
      "source": [
        "df_nac1[\"hij_vivm\"].value_counts()"
      ],
      "metadata": {
        "colab": {
          "base_uri": "https://localhost:8080/"
        },
        "id": "LT1WApCTvj0R",
        "outputId": "e5035bf3-d878-4403-cd98-ab18897d76c5"
      },
      "execution_count": null,
      "outputs": [
        {
          "output_type": "execute_result",
          "data": {
            "text/plain": [
              "0.0     720960\n",
              "99.0    100417\n",
              "1.0      19583\n",
              "2.0       2459\n",
              "3.0        557\n",
              "4.0        167\n",
              "6.0         75\n",
              "5.0         68\n",
              "9.0         14\n",
              "10.0        12\n",
              "7.0         10\n",
              "8.0          5\n",
              "12.0         1\n",
              "Name: hij_vivm, dtype: int64"
            ]
          },
          "metadata": {},
          "execution_count": 91
        }
      ]
    },
    {
      "cell_type": "code",
      "source": [
        "#eliminamos las madres que registraron un numero de hijos vivos que han muerto =99\n",
        "df_nac1 = df_nac1.loc[df_nac1[\"hij_vivm\"] != 99 ,:]"
      ],
      "metadata": {
        "id": "PAkMEJjGv6D5"
      },
      "execution_count": null,
      "outputs": []
    },
    {
      "cell_type": "code",
      "source": [
        "df_nac1[\"hij_nacm\"].value_counts()"
      ],
      "metadata": {
        "colab": {
          "base_uri": "https://localhost:8080/"
        },
        "id": "JDBlWGEfweeI",
        "outputId": "1b23ca30-1a68-45f2-e64c-f5b0ed4a2ce3"
      },
      "execution_count": null,
      "outputs": [
        {
          "output_type": "execute_result",
          "data": {
            "text/plain": [
              "0.0     716786\n",
              "1.0      17928\n",
              "99.0      5604\n",
              "2.0       2740\n",
              "3.0        510\n",
              "4.0        133\n",
              "6.0        113\n",
              "5.0         52\n",
              "7.0         13\n",
              "10.0        11\n",
              "9.0          9\n",
              "8.0          8\n",
              "12.0         2\n",
              "13.0         1\n",
              "11.0         1\n",
              "Name: hij_nacm, dtype: int64"
            ]
          },
          "metadata": {},
          "execution_count": 93
        }
      ]
    },
    {
      "cell_type": "code",
      "source": [
        "#eliminamos las madres que registraron un numero de hijos nacidos muertos =99\n",
        "df_nac1 = df_nac1.loc[df_nac1[\"hij_nacm\"] != 99 ,:]"
      ],
      "metadata": {
        "id": "A4afx4vzwzNq"
      },
      "execution_count": null,
      "outputs": []
    },
    {
      "cell_type": "code",
      "source": [
        "df_nac1[\"etnia\"].value_counts()"
      ],
      "metadata": {
        "colab": {
          "base_uri": "https://localhost:8080/"
        },
        "id": "gChoHYSqw9Zw",
        "outputId": "acf79759-2491-4945-a515-9ff87a5b5c16"
      },
      "execution_count": null,
      "outputs": [
        {
          "output_type": "execute_result",
          "data": {
            "text/plain": [
              "Mestiza             651771\n",
              "Indigena             38151\n",
              "Ignorado             11742\n",
              "Blanca               10974\n",
              "Negra                 7577\n",
              "Afro_ecuatoriana      6731\n",
              "Mulata                4691\n",
              "Montubia              3997\n",
              "Otra                  2673\n",
              "Name: etnia, dtype: int64"
            ]
          },
          "metadata": {},
          "execution_count": 95
        }
      ]
    },
    {
      "cell_type": "code",
      "source": [
        "df_nac1[\"est_civil\"].value_counts()"
      ],
      "metadata": {
        "colab": {
          "base_uri": "https://localhost:8080/"
        },
        "id": "ye6BXNx3xDVI",
        "outputId": "1d51dd27-e2d9-4017-c1f6-42a3b58d7c28"
      },
      "execution_count": null,
      "outputs": [
        {
          "output_type": "execute_result",
          "data": {
            "text/plain": [
              "Unida         311542\n",
              "Casada        237232\n",
              "Soltera       162712\n",
              "Se ignora      14877\n",
              "Divorciada      6504\n",
              "7.0             2383\n",
              "Separada        1867\n",
              "Viuda           1190\n",
              "Name: est_civil, dtype: int64"
            ]
          },
          "metadata": {},
          "execution_count": 96
        }
      ]
    },
    {
      "cell_type": "code",
      "source": [
        "df_nac1[\"est_civil\"] = df_nac1[\"est_civil\"].replace(7,\"Se ignora\")"
      ],
      "metadata": {
        "id": "yapxknkMPDyg"
      },
      "execution_count": null,
      "outputs": []
    },
    {
      "cell_type": "code",
      "source": [
        "df_nac1[\"sabe_leer\"].value_counts()"
      ],
      "metadata": {
        "colab": {
          "base_uri": "https://localhost:8080/"
        },
        "id": "0oUnVdW9xKZA",
        "outputId": "4c2eb3ac-8ebe-4697-feb0-9437695915ed"
      },
      "execution_count": null,
      "outputs": [
        {
          "output_type": "execute_result",
          "data": {
            "text/plain": [
              "Si          724718\n",
              "No            6819\n",
              "Ignorado      6770\n",
              "Name: sabe_leer, dtype: int64"
            ]
          },
          "metadata": {},
          "execution_count": 98
        }
      ]
    },
    {
      "cell_type": "code",
      "source": [
        "df_nac1[\"niv_inst\"].isna().sum()"
      ],
      "metadata": {
        "colab": {
          "base_uri": "https://localhost:8080/"
        },
        "id": "wz_iS6RrxS1Y",
        "outputId": "e0418d33-7015-4e57-ad4c-70a5ecfb4d3e"
      },
      "execution_count": null,
      "outputs": [
        {
          "output_type": "execute_result",
          "data": {
            "text/plain": [
              "2641"
            ]
          },
          "metadata": {},
          "execution_count": 99
        }
      ]
    },
    {
      "cell_type": "code",
      "source": [
        "df_nac1[\"niv_inst\"].value_counts()"
      ],
      "metadata": {
        "colab": {
          "base_uri": "https://localhost:8080/"
        },
        "id": "FU-XrnbVxNqI",
        "outputId": "283c3c23-a5bb-4211-b7fa-611390a69996"
      },
      "execution_count": null,
      "outputs": [
        {
          "output_type": "execute_result",
          "data": {
            "text/plain": [
              "Secundaria                  251153\n",
              "Primaria                    182130\n",
              "Superior                    123629\n",
              "Educacion_media              74960\n",
              "Educacion_basica             48575\n",
              "Se_ignora                    34980\n",
              "Ciclo_post_bachillerato      12428\n",
              "Ninguno                       3903\n",
              "Postgrado                     2236\n",
              "Centro_de_alfabetizacion      1672\n",
              "Name: niv_inst, dtype: int64"
            ]
          },
          "metadata": {},
          "execution_count": 100
        }
      ]
    },
    {
      "cell_type": "code",
      "source": [
        "#añadimos el grupo de celdas vacias del nivel institucional a la clase se ignora\n",
        "df_nac1[\"niv_inst\"] = df_nac1[\"niv_inst\"].fillna(\"Se_ignora\")"
      ],
      "metadata": {
        "id": "DGKM3c7TxdlY"
      },
      "execution_count": null,
      "outputs": []
    },
    {
      "cell_type": "code",
      "source": [
        "df_nac1[\"niv_inst\"].isna().sum()"
      ],
      "metadata": {
        "colab": {
          "base_uri": "https://localhost:8080/"
        },
        "id": "BK9ekOKlx8LQ",
        "outputId": "2d7d04ec-4e20-4494-a080-42d489d66069"
      },
      "execution_count": null,
      "outputs": [
        {
          "output_type": "execute_result",
          "data": {
            "text/plain": [
              "0"
            ]
          },
          "metadata": {},
          "execution_count": 102
        }
      ]
    },
    {
      "cell_type": "code",
      "source": [
        "#Eliminamos los espacios de las columnas\n",
        "df_nac1[\"prov_insc\"] = df_nac1[\"prov_insc\"].str.strip().str.replace(r'\"\\s+', '\"').str.replace(r'\\s+\"', '\"')\n",
        "df_nac1[\"cant_insc\"] = df_nac1[\"cant_insc\"].str.strip().str.replace(r'\"\\s+', '\"').str.replace(r'\\s+\"', '\"')\n",
        "df_nac1[\"parr_insc\"] = df_nac1[\"parr_insc\"].str.strip().str.replace(r'\"\\s+', '\"').str.replace(r'\\s+\"', '\"')\n",
        "df_nac1[\"mes_insc\"] = df_nac1[\"mes_insc\"].str.strip().str.replace(r'\"\\s+', '\"').str.replace(r'\\s+\"', '\"')\n",
        "df_nac1[\"sexo\"] = df_nac1[\"sexo\"].str.strip().str.replace(r'\"\\s+', '\"').str.replace(r'\\s+\"', '\"')\n",
        "df_nac1[\"mes_nac\"] = df_nac1[\"mes_nac\"].str.strip().str.replace(r'\"\\s+', '\"').str.replace(r'\\s+\"', '\"')\n",
        "df_nac1[\"prov_nac\"] = df_nac1[\"prov_nac\"].str.strip().str.replace(r'\"\\s+', '\"').str.replace(r'\\s+\"', '\"')\n",
        "df_nac1[\"cant_nac\"] = df_nac1[\"cant_nac\"].str.strip().str.replace(r'\"\\s+', '\"').str.replace(r'\\s+\"', '\"')\n",
        "df_nac1[\"parr_nac\"] = df_nac1[\"parr_nac\"].str.strip().str.replace(r'\"\\s+', '\"').str.replace(r'\\s+\"', '\"')\n",
        "df_nac1[\"prov_res\"] = df_nac1[\"prov_res\"].str.strip().str.replace(r'\"\\s+', '\"').str.replace(r'\\s+\"', '\"')\n",
        "df_nac1[\"cant_res\"] = df_nac1[\"cant_res\"].str.strip().str.replace(r'\"\\s+', '\"').str.replace(r'\\s+\"', '\"')\n",
        "df_nac1[\"parr_res\"] = df_nac1[\"parr_res\"].str.strip().str.replace(r'\"\\s+', '\"').str.replace(r'\\s+\"', '\"')"
      ],
      "metadata": {
        "colab": {
          "base_uri": "https://localhost:8080/"
        },
        "id": "kobFgs7F3sw9",
        "outputId": "03a9a5fd-3cbb-485b-c963-1db17c27864c"
      },
      "execution_count": null,
      "outputs": [
        {
          "output_type": "stream",
          "name": "stderr",
          "text": [
            "<ipython-input-103-6a7489761c17>:2: FutureWarning: The default value of regex will change from True to False in a future version.\n",
            "  df_nac1[\"prov_insc\"] = df_nac1[\"prov_insc\"].str.strip().str.replace(r'\"\\s+', '\"').str.replace(r'\\s+\"', '\"')\n",
            "<ipython-input-103-6a7489761c17>:3: FutureWarning: The default value of regex will change from True to False in a future version.\n",
            "  df_nac1[\"cant_insc\"] = df_nac1[\"cant_insc\"].str.strip().str.replace(r'\"\\s+', '\"').str.replace(r'\\s+\"', '\"')\n",
            "<ipython-input-103-6a7489761c17>:4: FutureWarning: The default value of regex will change from True to False in a future version.\n",
            "  df_nac1[\"parr_insc\"] = df_nac1[\"parr_insc\"].str.strip().str.replace(r'\"\\s+', '\"').str.replace(r'\\s+\"', '\"')\n",
            "<ipython-input-103-6a7489761c17>:5: FutureWarning: The default value of regex will change from True to False in a future version.\n",
            "  df_nac1[\"mes_insc\"] = df_nac1[\"mes_insc\"].str.strip().str.replace(r'\"\\s+', '\"').str.replace(r'\\s+\"', '\"')\n",
            "<ipython-input-103-6a7489761c17>:6: FutureWarning: The default value of regex will change from True to False in a future version.\n",
            "  df_nac1[\"sexo\"] = df_nac1[\"sexo\"].str.strip().str.replace(r'\"\\s+', '\"').str.replace(r'\\s+\"', '\"')\n",
            "<ipython-input-103-6a7489761c17>:7: FutureWarning: The default value of regex will change from True to False in a future version.\n",
            "  df_nac1[\"mes_nac\"] = df_nac1[\"mes_nac\"].str.strip().str.replace(r'\"\\s+', '\"').str.replace(r'\\s+\"', '\"')\n",
            "<ipython-input-103-6a7489761c17>:8: FutureWarning: The default value of regex will change from True to False in a future version.\n",
            "  df_nac1[\"prov_nac\"] = df_nac1[\"prov_nac\"].str.strip().str.replace(r'\"\\s+', '\"').str.replace(r'\\s+\"', '\"')\n",
            "<ipython-input-103-6a7489761c17>:9: FutureWarning: The default value of regex will change from True to False in a future version.\n",
            "  df_nac1[\"cant_nac\"] = df_nac1[\"cant_nac\"].str.strip().str.replace(r'\"\\s+', '\"').str.replace(r'\\s+\"', '\"')\n",
            "<ipython-input-103-6a7489761c17>:10: FutureWarning: The default value of regex will change from True to False in a future version.\n",
            "  df_nac1[\"parr_nac\"] = df_nac1[\"parr_nac\"].str.strip().str.replace(r'\"\\s+', '\"').str.replace(r'\\s+\"', '\"')\n",
            "<ipython-input-103-6a7489761c17>:11: FutureWarning: The default value of regex will change from True to False in a future version.\n",
            "  df_nac1[\"prov_res\"] = df_nac1[\"prov_res\"].str.strip().str.replace(r'\"\\s+', '\"').str.replace(r'\\s+\"', '\"')\n",
            "<ipython-input-103-6a7489761c17>:12: FutureWarning: The default value of regex will change from True to False in a future version.\n",
            "  df_nac1[\"cant_res\"] = df_nac1[\"cant_res\"].str.strip().str.replace(r'\"\\s+', '\"').str.replace(r'\\s+\"', '\"')\n",
            "<ipython-input-103-6a7489761c17>:13: FutureWarning: The default value of regex will change from True to False in a future version.\n",
            "  df_nac1[\"parr_res\"] = df_nac1[\"parr_res\"].str.strip().str.replace(r'\"\\s+', '\"').str.replace(r'\\s+\"', '\"')\n"
          ]
        }
      ]
    },
    {
      "cell_type": "code",
      "source": [
        "df_nac1.head()"
      ],
      "metadata": {
        "colab": {
          "base_uri": "https://localhost:8080/",
          "height": 270
        },
        "id": "wvhrKLW63eBg",
        "outputId": "0962afdc-85d3-4c9f-d8d4-a71d0e8ec14e"
      },
      "execution_count": null,
      "outputs": [
        {
          "output_type": "execute_result",
          "data": {
            "text/plain": [
              "     prov_insc cant_insc parr_insc  anio_insc mes_insc    sexo  talla    peso  \\\n",
              "4741     Azuay    Cuenca    Cuenca     2012.0     Mayo  Hombre   45.0  1800.0   \n",
              "4755     Azuay    Cuenca    Cuenca     2012.0     Mayo   Mujer   46.0  2500.0   \n",
              "4865     Azuay    Cuenca    Cuenca     2012.0     Mayo   Mujer   45.0  2340.0   \n",
              "4870     Azuay    Cuenca    Cuenca     2012.0     Mayo   Mujer   50.0  3600.0   \n",
              "4917     Azuay    Cuenca    Cuenca     2012.0     Mayo  Hombre   50.0  3000.0   \n",
              "\n",
              "      sem_gest tipo_part  anio_nac  mes_nac   p_emb  \\\n",
              "4741      35.0    Normal    2012.0     Mayo  Simple   \n",
              "4755      38.0    Normal    2012.0     Mayo  Simple   \n",
              "4865      38.0    Normal    2012.0     Mayo  Simple   \n",
              "4870      38.0    Normal    2012.0     Mayo  Simple   \n",
              "4917      39.0    Normal    2012.0  Febrero  Simple   \n",
              "\n",
              "                                lugar_ocur prov_nac cant_nac parr_nac  \\\n",
              "4741   Establecimiento_ministerio_de_salud    Azuay   Cuenca   Cuenca   \n",
              "4755  Hospital_clinica_consultorio_privado    Azuay   Cuenca   Cuenca   \n",
              "4865                  Establecimiento_IESS    Azuay   Cuenca   Cuenca   \n",
              "4870   Establecimiento_ministerio_de_salud    Azuay   Cuenca   Cuenca   \n",
              "4917   Establecimiento_ministerio_de_salud    Azuay   Cuenca   Cuenca   \n",
              "\n",
              "     asis_por area_nac  edad_mad  con_pren  hij_viv  hij_vivm  hij_nacm  \\\n",
              "4741   Medico   Urbana      27.0       9.0      3.0       1.0       1.0   \n",
              "4755   Medico   Urbana      19.0      12.0      2.0       0.0       0.0   \n",
              "4865   Medico   Urbana      17.0      12.0      1.0       0.0       0.0   \n",
              "4870   Medico   Urbana      28.0       6.0      3.0       0.0       1.0   \n",
              "4917   Medico   Urbana      23.0       3.0      3.0       0.0       1.0   \n",
              "\n",
              "        etnia est_civil sabe_leer    niv_inst prov_res cant_res parr_res  \\\n",
              "4741  Mestiza    Casada        Si    Primaria    Azuay   Cuenca   Cuenca   \n",
              "4755  Mestiza   Soltera        Si    Superior    Azuay   Cuenca   Cuenca   \n",
              "4865  Mestiza     Unida        Si  Secundaria    Azuay   Cuenca   Cuenca   \n",
              "4870  Mestiza    Casada        Si  Secundaria    Azuay   Cuenca   Cuenca   \n",
              "4917     Otra     Viuda        Si    Primaria    Azuay   Cuenca  Sinicay   \n",
              "\n",
              "     area_res  \n",
              "4741   Urbana  \n",
              "4755   Urbana  \n",
              "4865   Urbana  \n",
              "4870   Urbana  \n",
              "4917    Rural  "
            ],
            "text/html": [
              "\n",
              "  <div id=\"df-ca725baf-6950-43c6-9077-b5ad1c92c670\">\n",
              "    <div class=\"colab-df-container\">\n",
              "      <div>\n",
              "<style scoped>\n",
              "    .dataframe tbody tr th:only-of-type {\n",
              "        vertical-align: middle;\n",
              "    }\n",
              "\n",
              "    .dataframe tbody tr th {\n",
              "        vertical-align: top;\n",
              "    }\n",
              "\n",
              "    .dataframe thead th {\n",
              "        text-align: right;\n",
              "    }\n",
              "</style>\n",
              "<table border=\"1\" class=\"dataframe\">\n",
              "  <thead>\n",
              "    <tr style=\"text-align: right;\">\n",
              "      <th></th>\n",
              "      <th>prov_insc</th>\n",
              "      <th>cant_insc</th>\n",
              "      <th>parr_insc</th>\n",
              "      <th>anio_insc</th>\n",
              "      <th>mes_insc</th>\n",
              "      <th>sexo</th>\n",
              "      <th>talla</th>\n",
              "      <th>peso</th>\n",
              "      <th>sem_gest</th>\n",
              "      <th>tipo_part</th>\n",
              "      <th>anio_nac</th>\n",
              "      <th>mes_nac</th>\n",
              "      <th>p_emb</th>\n",
              "      <th>lugar_ocur</th>\n",
              "      <th>prov_nac</th>\n",
              "      <th>cant_nac</th>\n",
              "      <th>parr_nac</th>\n",
              "      <th>asis_por</th>\n",
              "      <th>area_nac</th>\n",
              "      <th>edad_mad</th>\n",
              "      <th>con_pren</th>\n",
              "      <th>hij_viv</th>\n",
              "      <th>hij_vivm</th>\n",
              "      <th>hij_nacm</th>\n",
              "      <th>etnia</th>\n",
              "      <th>est_civil</th>\n",
              "      <th>sabe_leer</th>\n",
              "      <th>niv_inst</th>\n",
              "      <th>prov_res</th>\n",
              "      <th>cant_res</th>\n",
              "      <th>parr_res</th>\n",
              "      <th>area_res</th>\n",
              "    </tr>\n",
              "  </thead>\n",
              "  <tbody>\n",
              "    <tr>\n",
              "      <th>4741</th>\n",
              "      <td>Azuay</td>\n",
              "      <td>Cuenca</td>\n",
              "      <td>Cuenca</td>\n",
              "      <td>2012.0</td>\n",
              "      <td>Mayo</td>\n",
              "      <td>Hombre</td>\n",
              "      <td>45.0</td>\n",
              "      <td>1800.0</td>\n",
              "      <td>35.0</td>\n",
              "      <td>Normal</td>\n",
              "      <td>2012.0</td>\n",
              "      <td>Mayo</td>\n",
              "      <td>Simple</td>\n",
              "      <td>Establecimiento_ministerio_de_salud</td>\n",
              "      <td>Azuay</td>\n",
              "      <td>Cuenca</td>\n",
              "      <td>Cuenca</td>\n",
              "      <td>Medico</td>\n",
              "      <td>Urbana</td>\n",
              "      <td>27.0</td>\n",
              "      <td>9.0</td>\n",
              "      <td>3.0</td>\n",
              "      <td>1.0</td>\n",
              "      <td>1.0</td>\n",
              "      <td>Mestiza</td>\n",
              "      <td>Casada</td>\n",
              "      <td>Si</td>\n",
              "      <td>Primaria</td>\n",
              "      <td>Azuay</td>\n",
              "      <td>Cuenca</td>\n",
              "      <td>Cuenca</td>\n",
              "      <td>Urbana</td>\n",
              "    </tr>\n",
              "    <tr>\n",
              "      <th>4755</th>\n",
              "      <td>Azuay</td>\n",
              "      <td>Cuenca</td>\n",
              "      <td>Cuenca</td>\n",
              "      <td>2012.0</td>\n",
              "      <td>Mayo</td>\n",
              "      <td>Mujer</td>\n",
              "      <td>46.0</td>\n",
              "      <td>2500.0</td>\n",
              "      <td>38.0</td>\n",
              "      <td>Normal</td>\n",
              "      <td>2012.0</td>\n",
              "      <td>Mayo</td>\n",
              "      <td>Simple</td>\n",
              "      <td>Hospital_clinica_consultorio_privado</td>\n",
              "      <td>Azuay</td>\n",
              "      <td>Cuenca</td>\n",
              "      <td>Cuenca</td>\n",
              "      <td>Medico</td>\n",
              "      <td>Urbana</td>\n",
              "      <td>19.0</td>\n",
              "      <td>12.0</td>\n",
              "      <td>2.0</td>\n",
              "      <td>0.0</td>\n",
              "      <td>0.0</td>\n",
              "      <td>Mestiza</td>\n",
              "      <td>Soltera</td>\n",
              "      <td>Si</td>\n",
              "      <td>Superior</td>\n",
              "      <td>Azuay</td>\n",
              "      <td>Cuenca</td>\n",
              "      <td>Cuenca</td>\n",
              "      <td>Urbana</td>\n",
              "    </tr>\n",
              "    <tr>\n",
              "      <th>4865</th>\n",
              "      <td>Azuay</td>\n",
              "      <td>Cuenca</td>\n",
              "      <td>Cuenca</td>\n",
              "      <td>2012.0</td>\n",
              "      <td>Mayo</td>\n",
              "      <td>Mujer</td>\n",
              "      <td>45.0</td>\n",
              "      <td>2340.0</td>\n",
              "      <td>38.0</td>\n",
              "      <td>Normal</td>\n",
              "      <td>2012.0</td>\n",
              "      <td>Mayo</td>\n",
              "      <td>Simple</td>\n",
              "      <td>Establecimiento_IESS</td>\n",
              "      <td>Azuay</td>\n",
              "      <td>Cuenca</td>\n",
              "      <td>Cuenca</td>\n",
              "      <td>Medico</td>\n",
              "      <td>Urbana</td>\n",
              "      <td>17.0</td>\n",
              "      <td>12.0</td>\n",
              "      <td>1.0</td>\n",
              "      <td>0.0</td>\n",
              "      <td>0.0</td>\n",
              "      <td>Mestiza</td>\n",
              "      <td>Unida</td>\n",
              "      <td>Si</td>\n",
              "      <td>Secundaria</td>\n",
              "      <td>Azuay</td>\n",
              "      <td>Cuenca</td>\n",
              "      <td>Cuenca</td>\n",
              "      <td>Urbana</td>\n",
              "    </tr>\n",
              "    <tr>\n",
              "      <th>4870</th>\n",
              "      <td>Azuay</td>\n",
              "      <td>Cuenca</td>\n",
              "      <td>Cuenca</td>\n",
              "      <td>2012.0</td>\n",
              "      <td>Mayo</td>\n",
              "      <td>Mujer</td>\n",
              "      <td>50.0</td>\n",
              "      <td>3600.0</td>\n",
              "      <td>38.0</td>\n",
              "      <td>Normal</td>\n",
              "      <td>2012.0</td>\n",
              "      <td>Mayo</td>\n",
              "      <td>Simple</td>\n",
              "      <td>Establecimiento_ministerio_de_salud</td>\n",
              "      <td>Azuay</td>\n",
              "      <td>Cuenca</td>\n",
              "      <td>Cuenca</td>\n",
              "      <td>Medico</td>\n",
              "      <td>Urbana</td>\n",
              "      <td>28.0</td>\n",
              "      <td>6.0</td>\n",
              "      <td>3.0</td>\n",
              "      <td>0.0</td>\n",
              "      <td>1.0</td>\n",
              "      <td>Mestiza</td>\n",
              "      <td>Casada</td>\n",
              "      <td>Si</td>\n",
              "      <td>Secundaria</td>\n",
              "      <td>Azuay</td>\n",
              "      <td>Cuenca</td>\n",
              "      <td>Cuenca</td>\n",
              "      <td>Urbana</td>\n",
              "    </tr>\n",
              "    <tr>\n",
              "      <th>4917</th>\n",
              "      <td>Azuay</td>\n",
              "      <td>Cuenca</td>\n",
              "      <td>Cuenca</td>\n",
              "      <td>2012.0</td>\n",
              "      <td>Mayo</td>\n",
              "      <td>Hombre</td>\n",
              "      <td>50.0</td>\n",
              "      <td>3000.0</td>\n",
              "      <td>39.0</td>\n",
              "      <td>Normal</td>\n",
              "      <td>2012.0</td>\n",
              "      <td>Febrero</td>\n",
              "      <td>Simple</td>\n",
              "      <td>Establecimiento_ministerio_de_salud</td>\n",
              "      <td>Azuay</td>\n",
              "      <td>Cuenca</td>\n",
              "      <td>Cuenca</td>\n",
              "      <td>Medico</td>\n",
              "      <td>Urbana</td>\n",
              "      <td>23.0</td>\n",
              "      <td>3.0</td>\n",
              "      <td>3.0</td>\n",
              "      <td>0.0</td>\n",
              "      <td>1.0</td>\n",
              "      <td>Otra</td>\n",
              "      <td>Viuda</td>\n",
              "      <td>Si</td>\n",
              "      <td>Primaria</td>\n",
              "      <td>Azuay</td>\n",
              "      <td>Cuenca</td>\n",
              "      <td>Sinicay</td>\n",
              "      <td>Rural</td>\n",
              "    </tr>\n",
              "  </tbody>\n",
              "</table>\n",
              "</div>\n",
              "      <button class=\"colab-df-convert\" onclick=\"convertToInteractive('df-ca725baf-6950-43c6-9077-b5ad1c92c670')\"\n",
              "              title=\"Convert this dataframe to an interactive table.\"\n",
              "              style=\"display:none;\">\n",
              "        \n",
              "  <svg xmlns=\"http://www.w3.org/2000/svg\" height=\"24px\"viewBox=\"0 0 24 24\"\n",
              "       width=\"24px\">\n",
              "    <path d=\"M0 0h24v24H0V0z\" fill=\"none\"/>\n",
              "    <path d=\"M18.56 5.44l.94 2.06.94-2.06 2.06-.94-2.06-.94-.94-2.06-.94 2.06-2.06.94zm-11 1L8.5 8.5l.94-2.06 2.06-.94-2.06-.94L8.5 2.5l-.94 2.06-2.06.94zm10 10l.94 2.06.94-2.06 2.06-.94-2.06-.94-.94-2.06-.94 2.06-2.06.94z\"/><path d=\"M17.41 7.96l-1.37-1.37c-.4-.4-.92-.59-1.43-.59-.52 0-1.04.2-1.43.59L10.3 9.45l-7.72 7.72c-.78.78-.78 2.05 0 2.83L4 21.41c.39.39.9.59 1.41.59.51 0 1.02-.2 1.41-.59l7.78-7.78 2.81-2.81c.8-.78.8-2.07 0-2.86zM5.41 20L4 18.59l7.72-7.72 1.47 1.35L5.41 20z\"/>\n",
              "  </svg>\n",
              "      </button>\n",
              "      \n",
              "  <style>\n",
              "    .colab-df-container {\n",
              "      display:flex;\n",
              "      flex-wrap:wrap;\n",
              "      gap: 12px;\n",
              "    }\n",
              "\n",
              "    .colab-df-convert {\n",
              "      background-color: #E8F0FE;\n",
              "      border: none;\n",
              "      border-radius: 50%;\n",
              "      cursor: pointer;\n",
              "      display: none;\n",
              "      fill: #1967D2;\n",
              "      height: 32px;\n",
              "      padding: 0 0 0 0;\n",
              "      width: 32px;\n",
              "    }\n",
              "\n",
              "    .colab-df-convert:hover {\n",
              "      background-color: #E2EBFA;\n",
              "      box-shadow: 0px 1px 2px rgba(60, 64, 67, 0.3), 0px 1px 3px 1px rgba(60, 64, 67, 0.15);\n",
              "      fill: #174EA6;\n",
              "    }\n",
              "\n",
              "    [theme=dark] .colab-df-convert {\n",
              "      background-color: #3B4455;\n",
              "      fill: #D2E3FC;\n",
              "    }\n",
              "\n",
              "    [theme=dark] .colab-df-convert:hover {\n",
              "      background-color: #434B5C;\n",
              "      box-shadow: 0px 1px 3px 1px rgba(0, 0, 0, 0.15);\n",
              "      filter: drop-shadow(0px 1px 2px rgba(0, 0, 0, 0.3));\n",
              "      fill: #FFFFFF;\n",
              "    }\n",
              "  </style>\n",
              "\n",
              "      <script>\n",
              "        const buttonEl =\n",
              "          document.querySelector('#df-ca725baf-6950-43c6-9077-b5ad1c92c670 button.colab-df-convert');\n",
              "        buttonEl.style.display =\n",
              "          google.colab.kernel.accessAllowed ? 'block' : 'none';\n",
              "\n",
              "        async function convertToInteractive(key) {\n",
              "          const element = document.querySelector('#df-ca725baf-6950-43c6-9077-b5ad1c92c670');\n",
              "          const dataTable =\n",
              "            await google.colab.kernel.invokeFunction('convertToInteractive',\n",
              "                                                     [key], {});\n",
              "          if (!dataTable) return;\n",
              "\n",
              "          const docLinkHtml = 'Like what you see? Visit the ' +\n",
              "            '<a target=\"_blank\" href=https://colab.research.google.com/notebooks/data_table.ipynb>data table notebook</a>'\n",
              "            + ' to learn more about interactive tables.';\n",
              "          element.innerHTML = '';\n",
              "          dataTable['output_type'] = 'display_data';\n",
              "          await google.colab.output.renderOutput(dataTable, element);\n",
              "          const docLink = document.createElement('div');\n",
              "          docLink.innerHTML = docLinkHtml;\n",
              "          element.appendChild(docLink);\n",
              "        }\n",
              "      </script>\n",
              "    </div>\n",
              "  </div>\n",
              "  "
            ]
          },
          "metadata": {},
          "execution_count": 104
        }
      ]
    },
    {
      "cell_type": "code",
      "source": [
        "df_nac1[\"cant_nac\"].value_counts()"
      ],
      "metadata": {
        "colab": {
          "base_uri": "https://localhost:8080/"
        },
        "id": "-SzPb6o80ciE",
        "outputId": "8adb94e1-9e4b-4ace-b5e7-094ccdb8fcdd"
      },
      "execution_count": null,
      "outputs": [
        {
          "output_type": "execute_result",
          "data": {
            "text/plain": [
              "Guayaquil                       165579\n",
              "Quito                           125616\n",
              "Cuenca                           31642\n",
              "Santo Domingo                    24746\n",
              "Ambato                           23477\n",
              "Riobamba                         16499\n",
              "Quevedo                          16486\n",
              "Portoviejo                       16412\n",
              "Loja                             16400\n",
              "Manta                            15399\n",
              "Machala                          15008\n",
              "Milagro                          13209\n",
              "Latacunga                        12804\n",
              "Esmeraldas                       11365\n",
              "Babahoyo                         10570\n",
              "Ibarra                            8977\n",
              "Lago Agrio                        7601\n",
              "Daule                             7138\n",
              "Santa Elena                       6446\n",
              "Azoques                           6415\n",
              "Orellana                          5752\n",
              "Chone                             5705\n",
              "Tena                              5512\n",
              "Guaranda                          5322\n",
              "Santa Rosa                        5101\n",
              "Otavalo                           5007\n",
              "Tulcan                            4705\n",
              "Pastaza                           4613\n",
              "La Libertad                       4568\n",
              "Empalme                           4398\n",
              "Vinces                            3809\n",
              "Quininde                          3774\n",
              "Sucre                             3307\n",
              "Ruminahui                         3292\n",
              "Pasaje                            3255\n",
              "Morona                            3231\n",
              "Jipijapa                          3207\n",
              "Cayambe                           3038\n",
              "Ventanas                          3004\n",
              "Salinas                           2993\n",
              "Buena Fe                          2983\n",
              "La Troncal                        2841\n",
              "Duran                             2686\n",
              "Naranjal                          2339\n",
              "Mejia                             2331\n",
              "Huaquillas                        2273\n",
              "Playas                            2224\n",
              "Zamora                            2178\n",
              "Bolivar                           2134\n",
              "Balzar                            2103\n",
              "Atacames                          2046\n",
              "Canar                             2026\n",
              "El Carmen                         1960\n",
              "San Pedro de Pelileo              1952\n",
              "Gualaceo                          1948\n",
              "El Guabo                          1900\n",
              "Pinas                             1893\n",
              "Pujili                            1796\n",
              "Sucua                             1786\n",
              "La Mana                           1766\n",
              "San Lorenzo                       1714\n",
              "El Triunfo                        1594\n",
              "Calvas                            1528\n",
              "Salcedo                           1472\n",
              "Paltas                            1452\n",
              "Yantzaza                          1299\n",
              "Gualaquiza                        1234\n",
              "Naranjito                         1128\n",
              "Rocafuerte                        1126\n",
              "Cotacahi                          1053\n",
              "Pedernales                        1041\n",
              "Saraguro                          1028\n",
              "Urdaneta                          1018\n",
              "Santiago de Pillaro               1009\n",
              "Colta                              996\n",
              "San Jacinto de Yaguachi            956\n",
              "Baba                               944\n",
              "Alausi                             929\n",
              "Pedro Moncayo                      900\n",
              "RioVerde                           893\n",
              "Pajan                              874\n",
              "Sigsig                             857\n",
              "Antonio Ante                       851\n",
              "Santa Isabel                       843\n",
              "Guamote                            842\n",
              "Lomas de Sargentillo               814\n",
              "Saquisili                          795\n",
              "Zaruma                             788\n",
              "Muisne                             786\n",
              "Shushufindi                        771\n",
              "Puyango                            768\n",
              "Pedro Carbo                        753\n",
              "Giron                              702\n",
              "Eloy Alfaro                        700\n",
              "Puebloviejo                        696\n",
              "Santa Cruz                         669\n",
              "La Joya de Los Sachas              659\n",
              "Montufar                           632\n",
              "Macara                             626\n",
              "Montecristi                        617\n",
              "Samborondon                        601\n",
              "Santa Lucia                        596\n",
              "Arenillas                          593\n",
              "Flavio Alfaro                      588\n",
              "Catamayo                           571\n",
              "Paute                              566\n",
              "Chillanes                          548\n",
              "Quijos                             539\n",
              "Tosagua                            516\n",
              "Salitre                            496\n",
              "San Miguel                         482\n",
              "Loreto                             474\n",
              "Limon Indanza                      465\n",
              "Pichincha                          452\n",
              "Chinchipe                          448\n",
              "Junin                              438\n",
              "Taisha                             428\n",
              "Santa Ana                          412\n",
              "Camilo Ponce Enriquez              353\n",
              "Santiago                           348\n",
              "San Miguel de los Bancos           337\n",
              "Sigchos                            333\n",
              "Quero                              314\n",
              "Banos de Agua Santa                308\n",
              "Espindola                          307\n",
              "Nabon                              296\n",
              "Pangua                             291\n",
              "La Condordia                       280\n",
              "Chunchi                            278\n",
              "Archidona                          260\n",
              "Palanda                            257\n",
              "Puerto Quito                       242\n",
              "Zapotillo                          229\n",
              "Pedro Vicente Maldonado            224\n",
              "Caluma                             221\n",
              "Gonzalo Pizarro                    219\n",
              "San Vicente                        210\n",
              "Puerto Lopez                       192\n",
              "Jama                               188\n",
              "San Cristobal                      187\n",
              "Biblian                            183\n",
              "Yacuambi                           183\n",
              "Crnel. Marcelino Mariduena         180\n",
              "Pimampiro                          178\n",
              "Espejo                             163\n",
              "24 de Mayo                         163\n",
              "El Pangui                          161\n",
              "Palora                             151\n",
              "Cascales                           143\n",
              "Echeandia                          136\n",
              "Putumayo                           134\n",
              "El Chaco                           125\n",
              "Suscal                             119\n",
              "Cuyabeno                           119\n",
              "Mera                               117\n",
              "Valencia                           110\n",
              "Gnral. Antonio Elizalde            102\n",
              "Logrono                             99\n",
              "Balsas                              95\n",
              "Celica                              90\n",
              "Aguarico                            90\n",
              "San Juan Bosco                      89\n",
              "San Miguel de Urcuqui               83\n",
              "Ona                                 76\n",
              "Guano                               76\n",
              "Mocha                               69\n",
              "Pallatanga                          69\n",
              "Deleg                               66\n",
              "Balao                               61\n",
              "Mocache                             60\n",
              "Tiwintza                            60\n",
              "Montalvo                            59\n",
              "Carlos Julio Arrosemena Tola        57\n",
              "Gonzanama                           56\n",
              "Mira                                55\n",
              "Nangaritza                          53\n",
              "Olmedo                              50\n",
              "Chilla                              46\n",
              "Cumanda                             44\n",
              "Pucara                              44\n",
              "Chimbo                              43\n",
              "Sevilla de Oro                      41\n",
              "Pindal                              41\n",
              "Sucumbios                           40\n",
              "Las Naves                           35\n",
              "Chaguarpamba                        35\n",
              "Palestina                           31\n",
              "Chambo                              31\n",
              "Quilanga                            31\n",
              "Las Golondrinas                     30\n",
              "Arajuno                             30\n",
              "Isidro Ayora                        25\n",
              "Patate                              22\n",
              "Palenque                            20\n",
              "Marcabeli                           20\n",
              "Jaramijo                            17\n",
              "Paquisha                            16\n",
              "Huamboya                            14\n",
              "Sozoranga                           14\n",
              "Centinela del Condor                14\n",
              "San Fernando                        14\n",
              "Santa Clara                         13\n",
              "Portovelo                           13\n",
              "El Tambo                            12\n",
              "Olemdo                              12\n",
              "Colimes                             11\n",
              "Chordeleg                           11\n",
              "Isabela                             11\n",
              "Nobol                                9\n",
              "Simon Bolivar                        8\n",
              "Penipe                               8\n",
              "Alfredo Baquerizo Moreno             7\n",
              "Cevallos                             4\n",
              "San Pedro de Huaca                   4\n",
              "Tisaleo                              4\n",
              "Las Lajas                            2\n",
              "El Pan                               2\n",
              "Pablo Sexto                          2\n",
              "Atahualpa                            2\n",
              "Quinsaloma                           1\n",
              "Manga del Cura                       1\n",
              "Name: cant_nac, dtype: int64"
            ]
          },
          "metadata": {},
          "execution_count": 155
        }
      ]
    },
    {
      "cell_type": "markdown",
      "source": [
        "## Análisis del data frame de los años 2016-2021"
      ],
      "metadata": {
        "id": "PZrUCPoOypun"
      }
    },
    {
      "cell_type": "code",
      "source": [
        "#concatenación de datos del año 2016 hasta 2021\n",
        "df_nac2 = pd.concat([df5, df6, df7, df8, df9, df10])"
      ],
      "metadata": {
        "id": "k9jQSMYGywZY"
      },
      "execution_count": null,
      "outputs": []
    },
    {
      "cell_type": "code",
      "source": [
        "df_nac2.info()"
      ],
      "metadata": {
        "colab": {
          "base_uri": "https://localhost:8080/"
        },
        "id": "9XTLqJT9-k3g",
        "outputId": "66dd28e2-270f-4aaf-fe8d-9f79b9f5cbb0"
      },
      "execution_count": null,
      "outputs": [
        {
          "output_type": "stream",
          "name": "stdout",
          "text": [
            "<class 'pandas.core.frame.DataFrame'>\n",
            "Int64Index: 1729694 entries, 0 to 254572\n",
            "Data columns (total 32 columns):\n",
            " #   Column      Dtype \n",
            "---  ------      ----- \n",
            " 0   prov_insc   object\n",
            " 1   cant_insc   object\n",
            " 2   parr_insc   object\n",
            " 3   anio_insc   object\n",
            " 4   mes_insc    object\n",
            " 5   sexo        object\n",
            " 6   talla       object\n",
            " 7   peso        object\n",
            " 8   sem_gest    object\n",
            " 9   tipo_part   object\n",
            " 10  anio_nac    int64 \n",
            " 11  mes_nac     object\n",
            " 12  p_emb       object\n",
            " 13  lugar_ocur  object\n",
            " 14  prov_nac    object\n",
            " 15  cant_nac    object\n",
            " 16  parr_nac    object\n",
            " 17  asis_por    object\n",
            " 18  area_nac    object\n",
            " 19  edad_mad    object\n",
            " 20  con_pren    object\n",
            " 21  hij_viv     int64 \n",
            " 22  hij_vivm    object\n",
            " 23  hij_nacm    object\n",
            " 24  etnia       object\n",
            " 25  est_civil   object\n",
            " 26  sabe_leer   object\n",
            " 27  niv_inst    object\n",
            " 28  prov_res    object\n",
            " 29  cant_res    object\n",
            " 30  parr_res    object\n",
            " 31  area_res    object\n",
            "dtypes: int64(2), object(30)\n",
            "memory usage: 435.5+ MB\n"
          ]
        }
      ]
    },
    {
      "cell_type": "code",
      "source": [
        "df_nac2.isna().sum()"
      ],
      "metadata": {
        "colab": {
          "base_uri": "https://localhost:8080/"
        },
        "id": "a9pamhpZ-rdB",
        "outputId": "2b46a87d-96e3-46a5-9e9e-8d50d8328248"
      },
      "execution_count": null,
      "outputs": [
        {
          "output_type": "execute_result",
          "data": {
            "text/plain": [
              "prov_insc        0\n",
              "cant_insc        0\n",
              "parr_insc        0\n",
              "anio_insc        0\n",
              "mes_insc         0\n",
              "sexo             0\n",
              "talla         9220\n",
              "peso          9182\n",
              "sem_gest      9177\n",
              "tipo_part        0\n",
              "anio_nac         0\n",
              "mes_nac          0\n",
              "p_emb            0\n",
              "lugar_ocur       0\n",
              "prov_nac         0\n",
              "cant_nac         0\n",
              "parr_nac         0\n",
              "asis_por         0\n",
              "area_nac         0\n",
              "edad_mad      1178\n",
              "con_pren      7435\n",
              "hij_viv          0\n",
              "hij_vivm      6871\n",
              "hij_nacm      6871\n",
              "etnia            0\n",
              "est_civil        0\n",
              "sabe_leer        0\n",
              "niv_inst         0\n",
              "prov_res         0\n",
              "cant_res         0\n",
              "parr_res         0\n",
              "area_res         0\n",
              "dtype: int64"
            ]
          },
          "metadata": {},
          "execution_count": 107
        }
      ]
    },
    {
      "cell_type": "markdown",
      "source": [
        "Debido a que el marco de datos df_def2 está completo y no es necesario codificarlo, nada más trabajaremos sobre los datos faltantes y medidas desproporcionadas en las columnas numéricas y tipo de datos erroneos"
      ],
      "metadata": {
        "id": "BGzWzw4a_AQA"
      }
    },
    {
      "cell_type": "code",
      "source": [
        "#debido a que son pocos datos los que se encuentran vacios los vamos a eliminar\n",
        "df_nac2 = df_nac2.dropna()"
      ],
      "metadata": {
        "id": "UKXu90eyAVCX"
      },
      "execution_count": null,
      "outputs": []
    },
    {
      "cell_type": "code",
      "source": [
        "df_nac2[\"anio_nac\"].value_counts()"
      ],
      "metadata": {
        "colab": {
          "base_uri": "https://localhost:8080/"
        },
        "id": "MAMXQhs0ZtxZ",
        "outputId": "5200095d-a38f-42fe-8b77-85970f819d37"
      },
      "execution_count": null,
      "outputs": [
        {
          "output_type": "execute_result",
          "data": {
            "text/plain": [
              "2018    294228\n",
              "2017    291957\n",
              "2019    286429\n",
              "2016    281871\n",
              "2020    266357\n",
              "2021    242611\n",
              "2015     17340\n",
              "2014     14308\n",
              "2013      8749\n",
              "2012      6005\n",
              "2011      3475\n",
              "2010      1537\n",
              "2009      1027\n",
              "2008       660\n",
              "2007       585\n",
              "2006       439\n",
              "2005       374\n",
              "2004       324\n",
              "2002       258\n",
              "2003       231\n",
              "2001       206\n",
              "2000       205\n",
              "1999       129\n",
              "1998        35\n",
              "1997        22\n",
              "1995        18\n",
              "1993        17\n",
              "1996        15\n",
              "1965        15\n",
              "1994        13\n",
              "1950        13\n",
              "1966        12\n",
              "1946        11\n",
              "1932        11\n",
              "1992        11\n",
              "1988        10\n",
              "1962        10\n",
              "1963        10\n",
              "1952        10\n",
              "1990        10\n",
              "1986         9\n",
              "1982         9\n",
              "1954         9\n",
              "1948         9\n",
              "1960         9\n",
              "1961         9\n",
              "1925         8\n",
              "1944         8\n",
              "1983         8\n",
              "1949         8\n",
              "1973         8\n",
              "1991         8\n",
              "1955         8\n",
              "1947         8\n",
              "1940         7\n",
              "1970         7\n",
              "1972         7\n",
              "1939         7\n",
              "1957         7\n",
              "1900         7\n",
              "1901         6\n",
              "1933         6\n",
              "1956         6\n",
              "1969         6\n",
              "1937         6\n",
              "1987         6\n",
              "1974         6\n",
              "1964         6\n",
              "1967         6\n",
              "1959         6\n",
              "1975         6\n",
              "1941         6\n",
              "1968         6\n",
              "1935         5\n",
              "1912         5\n",
              "1942         5\n",
              "1902         5\n",
              "1984         5\n",
              "1928         5\n",
              "1977         5\n",
              "1971         5\n",
              "1979         5\n",
              "1989         4\n",
              "1917         4\n",
              "1934         4\n",
              "1953         4\n",
              "1938         4\n",
              "1980         4\n",
              "1985         4\n",
              "1936         4\n",
              "1909         4\n",
              "1978         4\n",
              "1927         3\n",
              "1945         3\n",
              "1951         3\n",
              "1914         3\n",
              "1904         3\n",
              "1930         3\n",
              "1976         3\n",
              "1931         3\n",
              "1922         3\n",
              "1894         3\n",
              "1981         3\n",
              "1923         3\n",
              "1913         3\n",
              "1958         3\n",
              "1908         2\n",
              "1921         2\n",
              "1915         2\n",
              "1880         2\n",
              "1886         2\n",
              "1929         2\n",
              "1889         2\n",
              "1916         2\n",
              "1943         2\n",
              "1873         2\n",
              "1920         2\n",
              "1869         2\n",
              "1881         1\n",
              "1911         1\n",
              "1906         1\n",
              "1891         1\n",
              "1893         1\n",
              "1907         1\n",
              "1926         1\n",
              "1918         1\n",
              "1892         1\n",
              "1884         1\n",
              "1924         1\n",
              "1887         1\n",
              "1882         1\n",
              "1857         1\n",
              "1899         1\n",
              "1883         1\n",
              "1903         1\n",
              "Name: anio_nac, dtype: int64"
            ]
          },
          "metadata": {},
          "execution_count": 109
        }
      ]
    },
    {
      "cell_type": "code",
      "source": [
        "#escogemos que los registros de años de nacimiento sean mayores al 2016\n",
        "df_nac2 = df_nac2.loc[df_nac2[\"anio_nac\"] > 2015]"
      ],
      "metadata": {
        "id": "57sZooQMZ6YJ"
      },
      "execution_count": null,
      "outputs": []
    },
    {
      "cell_type": "code",
      "source": [
        "df_nac2[\"anio_nac\"].value_counts()"
      ],
      "metadata": {
        "colab": {
          "base_uri": "https://localhost:8080/"
        },
        "id": "cAOk08uZaYZZ",
        "outputId": "4ba714c8-915c-4402-e127-c160ed81f0b2"
      },
      "execution_count": null,
      "outputs": [
        {
          "output_type": "execute_result",
          "data": {
            "text/plain": [
              "2018    294228\n",
              "2017    291957\n",
              "2019    286429\n",
              "2016    281871\n",
              "2020    266357\n",
              "2021    242611\n",
              "Name: anio_nac, dtype: int64"
            ]
          },
          "metadata": {},
          "execution_count": 111
        }
      ]
    },
    {
      "cell_type": "code",
      "source": [
        "df_nac2[\"anio_insc\"].value_counts()"
      ],
      "metadata": {
        "colab": {
          "base_uri": "https://localhost:8080/"
        },
        "id": "ZSPM0QlZbYGw",
        "outputId": "4d552f7f-76d0-4d7c-aae0-c7688afa28a0"
      },
      "execution_count": null,
      "outputs": [
        {
          "output_type": "execute_result",
          "data": {
            "text/plain": [
              "2018    274177\n",
              "2017    266289\n",
              "2019    245878\n",
              "2020    225968\n",
              "2021    223817\n",
              "2016    218898\n",
              "        106059\n",
              "2019     29841\n",
              "2022     21370\n",
              "2016     18750\n",
              "1900     16066\n",
              "2017     14531\n",
              "2018      1809\n",
              "Name: anio_insc, dtype: int64"
            ]
          },
          "metadata": {},
          "execution_count": 112
        }
      ]
    },
    {
      "cell_type": "code",
      "source": [
        "df_nac2 = df_nac2.loc[df_nac2[\"edad_mad\"] != \"Sin informacion\",:]"
      ],
      "metadata": {
        "id": "LeZ8EWDGBKcu"
      },
      "execution_count": null,
      "outputs": []
    },
    {
      "cell_type": "code",
      "source": [
        "#cambiamos la edad de la madre de objeto a float\n",
        "df_nac2[\"edad_mad\"] = df_nac2[\"edad_mad\"].astype(float)"
      ],
      "metadata": {
        "id": "ubKzLbCdBrvu"
      },
      "execution_count": null,
      "outputs": []
    },
    {
      "cell_type": "code",
      "source": [
        "df_nac2[\"edad_mad\"].describe()"
      ],
      "metadata": {
        "colab": {
          "base_uri": "https://localhost:8080/"
        },
        "id": "tqbc9vJmcScA",
        "outputId": "8b03001a-3d40-4794-9a85-651c6e1d6151"
      },
      "execution_count": null,
      "outputs": [
        {
          "output_type": "execute_result",
          "data": {
            "text/plain": [
              "count    1.634651e+06\n",
              "mean     2.603657e+01\n",
              "std      6.654465e+00\n",
              "min      1.000000e+01\n",
              "25%      2.100000e+01\n",
              "50%      2.500000e+01\n",
              "75%      3.100000e+01\n",
              "max      5.600000e+01\n",
              "Name: edad_mad, dtype: float64"
            ]
          },
          "metadata": {},
          "execution_count": 115
        }
      ]
    },
    {
      "cell_type": "code",
      "source": [
        "df_nac2[\"hij_viv\"].describe()"
      ],
      "metadata": {
        "colab": {
          "base_uri": "https://localhost:8080/"
        },
        "id": "7m28y7tTdMO_",
        "outputId": "1ec466c6-9bea-445e-8b62-f2a614599cf6"
      },
      "execution_count": null,
      "outputs": [
        {
          "output_type": "execute_result",
          "data": {
            "text/plain": [
              "count    1.634651e+06\n",
              "mean     2.106755e+00\n",
              "std      1.276398e+00\n",
              "min      1.000000e+00\n",
              "25%      1.000000e+00\n",
              "50%      2.000000e+00\n",
              "75%      3.000000e+00\n",
              "max      1.900000e+01\n",
              "Name: hij_viv, dtype: float64"
            ]
          },
          "metadata": {},
          "execution_count": 116
        }
      ]
    },
    {
      "cell_type": "code",
      "source": [
        "df_nac2 = df_nac2.loc[df_nac2[\"hij_vivm\"] != \"Sin informacion\",:]"
      ],
      "metadata": {
        "id": "y71zUx5tCAr3"
      },
      "execution_count": null,
      "outputs": []
    },
    {
      "cell_type": "code",
      "source": [
        "#cambiamos numero de hijos vivos de objeto a float\n",
        "df_nac2[\"hij_vivm\"] = df_nac2[\"hij_vivm\"].astype(float)"
      ],
      "metadata": {
        "id": "Oh4V-auZCHgW"
      },
      "execution_count": null,
      "outputs": []
    },
    {
      "cell_type": "code",
      "source": [
        "df_nac2[\"hij_vivm\"].describe()"
      ],
      "metadata": {
        "colab": {
          "base_uri": "https://localhost:8080/"
        },
        "id": "pz6LyfjPdIsP",
        "outputId": "0ca08839-3d43-4837-83a1-a34756c6aab6"
      },
      "execution_count": null,
      "outputs": [
        {
          "output_type": "execute_result",
          "data": {
            "text/plain": [
              "count    1.631106e+06\n",
              "mean     2.408121e-02\n",
              "std      1.876823e-01\n",
              "min      0.000000e+00\n",
              "25%      0.000000e+00\n",
              "50%      0.000000e+00\n",
              "75%      0.000000e+00\n",
              "max      1.000000e+01\n",
              "Name: hij_vivm, dtype: float64"
            ]
          },
          "metadata": {},
          "execution_count": 119
        }
      ]
    },
    {
      "cell_type": "code",
      "source": [
        "df_nac2 = df_nac2.loc[df_nac2[\"hij_nacm\"] != \"Sin informacion\",:]"
      ],
      "metadata": {
        "id": "PvByrQc5dZD3"
      },
      "execution_count": null,
      "outputs": []
    },
    {
      "cell_type": "code",
      "source": [
        "#cambiamos numero de hijos vivos de objeto a float\n",
        "df_nac2[\"hij_nacm\"] = df_nac2[\"hij_nacm\"].astype(float)"
      ],
      "metadata": {
        "id": "U6COu1f7dT6-"
      },
      "execution_count": null,
      "outputs": []
    },
    {
      "cell_type": "code",
      "source": [
        "df_nac2[\"hij_nacm\"].describe()"
      ],
      "metadata": {
        "colab": {
          "base_uri": "https://localhost:8080/"
        },
        "id": "O9K_P9Tdddl_",
        "outputId": "0960e363-1e6f-4c1e-ffe9-34d83412227f"
      },
      "execution_count": null,
      "outputs": [
        {
          "output_type": "execute_result",
          "data": {
            "text/plain": [
              "count    1.630949e+06\n",
              "mean     2.316811e-02\n",
              "std      1.833544e-01\n",
              "min      0.000000e+00\n",
              "25%      0.000000e+00\n",
              "50%      0.000000e+00\n",
              "75%      0.000000e+00\n",
              "max      1.000000e+01\n",
              "Name: hij_nacm, dtype: float64"
            ]
          },
          "metadata": {},
          "execution_count": 122
        }
      ]
    },
    {
      "cell_type": "code",
      "source": [
        "df_nac2 = df_nac2.loc[df_nac2[\"con_pren\"] != \"Sin informacion\",:]"
      ],
      "metadata": {
        "id": "3WdFH2VhCWn9"
      },
      "execution_count": null,
      "outputs": []
    },
    {
      "cell_type": "code",
      "source": [
        "#cambiamos numero de hijos vivos de objeto a float\n",
        "df_nac2[\"con_pren\"] = df_nac2[\"con_pren\"].astype(float)"
      ],
      "metadata": {
        "id": "HiGYdIYtCSq2"
      },
      "execution_count": null,
      "outputs": []
    },
    {
      "cell_type": "code",
      "source": [
        "df_nac2[\"con_pren\"].describe()"
      ],
      "metadata": {
        "colab": {
          "base_uri": "https://localhost:8080/"
        },
        "id": "Qac4nYD3dpPn",
        "outputId": "211fa33e-b56e-4d2a-cd62-b2ab85b642f9"
      },
      "execution_count": null,
      "outputs": [
        {
          "output_type": "execute_result",
          "data": {
            "text/plain": [
              "count    1.627329e+06\n",
              "mean     6.387297e+00\n",
              "std      2.657853e+00\n",
              "min      0.000000e+00\n",
              "25%      5.000000e+00\n",
              "50%      6.000000e+00\n",
              "75%      8.000000e+00\n",
              "max      2.500000e+01\n",
              "Name: con_pren, dtype: float64"
            ]
          },
          "metadata": {},
          "execution_count": 125
        }
      ]
    },
    {
      "cell_type": "code",
      "source": [
        "df_nac2 = df_nac2.loc[df_nac2[\"sem_gest\"] != \"Sin informacion\",:]"
      ],
      "metadata": {
        "id": "hJk79A8EeDCX"
      },
      "execution_count": null,
      "outputs": []
    },
    {
      "cell_type": "code",
      "source": [
        "#cambiamos numero de hijos vivos de objeto a float\n",
        "df_nac2[\"sem_gest\"] = df_nac2[\"sem_gest\"].astype(float)"
      ],
      "metadata": {
        "id": "8-OXqfJmd-bX"
      },
      "execution_count": null,
      "outputs": []
    },
    {
      "cell_type": "code",
      "source": [
        "df_nac2[\"cant_nac\"] = df_nac2[\"cant_nac\"].replace(dicc_canto)"
      ],
      "metadata": {
        "id": "cgTK88RH1U78"
      },
      "execution_count": null,
      "outputs": []
    },
    {
      "cell_type": "code",
      "source": [
        "df_nac2[\"cant_nac\"].value_counts().head()"
      ],
      "metadata": {
        "colab": {
          "base_uri": "https://localhost:8080/"
        },
        "id": "h1w11EgC1t1r",
        "outputId": "7fbc51ab-b1fe-4d45-e241-5fa8017c53ea"
      },
      "execution_count": null,
      "outputs": [
        {
          "output_type": "execute_result",
          "data": {
            "text/plain": [
              "Guayaquil        271089\n",
              "Quito            195353\n",
              "Santo Domingo     54180\n",
              "Guayaquil         53497\n",
              "Cuenca            49624\n",
              "Name: cant_nac, dtype: int64"
            ]
          },
          "metadata": {},
          "execution_count": 161
        }
      ]
    },
    {
      "cell_type": "code",
      "source": [
        "df_nac2[\"cant_res\"] = df_nac2[\"cant_res\"].replace(dicc_canto)"
      ],
      "metadata": {
        "id": "4Kqr56ds1717"
      },
      "execution_count": null,
      "outputs": []
    },
    {
      "cell_type": "code",
      "source": [
        "df_nac2[\"parr_nac\"] = df_nac2[\"parr_nac\"].replace(dicc_parro)"
      ],
      "metadata": {
        "id": "--gQTIkK2MUD"
      },
      "execution_count": null,
      "outputs": []
    },
    {
      "cell_type": "code",
      "source": [
        "df_nac2[\"parr_res\"] = df_nac2[\"parr_res\"].replace(dicc_parro)"
      ],
      "metadata": {
        "id": "IGzSvx1i2KSj"
      },
      "execution_count": null,
      "outputs": []
    },
    {
      "cell_type": "markdown",
      "source": [
        "## Concatenación de datos de todos los años"
      ],
      "metadata": {
        "id": "QQhckwIRDDOv"
      }
    },
    {
      "cell_type": "code",
      "source": [
        "nacimientos = pd.concat([df_nac1, df_nac2])"
      ],
      "metadata": {
        "id": "_gPy7d1_1b2p"
      },
      "execution_count": null,
      "outputs": []
    },
    {
      "cell_type": "code",
      "source": [
        "nacimientos.info()"
      ],
      "metadata": {
        "colab": {
          "base_uri": "https://localhost:8080/"
        },
        "id": "i9Ni3BA1e4ke",
        "outputId": "4ce66647-d905-4b0a-d139-06b2a6ffc3ec"
      },
      "execution_count": null,
      "outputs": [
        {
          "output_type": "stream",
          "name": "stdout",
          "text": [
            "<class 'pandas.core.frame.DataFrame'>\n",
            "Int64Index: 2334076 entries, 4741 to 254572\n",
            "Data columns (total 32 columns):\n",
            " #   Column      Dtype  \n",
            "---  ------      -----  \n",
            " 0   prov_insc   object \n",
            " 1   cant_insc   object \n",
            " 2   parr_insc   object \n",
            " 3   anio_insc   object \n",
            " 4   mes_insc    object \n",
            " 5   sexo        object \n",
            " 6   talla       object \n",
            " 7   peso        object \n",
            " 8   sem_gest    float64\n",
            " 9   tipo_part   object \n",
            " 10  anio_nac    float64\n",
            " 11  mes_nac     object \n",
            " 12  p_emb       object \n",
            " 13  lugar_ocur  object \n",
            " 14  prov_nac    object \n",
            " 15  cant_nac    object \n",
            " 16  parr_nac    object \n",
            " 17  asis_por    object \n",
            " 18  area_nac    object \n",
            " 19  edad_mad    float64\n",
            " 20  con_pren    float64\n",
            " 21  hij_viv     float64\n",
            " 22  hij_vivm    float64\n",
            " 23  hij_nacm    float64\n",
            " 24  etnia       object \n",
            " 25  est_civil   object \n",
            " 26  sabe_leer   object \n",
            " 27  niv_inst    object \n",
            " 28  prov_res    object \n",
            " 29  cant_res    object \n",
            " 30  parr_res    object \n",
            " 31  area_res    object \n",
            "dtypes: float64(7), object(25)\n",
            "memory usage: 587.7+ MB\n"
          ]
        }
      ]
    },
    {
      "cell_type": "code",
      "source": [
        "nacimientos.isna().sum()"
      ],
      "metadata": {
        "colab": {
          "base_uri": "https://localhost:8080/"
        },
        "id": "9yWTCI0U1s3I",
        "outputId": "e622abb3-4abf-45d6-a2c9-d0bdb16cef2c"
      },
      "execution_count": null,
      "outputs": [
        {
          "output_type": "execute_result",
          "data": {
            "text/plain": [
              "prov_insc          0\n",
              "cant_insc       1868\n",
              "parr_insc     405415\n",
              "anio_insc          0\n",
              "mes_insc           0\n",
              "sexo               0\n",
              "talla              0\n",
              "peso               0\n",
              "sem_gest           0\n",
              "tipo_part          0\n",
              "anio_nac           0\n",
              "mes_nac            0\n",
              "p_emb              0\n",
              "lugar_ocur         0\n",
              "prov_nac           0\n",
              "cant_nac        1601\n",
              "parr_nac      115694\n",
              "asis_por           0\n",
              "area_nac           0\n",
              "edad_mad           0\n",
              "con_pren           0\n",
              "hij_viv            0\n",
              "hij_vivm           0\n",
              "hij_nacm           0\n",
              "etnia              0\n",
              "est_civil          0\n",
              "sabe_leer          0\n",
              "niv_inst           0\n",
              "prov_res         145\n",
              "cant_res        2059\n",
              "parr_res      275732\n",
              "area_res           0\n",
              "dtype: int64"
            ]
          },
          "metadata": {},
          "execution_count": 169
        }
      ]
    },
    {
      "cell_type": "code",
      "source": [
        "nacimientos[\"sexo\"].value_counts()"
      ],
      "metadata": {
        "colab": {
          "base_uri": "https://localhost:8080/"
        },
        "id": "_K9ZsXfM8Tr0",
        "outputId": "43cdb16e-5457-4719-a498-dcccdcf9a8aa"
      },
      "execution_count": null,
      "outputs": [
        {
          "output_type": "execute_result",
          "data": {
            "text/plain": [
              "Hombre    1194437\n",
              "Mujer     1139639\n",
              "Name: sexo, dtype: int64"
            ]
          },
          "metadata": {},
          "execution_count": 170
        }
      ]
    },
    {
      "cell_type": "code",
      "source": [
        "nacimientos[\"sem_gest\"].value_counts()"
      ],
      "metadata": {
        "colab": {
          "base_uri": "https://localhost:8080/"
        },
        "id": "4hygkOpy8Z20",
        "outputId": "cb05a7b1-34b9-47c1-c525-c95fda320527"
      },
      "execution_count": null,
      "outputs": [
        {
          "output_type": "execute_result",
          "data": {
            "text/plain": [
              "39.0    720044\n",
              "38.0    615072\n",
              "40.0    479324\n",
              "37.0    225294\n",
              "41.0    112690\n",
              "36.0     70285\n",
              "35.0     30782\n",
              "34.0     20595\n",
              "42.0     17057\n",
              "33.0     11608\n",
              "32.0      9134\n",
              "30.0      5104\n",
              "31.0      5066\n",
              "28.0      3397\n",
              "29.0      3044\n",
              "27.0      1826\n",
              "26.0      1458\n",
              "25.0       969\n",
              "24.0       707\n",
              "23.0       342\n",
              "22.0       267\n",
              "21.0        11\n",
              "Name: sem_gest, dtype: int64"
            ]
          },
          "metadata": {},
          "execution_count": 171
        }
      ]
    },
    {
      "cell_type": "code",
      "source": [
        "nacimientos[\"asis_por\"].value_counts()"
      ],
      "metadata": {
        "colab": {
          "base_uri": "https://localhost:8080/"
        },
        "id": "-FL3-q669q28",
        "outputId": "ad0ac60d-a4b7-4392-8961-205ad97014e3"
      },
      "execution_count": null,
      "outputs": [
        {
          "output_type": "execute_result",
          "data": {
            "text/plain": [
              "Medico/a                      1411468\n",
              "Medico                         628088\n",
              "Obstetriz/Obstetra             179541\n",
              "Obstetra                       101310\n",
              "Otro                             7465\n",
              "Partero_a_no_calificado          2965\n",
              "Partero/a no calilficado/a       1568\n",
              "Partero_a_calificad               746\n",
              "Partero/a calificado/a            598\n",
              "Auxiliar_enfermeria               155\n",
              "Enfermero_a                       121\n",
              "Enfermero/a                        28\n",
              "Auxiliar de enfermeria             23\n",
              "Name: asis_por, dtype: int64"
            ]
          },
          "metadata": {},
          "execution_count": 172
        }
      ]
    },
    {
      "cell_type": "code",
      "source": [
        "#corrección de clases en la columna asis_por\n",
        "nacimientos['asis_por'] = nacimientos['asis_por'].replace({'Medico/a': 'Medico',\"Obstetriz/Obstetra\":\"Obstetra\",\"Partero_a_no_calificado\":\"Partero/a no calilficado/a\",\"Partero_a_calificad\":\"Partero/a calificado/a\",\"Enfermero_a\":\"Enfermero/a\",\"Auxiliar de enfermeria\":\"Auxiliar_enfermeria\"})"
      ],
      "metadata": {
        "id": "0pZm7rTO9vpE"
      },
      "execution_count": null,
      "outputs": []
    },
    {
      "cell_type": "code",
      "source": [
        "nacimientos[\"asis_por\"].value_counts()"
      ],
      "metadata": {
        "colab": {
          "base_uri": "https://localhost:8080/"
        },
        "id": "sy7M3xbufR1e",
        "outputId": "cd93526c-1430-4eb2-9baf-e7d2be04e779"
      },
      "execution_count": null,
      "outputs": [
        {
          "output_type": "execute_result",
          "data": {
            "text/plain": [
              "Medico                        2039556\n",
              "Obstetra                       280851\n",
              "Otro                             7465\n",
              "Partero/a no calilficado/a       4533\n",
              "Partero/a calificado/a           1344\n",
              "Auxiliar_enfermeria               178\n",
              "Enfermero/a                       149\n",
              "Name: asis_por, dtype: int64"
            ]
          },
          "metadata": {},
          "execution_count": 174
        }
      ]
    },
    {
      "cell_type": "code",
      "source": [
        "nacimientos[\"p_emb\"].value_counts()"
      ],
      "metadata": {
        "colab": {
          "base_uri": "https://localhost:8080/"
        },
        "id": "X58Y2rkq_lYS",
        "outputId": "d2d011cd-e019-4d5a-d2ea-247bc30773db"
      },
      "execution_count": null,
      "outputs": [
        {
          "output_type": "execute_result",
          "data": {
            "text/plain": [
              "Simple             2300024\n",
              "Doble                33360\n",
              "Triple                 636\n",
              "Cuadruple_o_mas         25\n",
              "Cuadruple o mas         20\n",
              "Quintuple               10\n",
              "Cuadruple                1\n",
              "Name: p_emb, dtype: int64"
            ]
          },
          "metadata": {},
          "execution_count": 175
        }
      ]
    },
    {
      "cell_type": "code",
      "source": [
        "#correccion de clases\n",
        "nacimientos['p_emb'] = nacimientos['p_emb'].replace({'Cuadruple o mas': 'Cuadruple_o_mas'})"
      ],
      "metadata": {
        "id": "frW0O93o_rmK"
      },
      "execution_count": null,
      "outputs": []
    },
    {
      "cell_type": "code",
      "source": [
        "nacimientos[\"lugar_ocur\"].value_counts()"
      ],
      "metadata": {
        "colab": {
          "base_uri": "https://localhost:8080/"
        },
        "id": "bZT3rgq3_-CL",
        "outputId": "beca78cf-73e1-49ba-931a-972a16f9f6f7"
      },
      "execution_count": null,
      "outputs": [
        {
          "output_type": "execute_result",
          "data": {
            "text/plain": [
              "Establecimiento del Ministerio de Salud        1015104\n",
              "Establecimiento_ministerio_de_salud             396426\n",
              "Hospital, Clinica o Consultorio Privado         353412\n",
              "Hospital_clinica_consultorio_privado            188190\n",
              "Establecimiento del IESS                        143338\n",
              "Establecimiento_junta_beneficiaria               67361\n",
              "Establecimiento de la Junta de Beneficencia      54146\n",
              "Establecimiento_IESS                             52836\n",
              "Otro Establecimiento Publico                     20750\n",
              "Otro_establecimiento_publico                     19144\n",
              "Casa                                             16631\n",
              "Otro                                              6738\n",
              "Name: lugar_ocur, dtype: int64"
            ]
          },
          "metadata": {},
          "execution_count": 177
        }
      ]
    },
    {
      "cell_type": "code",
      "source": [
        "#correccion de clases\n",
        "nacimientos['lugar_ocur'] = nacimientos['lugar_ocur'].replace({'Establecimiento del Ministerio de Salud': 'Establecimiento_ministerio_de_salud',\"Hospital, Clinica o Consultorio Privado\":\"Hospital_clinica_consultorio_privado\",\"Establecimiento del IESS\":\"Establecimiento_IESS\",\"Establecimiento de la Junta de Beneficencia\":\"Establecimiento_junta_beneficiaria\",\"Otro Establecimiento Publico\":\"Otro_establecimiento_publico\"})"
      ],
      "metadata": {
        "id": "kuufBaOLAJdi"
      },
      "execution_count": null,
      "outputs": []
    },
    {
      "cell_type": "code",
      "source": [
        "nacimientos[\"lugar_ocur\"].value_counts()"
      ],
      "metadata": {
        "colab": {
          "base_uri": "https://localhost:8080/"
        },
        "id": "eIvuUpx5AwzK",
        "outputId": "ad2c578b-440c-4345-b0e4-b18c690aaa3c"
      },
      "execution_count": null,
      "outputs": [
        {
          "output_type": "execute_result",
          "data": {
            "text/plain": [
              "Establecimiento_ministerio_de_salud     1411530\n",
              "Hospital_clinica_consultorio_privado     541602\n",
              "Establecimiento_IESS                     196174\n",
              "Establecimiento_junta_beneficiaria       121507\n",
              "Otro_establecimiento_publico              39894\n",
              "Casa                                      16631\n",
              "Otro                                       6738\n",
              "Name: lugar_ocur, dtype: int64"
            ]
          },
          "metadata": {},
          "execution_count": 179
        }
      ]
    },
    {
      "cell_type": "code",
      "source": [
        "nacimientos[\"area_nac\"].value_counts()"
      ],
      "metadata": {
        "colab": {
          "base_uri": "https://localhost:8080/"
        },
        "id": "H-zR2B3WAzCi",
        "outputId": "008a1eaf-1423-4922-9b79-1a91845c4f4e"
      },
      "execution_count": null,
      "outputs": [
        {
          "output_type": "execute_result",
          "data": {
            "text/plain": [
              "Urbana    2238102\n",
              "Rural       95974\n",
              "Name: area_nac, dtype: int64"
            ]
          },
          "metadata": {},
          "execution_count": 180
        }
      ]
    },
    {
      "cell_type": "code",
      "source": [
        "nacimientos[\"edad_mad\"].value_counts()"
      ],
      "metadata": {
        "colab": {
          "base_uri": "https://localhost:8080/"
        },
        "id": "emSXDYjkBDDK",
        "outputId": "58563773-bfc3-4aec-f0e1-d3291004475e"
      },
      "execution_count": null,
      "outputs": [
        {
          "output_type": "execute_result",
          "data": {
            "text/plain": [
              "20.0    131077\n",
              "21.0    128969\n",
              "19.0    128012\n",
              "22.0    125633\n",
              "23.0    122107\n",
              "24.0    119987\n",
              "25.0    118097\n",
              "26.0    115640\n",
              "18.0    113234\n",
              "27.0    112519\n",
              "28.0    107609\n",
              "29.0    102741\n",
              "30.0     97346\n",
              "17.0     92752\n",
              "31.0     89982\n",
              "32.0     82599\n",
              "33.0     74776\n",
              "16.0     66926\n",
              "34.0     66207\n",
              "35.0     59807\n",
              "36.0     51891\n",
              "37.0     43235\n",
              "38.0     36297\n",
              "15.0     36075\n",
              "39.0     29100\n",
              "40.0     22379\n",
              "41.0     15934\n",
              "14.0     13550\n",
              "42.0     10876\n",
              "43.0      6618\n",
              "44.0      3890\n",
              "13.0      3455\n",
              "45.0      2042\n",
              "46.0      1021\n",
              "12.0       570\n",
              "47.0       461\n",
              "48.0       281\n",
              "49.0       185\n",
              "11.0        97\n",
              "50.0        37\n",
              "51.0        19\n",
              "10.0        14\n",
              "52.0        10\n",
              "53.0         6\n",
              "54.0         6\n",
              "55.0         5\n",
              "56.0         2\n",
              "Name: edad_mad, dtype: int64"
            ]
          },
          "metadata": {},
          "execution_count": 181
        }
      ]
    },
    {
      "cell_type": "code",
      "source": [
        "nacimientos[\"hij_viv\"].value_counts()"
      ],
      "metadata": {
        "colab": {
          "base_uri": "https://localhost:8080/"
        },
        "id": "lpm1UbnRBMci",
        "outputId": "747a876c-1483-4902-9cb6-cb033c5b95ea"
      },
      "execution_count": null,
      "outputs": [
        {
          "output_type": "execute_result",
          "data": {
            "text/plain": [
              "1.0     936316\n",
              "2.0     724041\n",
              "3.0     410163\n",
              "4.0     157370\n",
              "5.0      58858\n",
              "6.0      25190\n",
              "7.0      11438\n",
              "8.0       5463\n",
              "9.0       2755\n",
              "10.0      1355\n",
              "11.0       607\n",
              "12.0       318\n",
              "13.0       139\n",
              "14.0        44\n",
              "15.0        13\n",
              "17.0         3\n",
              "16.0         1\n",
              "18.0         1\n",
              "19.0         1\n",
              "Name: hij_viv, dtype: int64"
            ]
          },
          "metadata": {},
          "execution_count": 182
        }
      ]
    },
    {
      "cell_type": "code",
      "source": [
        "nacimientos[\"hij_vivm\"].value_counts()"
      ],
      "metadata": {
        "colab": {
          "base_uri": "https://localhost:8080/"
        },
        "id": "A19PvEPGBPYR",
        "outputId": "13395d33-e97d-4216-ab74-5328618de4d9"
      },
      "execution_count": null,
      "outputs": [
        {
          "output_type": "execute_result",
          "data": {
            "text/plain": [
              "0.0     2282085\n",
              "1.0       44915\n",
              "2.0        5226\n",
              "3.0        1180\n",
              "4.0         355\n",
              "5.0         136\n",
              "6.0         112\n",
              "7.0          24\n",
              "10.0         18\n",
              "8.0          14\n",
              "9.0          11\n",
              "Name: hij_vivm, dtype: int64"
            ]
          },
          "metadata": {},
          "execution_count": 183
        }
      ]
    },
    {
      "cell_type": "code",
      "source": [
        "nacimientos[\"hij_nacm\"].value_counts()"
      ],
      "metadata": {
        "colab": {
          "base_uri": "https://localhost:8080/"
        },
        "id": "-YZ767ZyBQFa",
        "outputId": "04d2b9bf-03e1-4f88-d85b-b681a2e9f4ba"
      },
      "execution_count": null,
      "outputs": [
        {
          "output_type": "execute_result",
          "data": {
            "text/plain": [
              "0.0     2283181\n",
              "1.0       42787\n",
              "2.0        6309\n",
              "3.0        1175\n",
              "4.0         309\n",
              "6.0         133\n",
              "5.0         122\n",
              "7.0          18\n",
              "10.0         17\n",
              "9.0          13\n",
              "8.0           8\n",
              "12.0          2\n",
              "13.0          1\n",
              "11.0          1\n",
              "Name: hij_nacm, dtype: int64"
            ]
          },
          "metadata": {},
          "execution_count": 184
        }
      ]
    },
    {
      "cell_type": "code",
      "source": [
        "nacimientos[\"con_pren\"].value_counts()"
      ],
      "metadata": {
        "colab": {
          "base_uri": "https://localhost:8080/"
        },
        "id": "FnbxhIA2BZwB",
        "outputId": "b0f92f07-824b-44b7-9490-d0ec3efdb066"
      },
      "execution_count": null,
      "outputs": [
        {
          "output_type": "execute_result",
          "data": {
            "text/plain": [
              "5.0     371253\n",
              "6.0     365695\n",
              "8.0     346311\n",
              "7.0     297611\n",
              "9.0     271682\n",
              "4.0     183022\n",
              "10.0    138898\n",
              "3.0     113592\n",
              "2.0      66380\n",
              "12.0     48601\n",
              "1.0      39822\n",
              "0.0      36087\n",
              "11.0     18994\n",
              "15.0     15323\n",
              "13.0      6578\n",
              "14.0      5405\n",
              "20.0      3807\n",
              "16.0      1612\n",
              "18.0      1330\n",
              "25.0       955\n",
              "17.0       501\n",
              "19.0       250\n",
              "22.0       112\n",
              "21.0        93\n",
              "24.0        88\n",
              "23.0        74\n",
              "Name: con_pren, dtype: int64"
            ]
          },
          "metadata": {},
          "execution_count": 185
        }
      ]
    },
    {
      "cell_type": "code",
      "source": [
        "nacimientos[\"est_civil\"].value_counts()"
      ],
      "metadata": {
        "colab": {
          "base_uri": "https://localhost:8080/"
        },
        "id": "HzgQzLMpBjvx",
        "outputId": "8854d0e3-f4ee-4684-cf4d-d13f683bd4b0"
      },
      "execution_count": null,
      "outputs": [
        {
          "output_type": "execute_result",
          "data": {
            "text/plain": [
              "Soltera            886508\n",
              "Casada             681954\n",
              "Unida              623168\n",
              "Union libre         43596\n",
              "Divorciada          33933\n",
              "Union de hecho      32114\n",
              "Se ignora           17260\n",
              "Union de Hecho       6182\n",
              "Viuda                4127\n",
              "Separada             4118\n",
              "Sin informacion      1116\n",
              "Name: est_civil, dtype: int64"
            ]
          },
          "metadata": {},
          "execution_count": 186
        }
      ]
    },
    {
      "cell_type": "code",
      "source": [
        "nacimientos['est_civil'] = nacimientos['est_civil'].replace({'Sin informacion': 'Se ignora',\"Union de Hecho\":\"Union de hecho\"})"
      ],
      "metadata": {
        "id": "LiLMPSS5Br_B"
      },
      "execution_count": null,
      "outputs": []
    },
    {
      "cell_type": "code",
      "source": [
        "nacimientos[\"sabe_leer\"].value_counts()"
      ],
      "metadata": {
        "colab": {
          "base_uri": "https://localhost:8080/"
        },
        "id": "SLLZ-XHmCCLQ",
        "outputId": "76d3b3e2-45c3-4c9a-bff5-f3fda48339dc"
      },
      "execution_count": null,
      "outputs": [
        {
          "output_type": "execute_result",
          "data": {
            "text/plain": [
              "Si                 2312465\n",
              "No                   13321\n",
              "Ignorado              6770\n",
              "Sin informacion       1520\n",
              "Name: sabe_leer, dtype: int64"
            ]
          },
          "metadata": {},
          "execution_count": 188
        }
      ]
    },
    {
      "cell_type": "code",
      "source": [
        "nacimientos['sabe_leer'] = nacimientos['sabe_leer'].replace({'Sin informacion': 'Ignorado'})"
      ],
      "metadata": {
        "id": "JV7xBJCQCIlo"
      },
      "execution_count": null,
      "outputs": []
    },
    {
      "cell_type": "code",
      "source": [
        "nacimientos[\"niv_inst\"].value_counts()"
      ],
      "metadata": {
        "colab": {
          "base_uri": "https://localhost:8080/"
        },
        "id": "nAr1-nGBCPro",
        "outputId": "8fe29729-a0bc-4d66-eed8-74011503e343"
      },
      "execution_count": null,
      "outputs": [
        {
          "output_type": "execute_result",
          "data": {
            "text/plain": [
              "Secundaria                        562309\n",
              "Educacion Basica                  359840\n",
              "Primaria                          358453\n",
              "Educacion Media / Bachillerato    270728\n",
              "Superior universitario            229343\n",
              "Superior                          169880\n",
              "Educacion_media                    74960\n",
              "Superior no universitario          57035\n",
              "Educacion media / bachillerato     51276\n",
              "Educacion_basica                   48575\n",
              "Educacion basica                   41770\n",
              "Se_ignora                          37621\n",
              "Educacion Media /Bachillerato      29883\n",
              "Ninguno                            12936\n",
              "Ciclo_post_bachillerato            12428\n",
              "Postgrado                           6283\n",
              "Ciclo Post - Bachillerato           3523\n",
              "Sin informacion                     3047\n",
              "Centro_de_alfabetizacion            1672\n",
              "Centro de alfabetizacion            1314\n",
              "Posgrado                             927\n",
              "Centro de Alfabetizacion             273\n",
              "Name: niv_inst, dtype: int64"
            ]
          },
          "metadata": {},
          "execution_count": 190
        }
      ]
    },
    {
      "cell_type": "code",
      "source": [
        "nacimientos['niv_inst'] = nacimientos['niv_inst'].replace({'Educacion_media': 'Educacion Media / Bachillerato',\"Educacion media / bachillerato\": 'Educacion Media / Bachillerato',\"Educacion Media /Bachillerato\":\"Educacion Media / Bachillerato\",\"Educacion Basica\":\"Educacion_basica\",\"Sin informacion\":\"Se_ignora\",\"Ciclo Post - Bachillerato\":\"Ciclo_post_bachillerato\",\"Centro de Alfabetizacion\":\"Centro_de_alfabetizacion\"})"
      ],
      "metadata": {
        "id": "p0gFIeGuCZkA"
      },
      "execution_count": null,
      "outputs": []
    },
    {
      "cell_type": "code",
      "source": [
        "nacimientos[\"niv_inst\"].value_counts()"
      ],
      "metadata": {
        "colab": {
          "base_uri": "https://localhost:8080/"
        },
        "id": "I6itL09pDUaw",
        "outputId": "b4d56d4f-2551-47f9-a280-921f42996b7e"
      },
      "execution_count": null,
      "outputs": [
        {
          "output_type": "execute_result",
          "data": {
            "text/plain": [
              "Secundaria                        562309\n",
              "Educacion Media / Bachillerato    426847\n",
              "Educacion_basica                  408415\n",
              "Primaria                          358453\n",
              "Superior universitario            229343\n",
              "Superior                          169880\n",
              "Superior no universitario          57035\n",
              "Educacion basica                   41770\n",
              "Se_ignora                          40668\n",
              "Ciclo_post_bachillerato            15951\n",
              "Ninguno                            12936\n",
              "Postgrado                           6283\n",
              "Centro_de_alfabetizacion            1945\n",
              "Centro de alfabetizacion            1314\n",
              "Posgrado                             927\n",
              "Name: niv_inst, dtype: int64"
            ]
          },
          "metadata": {},
          "execution_count": 192
        }
      ]
    },
    {
      "cell_type": "code",
      "source": [
        "#Guardamos el data frame de defunciones en un archivo\n",
        "nacimientos.to_csv('nacimiento.csv', index=False)"
      ],
      "metadata": {
        "id": "sUiH4eaWDeFn"
      },
      "execution_count": null,
      "outputs": []
    }
  ]
}